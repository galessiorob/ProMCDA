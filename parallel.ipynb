{
 "cells": [
  {
   "cell_type": "markdown",
   "id": "62123378",
   "metadata": {},
   "source": [
    "# as it would be in a script"
   ]
  },
  {
   "cell_type": "code",
   "execution_count": null,
   "id": "bae5edf7",
   "metadata": {},
   "outputs": [],
   "source": [
    "import pandas as pd\n",
    "from mcda.utility_functions.aggregation import Aggregation"
   ]
  },
  {
   "cell_type": "code",
   "execution_count": null,
   "id": "991e60ce",
   "metadata": {},
   "outputs": [],
   "source": [
    "d = {'col1': [1, 2, 3], 'col3': [100, 200, 300]}\n",
    "data = pd.DataFrame(data=d)\n",
    "data"
   ]
  },
  {
   "cell_type": "code",
   "execution_count": null,
   "id": "71a0a5fa",
   "metadata": {},
   "outputs": [],
   "source": [
    "import multiprocessing as mp\n",
    "print(\"Number of processors: \", mp.cpu_count())"
   ]
  },
  {
   "cell_type": "code",
   "execution_count": null,
   "id": "72c1c5b5",
   "metadata": {},
   "outputs": [],
   "source": [
    "def initialize_and_call_aggregation(args):\n",
    "    weights,data = args\n",
    "    agg = Aggregation(weights)\n",
    "    res = agg.minmax(data)\n",
    "    print(res)\n",
    "\n",
    "if __name__ == '__main__':\n",
    "    \n",
    "    args = [([1,1],data),([2,2],data),([3,3],data)]\n",
    "    \n",
    "    # Step 1: Init multiprocessing.Pool()\n",
    "    pool = mp.Pool(processes = len(args)) #mp.cpu_count())\n",
    "    \n",
    "    # Step 2:\n",
    "    pool.map(initialize_and_call_aggregation, args)\n",
    "    \n",
    "    # Step 3: Don't forget to close\n",
    "    pool.close() \n",
    "    pool.join()"
   ]
  },
  {
   "cell_type": "markdown",
   "id": "7062715d",
   "metadata": {},
   "source": [
    "# as it should be in a notebook"
   ]
  },
  {
   "cell_type": "markdown",
   "id": "74729f31",
   "metadata": {},
   "source": [
    "## with multiprocessing"
   ]
  },
  {
   "cell_type": "code",
   "execution_count": 15,
   "id": "ce8198a5",
   "metadata": {},
   "outputs": [],
   "source": [
    "import pandas as pd\n",
    "import initialize_and_call_aggregation\n",
    "import multiprocess as mp\n",
    "from mcda.utility_functions.aggregation import Aggregation"
   ]
  },
  {
   "cell_type": "code",
   "execution_count": 16,
   "id": "4501359f",
   "metadata": {},
   "outputs": [
    {
     "data": {
      "text/html": [
       "<div>\n",
       "<style scoped>\n",
       "    .dataframe tbody tr th:only-of-type {\n",
       "        vertical-align: middle;\n",
       "    }\n",
       "\n",
       "    .dataframe tbody tr th {\n",
       "        vertical-align: top;\n",
       "    }\n",
       "\n",
       "    .dataframe thead th {\n",
       "        text-align: right;\n",
       "    }\n",
       "</style>\n",
       "<table border=\"1\" class=\"dataframe\">\n",
       "  <thead>\n",
       "    <tr style=\"text-align: right;\">\n",
       "      <th></th>\n",
       "      <th>col1</th>\n",
       "      <th>col3</th>\n",
       "    </tr>\n",
       "  </thead>\n",
       "  <tbody>\n",
       "    <tr>\n",
       "      <th>0</th>\n",
       "      <td>1</td>\n",
       "      <td>100</td>\n",
       "    </tr>\n",
       "    <tr>\n",
       "      <th>1</th>\n",
       "      <td>2</td>\n",
       "      <td>200</td>\n",
       "    </tr>\n",
       "    <tr>\n",
       "      <th>2</th>\n",
       "      <td>3</td>\n",
       "      <td>300</td>\n",
       "    </tr>\n",
       "  </tbody>\n",
       "</table>\n",
       "</div>"
      ],
      "text/plain": [
       "   col1  col3\n",
       "0     1   100\n",
       "1     2   200\n",
       "2     3   300"
      ]
     },
     "execution_count": 16,
     "metadata": {},
     "output_type": "execute_result"
    }
   ],
   "source": [
    "d = {'col1': [1, 2, 3], 'col3': [100, 200, 300]}\n",
    "data = pd.DataFrame(data=d)\n",
    "data"
   ]
  },
  {
   "cell_type": "code",
   "execution_count": 17,
   "id": "ef71ed47",
   "metadata": {},
   "outputs": [],
   "source": [
    "def initialize_and_call_aggregation(args):\n",
    "    weights,data = args\n",
    "    agg = Aggregation(weights)\n",
    "    res = agg.weighted_sum(data)\n",
    "    print(res)"
   ]
  },
  {
   "cell_type": "code",
   "execution_count": 18,
   "id": "90ebde0f",
   "metadata": {},
   "outputs": [],
   "source": [
    "args = [([1,1],data),([2,2],data),([3,3],data)]"
   ]
  },
  {
   "cell_type": "code",
   "execution_count": 19,
   "id": "e9580e95",
   "metadata": {
    "scrolled": true
   },
   "outputs": [
    {
     "name": "stdout",
     "output_type": "stream",
     "text": [
      "0    101\n",
      "1    202\n",
      "2    303\n",
      "dtype: int64\n",
      "0    202\n",
      "1    404\n",
      "2    606\n",
      "dtype: int64\n",
      "0    303\n",
      "1    606\n",
      "2    909\n",
      "dtype: int64\n"
     ]
    }
   ],
   "source": [
    "processes = []\n",
    "for arg in args:\n",
    "    process = mp.Process(target=initialize_and_call_aggregation, args=(arg,))\n",
    "    process.start()\n",
    "    processes.append(process)"
   ]
  },
  {
   "cell_type": "code",
   "execution_count": null,
   "id": "38468551",
   "metadata": {},
   "outputs": [],
   "source": [
    "# Wait for all processes to complete\n",
    "for process in processes:\n",
    "    process.join()"
   ]
  },
  {
   "cell_type": "markdown",
   "id": "23b41631",
   "metadata": {},
   "source": [
    "## with joblib"
   ]
  },
  {
   "cell_type": "code",
   "execution_count": 1,
   "id": "38d5b245",
   "metadata": {},
   "outputs": [],
   "source": [
    "import pandas as pd\n",
    "from joblib import Parallel, delayed\n",
    "#import initialize_and_call_aggregation\n",
    "from mcda.utility_functions.aggregation import Aggregation"
   ]
  },
  {
   "cell_type": "code",
   "execution_count": 10,
   "id": "9d00cb8d",
   "metadata": {},
   "outputs": [],
   "source": [
    "def initialize_and_call_aggregation(args):\n",
    "    weights,data = args\n",
    "    agg = Aggregation(weights)\n",
    "    res = agg.weighted_sum(data)\n",
    "    print(res)"
   ]
  },
  {
   "cell_type": "code",
   "execution_count": 11,
   "id": "f182ce58",
   "metadata": {},
   "outputs": [
    {
     "data": {
      "text/html": [
       "<div>\n",
       "<style scoped>\n",
       "    .dataframe tbody tr th:only-of-type {\n",
       "        vertical-align: middle;\n",
       "    }\n",
       "\n",
       "    .dataframe tbody tr th {\n",
       "        vertical-align: top;\n",
       "    }\n",
       "\n",
       "    .dataframe thead th {\n",
       "        text-align: right;\n",
       "    }\n",
       "</style>\n",
       "<table border=\"1\" class=\"dataframe\">\n",
       "  <thead>\n",
       "    <tr style=\"text-align: right;\">\n",
       "      <th></th>\n",
       "      <th>col1</th>\n",
       "      <th>col3</th>\n",
       "    </tr>\n",
       "  </thead>\n",
       "  <tbody>\n",
       "    <tr>\n",
       "      <th>0</th>\n",
       "      <td>1</td>\n",
       "      <td>100</td>\n",
       "    </tr>\n",
       "    <tr>\n",
       "      <th>1</th>\n",
       "      <td>2</td>\n",
       "      <td>200</td>\n",
       "    </tr>\n",
       "    <tr>\n",
       "      <th>2</th>\n",
       "      <td>3</td>\n",
       "      <td>300</td>\n",
       "    </tr>\n",
       "  </tbody>\n",
       "</table>\n",
       "</div>"
      ],
      "text/plain": [
       "   col1  col3\n",
       "0     1   100\n",
       "1     2   200\n",
       "2     3   300"
      ]
     },
     "execution_count": 11,
     "metadata": {},
     "output_type": "execute_result"
    }
   ],
   "source": [
    "d = {'col1': [1, 2, 3], 'col3': [100, 200, 300]}\n",
    "data = pd.DataFrame(data=d)\n",
    "data"
   ]
  },
  {
   "cell_type": "code",
   "execution_count": 12,
   "id": "3191d7df",
   "metadata": {},
   "outputs": [],
   "source": [
    "args = [([1,1],data),([2,2],data),([3,3],data)]"
   ]
  },
  {
   "cell_type": "code",
   "execution_count": 13,
   "id": "25b8d7fc",
   "metadata": {},
   "outputs": [
    {
     "data": {
      "text/plain": [
       "[None, None, None]"
      ]
     },
     "execution_count": 13,
     "metadata": {},
     "output_type": "execute_result"
    }
   ],
   "source": [
    "Parallel(n_jobs=-1)(delayed(initialize_and_call_aggregation)(arg) for arg in args)"
   ]
  },
  {
   "cell_type": "code",
   "execution_count": 20,
   "id": "31a53563",
   "metadata": {},
   "outputs": [],
   "source": [
    "agg = Aggregation(weights=[3,3])"
   ]
  },
  {
   "cell_type": "code",
   "execution_count": 21,
   "id": "fc0b0f84",
   "metadata": {},
   "outputs": [
    {
     "data": {
      "text/plain": [
       "0    303\n",
       "1    606\n",
       "2    909\n",
       "dtype: int64"
      ]
     },
     "execution_count": 21,
     "metadata": {},
     "output_type": "execute_result"
    },
    {
     "name": "stdout",
     "output_type": "stream",
     "text": [
      "0    101\n",
      "1    202\n",
      "2    303\n",
      "dtype: int64\n",
      "0    303\n",
      "1    606\n",
      "2    909\n",
      "dtype: int64\n",
      "0    202\n",
      "1    404\n",
      "2    606\n",
      "dtype: int64\n"
     ]
    }
   ],
   "source": [
    "agg.weighted_sum(data)"
   ]
  },
  {
   "cell_type": "code",
   "execution_count": 22,
   "id": "0ae703ad",
   "metadata": {},
   "outputs": [
    {
     "data": {
      "text/plain": [
       "10.0"
      ]
     },
     "execution_count": 22,
     "metadata": {},
     "output_type": "execute_result"
    }
   ],
   "source": [
    "1/0.1"
   ]
  },
  {
   "cell_type": "code",
   "execution_count": 23,
   "id": "73549eb8",
   "metadata": {},
   "outputs": [
    {
     "name": "stdout",
     "output_type": "stream",
     "text": [
      "[0.8664353380059346, 0.8885952970628875, 0.16110189250386908]\n",
      "[0.817867752043302, 0.03755831894555339, 0.5651176996425261]\n",
      "[0.9355917434714581, 0.07236601321133973, 0.8126406911295598]\n",
      "[0.43356387369326843, 0.6126392040864822, 0.40074607134050944]\n",
      "[0.4949286450750924, 0.7901006750909714, 0.07910261826416232]\n"
     ]
    }
   ],
   "source": [
    "import random\n",
    "\n",
    "N = 5  # Number of lists\n",
    "\n",
    "# Generate N lists\n",
    "lists = []\n",
    "for _ in range(N):\n",
    "    # Randomly sample 3 elements from a uniform distribution\n",
    "    lst = [random.uniform(0, 1) for _ in range(3)]\n",
    "    lists.append(lst)\n",
    "\n",
    "# Print the generated lists\n",
    "for lst in lists:\n",
    "    print(lst)"
   ]
  },
  {
   "cell_type": "code",
   "execution_count": 25,
   "id": "ab0855f0",
   "metadata": {},
   "outputs": [
    {
     "name": "stdout",
     "output_type": "stream",
     "text": [
      "[0.8664353380059346, 0.8885952970628875, 0.16110189250386908]\n",
      "[0.817867752043302, 0.03755831894555339, 0.5651176996425261]\n",
      "[0.9355917434714581, 0.07236601321133973, 0.8126406911295598]\n",
      "[0.43356387369326843, 0.6126392040864822, 0.40074607134050944]\n",
      "[0.4949286450750924, 0.7901006750909714, 0.07910261826416232]\n"
     ]
    }
   ],
   "source": [
    "for w in lists:\n",
    "    print(w)"
   ]
  },
  {
   "cell_type": "code",
   "execution_count": 26,
   "id": "42360159",
   "metadata": {},
   "outputs": [
    {
     "data": {
      "text/plain": [
       "1.0000000000000002"
      ]
     },
     "execution_count": 26,
     "metadata": {},
     "output_type": "execute_result"
    }
   ],
   "source": [
    "0.05798507045273814+0.24361581472567181+0.073686399882017+0.26290890714486176+0.12280964453060948+0.20186305922826037+0.003201135320640069+0.033929968715201445\n",
    "\n",
    "\n"
   ]
  },
  {
   "cell_type": "code",
   "execution_count": null,
   "id": "6d83068a",
   "metadata": {},
   "outputs": [],
   "source": []
  }
 ],
 "metadata": {
  "kernelspec": {
   "display_name": "Python 3 (ipykernel)",
   "language": "python",
   "name": "python3"
  },
  "language_info": {
   "codemirror_mode": {
    "name": "ipython",
    "version": 3
   },
   "file_extension": ".py",
   "mimetype": "text/x-python",
   "name": "python",
   "nbconvert_exporter": "python",
   "pygments_lexer": "ipython3",
   "version": "3.9.6"
  }
 },
 "nbformat": 4,
 "nbformat_minor": 5
}
