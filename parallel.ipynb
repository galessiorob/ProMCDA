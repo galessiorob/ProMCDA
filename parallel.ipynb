{
 "cells": [
  {
   "cell_type": "markdown",
   "id": "60d11f59",
   "metadata": {},
   "source": [
    "# as it would be in a script"
   ]
  },
  {
   "cell_type": "code",
   "execution_count": null,
   "id": "a678ab76",
   "metadata": {},
   "outputs": [],
   "source": [
    "import pandas as pd\n",
    "from mcda.utility_functions.aggregation import Aggregation"
   ]
  },
  {
   "cell_type": "code",
   "execution_count": null,
   "id": "6ccf1e05",
   "metadata": {},
   "outputs": [],
   "source": [
    "d = {'col1': [1, 2, 3], 'col3': [100, 200, 300]}\n",
    "data = pd.DataFrame(data=d)\n",
    "data"
   ]
  },
  {
   "cell_type": "code",
   "execution_count": null,
   "id": "4dba21d7",
   "metadata": {},
   "outputs": [],
   "source": [
    "import multiprocessing as mp\n",
    "print(\"Number of processors: \", mp.cpu_count())"
   ]
  },
  {
   "cell_type": "code",
   "execution_count": null,
   "id": "9cce96a3",
   "metadata": {},
   "outputs": [],
   "source": [
    "def initialize_and_call_aggregation(args):\n",
    "    weights,data = args\n",
    "    agg = Aggregation(weights)\n",
    "    res = agg.minmax(data)\n",
    "    print(res)\n",
    "\n",
    "if __name__ == '__main__':\n",
    "    \n",
    "    args = [([1,1],data),([2,2],data),([3,3],data)]\n",
    "    \n",
    "    # Step 1: Init multiprocessing.Pool()\n",
    "    pool = mp.Pool(processes = len(args)) #mp.cpu_count())\n",
    "    \n",
    "    # Step 2:\n",
    "    pool.map(initialize_and_call_aggregation, args)\n",
    "    \n",
    "    # Step 3: Don't forget to close\n",
    "    pool.close() \n",
    "    pool.join()"
   ]
  },
  {
   "cell_type": "markdown",
   "id": "3320d063",
   "metadata": {},
   "source": [
    "# as it should be in a notebook"
   ]
  },
  {
   "cell_type": "markdown",
   "id": "10c36205",
   "metadata": {},
   "source": [
    "## with multiprocessing"
   ]
  },
  {
   "cell_type": "code",
   "execution_count": 2,
   "id": "cb9923f6",
   "metadata": {},
   "outputs": [],
   "source": [
    "import pandas as pd\n",
    "import initialize_and_call_aggregation\n",
    "import multiprocess as mp\n",
    "from mcda.utility_functions.aggregation import Aggregation"
   ]
  },
  {
   "cell_type": "code",
   "execution_count": 3,
   "id": "90264168",
   "metadata": {},
   "outputs": [
    {
     "data": {
      "text/html": [
       "<div>\n",
       "<style scoped>\n",
       "    .dataframe tbody tr th:only-of-type {\n",
       "        vertical-align: middle;\n",
       "    }\n",
       "\n",
       "    .dataframe tbody tr th {\n",
       "        vertical-align: top;\n",
       "    }\n",
       "\n",
       "    .dataframe thead th {\n",
       "        text-align: right;\n",
       "    }\n",
       "</style>\n",
       "<table border=\"1\" class=\"dataframe\">\n",
       "  <thead>\n",
       "    <tr style=\"text-align: right;\">\n",
       "      <th></th>\n",
       "      <th>col1</th>\n",
       "      <th>col3</th>\n",
       "    </tr>\n",
       "  </thead>\n",
       "  <tbody>\n",
       "    <tr>\n",
       "      <th>0</th>\n",
       "      <td>1</td>\n",
       "      <td>100</td>\n",
       "    </tr>\n",
       "    <tr>\n",
       "      <th>1</th>\n",
       "      <td>2</td>\n",
       "      <td>200</td>\n",
       "    </tr>\n",
       "    <tr>\n",
       "      <th>2</th>\n",
       "      <td>3</td>\n",
       "      <td>300</td>\n",
       "    </tr>\n",
       "  </tbody>\n",
       "</table>\n",
       "</div>"
      ],
      "text/plain": [
       "   col1  col3\n",
       "0     1   100\n",
       "1     2   200\n",
       "2     3   300"
      ]
     },
     "execution_count": 3,
     "metadata": {},
     "output_type": "execute_result"
    }
   ],
   "source": [
    "d = {'col1': [1, 2, 3], 'col3': [100, 200, 300]}\n",
    "data = pd.DataFrame(data=d)\n",
    "data"
   ]
  },
  {
   "cell_type": "code",
   "execution_count": 5,
   "id": "86c188e2",
   "metadata": {},
   "outputs": [
    {
     "data": {
      "text/plain": [
       "array([[  1, 100],\n",
       "       [  2, 200],\n",
       "       [  3, 300]])"
      ]
     },
     "execution_count": 5,
     "metadata": {},
     "output_type": "execute_result"
    }
   ],
   "source": [
    "data.to_numpy()"
   ]
  },
  {
   "cell_type": "code",
   "execution_count": 17,
   "id": "79e3b08b",
   "metadata": {},
   "outputs": [],
   "source": [
    "def initialize_and_call_aggregation(args):\n",
    "    weights,data = args\n",
    "    agg = Aggregation(weights)\n",
    "    res = agg.weighted_sum(data)\n",
    "    print(res)"
   ]
  },
  {
   "cell_type": "code",
   "execution_count": 18,
   "id": "1634e198",
   "metadata": {},
   "outputs": [],
   "source": [
    "args = [([1,1],data),([2,2],data),([3,3],data)]"
   ]
  },
  {
   "cell_type": "code",
   "execution_count": 19,
   "id": "b098fb0f",
   "metadata": {
    "scrolled": true
   },
   "outputs": [
    {
     "name": "stdout",
     "output_type": "stream",
     "text": [
      "0    101\n",
      "1    202\n",
      "2    303\n",
      "dtype: int64\n",
      "0    202\n",
      "1    404\n",
      "2    606\n",
      "dtype: int64\n",
      "0    303\n",
      "1    606\n",
      "2    909\n",
      "dtype: int64\n"
     ]
    }
   ],
   "source": [
    "processes = []\n",
    "for arg in args:\n",
    "    process = mp.Process(target=initialize_and_call_aggregation, args=(arg,))\n",
    "    process.start()\n",
    "    processes.append(process)"
   ]
  },
  {
   "cell_type": "code",
   "execution_count": null,
   "id": "037169f1",
   "metadata": {},
   "outputs": [],
   "source": [
    "# Wait for all processes to complete\n",
    "for process in processes:\n",
    "    process.join()"
   ]
  },
  {
   "cell_type": "markdown",
   "id": "86ea9c76",
   "metadata": {},
   "source": [
    "## with joblib"
   ]
  },
  {
   "cell_type": "code",
   "execution_count": 1,
   "id": "f8571d51",
   "metadata": {},
   "outputs": [],
   "source": [
    "import pandas as pd\n",
    "from joblib import Parallel, delayed\n",
    "#import initialize_and_call_aggregation\n",
    "from mcda.utility_functions.aggregation import Aggregation"
   ]
  },
  {
   "cell_type": "code",
   "execution_count": 10,
   "id": "d2404dd3",
   "metadata": {},
   "outputs": [],
   "source": [
    "def initialize_and_call_aggregation(args):\n",
    "    weights,data = args\n",
    "    agg = Aggregation(weights)\n",
    "    res = agg.weighted_sum(data)\n",
    "    print(res)"
   ]
  },
  {
   "cell_type": "code",
   "execution_count": 11,
   "id": "0eb87edf",
   "metadata": {},
   "outputs": [
    {
     "data": {
      "text/html": [
       "<div>\n",
       "<style scoped>\n",
       "    .dataframe tbody tr th:only-of-type {\n",
       "        vertical-align: middle;\n",
       "    }\n",
       "\n",
       "    .dataframe tbody tr th {\n",
       "        vertical-align: top;\n",
       "    }\n",
       "\n",
       "    .dataframe thead th {\n",
       "        text-align: right;\n",
       "    }\n",
       "</style>\n",
       "<table border=\"1\" class=\"dataframe\">\n",
       "  <thead>\n",
       "    <tr style=\"text-align: right;\">\n",
       "      <th></th>\n",
       "      <th>col1</th>\n",
       "      <th>col3</th>\n",
       "    </tr>\n",
       "  </thead>\n",
       "  <tbody>\n",
       "    <tr>\n",
       "      <th>0</th>\n",
       "      <td>1</td>\n",
       "      <td>100</td>\n",
       "    </tr>\n",
       "    <tr>\n",
       "      <th>1</th>\n",
       "      <td>2</td>\n",
       "      <td>200</td>\n",
       "    </tr>\n",
       "    <tr>\n",
       "      <th>2</th>\n",
       "      <td>3</td>\n",
       "      <td>300</td>\n",
       "    </tr>\n",
       "  </tbody>\n",
       "</table>\n",
       "</div>"
      ],
      "text/plain": [
       "   col1  col3\n",
       "0     1   100\n",
       "1     2   200\n",
       "2     3   300"
      ]
     },
     "execution_count": 11,
     "metadata": {},
     "output_type": "execute_result"
    }
   ],
   "source": [
    "d = {'col1': [1, 2, 3], 'col3': [100, 200, 300]}\n",
    "data = pd.DataFrame(data=d)\n",
    "data"
   ]
  },
  {
   "cell_type": "code",
   "execution_count": 12,
   "id": "8444e48d",
   "metadata": {},
   "outputs": [],
   "source": [
    "args = [([1,1],data),([2,2],data),([3,3],data)]"
   ]
  },
  {
   "cell_type": "code",
   "execution_count": 13,
   "id": "e7ecc9d7",
   "metadata": {},
   "outputs": [
    {
     "data": {
      "text/plain": [
       "[None, None, None]"
      ]
     },
     "execution_count": 13,
     "metadata": {},
     "output_type": "execute_result"
    }
   ],
   "source": [
    "Parallel(n_jobs=-1)(delayed(initialize_and_call_aggregation)(arg) for arg in args)"
   ]
  },
  {
   "cell_type": "code",
   "execution_count": 20,
   "id": "84fa59a8",
   "metadata": {},
   "outputs": [],
   "source": [
    "agg = Aggregation(weights=[3,3])"
   ]
  },
  {
   "cell_type": "code",
   "execution_count": 21,
   "id": "cf766ba7",
   "metadata": {},
   "outputs": [
    {
     "data": {
      "text/plain": [
       "0    303\n",
       "1    606\n",
       "2    909\n",
       "dtype: int64"
      ]
     },
     "execution_count": 21,
     "metadata": {},
     "output_type": "execute_result"
    },
    {
     "name": "stdout",
     "output_type": "stream",
     "text": [
      "0    101\n",
      "1    202\n",
      "2    303\n",
      "dtype: int64\n",
      "0    303\n",
      "1    606\n",
      "2    909\n",
      "dtype: int64\n",
      "0    202\n",
      "1    404\n",
      "2    606\n",
      "dtype: int64\n"
     ]
    }
   ],
   "source": [
    "agg.weighted_sum(data)"
   ]
  },
  {
   "cell_type": "code",
   "execution_count": 22,
   "id": "4a941751",
   "metadata": {},
   "outputs": [
    {
     "data": {
      "text/plain": [
       "10.0"
      ]
     },
     "execution_count": 22,
     "metadata": {},
     "output_type": "execute_result"
    }
   ],
   "source": [
    "1/0.1"
   ]
  },
  {
   "cell_type": "code",
   "execution_count": 23,
   "id": "88f73ece",
   "metadata": {},
   "outputs": [
    {
     "name": "stdout",
     "output_type": "stream",
     "text": [
      "[0.8664353380059346, 0.8885952970628875, 0.16110189250386908]\n",
      "[0.817867752043302, 0.03755831894555339, 0.5651176996425261]\n",
      "[0.9355917434714581, 0.07236601321133973, 0.8126406911295598]\n",
      "[0.43356387369326843, 0.6126392040864822, 0.40074607134050944]\n",
      "[0.4949286450750924, 0.7901006750909714, 0.07910261826416232]\n"
     ]
    }
   ],
   "source": [
    "import random\n",
    "\n",
    "N = 5  # Number of lists\n",
    "\n",
    "# Generate N lists\n",
    "lists = []\n",
    "for _ in range(N):\n",
    "    # Randomly sample 3 elements from a uniform distribution\n",
    "    lst = [random.uniform(0, 1) for _ in range(3)]\n",
    "    lists.append(lst)\n",
    "\n",
    "# Print the generated lists\n",
    "for lst in lists:\n",
    "    print(lst)"
   ]
  },
  {
   "cell_type": "code",
   "execution_count": 25,
   "id": "f188801d",
   "metadata": {},
   "outputs": [
    {
     "name": "stdout",
     "output_type": "stream",
     "text": [
      "[0.8664353380059346, 0.8885952970628875, 0.16110189250386908]\n",
      "[0.817867752043302, 0.03755831894555339, 0.5651176996425261]\n",
      "[0.9355917434714581, 0.07236601321133973, 0.8126406911295598]\n",
      "[0.43356387369326843, 0.6126392040864822, 0.40074607134050944]\n",
      "[0.4949286450750924, 0.7901006750909714, 0.07910261826416232]\n"
     ]
    }
   ],
   "source": [
    "for w in lists:\n",
    "    print(w)"
   ]
  },
  {
   "cell_type": "code",
   "execution_count": 26,
   "id": "66a86025",
   "metadata": {},
   "outputs": [
    {
     "data": {
      "text/plain": [
       "1.0000000000000002"
      ]
     },
     "execution_count": 26,
     "metadata": {},
     "output_type": "execute_result"
    }
   ],
   "source": [
    "0.05798507045273814+0.24361581472567181+0.073686399882017+0.26290890714486176+0.12280964453060948+0.20186305922826037+0.003201135320640069+0.033929968715201445\n",
    "\n",
    "\n"
   ]
  },
  {
   "cell_type": "code",
   "execution_count": 27,
   "id": "869212cb",
   "metadata": {},
   "outputs": [],
   "source": [
    "###"
   ]
  },
  {
   "cell_type": "code",
   "execution_count": 29,
   "id": "c341b9e7",
   "metadata": {},
   "outputs": [],
   "source": [
    "d1 = {'col1': [1, 2, 3], 'col2': [100, 200, 300]}\n",
    "data1 = pd.DataFrame(data=d1)\n",
    "data1\n",
    "\n",
    "d2 = {'col1': [11, 22, 33], 'col2': [110, 220, 330]}\n",
    "data2 = pd.DataFrame(data=d2)\n",
    "data2\n",
    "\n",
    "d3 = {'col1': [111, 222, 333], 'col2': [111, 222, 333]}\n",
    "data3 = pd.DataFrame(data=d3)\n",
    "data3\n",
    "\n",
    "list = [data1, data2, data3]"
   ]
  },
  {
   "cell_type": "code",
   "execution_count": 32,
   "id": "e9765589",
   "metadata": {},
   "outputs": [],
   "source": [
    "all_runs = pd.concat(list, axis=0)"
   ]
  },
  {
   "cell_type": "code",
   "execution_count": 33,
   "id": "9c3a516b",
   "metadata": {},
   "outputs": [
    {
     "data": {
      "text/html": [
       "<div>\n",
       "<style scoped>\n",
       "    .dataframe tbody tr th:only-of-type {\n",
       "        vertical-align: middle;\n",
       "    }\n",
       "\n",
       "    .dataframe tbody tr th {\n",
       "        vertical-align: top;\n",
       "    }\n",
       "\n",
       "    .dataframe thead th {\n",
       "        text-align: right;\n",
       "    }\n",
       "</style>\n",
       "<table border=\"1\" class=\"dataframe\">\n",
       "  <thead>\n",
       "    <tr style=\"text-align: right;\">\n",
       "      <th></th>\n",
       "      <th>col1</th>\n",
       "      <th>col2</th>\n",
       "    </tr>\n",
       "  </thead>\n",
       "  <tbody>\n",
       "    <tr>\n",
       "      <th>0</th>\n",
       "      <td>1</td>\n",
       "      <td>100</td>\n",
       "    </tr>\n",
       "    <tr>\n",
       "      <th>1</th>\n",
       "      <td>2</td>\n",
       "      <td>200</td>\n",
       "    </tr>\n",
       "    <tr>\n",
       "      <th>2</th>\n",
       "      <td>3</td>\n",
       "      <td>300</td>\n",
       "    </tr>\n",
       "    <tr>\n",
       "      <th>0</th>\n",
       "      <td>11</td>\n",
       "      <td>110</td>\n",
       "    </tr>\n",
       "    <tr>\n",
       "      <th>1</th>\n",
       "      <td>22</td>\n",
       "      <td>220</td>\n",
       "    </tr>\n",
       "    <tr>\n",
       "      <th>2</th>\n",
       "      <td>33</td>\n",
       "      <td>330</td>\n",
       "    </tr>\n",
       "    <tr>\n",
       "      <th>0</th>\n",
       "      <td>111</td>\n",
       "      <td>111</td>\n",
       "    </tr>\n",
       "    <tr>\n",
       "      <th>1</th>\n",
       "      <td>222</td>\n",
       "      <td>222</td>\n",
       "    </tr>\n",
       "    <tr>\n",
       "      <th>2</th>\n",
       "      <td>333</td>\n",
       "      <td>333</td>\n",
       "    </tr>\n",
       "  </tbody>\n",
       "</table>\n",
       "</div>"
      ],
      "text/plain": [
       "   col1  col2\n",
       "0     1   100\n",
       "1     2   200\n",
       "2     3   300\n",
       "0    11   110\n",
       "1    22   220\n",
       "2    33   330\n",
       "0   111   111\n",
       "1   222   222\n",
       "2   333   333"
      ]
     },
     "execution_count": 33,
     "metadata": {},
     "output_type": "execute_result"
    }
   ],
   "source": [
    "all_runs"
   ]
  },
  {
   "cell_type": "code",
   "execution_count": 39,
   "id": "2fbba68f",
   "metadata": {},
   "outputs": [],
   "source": [
    "by_row_index = all_runs.groupby(all_runs.index)\n",
    "df_means = by_row_index.mean()\n",
    "df_stds = by_row_index.std()"
   ]
  },
  {
   "cell_type": "code",
   "execution_count": 38,
   "id": "08076629",
   "metadata": {},
   "outputs": [
    {
     "data": {
      "text/html": [
       "<div>\n",
       "<style scoped>\n",
       "    .dataframe tbody tr th:only-of-type {\n",
       "        vertical-align: middle;\n",
       "    }\n",
       "\n",
       "    .dataframe tbody tr th {\n",
       "        vertical-align: top;\n",
       "    }\n",
       "\n",
       "    .dataframe thead th {\n",
       "        text-align: right;\n",
       "    }\n",
       "</style>\n",
       "<table border=\"1\" class=\"dataframe\">\n",
       "  <thead>\n",
       "    <tr style=\"text-align: right;\">\n",
       "      <th></th>\n",
       "      <th>col1</th>\n",
       "      <th>col2</th>\n",
       "    </tr>\n",
       "  </thead>\n",
       "  <tbody>\n",
       "    <tr>\n",
       "      <th>0</th>\n",
       "      <td>41.0</td>\n",
       "      <td>107.0</td>\n",
       "    </tr>\n",
       "    <tr>\n",
       "      <th>1</th>\n",
       "      <td>82.0</td>\n",
       "      <td>214.0</td>\n",
       "    </tr>\n",
       "    <tr>\n",
       "      <th>2</th>\n",
       "      <td>123.0</td>\n",
       "      <td>321.0</td>\n",
       "    </tr>\n",
       "  </tbody>\n",
       "</table>\n",
       "</div>"
      ],
      "text/plain": [
       "    col1   col2\n",
       "0   41.0  107.0\n",
       "1   82.0  214.0\n",
       "2  123.0  321.0"
      ]
     },
     "execution_count": 38,
     "metadata": {},
     "output_type": "execute_result"
    }
   ],
   "source": [
    "df_means"
   ]
  },
  {
   "cell_type": "code",
   "execution_count": 40,
   "id": "b44dec6f",
   "metadata": {},
   "outputs": [
    {
     "data": {
      "text/html": [
       "<div>\n",
       "<style scoped>\n",
       "    .dataframe tbody tr th:only-of-type {\n",
       "        vertical-align: middle;\n",
       "    }\n",
       "\n",
       "    .dataframe tbody tr th {\n",
       "        vertical-align: top;\n",
       "    }\n",
       "\n",
       "    .dataframe thead th {\n",
       "        text-align: right;\n",
       "    }\n",
       "</style>\n",
       "<table border=\"1\" class=\"dataframe\">\n",
       "  <thead>\n",
       "    <tr style=\"text-align: right;\">\n",
       "      <th></th>\n",
       "      <th>col1</th>\n",
       "      <th>col2</th>\n",
       "    </tr>\n",
       "  </thead>\n",
       "  <tbody>\n",
       "    <tr>\n",
       "      <th>0</th>\n",
       "      <td>60.827625</td>\n",
       "      <td>6.082763</td>\n",
       "    </tr>\n",
       "    <tr>\n",
       "      <th>1</th>\n",
       "      <td>121.655251</td>\n",
       "      <td>12.165525</td>\n",
       "    </tr>\n",
       "    <tr>\n",
       "      <th>2</th>\n",
       "      <td>182.482876</td>\n",
       "      <td>18.248288</td>\n",
       "    </tr>\n",
       "  </tbody>\n",
       "</table>\n",
       "</div>"
      ],
      "text/plain": [
       "         col1       col2\n",
       "0   60.827625   6.082763\n",
       "1  121.655251  12.165525\n",
       "2  182.482876  18.248288"
      ]
     },
     "execution_count": 40,
     "metadata": {},
     "output_type": "execute_result"
    }
   ],
   "source": [
    "df_stds"
   ]
  },
  {
   "cell_type": "code",
   "execution_count": 41,
   "id": "bc262ff8",
   "metadata": {},
   "outputs": [],
   "source": [
    "scores = pd.DataFrame()"
   ]
  },
  {
   "cell_type": "code",
   "execution_count": 42,
   "id": "f86d1b38",
   "metadata": {},
   "outputs": [
    {
     "data": {
      "text/html": [
       "<div>\n",
       "<style scoped>\n",
       "    .dataframe tbody tr th:only-of-type {\n",
       "        vertical-align: middle;\n",
       "    }\n",
       "\n",
       "    .dataframe tbody tr th {\n",
       "        vertical-align: top;\n",
       "    }\n",
       "\n",
       "    .dataframe thead th {\n",
       "        text-align: right;\n",
       "    }\n",
       "</style>\n",
       "<table border=\"1\" class=\"dataframe\">\n",
       "  <thead>\n",
       "    <tr style=\"text-align: right;\">\n",
       "      <th></th>\n",
       "    </tr>\n",
       "  </thead>\n",
       "  <tbody>\n",
       "  </tbody>\n",
       "</table>\n",
       "</div>"
      ],
      "text/plain": [
       "Empty DataFrame\n",
       "Columns: []\n",
       "Index: []"
      ]
     },
     "execution_count": 42,
     "metadata": {},
     "output_type": "execute_result"
    }
   ],
   "source": [
    "scores"
   ]
  },
  {
   "cell_type": "code",
   "execution_count": 43,
   "id": "89d1ff72",
   "metadata": {},
   "outputs": [],
   "source": [
    "scores_ehi = df_stds"
   ]
  },
  {
   "cell_type": "code",
   "execution_count": 47,
   "id": "f2a32655",
   "metadata": {},
   "outputs": [
    {
     "name": "stdout",
     "output_type": "stream",
     "text": [
      "ciao\n"
     ]
    }
   ],
   "source": [
    "if not scores.empty: \n",
    "    print('ehi')\n",
    "elif not scores_ehi.empty:\n",
    "    print('ciao')\n",
    "    "
   ]
  },
  {
   "cell_type": "code",
   "execution_count": 48,
   "id": "ab82c0ce",
   "metadata": {},
   "outputs": [
    {
     "ename": "NameError",
     "evalue": "name 'go' is not defined",
     "output_type": "error",
     "traceback": [
      "\u001b[0;31m---------------------------------------------------------------------------\u001b[0m",
      "\u001b[0;31mNameError\u001b[0m                                 Traceback (most recent call last)",
      "\u001b[0;32m/var/folders/mt/lx9bxf895gq_bfbn6l6_m3kr0000gn/T/ipykernel_14534/3122053700.py\u001b[0m in \u001b[0;36m<module>\u001b[0;34m\u001b[0m\n\u001b[1;32m      1\u001b[0m \u001b[0mnum_of_combinations\u001b[0m \u001b[0;34m=\u001b[0m \u001b[0mscores\u001b[0m\u001b[0;34m.\u001b[0m\u001b[0mshape\u001b[0m\u001b[0;34m[\u001b[0m\u001b[0;36m1\u001b[0m\u001b[0;34m]\u001b[0m\u001b[0;34m-\u001b[0m\u001b[0;36m1\u001b[0m\u001b[0;34m\u001b[0m\u001b[0;34m\u001b[0m\u001b[0m\n\u001b[0;32m----> 2\u001b[0;31m \u001b[0mfig\u001b[0m \u001b[0;34m=\u001b[0m \u001b[0mgo\u001b[0m\u001b[0;34m.\u001b[0m\u001b[0mFigure\u001b[0m\u001b[0;34m(\u001b[0m\u001b[0mlayout_yaxis_title\u001b[0m\u001b[0;34m=\u001b[0m\u001b[0;34m\"MCDA rough score\"\u001b[0m\u001b[0;34m)\u001b[0m\u001b[0;34m\u001b[0m\u001b[0;34m\u001b[0m\u001b[0m\n\u001b[0m\u001b[1;32m      3\u001b[0m \u001b[0mi\u001b[0m \u001b[0;34m=\u001b[0m \u001b[0;36m0\u001b[0m\u001b[0;34m\u001b[0m\u001b[0;34m\u001b[0m\u001b[0m\n\u001b[1;32m      4\u001b[0m \u001b[0;32mwhile\u001b[0m \u001b[0mi\u001b[0m \u001b[0;34m<=\u001b[0m \u001b[0mnum_of_combinations\u001b[0m \u001b[0;34m-\u001b[0m \u001b[0;36m1\u001b[0m\u001b[0;34m:\u001b[0m\u001b[0;34m\u001b[0m\u001b[0;34m\u001b[0m\u001b[0m\n\u001b[1;32m      5\u001b[0m     fig.add_trace(go.Bar(\n",
      "\u001b[0;31mNameError\u001b[0m: name 'go' is not defined"
     ]
    }
   ],
   "source": [
    "num_of_combinations = scores.shape[1]-1\n",
    "fig = go.Figure(layout_yaxis_title=\"MCDA rough score\")\n",
    "i = 0\n",
    "while i <= num_of_combinations - 1:\n",
    "    fig.add_trace(go.Bar(\n",
    "    name=scores.columns[i+1],\n",
    "    x=scores['Alternatives'][:].values.tolist(),\n",
    "    y=scores.iloc[:, i + 1],\n",
    "        ))\n",
    "    i = i + 1\n",
    "    fig.update_layout(barmode='group', height=600, width=1000,\n",
    "                      title='<b>MCDA analysis<b>',\n",
    "                      title_font_size=22,\n",
    "\n",
    "                      xaxis=dict(\n",
    "                          tickmode=\"array\",\n",
    "                          tickvals=np.arange(0, len(scores['Alternatives'][:])),\n",
    "                          ticktext=scores['Alternatives'][:],\n",
    "                          tickangle=45)\n",
    "                      )\n",
    "fig.show()"
   ]
  },
  {
   "cell_type": "code",
   "execution_count": 11,
   "id": "ebd1ddf0",
   "metadata": {},
   "outputs": [
    {
     "data": {
      "text/plain": [
       "0.45870015694918254"
      ]
     },
     "execution_count": 11,
     "metadata": {},
     "output_type": "execute_result"
    }
   ],
   "source": [
    "import random\n",
    "random.uniform(0, 1)"
   ]
  },
  {
   "cell_type": "code",
   "execution_count": 24,
   "id": "01cbfc09",
   "metadata": {},
   "outputs": [
    {
     "name": "stdout",
     "output_type": "stream",
     "text": [
      "[0.22321073814882275, 1, 1, 1, 1]\n",
      "[0.7364712141640124, 1, 1, 1, 1]\n",
      "[0.6766994874229113, 1, 1, 1, 1]\n",
      "[[0.22321073814882275, 1, 1, 1, 1], [0.7364712141640124, 1, 1, 1, 1], [0.6766994874229113, 1, 1, 1, 1]]\n"
     ]
    }
   ],
   "source": [
    "list_of_weights = []\n",
    "for _ in range(3):\n",
    "    lst = [1] * 5\n",
    "    lst[0] = random.uniform(0, 1)\n",
    "    print(lst)\n",
    "    list_of_weights.append(lst)\n",
    "print(list_of_weights)"
   ]
  },
  {
   "cell_type": "code",
   "execution_count": 18,
   "id": "9810d339",
   "metadata": {},
   "outputs": [
    {
     "name": "stdout",
     "output_type": "stream",
     "text": [
      "[[321]]\n"
     ]
    }
   ],
   "source": [
    "test = []\n",
    "vector = [321]\n",
    "test.append(vector)\n",
    "print(test)"
   ]
  },
  {
   "cell_type": "code",
   "execution_count": 19,
   "id": "5fdf6614",
   "metadata": {},
   "outputs": [],
   "source": [
    "vector2=[678]"
   ]
  },
  {
   "cell_type": "code",
   "execution_count": 20,
   "id": "5c1a2e71",
   "metadata": {},
   "outputs": [],
   "source": [
    "test.append(vector2)"
   ]
  },
  {
   "cell_type": "code",
   "execution_count": 21,
   "id": "ed07a058",
   "metadata": {},
   "outputs": [
    {
     "name": "stdout",
     "output_type": "stream",
     "text": [
      "[[321], [678]]\n"
     ]
    }
   ],
   "source": [
    "print(test)"
   ]
  },
  {
   "cell_type": "code",
   "execution_count": 25,
   "id": "a3ee6ff3",
   "metadata": {},
   "outputs": [
    {
     "data": {
      "text/plain": [
       "0.9999999999999998"
      ]
     },
     "execution_count": 25,
     "metadata": {},
     "output_type": "execute_result"
    }
   ],
   "source": [
    "0.14213463885684058 + 0.14213463885684058 + 0.14213463885684058 + 0.14213463885684058 + 0.14213463885684058 + 0.14213463885684058 + 0.14213463885684058 + 0.00505752800211593"
   ]
  },
  {
   "cell_type": "code",
   "execution_count": 26,
   "id": "f251de2a",
   "metadata": {},
   "outputs": [
    {
     "name": "stdout",
     "output_type": "stream",
     "text": [
      "0\n",
      "1\n",
      "2\n",
      "3\n"
     ]
    }
   ],
   "source": [
    "for index in range(4):\n",
    "    print(index)"
   ]
  },
  {
   "cell_type": "code",
   "execution_count": 62,
   "id": "8e03a05c",
   "metadata": {},
   "outputs": [
    {
     "name": "stdout",
     "output_type": "stream",
     "text": [
      "DEBUG: 2023-06-13 10:47:11,884 - PIL.PngImagePlugin - STREAM b'IHDR' 16 13\n",
      "DEBUG: 2023-06-13 10:47:11,885 - PIL.PngImagePlugin - STREAM b'IDAT' 41 8192\n",
      "DEBUG: 2023-06-13 10:47:11,886 - PIL.PngImagePlugin - STREAM b'IHDR' 16 13\n",
      "DEBUG: 2023-06-13 10:47:11,887 - PIL.PngImagePlugin - STREAM b'IDAT' 41 8192\n"
     ]
    }
   ],
   "source": [
    "from PIL import Image\n",
    "\n",
    "im1 = Image.open(\"/Users/flaminia/Desktop/MCDA_test_iterative_rand_weights/MCDA_norm_scores_no_var.png\")\n",
    "im2 = Image.open(\"/Users/flaminia/Desktop/MCDA_test_iterative_rand_weights/MCDA_rough_scores_no_var.png\")"
   ]
  },
  {
   "cell_type": "code",
   "execution_count": 63,
   "id": "ea31509d",
   "metadata": {},
   "outputs": [
    {
     "data": {
      "text/plain": [
       "PIL.PngImagePlugin.PngImageFile"
      ]
     },
     "execution_count": 63,
     "metadata": {},
     "output_type": "execute_result"
    }
   ],
   "source": [
    "type(im1)"
   ]
  },
  {
   "cell_type": "code",
   "execution_count": 64,
   "id": "584ce25d",
   "metadata": {},
   "outputs": [],
   "source": [
    "#images = [\"/Users/flaminia/Desktop/MCDA_test_iterative_rand_weights/MCDA_norm_scores_no_var.png\",\"/Users/flaminia/Desktop/MCDA_test_iterative_rand_weights/MCDA_rough_scores_no_var.png\"]\n",
    "images = [im1,im2]"
   ]
  },
  {
   "cell_type": "code",
   "execution_count": 65,
   "id": "a6035b72",
   "metadata": {},
   "outputs": [
    {
     "data": {
      "image/png": "[encoded data removed]",
      "text/plain": [
       "<PIL.PngImagePlugin.PngImageFile image mode=RGBA size=1000x600>"
      ]
     },
     "execution_count": 65,
     "metadata": {},
     "output_type": "execute_result"
    }
   ],
   "source": [
    "images[0]"
   ]
  },
  {
   "cell_type": "code",
   "execution_count": 76,
   "id": "33d2dd3f",
   "metadata": {},
   "outputs": [
    {
     "name": "stdout",
     "output_type": "stream",
     "text": [
      "0\n",
      "<PIL.PngImagePlugin.PngImageFile image mode=RGBA size=1000x600 at 0x103E91E50>\n",
      "1\n",
      "<PIL.PngImagePlugin.PngImageFile image mode=RGBA size=1000x600 at 0x13D7FCE20>\n"
     ]
    }
   ],
   "source": [
    "for i,j in enumerate(images):\n",
    "    print(i)\n",
    "    print(j)"
   ]
  },
  {
   "cell_type": "code",
   "execution_count": 77,
   "id": "0d973e1f",
   "metadata": {},
   "outputs": [],
   "source": [
    "def combine_images(images, output_file):\n",
    "    # Open the first image\n",
    "    #first_image = Image.open(images[0])\n",
    "    first_image =images[0]\n",
    "\n",
    "    # Determine the size of the final image based on the first image\n",
    "    width, height = first_image.size\n",
    "\n",
    "    # Create a new image object with the size of the final image\n",
    "    combined_image = Image.new(\"RGB\", (width, height * len(images)))\n",
    "\n",
    "    # Loop through the images and paste them into the combined image\n",
    "    for i,j in enumerate(images):\n",
    "        image = j\n",
    "    \n",
    "        # Calculate the box dimensions for pasting the image\n",
    "        box = (0, i * height, width, (i + 1) * height)\n",
    "        \n",
    "        # Paste the image into the combined image using the box dimensions\n",
    "        combined_image.paste(image, box)\n",
    "        \n",
    "        # Save the combined image\n",
    "        combined_image.save(output_file)\n",
    "\n",
    "# Example usage\n",
    "combine_images(images, \"./test_combine_figures.jpg\")\n"
   ]
  },
  {
   "cell_type": "code",
   "execution_count": 52,
   "id": "e8230cbc",
   "metadata": {},
   "outputs": [
    {
     "name": "stdout",
     "output_type": "stream",
     "text": [
      "LICENSE                                \u001b[36mmcda\u001b[m\u001b[m\r\n",
      "README.md                              parallel.ipynb\r\n",
      "__init__.py                            requirements.txt\r\n",
      "\u001b[36m__pycache__\u001b[m\u001b[m                            testing_score_calculation.ipynb\r\n",
      "backup_parallel.ipynb                  testing_various_functionalities.ipynb\r\n",
      "configuration_w_uncertainty.json       \u001b[36mtests\u001b[m\u001b[m\r\n",
      "configuration_without_uncertainty.json \u001b[36mvenv\u001b[m\u001b[m\r\n",
      "initialize_and_call_aggregation.py\r\n"
     ]
    }
   ],
   "source": [
    "! ls"
   ]
  },
  {
   "cell_type": "code",
   "execution_count": 38,
   "id": "e6986bc3",
   "metadata": {},
   "outputs": [
    {
     "data": {
      "text/plain": [
       "PIL.PngImagePlugin.PngImageFile"
      ]
     },
     "execution_count": 38,
     "metadata": {},
     "output_type": "execute_result"
    }
   ],
   "source": [
    "type(im1)"
   ]
  },
  {
   "cell_type": "code",
   "execution_count": 37,
   "id": "eadb72e9",
   "metadata": {},
   "outputs": [
    {
     "data": {
      "image/png": "[encoded data removed]",
      "text/plain": [
       "<PIL.PngImagePlugin.PngImageFile image mode=RGBA size=1000x600>"
      ]
     },
     "execution_count": 37,
     "metadata": {},
     "output_type": "execute_result"
    }
   ],
   "source": [
    "im1"
   ]
  },
  {
   "cell_type": "code",
   "execution_count": 78,
   "id": "baf3fe8e",
   "metadata": {},
   "outputs": [],
   "source": [
    "import pickle\n",
    "\n",
    "\n",
    "with open('/Users/flaminia/Desktop/MCDA_test_iterative_rand_weights/score_means.pkl', 'rb') as f:\n",
    "    data = pickle.load(f)"
   ]
  },
  {
   "cell_type": "code",
   "execution_count": 79,
   "id": "41cfadbb",
   "metadata": {},
   "outputs": [
    {
     "data": {
      "text/plain": [
       "{'indicator_1':                Alternatives  ws-stand  ws-minmax  ws-target   ws-rank  \\\n",
       " 0    scenario1_20yrs_manag1 -0.718691   0.218911   0.394283  3.914074   \n",
       " 1    scenario1_50yrs_manag1  0.367639   0.591495   0.615143  7.646145   \n",
       " 2   scenario1_100yrs_manag1  0.209204   0.533877   0.585301  6.646145   \n",
       " 3    scenario2_20yrs_manag1 -0.551801   0.325889   0.382480  4.210419   \n",
       " 4    scenario2_50yrs_manag1 -0.294746   0.380254   0.414940  5.531123   \n",
       " 5   scenario2_100yrs_manag1 -0.828695   0.225732   0.302615  4.014207   \n",
       " 6    scenario1_20yrs_manag2  0.085264   0.572963   0.572699  6.985793   \n",
       " 7    scenario1_50yrs_manag2  0.180752   0.543329   0.583924  7.727335   \n",
       " 8   scenario1_100yrs_manag2  0.612636   0.690598   0.701240  8.607577   \n",
       " 9    scenario2_20yrs_manag2  0.247406   0.635927   0.583462  7.143436   \n",
       " 10   scenario2_50yrs_manag2  0.432431   0.632668   0.610948  7.884979   \n",
       " 11  scenario2_100yrs_manag2  0.258602   0.584137   0.592050  7.688767   \n",
       " \n",
       "     geom-stand  geom-minmax  geom-target  geom-rank  harm-stand  harm-minmax  \\\n",
       " 0     0.404839     0.223157     0.378746   3.273357    0.208987     0.171180   \n",
       " 1     1.377909     0.535603     0.624724   7.148205    0.564157     0.381471   \n",
       " 2     0.956885     0.422159     0.524537   5.522367    0.329889     0.265292   \n",
       " 3     0.587154     0.292632     0.384088   3.406357    0.289429     0.215232   \n",
       " 4     0.702882     0.325143     0.400255   4.604844    0.308142     0.231888   \n",
       " 5     0.266420     0.186681     0.292542   2.749658    0.153461     0.139832   \n",
       " 6     1.264554     0.505734     0.553167   6.274157    0.886444     0.388046   \n",
       " 7     1.224124     0.486309     0.506167   7.261286    0.538689     0.352111   \n",
       " 8     1.524127     0.590297     0.610366   7.728110    0.578358     0.396320   \n",
       " 9     1.572188     0.591402     0.562659   6.774998    1.280863     0.494873   \n",
       " 10    1.354500     0.535234     0.526514   7.230400    0.548289     0.364046   \n",
       " 11    1.297955     0.512677     0.524312   6.878116    0.552185     0.363248   \n",
       " \n",
       "     harm-target  harm-rank  min-stand  \n",
       " 0      0.287526   2.648915  -1.664553  \n",
       " 1      0.595026   6.612465  -0.957427  \n",
       " 2      0.373326   4.510833  -1.366187  \n",
       " 3      0.311308   2.670406  -1.308250  \n",
       " 4      0.313027   3.813116  -1.366187  \n",
       " 5      0.229363   1.969966  -1.870289  \n",
       " 6      0.488009   5.348328  -1.489962  \n",
       " 7      0.356464   6.648958  -1.132843  \n",
       " 8      0.409134   6.683507  -1.132843  \n",
       " 9      0.485975   6.413369  -0.702183  \n",
       " 10     0.363611   6.472569  -1.132843  \n",
       " 11     0.370721   5.972059  -1.132843  ,\n",
       " 'indicator_2':                Alternatives  ws-stand  ws-minmax  ws-target   ws-rank  \\\n",
       " 0    scenario1_20yrs_manag1 -0.654204   0.243172   0.418547  4.339606   \n",
       " 1    scenario1_50yrs_manag1  0.464326   0.616942   0.640223  7.724551   \n",
       " 2   scenario1_100yrs_manag1  0.099641   0.503520   0.555722  6.585483   \n",
       " 3    scenario2_20yrs_manag1 -0.573986   0.328938   0.386430  4.275449   \n",
       " 4    scenario2_50yrs_manag1 -0.270633   0.392475   0.427616  5.462544   \n",
       " 5   scenario2_100yrs_manag1 -0.880691   0.220586   0.298496  3.868997   \n",
       " 6    scenario1_20yrs_manag2  0.138520   0.593333   0.593449  7.339606   \n",
       " 7    scenario1_50yrs_manag2  0.202128   0.554433   0.595462  7.799462   \n",
       " 8   scenario1_100yrs_manag2  0.551565   0.677121   0.688589  8.395699   \n",
       " 9    scenario2_20yrs_manag2  0.284951   0.652691   0.600846  7.208603   \n",
       " 10   scenario2_50yrs_manag2  0.442018   0.641261   0.620213  7.737993   \n",
       " 11  scenario2_100yrs_manag2  0.196365   0.572323   0.581205  7.262007   \n",
       " \n",
       "     geom-stand  geom-minmax  geom-target  geom-rank  harm-stand  harm-minmax  \\\n",
       " 0     0.457555     0.241207     0.408279   3.609855    0.217845     0.180625   \n",
       " 1     1.438262     0.550632     0.641848   7.198639    0.569423     0.386628   \n",
       " 2     0.934128     0.408229     0.507575   5.497241    0.329465     0.262535   \n",
       " 3     0.635298     0.300271     0.395232   3.574239    0.337720     0.226231   \n",
       " 4     0.739073     0.335184     0.412610   4.558587    0.312643     0.236559   \n",
       " 5     0.244837     0.180345     0.285647   2.540205    0.142778     0.134749   \n",
       " 6     1.379564     0.535372     0.584874   6.589473    0.969272     0.418025   \n",
       " 7     1.280123     0.499257     0.519805   7.323981    0.549686     0.360893   \n",
       " 8     1.503990     0.577271     0.597955   7.537676    0.576721     0.390139   \n",
       " 9     1.720333     0.625364     0.594343   6.877702    1.536858     0.554854   \n",
       " 10    1.414382     0.548326     0.539778   7.019124    0.561461     0.374134   \n",
       " 11    1.271623     0.499232     0.512117   6.358641    0.548030     0.354740   \n",
       " \n",
       "     harm-target  harm-rank  min-stand  \n",
       " 0      0.312900   2.848245  -1.664553  \n",
       " 1      0.606901   6.641134  -0.957427  \n",
       " 2      0.367840   4.505725  -1.366187  \n",
       " 3      0.334744   2.957866  -1.308250  \n",
       " 4      0.321257   3.792405  -1.366187  \n",
       " 5      0.221220   1.799872  -1.870289  \n",
       " 6      0.533761   5.558527  -1.489962  \n",
       " 7      0.365317   6.695062  -1.132843  \n",
       " 8      0.403212   6.554731  -1.132843  \n",
       " 9      0.539060   6.558965  -0.702183  \n",
       " 10     0.373567   6.227454  -1.132843  \n",
       " 11     0.363168   5.451066  -1.132843  ,\n",
       " 'indicator_3':                Alternatives  ws-stand  ws-minmax  ws-target   ws-rank  \\\n",
       " 0    scenario1_20yrs_manag1 -0.653336   0.227037   0.385691  4.266932   \n",
       " 1    scenario1_50yrs_manag1  0.502064   0.611541   0.628474  7.866429   \n",
       " 2   scenario1_100yrs_manag1  0.193373   0.514885   0.563279  6.732648   \n",
       " 3    scenario2_20yrs_manag1 -0.560641   0.316470   0.354668  4.200461   \n",
       " 4    scenario2_50yrs_manag1 -0.243263   0.384197   0.403778  5.667016   \n",
       " 5   scenario2_100yrs_manag1 -0.812592   0.224715   0.278988  4.000629   \n",
       " 6    scenario1_20yrs_manag2  0.103733   0.566076   0.555243  7.266932   \n",
       " 7    scenario1_50yrs_manag2  0.157573   0.524286   0.558255  7.799958   \n",
       " 8   scenario1_100yrs_manag2  0.513470   0.648688   0.660505  8.265884   \n",
       " 9    scenario2_20yrs_manag2  0.255040   0.626896   0.562829  7.133781   \n",
       " 10   scenario2_50yrs_manag2  0.391593   0.609326   0.580876  7.666806   \n",
       " 11  scenario2_100yrs_manag2  0.152985   0.542383   0.548184  7.132523   \n",
       " \n",
       "     geom-stand  geom-minmax  geom-target  geom-rank  harm-stand  harm-minmax  \\\n",
       " 0     0.419964     0.227430     0.373674   3.507288    0.210793     0.172784   \n",
       " 1     1.429821     0.547178     0.633124   7.302826    0.569543     0.385645   \n",
       " 2     0.947397     0.413089     0.511482   5.574337    0.330577     0.263724   \n",
       " 3     0.555179     0.280894     0.354783   3.398166    0.280000     0.206068   \n",
       " 4     0.720801     0.328297     0.393221   4.736932    0.310691     0.233421   \n",
       " 5     0.265239     0.186155     0.268404   2.737076    0.153090     0.139581   \n",
       " 6     1.265740     0.500240     0.539175   6.504819    0.888180     0.385346   \n",
       " 7     1.201193     0.472672     0.488631   7.325580    0.537464     0.346585   \n",
       " 8     1.454569     0.559388     0.579681   7.452348    0.573484     0.384505   \n",
       " 9     1.561716     0.581488     0.544062   6.765713    1.274870     0.486389   \n",
       " 10    1.313348     0.515143     0.503392   6.944299    0.544744     0.355169   \n",
       " 11    1.215723     0.479221     0.490287   6.280176    0.542371     0.347072   \n",
       " \n",
       "     harm-target  harm-rank  min-stand  \n",
       " 0      0.285825   2.757092  -1.664553  \n",
       " 1      0.600461   6.706969  -0.957427  \n",
       " 2      0.369258   4.534891  -1.366187  \n",
       " 3      0.286442   2.666361  -1.308250  \n",
       " 4      0.310191   3.901644  -1.366187  \n",
       " 5      0.210277   1.961285  -1.870289  \n",
       " 6      0.478255   5.488942  -1.489962  \n",
       " 7      0.349954   6.697764  -1.132843  \n",
       " 8      0.397295   6.513594  -1.132843  \n",
       " 9      0.471896   6.405182  -0.702183  \n",
       " 10     0.354055   6.165844  -1.132843  \n",
       " 11     0.354876   5.417303  -1.132843  ,\n",
       " 'indicator_4':                Alternatives  ws-stand  ws-minmax  ws-target   ws-rank  \\\n",
       " 0    scenario1_20yrs_manag1 -0.716930   0.206310   0.379629  3.993018   \n",
       " 1    scenario1_50yrs_manag1  0.526032   0.617451   0.638530  7.933178   \n",
       " 2   scenario1_100yrs_manag1  0.263666   0.534796   0.583852  7.071477   \n",
       " 3    scenario2_20yrs_manag1 -0.578517   0.309602   0.362950  4.135971   \n",
       " 4    scenario2_50yrs_manag1 -0.216895   0.390667   0.421226  5.808844   \n",
       " 5   scenario2_100yrs_manag1 -0.805759   0.225191   0.296954  4.006982   \n",
       " 6    scenario1_20yrs_manag2  0.023317   0.540603   0.540715  6.993018   \n",
       " 7    scenario1_50yrs_manag2  0.103032   0.506555   0.547808  7.592087   \n",
       " 8   scenario1_100yrs_manag2  0.514761   0.647945   0.659786  8.257977   \n",
       " 9    scenario2_20yrs_manag2  0.235842   0.619880   0.565840  7.069149   \n",
       " 10   scenario2_50yrs_manag2  0.386782   0.606604   0.584202  7.529920   \n",
       " 11  scenario2_100yrs_manag2  0.264669   0.574853   0.579902  7.608379   \n",
       " \n",
       "     geom-stand  geom-minmax  geom-target  geom-rank  harm-stand  harm-minmax  \\\n",
       " 0     0.401067     0.218863     0.370315   3.310106    0.209116     0.170299   \n",
       " 1     1.439810     0.551037     0.640460   7.359084    0.569699     0.386830   \n",
       " 2     0.971670     0.423057     0.523674   5.839383    0.331217     0.265788   \n",
       " 3     0.539384     0.275001     0.360305   3.307241    0.277031     0.203022   \n",
       " 4     0.734284     0.333451     0.405764   4.974228    0.311987     0.235651   \n",
       " 5     0.265783     0.186399     0.283501   2.742869    0.153261     0.139697   \n",
       " 6     1.220566     0.484478     0.530483   6.281106    0.875442     0.378605   \n",
       " 7     1.174765     0.463493     0.483241   7.165623    0.534437     0.343523   \n",
       " 8     1.451371     0.558698     0.579010   7.444808    0.572426     0.384000   \n",
       " 9     1.539891     0.574771     0.546130   6.684824    1.261771     0.481377   \n",
       " 10    1.306560     0.513136     0.505045   6.824932    0.543365     0.354232   \n",
       " 11    1.279729     0.501803     0.510920   6.726965    0.549470     0.356195   \n",
       " \n",
       "     harm-target  harm-rank  min-stand  \n",
       " 0      0.284487   2.661524  -1.664553  \n",
       " 1      0.605775   6.746365  -0.957427  \n",
       " 2      0.373228   4.673963  -1.366187  \n",
       " 3      0.289018   2.588288  -1.308250  \n",
       " 4      0.316343   4.191024  -1.366187  \n",
       " 5      0.219224   1.965223  -1.870289  \n",
       " 6      0.473576   5.354188  -1.489962  \n",
       " 7      0.348165   6.592724  -1.132843  \n",
       " 8      0.396784   6.507251  -1.132843  \n",
       " 9      0.473002   6.314975  -0.702183  \n",
       " 10     0.354307   6.082803  -1.132843  \n",
       " 11     0.362577   5.753286  -1.132843  ,\n",
       " 'indicator_5':                Alternatives  ws-stand  ws-minmax  ws-target   ws-rank  \\\n",
       " 0    scenario1_20yrs_manag1 -0.644357   0.247118   0.388899  4.234632   \n",
       " 1    scenario1_50yrs_manag1  0.608614   0.661256   0.650556  8.241715   \n",
       " 2   scenario1_100yrs_manag1  0.326093   0.572529   0.590406  7.173159   \n",
       " 3    scenario2_20yrs_manag1 -0.578084   0.328637   0.352696  4.101062   \n",
       " 4    scenario2_50yrs_manag1 -0.224952   0.407159   0.408693  5.703896   \n",
       " 5   scenario2_100yrs_manag1 -0.868932   0.225066   0.269463  3.833924   \n",
       " 6    scenario1_20yrs_manag2  0.031749   0.533026   0.533926  7.028966   \n",
       " 7    scenario1_50yrs_manag2  0.122982   0.502481   0.544148  7.696813   \n",
       " 8   scenario1_100yrs_manag2  0.548910   0.648140   0.659975  8.431445   \n",
       " 9    scenario2_20yrs_manag2  0.170272   0.589993   0.539010  6.828611   \n",
       " 10   scenario2_50yrs_manag2  0.352491   0.586176   0.565863  7.496459   \n",
       " 11  scenario2_100yrs_manag2  0.155215   0.531771   0.541174  7.229320   \n",
       " \n",
       "     geom-stand  geom-minmax  geom-target  geom-rank  harm-stand  harm-minmax  \\\n",
       " 0     0.493959     0.248463     0.375419   3.471201    0.242665     0.189000   \n",
       " 1     1.791622     0.629686     0.651665   7.792108    1.016187     0.511904   \n",
       " 2     1.195438     0.478984     0.528957   5.984546    0.428338     0.315323   \n",
       " 3     0.634155     0.299957     0.353516   3.272285    0.336861     0.225946   \n",
       " 4     0.856711     0.361361     0.396067   4.781988    0.389788     0.266047   \n",
       " 5     0.265634     0.186333     0.263641   2.514031    0.153214     0.139665   \n",
       " 6     1.255601     0.481133     0.527196   6.304616    0.884422     0.377637   \n",
       " 7     1.212862     0.461853     0.481716   7.239130    0.538190     0.343167   \n",
       " 8     1.504922     0.558875     0.579182   7.566014    0.577137     0.384126   \n",
       " 9     1.537908     0.555652     0.530288   6.477751    1.260892     0.471563   \n",
       " 10    1.323584     0.502460     0.495777   6.800889    0.545243     0.351273   \n",
       " 11    1.244576     0.474182     0.486885   6.337305    0.544644     0.345514   \n",
       " \n",
       "     harm-target  harm-rank  min-stand  \n",
       " 0      0.286349   2.732318  -1.664553  \n",
       " 1      0.616182   7.300885  -0.957427  \n",
       " 2      0.375636   4.807073  -1.366187  \n",
       " 3      0.285790   2.566987  -1.308250  \n",
       " 4      0.311241   3.939209  -1.366187  \n",
       " 5      0.208568   1.790197  -1.870289  \n",
       " 6      0.472183   5.365687  -1.489962  \n",
       " 7      0.347849   6.636544  -1.132843  \n",
       " 8      0.396911   6.572072  -1.132843  \n",
       " 9      0.465007   6.152351  -0.702183  \n",
       " 10     0.351753   6.069295  -1.132843  \n",
       " 11     0.353754   5.441301  -1.132843  ,\n",
       " 'indicator_6':                Alternatives  ws-stand  ws-minmax  ws-target   ws-rank  \\\n",
       " 0    scenario1_20yrs_manag1 -0.703498   0.212500   0.400404  4.060948   \n",
       " 1    scenario1_50yrs_manag1  0.550958   0.627129   0.662372  8.072780   \n",
       " 2   scenario1_100yrs_manag1  0.356155   0.573208   0.625424  7.282245   \n",
       " 3    scenario2_20yrs_manag1 -0.637147   0.294115   0.364159  3.927220   \n",
       " 4    scenario2_50yrs_manag1 -0.195544   0.407641   0.443496  5.811240   \n",
       " 5   scenario2_100yrs_manag1 -0.840287   0.225332   0.304100  3.939052   \n",
       " 6    scenario1_20yrs_manag2  0.104839   0.567383   0.579922  7.270413   \n",
       " 7    scenario1_50yrs_manag2  0.196180   0.536802   0.590156  7.939052   \n",
       " 8   scenario1_100yrs_manag2  0.534560   0.647723   0.682846  8.360356   \n",
       " 9    scenario2_20yrs_manag2  0.155474   0.589507   0.561737  6.755624   \n",
       " 10   scenario2_50yrs_manag2  0.337909   0.585685   0.588622  7.424262   \n",
       " 11  scenario2_100yrs_manag2  0.140399   0.531216   0.563904  7.156807   \n",
       " \n",
       "     geom-stand  geom-minmax  geom-target  geom-rank  harm-stand  harm-minmax  \\\n",
       " 0     0.412099     0.220823     0.383647   3.343804    0.209734     0.170689   \n",
       " 1     1.489223     0.558879     0.666565   7.508242    0.575747     0.390214   \n",
       " 2     1.199066     0.479892     0.597188   6.231589    0.430120     0.316169   \n",
       " 3     0.528682     0.266515     0.361227   3.152126    0.275648     0.200094   \n",
       " 4     0.858953     0.361921     0.446657   4.977066    0.391212     0.266592   \n",
       " 5     0.265945     0.186471     0.296850   2.613113    0.153312     0.139732   \n",
       " 6     1.289536     0.501017     0.561482   6.506262    0.896772     0.385504   \n",
       " 7     1.245565     0.480898     0.512924   7.472626    0.542445     0.349598   \n",
       " 8     1.477248     0.558493     0.593287   7.511641    0.574090     0.383851   \n",
       " 9     1.509652     0.555269     0.543120   6.430182    1.247967     0.471273   \n",
       " 10    1.299118     0.502055     0.507715   6.751281    0.542490     0.351008   \n",
       " 11    1.221514     0.473767     0.498593   6.290628    0.541896     0.345251   \n",
       " \n",
       "     harm-target  harm-rank  min-stand  \n",
       " 0      0.290074   2.671993  -1.664553  \n",
       " 1      0.635205   6.880696  -0.957427  \n",
       " 2      0.488429   5.200396  -1.366187  \n",
       " 3      0.289500   2.513581  -1.308250  \n",
       " 4      0.382594   4.193873  -1.366187  \n",
       " 5      0.237085   1.837742  -1.870289  \n",
       " 6      0.496255   5.487656  -1.489962  \n",
       " 7      0.360487   6.827663  -1.132843  \n",
       " 8      0.401286   6.540079  -1.132843  \n",
       " 9      0.471143   6.123899  -0.702183  \n",
       " 10     0.355129   6.041520  -1.132843  \n",
       " 11     0.357172   5.418373  -1.132843  ,\n",
       " 'indicator_7':                Alternatives  ws-stand  ws-minmax  ws-target   ws-rank  \\\n",
       " 0    scenario1_20yrs_manag1 -0.632341   0.247114   0.423169  4.268886   \n",
       " 1    scenario1_50yrs_manag1  0.487509   0.592708   0.661976  7.864681   \n",
       " 2   scenario1_100yrs_manag1  0.204994   0.503983   0.601827  6.796146   \n",
       " 3    scenario2_20yrs_manag1 -0.699166   0.260095   0.364122  3.724106   \n",
       " 4    scenario2_50yrs_manag1 -0.346041   0.338616   0.420117  5.326909   \n",
       " 5   scenario2_100yrs_manag1 -0.990008   0.156526   0.280890  3.456972   \n",
       " 6    scenario1_20yrs_manag2  0.041927   0.533035   0.579625  7.063279   \n",
       " 7    scenario1_50yrs_manag2  0.266256   0.571026   0.612692  8.142327   \n",
       " 8   scenario1_100yrs_manag2  0.692175   0.716682   0.728517  8.876945   \n",
       " 9    scenario2_20yrs_manag2  0.180447   0.590000   0.584709  6.862929   \n",
       " 10   scenario2_50yrs_manag2  0.495760   0.654719   0.634406  7.941977   \n",
       " 11  scenario2_100yrs_manag2  0.298487   0.600315   0.609718  7.674843   \n",
       " \n",
       "     geom-stand  geom-minmax  geom-target  geom-rank  harm-stand  harm-minmax  \\\n",
       " 0     0.493942     0.248459     0.422535   3.508130    0.242657     0.188997   \n",
       " 1     1.448349     0.536582     0.666152   7.300461    0.570773     0.382152   \n",
       " 2     0.968213     0.408559     0.540663   5.609123    0.331150     0.262706   \n",
       " 3     0.515133     0.256280     0.361271   3.069722    0.274679     0.198089   \n",
       " 4     0.694946     0.308539     0.404778   4.483480    0.308153     0.227953   \n",
       " 5     0.216649     0.159469     0.269387   2.359314    0.139422     0.128700   \n",
       " 6     1.254472     0.481139     0.561252   6.327867    0.884084     0.377641   \n",
       " 7     1.497630     0.541687     0.565068   7.839025    0.904820     0.442332   \n",
       " 8     1.860113     0.655921     0.679840   8.193633    1.040843     0.515593   \n",
       " 9     1.536513     0.555658     0.564549   6.501652    1.260192     0.471567   \n",
       " 10    1.635007     0.589489     0.581621   7.363661    0.927700     0.456309   \n",
       " 11    1.536974     0.556198     0.571152   6.860865    0.925729     0.446354   \n",
       " \n",
       "     harm-target  harm-rank  min-stand  \n",
       " 0      0.343917   2.756747  -1.664553  \n",
       " 1      0.634748   6.704301  -0.957427  \n",
       " 2      0.382294   4.546294  -1.366187  \n",
       " 3      0.289595   2.492114  -1.308250  \n",
       " 4      0.315770   3.763614  -1.366187  \n",
       " 5      0.210573   1.753704  -1.870289  \n",
       " 6      0.496110   5.377074  -1.489962  \n",
       " 7      0.450376   7.426846  -1.132843  \n",
       " 8      0.539908   7.345552  -1.132843  \n",
       " 9      0.488180   6.167370  -0.702183  \n",
       " 10     0.457145   6.718915  -1.132843  \n",
       " 11     0.460637   5.953752  -1.132843  ,\n",
       " 'indicator_8':                Alternatives  ws-stand  ws-minmax  ws-target   ws-rank  \\\n",
       " 0    scenario1_20yrs_manag1 -0.594175   0.247512   0.377573  4.411454   \n",
       " 1    scenario1_50yrs_manag1  0.553358   0.631536   0.629144  8.143889   \n",
       " 2   scenario1_100yrs_manag1  0.298084   0.550601   0.571606  7.214149   \n",
       " 3    scenario2_20yrs_manag1 -0.639743   0.297094   0.330368  3.926371   \n",
       " 4    scenario2_50yrs_manag1 -0.386082   0.347087   0.376673  5.180461   \n",
       " 5   scenario2_100yrs_manag1 -0.970598   0.182030   0.243135  3.377766   \n",
       " 6    scenario1_20yrs_manag2  0.202226   0.599027   0.555965  7.551974   \n",
       " 7    scenario1_50yrs_manag2  0.184143   0.537078   0.555501  7.799326   \n",
       " 8   scenario1_100yrs_manag2  0.635919   0.690180   0.673974  8.816170   \n",
       " 9    scenario2_20yrs_manag2  0.237340   0.626400   0.550925  7.000000   \n",
       " 10   scenario2_50yrs_manag2  0.290468   0.585515   0.565170  7.317613   \n",
       " 11  scenario2_100yrs_manag2  0.189060   0.558576   0.549846  7.260828   \n",
       " \n",
       "     geom-stand  geom-minmax  geom-target  geom-rank  harm-stand  harm-minmax  \\\n",
       " 0     0.495304     0.248838     0.369231   3.795837    0.243284     0.189289   \n",
       " 1     1.470591     0.563106     0.633429   7.606511    0.572911     0.392352   \n",
       " 2     1.001465     0.435423     0.515589   6.055987    0.333123     0.269923   \n",
       " 3     0.520658     0.267809     0.343276   3.151363    0.274839     0.200432   \n",
       " 4     0.674110     0.310742     0.380940   4.417100    0.306690     0.228179   \n",
       " 5     0.214522     0.163633     0.254937   2.337745    0.139170     0.129121   \n",
       " 6     1.446137     0.550959     0.539454   7.037310    1.113372     0.449936   \n",
       " 7     1.219915     0.481078     0.486801   7.323545    0.538572     0.349645   \n",
       " 8     1.537506     0.590070     0.587042   8.039960    0.580669     0.396379   \n",
       " 9     1.552507     0.580681     0.536302   6.613516    1.268487     0.485501   \n",
       " 10    1.270987     0.501925     0.495240   6.687869    0.540312     0.350930   \n",
       " 11    1.235226     0.488161     0.490680   6.357171    0.543123     0.349678   \n",
       " \n",
       "     harm-target  harm-rank  min-stand  \n",
       " 0      0.284053   3.188667  -1.664553  \n",
       " 1      0.600511   6.995346  -0.957427  \n",
       " 2      0.370126   4.890660  -1.366187  \n",
       " 3      0.282177   2.513071  -1.308250  \n",
       " 4      0.305990   3.740886  -1.366187  \n",
       " 5      0.206370   1.749294  -1.870289  \n",
       " 6      0.478205   6.342998  -1.489962  \n",
       " 7      0.349023   6.694334  -1.132843  \n",
       " 8      0.399027   7.044424  -1.132843  \n",
       " 9      0.467512   6.249386  -0.702183  \n",
       " 10     0.351410   6.010876  -1.132843  \n",
       " 11     0.354581   5.449671  -1.132843  }"
      ]
     },
     "execution_count": 79,
     "metadata": {},
     "output_type": "execute_result"
    }
   ],
   "source": [
    "data"
   ]
  },
  {
   "cell_type": "code",
   "execution_count": null,
   "id": "78b54f00",
   "metadata": {},
   "outputs": [],
   "source": []
  }
 ],
 "metadata": {
  "kernelspec": {
   "display_name": "Python 3 (ipykernel)",
   "language": "python",
   "name": "python3"
  },
  "language_info": {
   "codemirror_mode": {
    "name": "ipython",
    "version": 3
   },
   "file_extension": ".py",
   "mimetype": "text/x-python",
   "name": "python",
   "nbconvert_exporter": "python",
   "pygments_lexer": "ipython3",
   "version": "3.9.6"
  }
 },
 "nbformat": 4,
 "nbformat_minor": 5
}
