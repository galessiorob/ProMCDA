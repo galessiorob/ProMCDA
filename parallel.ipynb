{
 "cells": [
  {
   "cell_type": "markdown",
   "id": "60d11f59",
   "metadata": {},
   "source": [
    "# as it would be in a script"
   ]
  },
  {
   "cell_type": "code",
   "execution_count": null,
   "id": "a678ab76",
   "metadata": {},
   "outputs": [],
   "source": [
    "import pandas as pd\n",
    "from mcda.utility_functions.aggregation import Aggregation"
   ]
  },
  {
   "cell_type": "code",
   "execution_count": null,
   "id": "6ccf1e05",
   "metadata": {},
   "outputs": [],
   "source": [
    "d = {'col1': [1, 2, 3], 'col3': [100, 200, 300]}\n",
    "data = pd.DataFrame(data=d)\n",
    "data"
   ]
  },
  {
   "cell_type": "code",
   "execution_count": null,
   "id": "4dba21d7",
   "metadata": {},
   "outputs": [],
   "source": [
    "import multiprocessing as mp\n",
    "print(\"Number of processors: \", mp.cpu_count())"
   ]
  },
  {
   "cell_type": "code",
   "execution_count": null,
   "id": "9cce96a3",
   "metadata": {},
   "outputs": [],
   "source": [
    "def initialize_and_call_aggregation(args):\n",
    "    weights,data = args\n",
    "    agg = Aggregation(weights)\n",
    "    res = agg.minmax(data)\n",
    "    print(res)\n",
    "\n",
    "if __name__ == '__main__':\n",
    "    \n",
    "    args = [([1,1],data),([2,2],data),([3,3],data)]\n",
    "    \n",
    "    # Step 1: Init multiprocessing.Pool()\n",
    "    pool = mp.Pool(processes = len(args)) #mp.cpu_count())\n",
    "    \n",
    "    # Step 2:\n",
    "    pool.map(initialize_and_call_aggregation, args)\n",
    "    \n",
    "    # Step 3: Don't forget to close\n",
    "    pool.close() \n",
    "    pool.join()"
   ]
  },
  {
   "cell_type": "markdown",
   "id": "3320d063",
   "metadata": {},
   "source": [
    "# as it should be in a notebook"
   ]
  },
  {
   "cell_type": "markdown",
   "id": "10c36205",
   "metadata": {},
   "source": [
    "## with multiprocessing"
   ]
  },
  {
   "cell_type": "code",
   "execution_count": 2,
   "id": "cb9923f6",
   "metadata": {},
   "outputs": [],
   "source": [
    "import pandas as pd\n",
    "import initialize_and_call_aggregation\n",
    "import multiprocess as mp\n",
    "from mcda.utility_functions.aggregation import Aggregation"
   ]
  },
  {
   "cell_type": "code",
   "execution_count": 3,
   "id": "90264168",
   "metadata": {},
   "outputs": [
    {
     "data": {
      "text/html": [
       "<div>\n",
       "<style scoped>\n",
       "    .dataframe tbody tr th:only-of-type {\n",
       "        vertical-align: middle;\n",
       "    }\n",
       "\n",
       "    .dataframe tbody tr th {\n",
       "        vertical-align: top;\n",
       "    }\n",
       "\n",
       "    .dataframe thead th {\n",
       "        text-align: right;\n",
       "    }\n",
       "</style>\n",
       "<table border=\"1\" class=\"dataframe\">\n",
       "  <thead>\n",
       "    <tr style=\"text-align: right;\">\n",
       "      <th></th>\n",
       "      <th>col1</th>\n",
       "      <th>col3</th>\n",
       "    </tr>\n",
       "  </thead>\n",
       "  <tbody>\n",
       "    <tr>\n",
       "      <th>0</th>\n",
       "      <td>1</td>\n",
       "      <td>100</td>\n",
       "    </tr>\n",
       "    <tr>\n",
       "      <th>1</th>\n",
       "      <td>2</td>\n",
       "      <td>200</td>\n",
       "    </tr>\n",
       "    <tr>\n",
       "      <th>2</th>\n",
       "      <td>3</td>\n",
       "      <td>300</td>\n",
       "    </tr>\n",
       "  </tbody>\n",
       "</table>\n",
       "</div>"
      ],
      "text/plain": [
       "   col1  col3\n",
       "0     1   100\n",
       "1     2   200\n",
       "2     3   300"
      ]
     },
     "execution_count": 3,
     "metadata": {},
     "output_type": "execute_result"
    }
   ],
   "source": [
    "d = {'col1': [1, 2, 3], 'col3': [100, 200, 300]}\n",
    "data = pd.DataFrame(data=d)\n",
    "data"
   ]
  },
  {
   "cell_type": "code",
   "execution_count": 5,
   "id": "86c188e2",
   "metadata": {},
   "outputs": [
    {
     "data": {
      "text/plain": [
       "array([[  1, 100],\n",
       "       [  2, 200],\n",
       "       [  3, 300]])"
      ]
     },
     "execution_count": 5,
     "metadata": {},
     "output_type": "execute_result"
    }
   ],
   "source": [
    "data.to_numpy()"
   ]
  },
  {
   "cell_type": "code",
   "execution_count": 17,
   "id": "79e3b08b",
   "metadata": {},
   "outputs": [],
   "source": [
    "def initialize_and_call_aggregation(args):\n",
    "    weights,data = args\n",
    "    agg = Aggregation(weights)\n",
    "    res = agg.weighted_sum(data)\n",
    "    print(res)"
   ]
  },
  {
   "cell_type": "code",
   "execution_count": 18,
   "id": "1634e198",
   "metadata": {},
   "outputs": [],
   "source": [
    "args = [([1,1],data),([2,2],data),([3,3],data)]"
   ]
  },
  {
   "cell_type": "code",
   "execution_count": 19,
   "id": "b098fb0f",
   "metadata": {
    "scrolled": true
   },
   "outputs": [
    {
     "name": "stdout",
     "output_type": "stream",
     "text": [
      "0    101\n",
      "1    202\n",
      "2    303\n",
      "dtype: int64\n",
      "0    202\n",
      "1    404\n",
      "2    606\n",
      "dtype: int64\n",
      "0    303\n",
      "1    606\n",
      "2    909\n",
      "dtype: int64\n"
     ]
    }
   ],
   "source": [
    "processes = []\n",
    "for arg in args:\n",
    "    process = mp.Process(target=initialize_and_call_aggregation, args=(arg,))\n",
    "    process.start()\n",
    "    processes.append(process)"
   ]
  },
  {
   "cell_type": "code",
   "execution_count": null,
   "id": "037169f1",
   "metadata": {},
   "outputs": [],
   "source": [
    "# Wait for all processes to complete\n",
    "for process in processes:\n",
    "    process.join()"
   ]
  },
  {
   "cell_type": "markdown",
   "id": "86ea9c76",
   "metadata": {},
   "source": [
    "## with joblib"
   ]
  },
  {
   "cell_type": "code",
   "execution_count": 1,
   "id": "f8571d51",
   "metadata": {},
   "outputs": [],
   "source": [
    "import pandas as pd\n",
    "from joblib import Parallel, delayed\n",
    "#import initialize_and_call_aggregation\n",
    "from mcda.utility_functions.aggregation import Aggregation"
   ]
  },
  {
   "cell_type": "code",
   "execution_count": 10,
   "id": "d2404dd3",
   "metadata": {},
   "outputs": [],
   "source": [
    "def initialize_and_call_aggregation(args):\n",
    "    weights,data = args\n",
    "    agg = Aggregation(weights)\n",
    "    res = agg.weighted_sum(data)\n",
    "    print(res)"
   ]
  },
  {
   "cell_type": "code",
   "execution_count": 11,
   "id": "0eb87edf",
   "metadata": {},
   "outputs": [
    {
     "data": {
      "text/html": [
       "<div>\n",
       "<style scoped>\n",
       "    .dataframe tbody tr th:only-of-type {\n",
       "        vertical-align: middle;\n",
       "    }\n",
       "\n",
       "    .dataframe tbody tr th {\n",
       "        vertical-align: top;\n",
       "    }\n",
       "\n",
       "    .dataframe thead th {\n",
       "        text-align: right;\n",
       "    }\n",
       "</style>\n",
       "<table border=\"1\" class=\"dataframe\">\n",
       "  <thead>\n",
       "    <tr style=\"text-align: right;\">\n",
       "      <th></th>\n",
       "      <th>col1</th>\n",
       "      <th>col3</th>\n",
       "    </tr>\n",
       "  </thead>\n",
       "  <tbody>\n",
       "    <tr>\n",
       "      <th>0</th>\n",
       "      <td>1</td>\n",
       "      <td>100</td>\n",
       "    </tr>\n",
       "    <tr>\n",
       "      <th>1</th>\n",
       "      <td>2</td>\n",
       "      <td>200</td>\n",
       "    </tr>\n",
       "    <tr>\n",
       "      <th>2</th>\n",
       "      <td>3</td>\n",
       "      <td>300</td>\n",
       "    </tr>\n",
       "  </tbody>\n",
       "</table>\n",
       "</div>"
      ],
      "text/plain": [
       "   col1  col3\n",
       "0     1   100\n",
       "1     2   200\n",
       "2     3   300"
      ]
     },
     "execution_count": 11,
     "metadata": {},
     "output_type": "execute_result"
    }
   ],
   "source": [
    "d = {'col1': [1, 2, 3], 'col3': [100, 200, 300]}\n",
    "data = pd.DataFrame(data=d)\n",
    "data"
   ]
  },
  {
   "cell_type": "code",
   "execution_count": 12,
   "id": "8444e48d",
   "metadata": {},
   "outputs": [],
   "source": [
    "args = [([1,1],data),([2,2],data),([3,3],data)]"
   ]
  },
  {
   "cell_type": "code",
   "execution_count": 13,
   "id": "e7ecc9d7",
   "metadata": {},
   "outputs": [
    {
     "data": {
      "text/plain": [
       "[None, None, None]"
      ]
     },
     "execution_count": 13,
     "metadata": {},
     "output_type": "execute_result"
    }
   ],
   "source": [
    "Parallel(n_jobs=-1)(delayed(initialize_and_call_aggregation)(arg) for arg in args)"
   ]
  },
  {
   "cell_type": "code",
   "execution_count": 20,
   "id": "84fa59a8",
   "metadata": {},
   "outputs": [],
   "source": [
    "agg = Aggregation(weights=[3,3])"
   ]
  },
  {
   "cell_type": "code",
   "execution_count": 21,
   "id": "cf766ba7",
   "metadata": {},
   "outputs": [
    {
     "data": {
      "text/plain": [
       "0    303\n",
       "1    606\n",
       "2    909\n",
       "dtype: int64"
      ]
     },
     "execution_count": 21,
     "metadata": {},
     "output_type": "execute_result"
    },
    {
     "name": "stdout",
     "output_type": "stream",
     "text": [
      "0    101\n",
      "1    202\n",
      "2    303\n",
      "dtype: int64\n",
      "0    303\n",
      "1    606\n",
      "2    909\n",
      "dtype: int64\n",
      "0    202\n",
      "1    404\n",
      "2    606\n",
      "dtype: int64\n"
     ]
    }
   ],
   "source": [
    "agg.weighted_sum(data)"
   ]
  },
  {
   "cell_type": "code",
   "execution_count": 22,
   "id": "4a941751",
   "metadata": {},
   "outputs": [
    {
     "data": {
      "text/plain": [
       "10.0"
      ]
     },
     "execution_count": 22,
     "metadata": {},
     "output_type": "execute_result"
    }
   ],
   "source": [
    "1/0.1"
   ]
  },
  {
   "cell_type": "code",
   "execution_count": 23,
   "id": "88f73ece",
   "metadata": {},
   "outputs": [
    {
     "name": "stdout",
     "output_type": "stream",
     "text": [
      "[0.8664353380059346, 0.8885952970628875, 0.16110189250386908]\n",
      "[0.817867752043302, 0.03755831894555339, 0.5651176996425261]\n",
      "[0.9355917434714581, 0.07236601321133973, 0.8126406911295598]\n",
      "[0.43356387369326843, 0.6126392040864822, 0.40074607134050944]\n",
      "[0.4949286450750924, 0.7901006750909714, 0.07910261826416232]\n"
     ]
    }
   ],
   "source": [
    "import random\n",
    "\n",
    "N = 5  # Number of lists\n",
    "\n",
    "# Generate N lists\n",
    "lists = []\n",
    "for _ in range(N):\n",
    "    # Randomly sample 3 elements from a uniform distribution\n",
    "    lst = [random.uniform(0, 1) for _ in range(3)]\n",
    "    lists.append(lst)\n",
    "\n",
    "# Print the generated lists\n",
    "for lst in lists:\n",
    "    print(lst)"
   ]
  },
  {
   "cell_type": "code",
   "execution_count": 25,
   "id": "f188801d",
   "metadata": {},
   "outputs": [
    {
     "name": "stdout",
     "output_type": "stream",
     "text": [
      "[0.8664353380059346, 0.8885952970628875, 0.16110189250386908]\n",
      "[0.817867752043302, 0.03755831894555339, 0.5651176996425261]\n",
      "[0.9355917434714581, 0.07236601321133973, 0.8126406911295598]\n",
      "[0.43356387369326843, 0.6126392040864822, 0.40074607134050944]\n",
      "[0.4949286450750924, 0.7901006750909714, 0.07910261826416232]\n"
     ]
    }
   ],
   "source": [
    "for w in lists:\n",
    "    print(w)"
   ]
  },
  {
   "cell_type": "code",
   "execution_count": 26,
   "id": "66a86025",
   "metadata": {},
   "outputs": [
    {
     "data": {
      "text/plain": [
       "1.0000000000000002"
      ]
     },
     "execution_count": 26,
     "metadata": {},
     "output_type": "execute_result"
    }
   ],
   "source": [
    "0.05798507045273814+0.24361581472567181+0.073686399882017+0.26290890714486176+0.12280964453060948+0.20186305922826037+0.003201135320640069+0.033929968715201445\n",
    "\n",
    "\n"
   ]
  },
  {
   "cell_type": "code",
   "execution_count": 27,
   "id": "869212cb",
   "metadata": {},
   "outputs": [],
   "source": [
    "###"
   ]
  },
  {
   "cell_type": "code",
   "execution_count": 29,
   "id": "c341b9e7",
   "metadata": {},
   "outputs": [],
   "source": [
    "d1 = {'col1': [1, 2, 3], 'col2': [100, 200, 300]}\n",
    "data1 = pd.DataFrame(data=d1)\n",
    "data1\n",
    "\n",
    "d2 = {'col1': [11, 22, 33], 'col2': [110, 220, 330]}\n",
    "data2 = pd.DataFrame(data=d2)\n",
    "data2\n",
    "\n",
    "d3 = {'col1': [111, 222, 333], 'col2': [111, 222, 333]}\n",
    "data3 = pd.DataFrame(data=d3)\n",
    "data3\n",
    "\n",
    "list = [data1, data2, data3]"
   ]
  },
  {
   "cell_type": "code",
   "execution_count": 32,
   "id": "e9765589",
   "metadata": {},
   "outputs": [],
   "source": [
    "all_runs = pd.concat(list, axis=0)"
   ]
  },
  {
   "cell_type": "code",
   "execution_count": 33,
   "id": "9c3a516b",
   "metadata": {},
   "outputs": [
    {
     "data": {
      "text/html": [
       "<div>\n",
       "<style scoped>\n",
       "    .dataframe tbody tr th:only-of-type {\n",
       "        vertical-align: middle;\n",
       "    }\n",
       "\n",
       "    .dataframe tbody tr th {\n",
       "        vertical-align: top;\n",
       "    }\n",
       "\n",
       "    .dataframe thead th {\n",
       "        text-align: right;\n",
       "    }\n",
       "</style>\n",
       "<table border=\"1\" class=\"dataframe\">\n",
       "  <thead>\n",
       "    <tr style=\"text-align: right;\">\n",
       "      <th></th>\n",
       "      <th>col1</th>\n",
       "      <th>col2</th>\n",
       "    </tr>\n",
       "  </thead>\n",
       "  <tbody>\n",
       "    <tr>\n",
       "      <th>0</th>\n",
       "      <td>1</td>\n",
       "      <td>100</td>\n",
       "    </tr>\n",
       "    <tr>\n",
       "      <th>1</th>\n",
       "      <td>2</td>\n",
       "      <td>200</td>\n",
       "    </tr>\n",
       "    <tr>\n",
       "      <th>2</th>\n",
       "      <td>3</td>\n",
       "      <td>300</td>\n",
       "    </tr>\n",
       "    <tr>\n",
       "      <th>0</th>\n",
       "      <td>11</td>\n",
       "      <td>110</td>\n",
       "    </tr>\n",
       "    <tr>\n",
       "      <th>1</th>\n",
       "      <td>22</td>\n",
       "      <td>220</td>\n",
       "    </tr>\n",
       "    <tr>\n",
       "      <th>2</th>\n",
       "      <td>33</td>\n",
       "      <td>330</td>\n",
       "    </tr>\n",
       "    <tr>\n",
       "      <th>0</th>\n",
       "      <td>111</td>\n",
       "      <td>111</td>\n",
       "    </tr>\n",
       "    <tr>\n",
       "      <th>1</th>\n",
       "      <td>222</td>\n",
       "      <td>222</td>\n",
       "    </tr>\n",
       "    <tr>\n",
       "      <th>2</th>\n",
       "      <td>333</td>\n",
       "      <td>333</td>\n",
       "    </tr>\n",
       "  </tbody>\n",
       "</table>\n",
       "</div>"
      ],
      "text/plain": [
       "   col1  col2\n",
       "0     1   100\n",
       "1     2   200\n",
       "2     3   300\n",
       "0    11   110\n",
       "1    22   220\n",
       "2    33   330\n",
       "0   111   111\n",
       "1   222   222\n",
       "2   333   333"
      ]
     },
     "execution_count": 33,
     "metadata": {},
     "output_type": "execute_result"
    }
   ],
   "source": [
    "all_runs"
   ]
  },
  {
   "cell_type": "code",
   "execution_count": 39,
   "id": "2fbba68f",
   "metadata": {},
   "outputs": [],
   "source": [
    "by_row_index = all_runs.groupby(all_runs.index)\n",
    "df_means = by_row_index.mean()\n",
    "df_stds = by_row_index.std()"
   ]
  },
  {
   "cell_type": "code",
   "execution_count": 38,
   "id": "08076629",
   "metadata": {},
   "outputs": [
    {
     "data": {
      "text/html": [
       "<div>\n",
       "<style scoped>\n",
       "    .dataframe tbody tr th:only-of-type {\n",
       "        vertical-align: middle;\n",
       "    }\n",
       "\n",
       "    .dataframe tbody tr th {\n",
       "        vertical-align: top;\n",
       "    }\n",
       "\n",
       "    .dataframe thead th {\n",
       "        text-align: right;\n",
       "    }\n",
       "</style>\n",
       "<table border=\"1\" class=\"dataframe\">\n",
       "  <thead>\n",
       "    <tr style=\"text-align: right;\">\n",
       "      <th></th>\n",
       "      <th>col1</th>\n",
       "      <th>col2</th>\n",
       "    </tr>\n",
       "  </thead>\n",
       "  <tbody>\n",
       "    <tr>\n",
       "      <th>0</th>\n",
       "      <td>41.0</td>\n",
       "      <td>107.0</td>\n",
       "    </tr>\n",
       "    <tr>\n",
       "      <th>1</th>\n",
       "      <td>82.0</td>\n",
       "      <td>214.0</td>\n",
       "    </tr>\n",
       "    <tr>\n",
       "      <th>2</th>\n",
       "      <td>123.0</td>\n",
       "      <td>321.0</td>\n",
       "    </tr>\n",
       "  </tbody>\n",
       "</table>\n",
       "</div>"
      ],
      "text/plain": [
       "    col1   col2\n",
       "0   41.0  107.0\n",
       "1   82.0  214.0\n",
       "2  123.0  321.0"
      ]
     },
     "execution_count": 38,
     "metadata": {},
     "output_type": "execute_result"
    }
   ],
   "source": [
    "df_means"
   ]
  },
  {
   "cell_type": "code",
   "execution_count": 40,
   "id": "b44dec6f",
   "metadata": {},
   "outputs": [
    {
     "data": {
      "text/html": [
       "<div>\n",
       "<style scoped>\n",
       "    .dataframe tbody tr th:only-of-type {\n",
       "        vertical-align: middle;\n",
       "    }\n",
       "\n",
       "    .dataframe tbody tr th {\n",
       "        vertical-align: top;\n",
       "    }\n",
       "\n",
       "    .dataframe thead th {\n",
       "        text-align: right;\n",
       "    }\n",
       "</style>\n",
       "<table border=\"1\" class=\"dataframe\">\n",
       "  <thead>\n",
       "    <tr style=\"text-align: right;\">\n",
       "      <th></th>\n",
       "      <th>col1</th>\n",
       "      <th>col2</th>\n",
       "    </tr>\n",
       "  </thead>\n",
       "  <tbody>\n",
       "    <tr>\n",
       "      <th>0</th>\n",
       "      <td>60.827625</td>\n",
       "      <td>6.082763</td>\n",
       "    </tr>\n",
       "    <tr>\n",
       "      <th>1</th>\n",
       "      <td>121.655251</td>\n",
       "      <td>12.165525</td>\n",
       "    </tr>\n",
       "    <tr>\n",
       "      <th>2</th>\n",
       "      <td>182.482876</td>\n",
       "      <td>18.248288</td>\n",
       "    </tr>\n",
       "  </tbody>\n",
       "</table>\n",
       "</div>"
      ],
      "text/plain": [
       "         col1       col2\n",
       "0   60.827625   6.082763\n",
       "1  121.655251  12.165525\n",
       "2  182.482876  18.248288"
      ]
     },
     "execution_count": 40,
     "metadata": {},
     "output_type": "execute_result"
    }
   ],
   "source": [
    "df_stds"
   ]
  },
  {
   "cell_type": "code",
   "execution_count": 41,
   "id": "bc262ff8",
   "metadata": {},
   "outputs": [],
   "source": [
    "scores = pd.DataFrame()"
   ]
  },
  {
   "cell_type": "code",
   "execution_count": 42,
   "id": "f86d1b38",
   "metadata": {},
   "outputs": [
    {
     "data": {
      "text/html": [
       "<div>\n",
       "<style scoped>\n",
       "    .dataframe tbody tr th:only-of-type {\n",
       "        vertical-align: middle;\n",
       "    }\n",
       "\n",
       "    .dataframe tbody tr th {\n",
       "        vertical-align: top;\n",
       "    }\n",
       "\n",
       "    .dataframe thead th {\n",
       "        text-align: right;\n",
       "    }\n",
       "</style>\n",
       "<table border=\"1\" class=\"dataframe\">\n",
       "  <thead>\n",
       "    <tr style=\"text-align: right;\">\n",
       "      <th></th>\n",
       "    </tr>\n",
       "  </thead>\n",
       "  <tbody>\n",
       "  </tbody>\n",
       "</table>\n",
       "</div>"
      ],
      "text/plain": [
       "Empty DataFrame\n",
       "Columns: []\n",
       "Index: []"
      ]
     },
     "execution_count": 42,
     "metadata": {},
     "output_type": "execute_result"
    }
   ],
   "source": [
    "scores"
   ]
  },
  {
   "cell_type": "code",
   "execution_count": 43,
   "id": "89d1ff72",
   "metadata": {},
   "outputs": [],
   "source": [
    "scores_ehi = df_stds"
   ]
  },
  {
   "cell_type": "code",
   "execution_count": 47,
   "id": "f2a32655",
   "metadata": {},
   "outputs": [
    {
     "name": "stdout",
     "output_type": "stream",
     "text": [
      "ciao\n"
     ]
    }
   ],
   "source": [
    "if not scores.empty: \n",
    "    print('ehi')\n",
    "elif not scores_ehi.empty:\n",
    "    print('ciao')\n",
    "    "
   ]
  },
  {
   "cell_type": "code",
   "execution_count": 48,
   "id": "ab82c0ce",
   "metadata": {},
   "outputs": [
    {
     "ename": "NameError",
     "evalue": "name 'go' is not defined",
     "output_type": "error",
     "traceback": [
      "\u001b[0;31m---------------------------------------------------------------------------\u001b[0m",
      "\u001b[0;31mNameError\u001b[0m                                 Traceback (most recent call last)",
      "\u001b[0;32m/var/folders/mt/lx9bxf895gq_bfbn6l6_m3kr0000gn/T/ipykernel_14534/3122053700.py\u001b[0m in \u001b[0;36m<module>\u001b[0;34m\u001b[0m\n\u001b[1;32m      1\u001b[0m \u001b[0mno_of_combinations\u001b[0m \u001b[0;34m=\u001b[0m \u001b[0mscores\u001b[0m\u001b[0;34m.\u001b[0m\u001b[0mshape\u001b[0m\u001b[0;34m[\u001b[0m\u001b[0;36m1\u001b[0m\u001b[0;34m]\u001b[0m\u001b[0;34m-\u001b[0m\u001b[0;36m1\u001b[0m\u001b[0;34m\u001b[0m\u001b[0;34m\u001b[0m\u001b[0m\n\u001b[0;32m----> 2\u001b[0;31m \u001b[0mfig\u001b[0m \u001b[0;34m=\u001b[0m \u001b[0mgo\u001b[0m\u001b[0;34m.\u001b[0m\u001b[0mFigure\u001b[0m\u001b[0;34m(\u001b[0m\u001b[0mlayout_yaxis_title\u001b[0m\u001b[0;34m=\u001b[0m\u001b[0;34m\"MCDA rough score\"\u001b[0m\u001b[0;34m)\u001b[0m\u001b[0;34m\u001b[0m\u001b[0;34m\u001b[0m\u001b[0m\n\u001b[0m\u001b[1;32m      3\u001b[0m \u001b[0mi\u001b[0m \u001b[0;34m=\u001b[0m \u001b[0;36m0\u001b[0m\u001b[0;34m\u001b[0m\u001b[0;34m\u001b[0m\u001b[0m\n\u001b[1;32m      4\u001b[0m \u001b[0;32mwhile\u001b[0m \u001b[0mi\u001b[0m \u001b[0;34m<=\u001b[0m \u001b[0mno_of_combinations\u001b[0m \u001b[0;34m-\u001b[0m \u001b[0;36m1\u001b[0m\u001b[0;34m:\u001b[0m\u001b[0;34m\u001b[0m\u001b[0;34m\u001b[0m\u001b[0m\n\u001b[1;32m      5\u001b[0m     fig.add_trace(go.Bar(\n",
      "\u001b[0;31mNameError\u001b[0m: name 'go' is not defined"
     ]
    }
   ],
   "source": [
    "no_of_combinations = scores.shape[1]-1\n",
    "fig = go.Figure(layout_yaxis_title=\"MCDA rough score\")\n",
    "i = 0\n",
    "while i <= no_of_combinations - 1:\n",
    "    fig.add_trace(go.Bar(\n",
    "    name=scores.columns[i+1],\n",
    "    x=scores['Alternatives'][:].values.tolist(),\n",
    "    y=scores.iloc[:, i + 1],\n",
    "        ))\n",
    "    i = i + 1\n",
    "    fig.update_layout(barmode='group', height=600, width=1000,\n",
    "                      title='<b>MCDA analysis<b>',\n",
    "                      title_font_size=22,\n",
    "\n",
    "                      xaxis=dict(\n",
    "                          tickmode=\"array\",\n",
    "                          tickvals=np.arange(0, len(scores['Alternatives'][:])),\n",
    "                          ticktext=scores['Alternatives'][:],\n",
    "                          tickangle=45)\n",
    "                      )\n",
    "fig.show()"
   ]
  },
  {
   "cell_type": "code",
   "execution_count": null,
   "id": "ebd1ddf0",
   "metadata": {},
   "outputs": [],
   "source": []
  }
 ],
 "metadata": {
  "kernelspec": {
   "display_name": "Python 3 (ipykernel)",
   "language": "python",
   "name": "python3"
  },
  "language_info": {
   "codemirror_mode": {
    "name": "ipython",
    "version": 3
   },
   "file_extension": ".py",
   "mimetype": "text/x-python",
   "name": "python",
   "nbconvert_exporter": "python",
   "pygments_lexer": "ipython3",
   "version": "3.9.6"
  }
 },
 "nbformat": 4,
 "nbformat_minor": 5
}
