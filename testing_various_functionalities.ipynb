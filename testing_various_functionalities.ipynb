{
 "cells": [
  {
   "cell_type": "code",
   "execution_count": 1,
   "id": "a1095371",
   "metadata": {},
   "outputs": [
    {
     "name": "stderr",
     "output_type": "stream",
     "text": [
      "<frozen importlib._bootstrap>:228: RuntimeWarning: scipy._lib.messagestream.MessageStream size changed, may indicate binary incompatibility. Expected 56 from C header, got 64 from PyObject\n"
     ]
    }
   ],
   "source": [
    "import pandas as pd\n",
    "import numpy as np\n",
    "from sklearn import preprocessing\n",
    "import pytest\n",
    "import unittest\n",
    "from pandas.testing import assert_frame_equal\n",
    "\n",
    "from mcda.mcda_run import main\n",
    "from mcda.utils import *\n",
    "from mcda.configuration.config import Config\n",
    "from mcda.utility_functions.normalization import Normalization"
   ]
  },
  {
   "cell_type": "code",
   "execution_count": 2,
   "id": "0eb4d158",
   "metadata": {},
   "outputs": [],
   "source": [
    "input_matrix = read_matrix(\"tests/resources/input_matrix_without_uncert.csv\")"
   ]
  },
  {
   "cell_type": "code",
   "execution_count": 3,
   "id": "8dbad724",
   "metadata": {},
   "outputs": [
    {
     "data": {
      "text/html": [
       "<div>\n",
       "<style scoped>\n",
       "    .dataframe tbody tr th:only-of-type {\n",
       "        vertical-align: middle;\n",
       "    }\n",
       "\n",
       "    .dataframe tbody tr th {\n",
       "        vertical-align: top;\n",
       "    }\n",
       "\n",
       "    .dataframe thead th {\n",
       "        text-align: right;\n",
       "    }\n",
       "</style>\n",
       "<table border=\"1\" class=\"dataframe\">\n",
       "  <thead>\n",
       "    <tr style=\"text-align: right;\">\n",
       "      <th></th>\n",
       "      <th>alternatives</th>\n",
       "      <th>ind1</th>\n",
       "      <th>ind2</th>\n",
       "      <th>ind3</th>\n",
       "      <th>ind4</th>\n",
       "      <th>ind5</th>\n",
       "      <th>ind6</th>\n",
       "    </tr>\n",
       "  </thead>\n",
       "  <tbody>\n",
       "    <tr>\n",
       "      <th>0</th>\n",
       "      <td>alt1</td>\n",
       "      <td>15.2</td>\n",
       "      <td>8.2</td>\n",
       "      <td>0.04</td>\n",
       "      <td>0.02</td>\n",
       "      <td>24.5</td>\n",
       "      <td>6.20</td>\n",
       "    </tr>\n",
       "    <tr>\n",
       "      <th>1</th>\n",
       "      <td>alt2</td>\n",
       "      <td>12.4</td>\n",
       "      <td>8.7</td>\n",
       "      <td>0.05</td>\n",
       "      <td>0.02</td>\n",
       "      <td>24.5</td>\n",
       "      <td>4.80</td>\n",
       "    </tr>\n",
       "    <tr>\n",
       "      <th>2</th>\n",
       "      <td>alt3</td>\n",
       "      <td>1.6</td>\n",
       "      <td>2.0</td>\n",
       "      <td>0.11</td>\n",
       "      <td>0.14</td>\n",
       "      <td>14.0</td>\n",
       "      <td>0.60</td>\n",
       "    </tr>\n",
       "    <tr>\n",
       "      <th>3</th>\n",
       "      <td>alt4</td>\n",
       "      <td>39.7</td>\n",
       "      <td>14.0</td>\n",
       "      <td>0.01</td>\n",
       "      <td>0.02</td>\n",
       "      <td>26.5</td>\n",
       "      <td>4.41</td>\n",
       "    </tr>\n",
       "  </tbody>\n",
       "</table>\n",
       "</div>"
      ],
      "text/plain": [
       "  alternatives  ind1  ind2  ind3  ind4  ind5  ind6\n",
       "0         alt1  15.2   8.2  0.04  0.02  24.5  6.20\n",
       "1         alt2  12.4   8.7  0.05  0.02  24.5  4.80\n",
       "2         alt3   1.6   2.0  0.11  0.14  14.0  0.60\n",
       "3         alt4  39.7  14.0  0.01  0.02  26.5  4.41"
      ]
     },
     "execution_count": 3,
     "metadata": {},
     "output_type": "execute_result"
    }
   ],
   "source": [
    "input_matrix"
   ]
  },
  {
   "cell_type": "code",
   "execution_count": 4,
   "id": "2b954c13",
   "metadata": {},
   "outputs": [],
   "source": [
    "imd = input_matrix.drop(input_matrix.columns[0],axis=1)"
   ]
  },
  {
   "cell_type": "code",
   "execution_count": 5,
   "id": "7d9d011c",
   "metadata": {},
   "outputs": [
    {
     "data": {
      "text/html": [
       "<div>\n",
       "<style scoped>\n",
       "    .dataframe tbody tr th:only-of-type {\n",
       "        vertical-align: middle;\n",
       "    }\n",
       "\n",
       "    .dataframe tbody tr th {\n",
       "        vertical-align: top;\n",
       "    }\n",
       "\n",
       "    .dataframe thead th {\n",
       "        text-align: right;\n",
       "    }\n",
       "</style>\n",
       "<table border=\"1\" class=\"dataframe\">\n",
       "  <thead>\n",
       "    <tr style=\"text-align: right;\">\n",
       "      <th></th>\n",
       "      <th>ind1</th>\n",
       "      <th>ind2</th>\n",
       "      <th>ind3</th>\n",
       "      <th>ind4</th>\n",
       "      <th>ind5</th>\n",
       "      <th>ind6</th>\n",
       "    </tr>\n",
       "  </thead>\n",
       "  <tbody>\n",
       "    <tr>\n",
       "      <th>0</th>\n",
       "      <td>15.2</td>\n",
       "      <td>8.2</td>\n",
       "      <td>0.04</td>\n",
       "      <td>0.02</td>\n",
       "      <td>24.5</td>\n",
       "      <td>6.20</td>\n",
       "    </tr>\n",
       "    <tr>\n",
       "      <th>1</th>\n",
       "      <td>12.4</td>\n",
       "      <td>8.7</td>\n",
       "      <td>0.05</td>\n",
       "      <td>0.02</td>\n",
       "      <td>24.5</td>\n",
       "      <td>4.80</td>\n",
       "    </tr>\n",
       "    <tr>\n",
       "      <th>2</th>\n",
       "      <td>1.6</td>\n",
       "      <td>2.0</td>\n",
       "      <td>0.11</td>\n",
       "      <td>0.14</td>\n",
       "      <td>14.0</td>\n",
       "      <td>0.60</td>\n",
       "    </tr>\n",
       "    <tr>\n",
       "      <th>3</th>\n",
       "      <td>39.7</td>\n",
       "      <td>14.0</td>\n",
       "      <td>0.01</td>\n",
       "      <td>0.02</td>\n",
       "      <td>26.5</td>\n",
       "      <td>4.41</td>\n",
       "    </tr>\n",
       "  </tbody>\n",
       "</table>\n",
       "</div>"
      ],
      "text/plain": [
       "   ind1  ind2  ind3  ind4  ind5  ind6\n",
       "0  15.2   8.2  0.04  0.02  24.5  6.20\n",
       "1  12.4   8.7  0.05  0.02  24.5  4.80\n",
       "2   1.6   2.0  0.11  0.14  14.0  0.60\n",
       "3  39.7  14.0  0.01  0.02  26.5  4.41"
      ]
     },
     "execution_count": 5,
     "metadata": {},
     "output_type": "execute_result"
    }
   ],
   "source": [
    "imd"
   ]
  },
  {
   "cell_type": "code",
   "execution_count": 6,
   "id": "0ead3b5f",
   "metadata": {},
   "outputs": [],
   "source": [
    "polarities = (\"-\",\"-\",\"+\",\"+\",\"+\",\"+\")"
   ]
  },
  {
   "cell_type": "code",
   "execution_count": 7,
   "id": "1c501140",
   "metadata": {},
   "outputs": [],
   "source": [
    "indeces_plus = [i for i, e in enumerate(polarities) if e == \"+\"]\n",
    "indeces_minus = [i for i, e in enumerate(polarities) if e == \"-\"]"
   ]
  },
  {
   "cell_type": "code",
   "execution_count": 8,
   "id": "12fc6a18",
   "metadata": {},
   "outputs": [
    {
     "name": "stdout",
     "output_type": "stream",
     "text": [
      "<class 'list'>\n",
      "[0, 1]\n"
     ]
    }
   ],
   "source": [
    "print(type(indeces_plus))\n",
    "print(indeces_minus)"
   ]
  },
  {
   "cell_type": "code",
   "execution_count": 9,
   "id": "43d71f73",
   "metadata": {},
   "outputs": [],
   "source": [
    "# from input matrix select columns that go into minmax and the ones that go into reversed minmax\n",
    "plus_pol = imd.iloc[:, indeces_plus]\n",
    "minus_pol = imd.iloc[:, indeces_minus]"
   ]
  },
  {
   "cell_type": "code",
   "execution_count": 10,
   "id": "4ec5ebeb",
   "metadata": {},
   "outputs": [
    {
     "data": {
      "text/html": [
       "<div>\n",
       "<style scoped>\n",
       "    .dataframe tbody tr th:only-of-type {\n",
       "        vertical-align: middle;\n",
       "    }\n",
       "\n",
       "    .dataframe tbody tr th {\n",
       "        vertical-align: top;\n",
       "    }\n",
       "\n",
       "    .dataframe thead th {\n",
       "        text-align: right;\n",
       "    }\n",
       "</style>\n",
       "<table border=\"1\" class=\"dataframe\">\n",
       "  <thead>\n",
       "    <tr style=\"text-align: right;\">\n",
       "      <th></th>\n",
       "      <th>ind3</th>\n",
       "      <th>ind4</th>\n",
       "      <th>ind5</th>\n",
       "      <th>ind6</th>\n",
       "    </tr>\n",
       "  </thead>\n",
       "  <tbody>\n",
       "    <tr>\n",
       "      <th>0</th>\n",
       "      <td>0.04</td>\n",
       "      <td>0.02</td>\n",
       "      <td>24.5</td>\n",
       "      <td>6.20</td>\n",
       "    </tr>\n",
       "    <tr>\n",
       "      <th>1</th>\n",
       "      <td>0.05</td>\n",
       "      <td>0.02</td>\n",
       "      <td>24.5</td>\n",
       "      <td>4.80</td>\n",
       "    </tr>\n",
       "    <tr>\n",
       "      <th>2</th>\n",
       "      <td>0.11</td>\n",
       "      <td>0.14</td>\n",
       "      <td>14.0</td>\n",
       "      <td>0.60</td>\n",
       "    </tr>\n",
       "    <tr>\n",
       "      <th>3</th>\n",
       "      <td>0.01</td>\n",
       "      <td>0.02</td>\n",
       "      <td>26.5</td>\n",
       "      <td>4.41</td>\n",
       "    </tr>\n",
       "  </tbody>\n",
       "</table>\n",
       "</div>"
      ],
      "text/plain": [
       "   ind3  ind4  ind5  ind6\n",
       "0  0.04  0.02  24.5  6.20\n",
       "1  0.05  0.02  24.5  4.80\n",
       "2  0.11  0.14  14.0  0.60\n",
       "3  0.01  0.02  26.5  4.41"
      ]
     },
     "execution_count": 10,
     "metadata": {},
     "output_type": "execute_result"
    }
   ],
   "source": [
    "plus_pol"
   ]
  },
  {
   "cell_type": "code",
   "execution_count": 11,
   "id": "76b10133",
   "metadata": {},
   "outputs": [
    {
     "data": {
      "text/plain": [
       "ind3     0.0525\n",
       "ind4     0.0500\n",
       "ind5    22.3750\n",
       "ind6     4.0025\n",
       "dtype: float64"
      ]
     },
     "execution_count": 11,
     "metadata": {},
     "output_type": "execute_result"
    }
   ],
   "source": [
    "plus_pol.mean(axis=0)"
   ]
  },
  {
   "cell_type": "code",
   "execution_count": 12,
   "id": "f1ed4efa",
   "metadata": {},
   "outputs": [
    {
     "data": {
      "text/html": [
       "<div>\n",
       "<style scoped>\n",
       "    .dataframe tbody tr th:only-of-type {\n",
       "        vertical-align: middle;\n",
       "    }\n",
       "\n",
       "    .dataframe tbody tr th {\n",
       "        vertical-align: top;\n",
       "    }\n",
       "\n",
       "    .dataframe thead th {\n",
       "        text-align: right;\n",
       "    }\n",
       "</style>\n",
       "<table border=\"1\" class=\"dataframe\">\n",
       "  <thead>\n",
       "    <tr style=\"text-align: right;\">\n",
       "      <th></th>\n",
       "      <th>ind3</th>\n",
       "      <th>ind4</th>\n",
       "      <th>ind5</th>\n",
       "      <th>ind6</th>\n",
       "    </tr>\n",
       "  </thead>\n",
       "  <tbody>\n",
       "    <tr>\n",
       "      <th>0</th>\n",
       "      <td>-0.0125</td>\n",
       "      <td>-0.03</td>\n",
       "      <td>2.125</td>\n",
       "      <td>2.1975</td>\n",
       "    </tr>\n",
       "    <tr>\n",
       "      <th>1</th>\n",
       "      <td>-0.0025</td>\n",
       "      <td>-0.03</td>\n",
       "      <td>2.125</td>\n",
       "      <td>0.7975</td>\n",
       "    </tr>\n",
       "    <tr>\n",
       "      <th>2</th>\n",
       "      <td>0.0575</td>\n",
       "      <td>0.09</td>\n",
       "      <td>-8.375</td>\n",
       "      <td>-3.4025</td>\n",
       "    </tr>\n",
       "    <tr>\n",
       "      <th>3</th>\n",
       "      <td>-0.0425</td>\n",
       "      <td>-0.03</td>\n",
       "      <td>4.125</td>\n",
       "      <td>0.4075</td>\n",
       "    </tr>\n",
       "  </tbody>\n",
       "</table>\n",
       "</div>"
      ],
      "text/plain": [
       "     ind3  ind4   ind5    ind6\n",
       "0 -0.0125 -0.03  2.125  2.1975\n",
       "1 -0.0025 -0.03  2.125  0.7975\n",
       "2  0.0575  0.09 -8.375 -3.4025\n",
       "3 -0.0425 -0.03  4.125  0.4075"
      ]
     },
     "execution_count": 12,
     "metadata": {},
     "output_type": "execute_result"
    }
   ],
   "source": [
    "plus_pol-plus_pol.mean(axis=0)"
   ]
  },
  {
   "cell_type": "markdown",
   "id": "52ec5ab5",
   "metadata": {},
   "source": [
    "## rank"
   ]
  },
  {
   "cell_type": "code",
   "execution_count": 13,
   "id": "36879a3c",
   "metadata": {},
   "outputs": [
    {
     "data": {
      "text/html": [
       "<div>\n",
       "<style scoped>\n",
       "    .dataframe tbody tr th:only-of-type {\n",
       "        vertical-align: middle;\n",
       "    }\n",
       "\n",
       "    .dataframe tbody tr th {\n",
       "        vertical-align: top;\n",
       "    }\n",
       "\n",
       "    .dataframe thead th {\n",
       "        text-align: right;\n",
       "    }\n",
       "</style>\n",
       "<table border=\"1\" class=\"dataframe\">\n",
       "  <thead>\n",
       "    <tr style=\"text-align: right;\">\n",
       "      <th></th>\n",
       "      <th>ind1</th>\n",
       "      <th>ind2</th>\n",
       "      <th>ind3</th>\n",
       "      <th>ind4</th>\n",
       "      <th>ind5</th>\n",
       "      <th>ind6</th>\n",
       "    </tr>\n",
       "  </thead>\n",
       "  <tbody>\n",
       "    <tr>\n",
       "      <th>0</th>\n",
       "      <td>15.2</td>\n",
       "      <td>8.2</td>\n",
       "      <td>0.04</td>\n",
       "      <td>0.02</td>\n",
       "      <td>24.5</td>\n",
       "      <td>6.20</td>\n",
       "    </tr>\n",
       "    <tr>\n",
       "      <th>1</th>\n",
       "      <td>12.4</td>\n",
       "      <td>8.7</td>\n",
       "      <td>0.05</td>\n",
       "      <td>0.02</td>\n",
       "      <td>24.5</td>\n",
       "      <td>4.80</td>\n",
       "    </tr>\n",
       "    <tr>\n",
       "      <th>2</th>\n",
       "      <td>1.6</td>\n",
       "      <td>2.0</td>\n",
       "      <td>0.11</td>\n",
       "      <td>0.14</td>\n",
       "      <td>14.0</td>\n",
       "      <td>0.60</td>\n",
       "    </tr>\n",
       "    <tr>\n",
       "      <th>3</th>\n",
       "      <td>39.7</td>\n",
       "      <td>14.0</td>\n",
       "      <td>0.01</td>\n",
       "      <td>0.02</td>\n",
       "      <td>26.5</td>\n",
       "      <td>4.41</td>\n",
       "    </tr>\n",
       "  </tbody>\n",
       "</table>\n",
       "</div>"
      ],
      "text/plain": [
       "   ind1  ind2  ind3  ind4  ind5  ind6\n",
       "0  15.2   8.2  0.04  0.02  24.5  6.20\n",
       "1  12.4   8.7  0.05  0.02  24.5  4.80\n",
       "2   1.6   2.0  0.11  0.14  14.0  0.60\n",
       "3  39.7  14.0  0.01  0.02  26.5  4.41"
      ]
     },
     "execution_count": 13,
     "metadata": {},
     "output_type": "execute_result"
    }
   ],
   "source": [
    "imd"
   ]
  },
  {
   "cell_type": "code",
   "execution_count": 14,
   "id": "7dcaa664",
   "metadata": {},
   "outputs": [
    {
     "data": {
      "text/html": [
       "<div>\n",
       "<style scoped>\n",
       "    .dataframe tbody tr th:only-of-type {\n",
       "        vertical-align: middle;\n",
       "    }\n",
       "\n",
       "    .dataframe tbody tr th {\n",
       "        vertical-align: top;\n",
       "    }\n",
       "\n",
       "    .dataframe thead th {\n",
       "        text-align: right;\n",
       "    }\n",
       "</style>\n",
       "<table border=\"1\" class=\"dataframe\">\n",
       "  <thead>\n",
       "    <tr style=\"text-align: right;\">\n",
       "      <th></th>\n",
       "      <th>ind1</th>\n",
       "      <th>ind2</th>\n",
       "      <th>ind3</th>\n",
       "      <th>ind4</th>\n",
       "      <th>ind5</th>\n",
       "      <th>ind6</th>\n",
       "    </tr>\n",
       "  </thead>\n",
       "  <tbody>\n",
       "    <tr>\n",
       "      <th>0</th>\n",
       "      <td>-15.2</td>\n",
       "      <td>-8.2</td>\n",
       "      <td>-0.04</td>\n",
       "      <td>-0.02</td>\n",
       "      <td>-24.5</td>\n",
       "      <td>-6.20</td>\n",
       "    </tr>\n",
       "    <tr>\n",
       "      <th>1</th>\n",
       "      <td>-12.4</td>\n",
       "      <td>-8.7</td>\n",
       "      <td>-0.05</td>\n",
       "      <td>-0.02</td>\n",
       "      <td>-24.5</td>\n",
       "      <td>-4.80</td>\n",
       "    </tr>\n",
       "    <tr>\n",
       "      <th>2</th>\n",
       "      <td>-1.6</td>\n",
       "      <td>-2.0</td>\n",
       "      <td>-0.11</td>\n",
       "      <td>-0.14</td>\n",
       "      <td>-14.0</td>\n",
       "      <td>-0.60</td>\n",
       "    </tr>\n",
       "    <tr>\n",
       "      <th>3</th>\n",
       "      <td>-39.7</td>\n",
       "      <td>-14.0</td>\n",
       "      <td>-0.01</td>\n",
       "      <td>-0.02</td>\n",
       "      <td>-26.5</td>\n",
       "      <td>-4.41</td>\n",
       "    </tr>\n",
       "  </tbody>\n",
       "</table>\n",
       "</div>"
      ],
      "text/plain": [
       "   ind1  ind2  ind3  ind4  ind5  ind6\n",
       "0 -15.2  -8.2 -0.04 -0.02 -24.5 -6.20\n",
       "1 -12.4  -8.7 -0.05 -0.02 -24.5 -4.80\n",
       "2  -1.6  -2.0 -0.11 -0.14 -14.0 -0.60\n",
       "3 -39.7 -14.0 -0.01 -0.02 -26.5 -4.41"
      ]
     },
     "execution_count": 14,
     "metadata": {},
     "output_type": "execute_result"
    }
   ],
   "source": [
    "-1*imd"
   ]
  },
  {
   "cell_type": "code",
   "execution_count": 15,
   "id": "fbc4e3d4",
   "metadata": {},
   "outputs": [],
   "source": [
    "norm = Normalization(imd)\n",
    "indicators_scaled_rank = norm.rank(polarities)"
   ]
  },
  {
   "cell_type": "code",
   "execution_count": 16,
   "id": "aa5d2ac7",
   "metadata": {},
   "outputs": [
    {
     "data": {
      "text/html": [
       "<div>\n",
       "<style scoped>\n",
       "    .dataframe tbody tr th:only-of-type {\n",
       "        vertical-align: middle;\n",
       "    }\n",
       "\n",
       "    .dataframe tbody tr th {\n",
       "        vertical-align: top;\n",
       "    }\n",
       "\n",
       "    .dataframe thead th {\n",
       "        text-align: right;\n",
       "    }\n",
       "</style>\n",
       "<table border=\"1\" class=\"dataframe\">\n",
       "  <thead>\n",
       "    <tr style=\"text-align: right;\">\n",
       "      <th></th>\n",
       "      <th>0</th>\n",
       "      <th>1</th>\n",
       "      <th>2</th>\n",
       "      <th>3</th>\n",
       "      <th>4</th>\n",
       "      <th>5</th>\n",
       "    </tr>\n",
       "  </thead>\n",
       "  <tbody>\n",
       "    <tr>\n",
       "      <th>0</th>\n",
       "      <td>2.0</td>\n",
       "      <td>3.0</td>\n",
       "      <td>2.0</td>\n",
       "      <td>2.0</td>\n",
       "      <td>2.5</td>\n",
       "      <td>4.0</td>\n",
       "    </tr>\n",
       "    <tr>\n",
       "      <th>1</th>\n",
       "      <td>3.0</td>\n",
       "      <td>2.0</td>\n",
       "      <td>3.0</td>\n",
       "      <td>2.0</td>\n",
       "      <td>2.5</td>\n",
       "      <td>3.0</td>\n",
       "    </tr>\n",
       "    <tr>\n",
       "      <th>2</th>\n",
       "      <td>4.0</td>\n",
       "      <td>4.0</td>\n",
       "      <td>4.0</td>\n",
       "      <td>4.0</td>\n",
       "      <td>1.0</td>\n",
       "      <td>1.0</td>\n",
       "    </tr>\n",
       "    <tr>\n",
       "      <th>3</th>\n",
       "      <td>1.0</td>\n",
       "      <td>1.0</td>\n",
       "      <td>1.0</td>\n",
       "      <td>2.0</td>\n",
       "      <td>4.0</td>\n",
       "      <td>2.0</td>\n",
       "    </tr>\n",
       "  </tbody>\n",
       "</table>\n",
       "</div>"
      ],
      "text/plain": [
       "     0    1    2    3    4    5\n",
       "0  2.0  3.0  2.0  2.0  2.5  4.0\n",
       "1  3.0  2.0  3.0  2.0  2.5  3.0\n",
       "2  4.0  4.0  4.0  4.0  1.0  1.0\n",
       "3  1.0  1.0  1.0  2.0  4.0  2.0"
      ]
     },
     "execution_count": 16,
     "metadata": {},
     "output_type": "execute_result"
    }
   ],
   "source": [
    "indicators_scaled_rank"
   ]
  },
  {
   "cell_type": "code",
   "execution_count": 17,
   "id": "97679fb5",
   "metadata": {},
   "outputs": [],
   "source": [
    "# if you save the file it might compromise the unit tests!\n",
    "indicators_scaled_rank.to_csv('tests/resources/normalization/res_rank.csv',sep=';',decimal='.') "
   ]
  },
  {
   "cell_type": "markdown",
   "id": "92e9caf6",
   "metadata": {},
   "source": [
    "## standardized"
   ]
  },
  {
   "cell_type": "code",
   "execution_count": 18,
   "id": "592bb853",
   "metadata": {},
   "outputs": [],
   "source": [
    "indicators_scaled_standard_plus = (plus_pol - plus_pol.mean(axis=0))/plus_pol.std(axis=0)"
   ]
  },
  {
   "cell_type": "code",
   "execution_count": 19,
   "id": "187c466c",
   "metadata": {},
   "outputs": [
    {
     "data": {
      "text/html": [
       "<div>\n",
       "<style scoped>\n",
       "    .dataframe tbody tr th:only-of-type {\n",
       "        vertical-align: middle;\n",
       "    }\n",
       "\n",
       "    .dataframe tbody tr th {\n",
       "        vertical-align: top;\n",
       "    }\n",
       "\n",
       "    .dataframe thead th {\n",
       "        text-align: right;\n",
       "    }\n",
       "</style>\n",
       "<table border=\"1\" class=\"dataframe\">\n",
       "  <thead>\n",
       "    <tr style=\"text-align: right;\">\n",
       "      <th></th>\n",
       "      <th>ind3</th>\n",
       "      <th>ind4</th>\n",
       "      <th>ind5</th>\n",
       "      <th>ind6</th>\n",
       "    </tr>\n",
       "  </thead>\n",
       "  <tbody>\n",
       "    <tr>\n",
       "      <th>0</th>\n",
       "      <td>-0.298098</td>\n",
       "      <td>-0.5</td>\n",
       "      <td>0.375284</td>\n",
       "      <td>0.917537</td>\n",
       "    </tr>\n",
       "    <tr>\n",
       "      <th>1</th>\n",
       "      <td>-0.059620</td>\n",
       "      <td>-0.5</td>\n",
       "      <td>0.375284</td>\n",
       "      <td>0.332985</td>\n",
       "    </tr>\n",
       "    <tr>\n",
       "      <th>2</th>\n",
       "      <td>1.371252</td>\n",
       "      <td>1.5</td>\n",
       "      <td>-1.479061</td>\n",
       "      <td>-1.420668</td>\n",
       "    </tr>\n",
       "    <tr>\n",
       "      <th>3</th>\n",
       "      <td>-1.013534</td>\n",
       "      <td>-0.5</td>\n",
       "      <td>0.728493</td>\n",
       "      <td>0.170146</td>\n",
       "    </tr>\n",
       "  </tbody>\n",
       "</table>\n",
       "</div>"
      ],
      "text/plain": [
       "       ind3  ind4      ind5      ind6\n",
       "0 -0.298098  -0.5  0.375284  0.917537\n",
       "1 -0.059620  -0.5  0.375284  0.332985\n",
       "2  1.371252   1.5 -1.479061 -1.420668\n",
       "3 -1.013534  -0.5  0.728493  0.170146"
      ]
     },
     "execution_count": 19,
     "metadata": {},
     "output_type": "execute_result"
    }
   ],
   "source": [
    "indicators_scaled_standard_plus"
   ]
  },
  {
   "cell_type": "code",
   "execution_count": 20,
   "id": "0c88a964",
   "metadata": {},
   "outputs": [],
   "source": [
    "norm = Normalization(imd)\n",
    "indicators_scaled_stand = norm.standardized(polarities)"
   ]
  },
  {
   "cell_type": "code",
   "execution_count": 21,
   "id": "eb95b088",
   "metadata": {},
   "outputs": [
    {
     "data": {
      "text/html": [
       "<div>\n",
       "<style scoped>\n",
       "    .dataframe tbody tr th:only-of-type {\n",
       "        vertical-align: middle;\n",
       "    }\n",
       "\n",
       "    .dataframe tbody tr th {\n",
       "        vertical-align: top;\n",
       "    }\n",
       "\n",
       "    .dataframe thead th {\n",
       "        text-align: right;\n",
       "    }\n",
       "</style>\n",
       "<table border=\"1\" class=\"dataframe\">\n",
       "  <thead>\n",
       "    <tr style=\"text-align: right;\">\n",
       "      <th></th>\n",
       "      <th>0</th>\n",
       "      <th>1</th>\n",
       "      <th>2</th>\n",
       "      <th>3</th>\n",
       "      <th>4</th>\n",
       "      <th>5</th>\n",
       "    </tr>\n",
       "  </thead>\n",
       "  <tbody>\n",
       "    <tr>\n",
       "      <th>0</th>\n",
       "      <td>0.125856</td>\n",
       "      <td>0.005092</td>\n",
       "      <td>-0.298098</td>\n",
       "      <td>-0.5</td>\n",
       "      <td>0.375284</td>\n",
       "      <td>0.917537</td>\n",
       "    </tr>\n",
       "    <tr>\n",
       "      <th>1</th>\n",
       "      <td>0.299879</td>\n",
       "      <td>-0.096739</td>\n",
       "      <td>-0.059620</td>\n",
       "      <td>-0.5</td>\n",
       "      <td>0.375284</td>\n",
       "      <td>0.332985</td>\n",
       "    </tr>\n",
       "    <tr>\n",
       "      <th>2</th>\n",
       "      <td>0.971111</td>\n",
       "      <td>1.267793</td>\n",
       "      <td>1.371252</td>\n",
       "      <td>1.5</td>\n",
       "      <td>-1.479061</td>\n",
       "      <td>-1.420668</td>\n",
       "    </tr>\n",
       "    <tr>\n",
       "      <th>3</th>\n",
       "      <td>-1.396845</td>\n",
       "      <td>-1.176145</td>\n",
       "      <td>-1.013534</td>\n",
       "      <td>-0.5</td>\n",
       "      <td>0.728493</td>\n",
       "      <td>0.170146</td>\n",
       "    </tr>\n",
       "  </tbody>\n",
       "</table>\n",
       "</div>"
      ],
      "text/plain": [
       "          0         1         2    3         4         5\n",
       "0  0.125856  0.005092 -0.298098 -0.5  0.375284  0.917537\n",
       "1  0.299879 -0.096739 -0.059620 -0.5  0.375284  0.332985\n",
       "2  0.971111  1.267793  1.371252  1.5 -1.479061 -1.420668\n",
       "3 -1.396845 -1.176145 -1.013534 -0.5  0.728493  0.170146"
      ]
     },
     "execution_count": 21,
     "metadata": {},
     "output_type": "execute_result"
    }
   ],
   "source": [
    "indicators_scaled_stand"
   ]
  },
  {
   "cell_type": "code",
   "execution_count": 22,
   "id": "f95226a6",
   "metadata": {},
   "outputs": [],
   "source": [
    "# if you save the file it might compromise the unit tests!\n",
    "indicators_scaled_stand.to_csv('tests/resources/normalization/res_standardized.csv',sep=';',decimal='.') "
   ]
  },
  {
   "cell_type": "markdown",
   "id": "c64b1f4e",
   "metadata": {},
   "source": [
    "## minmax"
   ]
  },
  {
   "cell_type": "markdown",
   "id": "06a00279",
   "metadata": {},
   "source": [
    "#### identify positive and negative polarities"
   ]
  },
  {
   "cell_type": "code",
   "execution_count": null,
   "id": "7f5bf57c",
   "metadata": {},
   "outputs": [],
   "source": [
    "x_plus = plus_pol.values # returns a numpy array\n",
    "x_minus = minus_pol.values\n",
    "x_minus"
   ]
  },
  {
   "cell_type": "code",
   "execution_count": null,
   "id": "2af1a591",
   "metadata": {},
   "outputs": [],
   "source": [
    "x_minus_test = minus_pol.to_numpy()\n",
    "x_minus_test"
   ]
  },
  {
   "cell_type": "code",
   "execution_count": null,
   "id": "71a1f602",
   "metadata": {},
   "outputs": [],
   "source": [
    "min_max_scaler = preprocessing.MinMaxScaler(feature_range=(0, 1), copy=False)\n",
    "x_scaled = min_max_scaler.fit_transform(x_plus)"
   ]
  },
  {
   "cell_type": "code",
   "execution_count": null,
   "id": "36bb4301",
   "metadata": {},
   "outputs": [],
   "source": [
    "x_scaled"
   ]
  },
  {
   "cell_type": "code",
   "execution_count": null,
   "id": "4ed7959f",
   "metadata": {},
   "outputs": [],
   "source": [
    "indicators_scaled_minmax_plus = pd.DataFrame(x_scaled)"
   ]
  },
  {
   "cell_type": "code",
   "execution_count": null,
   "id": "32885611",
   "metadata": {},
   "outputs": [],
   "source": [
    "indicators_scaled_minmax_plus"
   ]
  },
  {
   "cell_type": "code",
   "execution_count": null,
   "id": "79feefc7",
   "metadata": {},
   "outputs": [],
   "source": [
    "def reversed_minmax_scaler(data):\n",
    "    \"\"\"\n",
    "    Rescales the given data to the range [0, 1] in a reversed scale\n",
    "    where the smallest the value the better, using MinMaxScaler.\n",
    "\n",
    "    Args:\n",
    "    - data: A list or numpy array of numeric data to be scaled.\n",
    "\n",
    "    Returns:\n",
    "    - scaled_data: The scaled data as a numpy array.\n",
    "    \"\"\"\n",
    "    import numpy as np\n",
    "    \n",
    "    # Convert data to numpy array\n",
    "    data = np.array(data)\n",
    "    print(data)\n",
    "    print('-----')\n",
    "    \n",
    "    # Calculate the maximum and minimum values\n",
    "    max_val = np.max(data)\n",
    "    max_val_test = np.max(data, axis=0)\n",
    "    \n",
    "    print(max_val)\n",
    "    print('-----')\n",
    "    print(max_val_test)\n",
    "    print('-----')\n",
    "    \n",
    "    min_val = np.min(data)\n",
    "    min_val_test = np.min(data, axis=0)\n",
    "    \n",
    "    # Rescale the data to the range [0, 1]\n",
    "    scaled_data = (data - min_val) / (max_val - min_val)\n",
    "    scaled_data_test = (data - min_val_test) / (max_val_test - min_val_test)#*(1-0.1) + 0.1\n",
    "    \n",
    "    print(scaled_data)\n",
    "    print('-----')\n",
    "    print(scaled_data_test)\n",
    "    \n",
    "    return scaled_data_test\n"
   ]
  },
  {
   "cell_type": "code",
   "execution_count": null,
   "id": "28ad7a2c",
   "metadata": {},
   "outputs": [],
   "source": [
    "indicators_scaled_minmax_minus = reversed_minmax_scaler(x_minus)"
   ]
  },
  {
   "cell_type": "code",
   "execution_count": null,
   "id": "30ec41f7",
   "metadata": {},
   "outputs": [],
   "source": [
    "indicators_scaled_minmax_minus = pd.DataFrame(indicators_scaled_minmax_minus)"
   ]
  },
  {
   "cell_type": "code",
   "execution_count": null,
   "id": "cdd09a3c",
   "metadata": {},
   "outputs": [],
   "source": [
    "indicators_scaled_minmax_minus"
   ]
  },
  {
   "cell_type": "code",
   "execution_count": null,
   "id": "6d4ad743",
   "metadata": {},
   "outputs": [],
   "source": [
    "indicators_scaled_minmax = pd.DataFrame(index=range(4),columns=range(6))\n",
    "indicators_scaled_minmax.shape"
   ]
  },
  {
   "cell_type": "code",
   "execution_count": null,
   "id": "624d6851",
   "metadata": {},
   "outputs": [],
   "source": [
    "indicators_scaled_minmax_plus.iloc[:, 1]"
   ]
  },
  {
   "cell_type": "code",
   "execution_count": null,
   "id": "52658fb3",
   "metadata": {},
   "outputs": [],
   "source": [
    "# merge back the plus and minus together\n",
    "indicators_scaled_minmax = pd.DataFrame(columns=range(6))\n",
    "for i,index_p in enumerate(indeces_plus): indicators_scaled_minmax.iloc[:, index_p] = indicators_scaled_minmax_plus.iloc[:, i]\n",
    "for j, index_n in enumerate(indeces_minus): indicators_scaled_minmax.iloc[:, index_n]=indicators_scaled_minmax_minus.loc[:,j]"
   ]
  },
  {
   "cell_type": "code",
   "execution_count": null,
   "id": "3441f401",
   "metadata": {},
   "outputs": [],
   "source": [
    "indicators_scaled_minmax"
   ]
  },
  {
   "cell_type": "code",
   "execution_count": null,
   "id": "7ddf2377",
   "metadata": {},
   "outputs": [],
   "source": [
    "# test class\n",
    "norm = Normalization(imd)\n",
    "test_res_01 = norm.minmax(polarities, feature_range=(0, 1))\n",
    "test_res_01"
   ]
  },
  {
   "cell_type": "code",
   "execution_count": null,
   "id": "9a3946dc",
   "metadata": {},
   "outputs": [],
   "source": [
    "# if you save the file it might compromise the unit tests!\n",
    "#indicators_scaled_minmax.to_csv('tests/resources/normalization/res_minmax_01.csv',sep=';',decimal='.') "
   ]
  },
  {
   "cell_type": "markdown",
   "id": "c0f8785d",
   "metadata": {},
   "source": [
    "## target"
   ]
  },
  {
   "cell_type": "code",
   "execution_count": null,
   "id": "b257206b",
   "metadata": {},
   "outputs": [],
   "source": [
    "imd"
   ]
  },
  {
   "cell_type": "code",
   "execution_count": null,
   "id": "0152085e",
   "metadata": {},
   "outputs": [],
   "source": [
    "norm=Normalization(imd)\n",
    "res_target_01 = norm.target(polarities, feature_range=(0, 1))\n",
    "res_target_no0 = norm.target(polarities, feature_range=(0.1, 1))"
   ]
  },
  {
   "cell_type": "code",
   "execution_count": null,
   "id": "67caf86a",
   "metadata": {},
   "outputs": [],
   "source": [
    "# if you save the file it might compromise the unit tests!\n",
    "res_target_01.to_csv('tests/resources/normalization/res_target_01.csv',sep=';',decimal='.') \n",
    "res_target_no0.to_csv('tests/resources/normalization/res_target_no0.csv',sep=';',decimal='.') "
   ]
  },
  {
   "cell_type": "code",
   "execution_count": null,
   "id": "661c5c2d",
   "metadata": {},
   "outputs": [],
   "source": [
    "res_target_01"
   ]
  },
  {
   "cell_type": "code",
   "execution_count": null,
   "id": "4ac3eff6",
   "metadata": {},
   "outputs": [],
   "source": [
    "res_target_no0"
   ]
  },
  {
   "cell_type": "code",
   "execution_count": null,
   "id": "7a0a95fe",
   "metadata": {},
   "outputs": [],
   "source": [
    "col = imd.iloc[:,2]\n",
    "col1 = (col/max(col))*(1-0.1) + 0.1"
   ]
  },
  {
   "cell_type": "code",
   "execution_count": null,
   "id": "675579d8",
   "metadata": {},
   "outputs": [],
   "source": [
    "col1"
   ]
  },
  {
   "cell_type": "markdown",
   "id": "f3944dd5",
   "metadata": {},
   "source": [
    "## assert two df are the same"
   ]
  },
  {
   "cell_type": "code",
   "execution_count": null,
   "id": "2b87d863",
   "metadata": {},
   "outputs": [],
   "source": [
    "input_matrix = read_matrix(\"tests/resources/input_matrix_without_uncert.csv\")\n",
    "input_matrix = input_matrix.drop(input_matrix.columns[0],axis=1) "
   ]
  },
  {
   "cell_type": "code",
   "execution_count": null,
   "id": "ff2a2e4b",
   "metadata": {},
   "outputs": [],
   "source": [
    "expected_res = read_matrix('tests/resources/normalization/res_minmax_no0.csv')"
   ]
  },
  {
   "cell_type": "code",
   "execution_count": null,
   "id": "3a98a4bf",
   "metadata": {},
   "outputs": [],
   "source": [
    "norm = Normalization(input_matrix)\n",
    "res = norm.minmax(feature_range=(0, 1))"
   ]
  },
  {
   "cell_type": "code",
   "execution_count": null,
   "id": "cc10fb2c",
   "metadata": {},
   "outputs": [],
   "source": [
    "print(type(input_matrix))\n",
    "print(type(expected_res))\n",
    "print(type(res))"
   ]
  },
  {
   "cell_type": "code",
   "execution_count": null,
   "id": "39c54c7b",
   "metadata": {},
   "outputs": [],
   "source": [
    "res"
   ]
  },
  {
   "cell_type": "code",
   "execution_count": null,
   "id": "a083ef97",
   "metadata": {},
   "outputs": [],
   "source": [
    "res.columns = res.columns.astype('str')"
   ]
  },
  {
   "cell_type": "code",
   "execution_count": null,
   "id": "6d43819a",
   "metadata": {},
   "outputs": [],
   "source": [
    "res"
   ]
  },
  {
   "cell_type": "code",
   "execution_count": null,
   "id": "468436f9",
   "metadata": {},
   "outputs": [],
   "source": [
    "expected_res"
   ]
  },
  {
   "cell_type": "code",
   "execution_count": null,
   "id": "6a82801b",
   "metadata": {},
   "outputs": [],
   "source": [
    "assert_frame_equal(res, expected_res, check_like=True)"
   ]
  },
  {
   "cell_type": "code",
   "execution_count": null,
   "id": "932a7c20",
   "metadata": {},
   "outputs": [],
   "source": [
    "isinstance(res, pd.DataFrame)"
   ]
  },
  {
   "cell_type": "code",
   "execution_count": null,
   "id": "06a26c11",
   "metadata": {},
   "outputs": [],
   "source": [
    "feature_range=(0, 1)"
   ]
  }
 ],
 "metadata": {
  "kernelspec": {
   "display_name": "Python 3 (ipykernel)",
   "language": "python",
   "name": "python3"
  },
  "language_info": {
   "codemirror_mode": {
    "name": "ipython",
    "version": 3
   },
   "file_extension": ".py",
   "mimetype": "text/x-python",
   "name": "python",
   "nbconvert_exporter": "python",
   "pygments_lexer": "ipython3",
   "version": "3.9.6"
  }
 },
 "nbformat": 4,
 "nbformat_minor": 5
}
