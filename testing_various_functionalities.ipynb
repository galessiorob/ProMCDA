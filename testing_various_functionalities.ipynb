{
 "cells": [
  {
   "cell_type": "code",
   "execution_count": 1,
   "id": "a1095371",
   "metadata": {},
   "outputs": [
    {
     "name": "stderr",
     "output_type": "stream",
     "text": [
      "<frozen importlib._bootstrap>:228: RuntimeWarning: scipy._lib.messagestream.MessageStream size changed, may indicate binary incompatibility. Expected 56 from C header, got 64 from PyObject\n"
     ]
    }
   ],
   "source": [
    "import pandas as pd\n",
    "import numpy as np\n",
    "from sklearn import preprocessing\n",
    "import pytest\n",
    "import unittest\n",
    "from pandas.testing import assert_frame_equal\n",
    "\n",
    "from mcda.mcda_run import main\n",
    "from mcda.utils import *\n",
    "from mcda.configuration.config import Config\n",
    "from mcda.utility_functions.normalization import Normalization"
   ]
  },
  {
   "cell_type": "markdown",
   "id": "c64b1f4e",
   "metadata": {},
   "source": [
    "## minmax"
   ]
  },
  {
   "cell_type": "code",
   "execution_count": 2,
   "id": "0eb4d158",
   "metadata": {},
   "outputs": [],
   "source": [
    "input_matrix = read_matrix(\"tests/resources/input_matrix_without_uncert.csv\")"
   ]
  },
  {
   "cell_type": "code",
   "execution_count": 3,
   "id": "3ad9b203",
   "metadata": {},
   "outputs": [],
   "source": [
    "#input_matrix['ind1'] = [3,3,3,3]"
   ]
  },
  {
   "cell_type": "code",
   "execution_count": 4,
   "id": "8dbad724",
   "metadata": {},
   "outputs": [
    {
     "data": {
      "text/html": [
       "<div>\n",
       "<style scoped>\n",
       "    .dataframe tbody tr th:only-of-type {\n",
       "        vertical-align: middle;\n",
       "    }\n",
       "\n",
       "    .dataframe tbody tr th {\n",
       "        vertical-align: top;\n",
       "    }\n",
       "\n",
       "    .dataframe thead th {\n",
       "        text-align: right;\n",
       "    }\n",
       "</style>\n",
       "<table border=\"1\" class=\"dataframe\">\n",
       "  <thead>\n",
       "    <tr style=\"text-align: right;\">\n",
       "      <th></th>\n",
       "      <th>alternatives</th>\n",
       "      <th>ind1</th>\n",
       "      <th>ind2</th>\n",
       "      <th>ind3</th>\n",
       "      <th>ind4</th>\n",
       "      <th>ind5</th>\n",
       "      <th>ind6</th>\n",
       "    </tr>\n",
       "  </thead>\n",
       "  <tbody>\n",
       "    <tr>\n",
       "      <th>0</th>\n",
       "      <td>alt1</td>\n",
       "      <td>-15.2</td>\n",
       "      <td>8.2</td>\n",
       "      <td>0.04</td>\n",
       "      <td>0.02</td>\n",
       "      <td>24.5</td>\n",
       "      <td>6.20</td>\n",
       "    </tr>\n",
       "    <tr>\n",
       "      <th>1</th>\n",
       "      <td>alt2</td>\n",
       "      <td>-12.4</td>\n",
       "      <td>8.7</td>\n",
       "      <td>0.05</td>\n",
       "      <td>0.02</td>\n",
       "      <td>24.5</td>\n",
       "      <td>4.80</td>\n",
       "    </tr>\n",
       "    <tr>\n",
       "      <th>2</th>\n",
       "      <td>alt3</td>\n",
       "      <td>1.6</td>\n",
       "      <td>2.0</td>\n",
       "      <td>0.11</td>\n",
       "      <td>0.14</td>\n",
       "      <td>14.0</td>\n",
       "      <td>0.60</td>\n",
       "    </tr>\n",
       "    <tr>\n",
       "      <th>3</th>\n",
       "      <td>alt4</td>\n",
       "      <td>-39.7</td>\n",
       "      <td>14.0</td>\n",
       "      <td>0.01</td>\n",
       "      <td>0.02</td>\n",
       "      <td>26.5</td>\n",
       "      <td>4.41</td>\n",
       "    </tr>\n",
       "  </tbody>\n",
       "</table>\n",
       "</div>"
      ],
      "text/plain": [
       "  alternatives  ind1  ind2  ind3  ind4  ind5  ind6\n",
       "0         alt1 -15.2   8.2  0.04  0.02  24.5  6.20\n",
       "1         alt2 -12.4   8.7  0.05  0.02  24.5  4.80\n",
       "2         alt3   1.6   2.0  0.11  0.14  14.0  0.60\n",
       "3         alt4 -39.7  14.0  0.01  0.02  26.5  4.41"
      ]
     },
     "execution_count": 4,
     "metadata": {},
     "output_type": "execute_result"
    }
   ],
   "source": [
    "input_matrix"
   ]
  },
  {
   "cell_type": "code",
   "execution_count": 5,
   "id": "2b954c13",
   "metadata": {},
   "outputs": [],
   "source": [
    "imd = input_matrix.drop(input_matrix.columns[0],axis=1)"
   ]
  },
  {
   "cell_type": "code",
   "execution_count": 6,
   "id": "7d9d011c",
   "metadata": {},
   "outputs": [
    {
     "data": {
      "text/html": [
       "<div>\n",
       "<style scoped>\n",
       "    .dataframe tbody tr th:only-of-type {\n",
       "        vertical-align: middle;\n",
       "    }\n",
       "\n",
       "    .dataframe tbody tr th {\n",
       "        vertical-align: top;\n",
       "    }\n",
       "\n",
       "    .dataframe thead th {\n",
       "        text-align: right;\n",
       "    }\n",
       "</style>\n",
       "<table border=\"1\" class=\"dataframe\">\n",
       "  <thead>\n",
       "    <tr style=\"text-align: right;\">\n",
       "      <th></th>\n",
       "      <th>ind1</th>\n",
       "      <th>ind2</th>\n",
       "      <th>ind3</th>\n",
       "      <th>ind4</th>\n",
       "      <th>ind5</th>\n",
       "      <th>ind6</th>\n",
       "    </tr>\n",
       "  </thead>\n",
       "  <tbody>\n",
       "    <tr>\n",
       "      <th>0</th>\n",
       "      <td>-15.2</td>\n",
       "      <td>8.2</td>\n",
       "      <td>0.04</td>\n",
       "      <td>0.02</td>\n",
       "      <td>24.5</td>\n",
       "      <td>6.20</td>\n",
       "    </tr>\n",
       "    <tr>\n",
       "      <th>1</th>\n",
       "      <td>-12.4</td>\n",
       "      <td>8.7</td>\n",
       "      <td>0.05</td>\n",
       "      <td>0.02</td>\n",
       "      <td>24.5</td>\n",
       "      <td>4.80</td>\n",
       "    </tr>\n",
       "    <tr>\n",
       "      <th>2</th>\n",
       "      <td>1.6</td>\n",
       "      <td>2.0</td>\n",
       "      <td>0.11</td>\n",
       "      <td>0.14</td>\n",
       "      <td>14.0</td>\n",
       "      <td>0.60</td>\n",
       "    </tr>\n",
       "    <tr>\n",
       "      <th>3</th>\n",
       "      <td>-39.7</td>\n",
       "      <td>14.0</td>\n",
       "      <td>0.01</td>\n",
       "      <td>0.02</td>\n",
       "      <td>26.5</td>\n",
       "      <td>4.41</td>\n",
       "    </tr>\n",
       "  </tbody>\n",
       "</table>\n",
       "</div>"
      ],
      "text/plain": [
       "   ind1  ind2  ind3  ind4  ind5  ind6\n",
       "0 -15.2   8.2  0.04  0.02  24.5  6.20\n",
       "1 -12.4   8.7  0.05  0.02  24.5  4.80\n",
       "2   1.6   2.0  0.11  0.14  14.0  0.60\n",
       "3 -39.7  14.0  0.01  0.02  26.5  4.41"
      ]
     },
     "execution_count": 6,
     "metadata": {},
     "output_type": "execute_result"
    }
   ],
   "source": [
    "imd"
   ]
  },
  {
   "cell_type": "markdown",
   "id": "06a00279",
   "metadata": {},
   "source": [
    "#### identify positive and negative polarities"
   ]
  },
  {
   "cell_type": "code",
   "execution_count": 7,
   "id": "0ead3b5f",
   "metadata": {},
   "outputs": [],
   "source": [
    "polarities = (\"-\",\"-\",\"+\",\"+\",\"+\",\"+\")"
   ]
  },
  {
   "cell_type": "code",
   "execution_count": 8,
   "id": "1c501140",
   "metadata": {},
   "outputs": [],
   "source": [
    "indeces_plus = [i for i, e in enumerate(polarities) if e == \"+\"]\n",
    "indeces_minus = [i for i, e in enumerate(polarities) if e == \"-\"]"
   ]
  },
  {
   "cell_type": "code",
   "execution_count": 9,
   "id": "12fc6a18",
   "metadata": {},
   "outputs": [
    {
     "name": "stdout",
     "output_type": "stream",
     "text": [
      "<class 'list'>\n",
      "[0, 1]\n"
     ]
    }
   ],
   "source": [
    "print(type(indeces_plus))\n",
    "print(indeces_minus)"
   ]
  },
  {
   "cell_type": "code",
   "execution_count": 10,
   "id": "43d71f73",
   "metadata": {},
   "outputs": [],
   "source": [
    "# from input matrix select columns that go into minmax and the ones that go into reversed minmax\n",
    "plus_pol = imd.iloc[:, indeces_plus]\n",
    "minus_pol = imd.iloc[:, indeces_minus]"
   ]
  },
  {
   "cell_type": "code",
   "execution_count": 11,
   "id": "97986cb2",
   "metadata": {},
   "outputs": [
    {
     "data": {
      "text/html": [
       "<div>\n",
       "<style scoped>\n",
       "    .dataframe tbody tr th:only-of-type {\n",
       "        vertical-align: middle;\n",
       "    }\n",
       "\n",
       "    .dataframe tbody tr th {\n",
       "        vertical-align: top;\n",
       "    }\n",
       "\n",
       "    .dataframe thead th {\n",
       "        text-align: right;\n",
       "    }\n",
       "</style>\n",
       "<table border=\"1\" class=\"dataframe\">\n",
       "  <thead>\n",
       "    <tr style=\"text-align: right;\">\n",
       "      <th></th>\n",
       "      <th>ind3</th>\n",
       "      <th>ind4</th>\n",
       "      <th>ind5</th>\n",
       "      <th>ind6</th>\n",
       "    </tr>\n",
       "  </thead>\n",
       "  <tbody>\n",
       "    <tr>\n",
       "      <th>0</th>\n",
       "      <td>0.04</td>\n",
       "      <td>0.02</td>\n",
       "      <td>24.5</td>\n",
       "      <td>6.20</td>\n",
       "    </tr>\n",
       "    <tr>\n",
       "      <th>1</th>\n",
       "      <td>0.05</td>\n",
       "      <td>0.02</td>\n",
       "      <td>24.5</td>\n",
       "      <td>4.80</td>\n",
       "    </tr>\n",
       "    <tr>\n",
       "      <th>2</th>\n",
       "      <td>0.11</td>\n",
       "      <td>0.14</td>\n",
       "      <td>14.0</td>\n",
       "      <td>0.60</td>\n",
       "    </tr>\n",
       "    <tr>\n",
       "      <th>3</th>\n",
       "      <td>0.01</td>\n",
       "      <td>0.02</td>\n",
       "      <td>26.5</td>\n",
       "      <td>4.41</td>\n",
       "    </tr>\n",
       "  </tbody>\n",
       "</table>\n",
       "</div>"
      ],
      "text/plain": [
       "   ind3  ind4  ind5  ind6\n",
       "0  0.04  0.02  24.5  6.20\n",
       "1  0.05  0.02  24.5  4.80\n",
       "2  0.11  0.14  14.0  0.60\n",
       "3  0.01  0.02  26.5  4.41"
      ]
     },
     "execution_count": 11,
     "metadata": {},
     "output_type": "execute_result"
    }
   ],
   "source": [
    "plus_pol"
   ]
  },
  {
   "cell_type": "code",
   "execution_count": 12,
   "id": "f3b337bf",
   "metadata": {},
   "outputs": [
    {
     "data": {
      "text/html": [
       "<div>\n",
       "<style scoped>\n",
       "    .dataframe tbody tr th:only-of-type {\n",
       "        vertical-align: middle;\n",
       "    }\n",
       "\n",
       "    .dataframe tbody tr th {\n",
       "        vertical-align: top;\n",
       "    }\n",
       "\n",
       "    .dataframe thead th {\n",
       "        text-align: right;\n",
       "    }\n",
       "</style>\n",
       "<table border=\"1\" class=\"dataframe\">\n",
       "  <thead>\n",
       "    <tr style=\"text-align: right;\">\n",
       "      <th></th>\n",
       "      <th>ind1</th>\n",
       "      <th>ind2</th>\n",
       "    </tr>\n",
       "  </thead>\n",
       "  <tbody>\n",
       "    <tr>\n",
       "      <th>0</th>\n",
       "      <td>-15.2</td>\n",
       "      <td>8.2</td>\n",
       "    </tr>\n",
       "    <tr>\n",
       "      <th>1</th>\n",
       "      <td>-12.4</td>\n",
       "      <td>8.7</td>\n",
       "    </tr>\n",
       "    <tr>\n",
       "      <th>2</th>\n",
       "      <td>1.6</td>\n",
       "      <td>2.0</td>\n",
       "    </tr>\n",
       "    <tr>\n",
       "      <th>3</th>\n",
       "      <td>-39.7</td>\n",
       "      <td>14.0</td>\n",
       "    </tr>\n",
       "  </tbody>\n",
       "</table>\n",
       "</div>"
      ],
      "text/plain": [
       "   ind1  ind2\n",
       "0 -15.2   8.2\n",
       "1 -12.4   8.7\n",
       "2   1.6   2.0\n",
       "3 -39.7  14.0"
      ]
     },
     "execution_count": 12,
     "metadata": {},
     "output_type": "execute_result"
    }
   ],
   "source": [
    "minus_pol"
   ]
  },
  {
   "cell_type": "code",
   "execution_count": 13,
   "id": "7f5bf57c",
   "metadata": {},
   "outputs": [
    {
     "data": {
      "text/plain": [
       "array([[-15.2,   8.2],\n",
       "       [-12.4,   8.7],\n",
       "       [  1.6,   2. ],\n",
       "       [-39.7,  14. ]])"
      ]
     },
     "execution_count": 13,
     "metadata": {},
     "output_type": "execute_result"
    }
   ],
   "source": [
    "x_plus = plus_pol.values # returns a numpy array\n",
    "x_minus = minus_pol.values\n",
    "x_minus"
   ]
  },
  {
   "cell_type": "code",
   "execution_count": 14,
   "id": "5a45572d",
   "metadata": {},
   "outputs": [
    {
     "data": {
      "text/plain": [
       "array([[-15.2,   8.2],\n",
       "       [-12.4,   8.7],\n",
       "       [  1.6,   2. ],\n",
       "       [-39.7,  14. ]])"
      ]
     },
     "execution_count": 14,
     "metadata": {},
     "output_type": "execute_result"
    }
   ],
   "source": [
    "x_minus_test = minus_pol.to_numpy()\n",
    "x_minus_test"
   ]
  },
  {
   "cell_type": "code",
   "execution_count": 15,
   "id": "71a1f602",
   "metadata": {},
   "outputs": [],
   "source": [
    "min_max_scaler = preprocessing.MinMaxScaler(feature_range=(0.1, 1), copy=False)\n",
    "x_scaled = min_max_scaler.fit_transform(x_plus)"
   ]
  },
  {
   "cell_type": "code",
   "execution_count": 16,
   "id": "36bb4301",
   "metadata": {},
   "outputs": [
    {
     "data": {
      "text/plain": [
       "array([[0.37      , 0.1       , 0.856     , 1.        ],\n",
       "       [0.46      , 0.1       , 0.856     , 0.775     ],\n",
       "       [1.        , 1.        , 0.1       , 0.1       ],\n",
       "       [0.1       , 0.1       , 1.        , 0.71232143]])"
      ]
     },
     "execution_count": 16,
     "metadata": {},
     "output_type": "execute_result"
    }
   ],
   "source": [
    "x_scaled"
   ]
  },
  {
   "cell_type": "code",
   "execution_count": 17,
   "id": "4ed7959f",
   "metadata": {},
   "outputs": [],
   "source": [
    "indicators_scaled_minmax_plus = pd.DataFrame(x_scaled)"
   ]
  },
  {
   "cell_type": "code",
   "execution_count": 18,
   "id": "32885611",
   "metadata": {},
   "outputs": [
    {
     "data": {
      "text/html": [
       "<div>\n",
       "<style scoped>\n",
       "    .dataframe tbody tr th:only-of-type {\n",
       "        vertical-align: middle;\n",
       "    }\n",
       "\n",
       "    .dataframe tbody tr th {\n",
       "        vertical-align: top;\n",
       "    }\n",
       "\n",
       "    .dataframe thead th {\n",
       "        text-align: right;\n",
       "    }\n",
       "</style>\n",
       "<table border=\"1\" class=\"dataframe\">\n",
       "  <thead>\n",
       "    <tr style=\"text-align: right;\">\n",
       "      <th></th>\n",
       "      <th>0</th>\n",
       "      <th>1</th>\n",
       "      <th>2</th>\n",
       "      <th>3</th>\n",
       "    </tr>\n",
       "  </thead>\n",
       "  <tbody>\n",
       "    <tr>\n",
       "      <th>0</th>\n",
       "      <td>0.37</td>\n",
       "      <td>0.1</td>\n",
       "      <td>0.856</td>\n",
       "      <td>1.000000</td>\n",
       "    </tr>\n",
       "    <tr>\n",
       "      <th>1</th>\n",
       "      <td>0.46</td>\n",
       "      <td>0.1</td>\n",
       "      <td>0.856</td>\n",
       "      <td>0.775000</td>\n",
       "    </tr>\n",
       "    <tr>\n",
       "      <th>2</th>\n",
       "      <td>1.00</td>\n",
       "      <td>1.0</td>\n",
       "      <td>0.100</td>\n",
       "      <td>0.100000</td>\n",
       "    </tr>\n",
       "    <tr>\n",
       "      <th>3</th>\n",
       "      <td>0.10</td>\n",
       "      <td>0.1</td>\n",
       "      <td>1.000</td>\n",
       "      <td>0.712321</td>\n",
       "    </tr>\n",
       "  </tbody>\n",
       "</table>\n",
       "</div>"
      ],
      "text/plain": [
       "      0    1      2         3\n",
       "0  0.37  0.1  0.856  1.000000\n",
       "1  0.46  0.1  0.856  0.775000\n",
       "2  1.00  1.0  0.100  0.100000\n",
       "3  0.10  0.1  1.000  0.712321"
      ]
     },
     "execution_count": 18,
     "metadata": {},
     "output_type": "execute_result"
    }
   ],
   "source": [
    "indicators_scaled_minmax_plus"
   ]
  },
  {
   "cell_type": "code",
   "execution_count": 19,
   "id": "79feefc7",
   "metadata": {},
   "outputs": [],
   "source": [
    "def reversed_minmax_scaler(data):\n",
    "    \"\"\"\n",
    "    Rescales the given data to the range [0, 1] in a reversed scale\n",
    "    where the smallest the value the better, using MinMaxScaler.\n",
    "\n",
    "    Args:\n",
    "    - data: A list or numpy array of numeric data to be scaled.\n",
    "\n",
    "    Returns:\n",
    "    - scaled_data: The scaled data as a numpy array.\n",
    "    \"\"\"\n",
    "    import numpy as np\n",
    "    \n",
    "    # Convert data to numpy array\n",
    "    data = np.array(data)\n",
    "    print(data)\n",
    "    print('-----')\n",
    "    \n",
    "    # Calculate the maximum and minimum values\n",
    "    max_val = np.max(data)\n",
    "    max_val_test = np.max(data, axis=0)\n",
    "    \n",
    "    print(max_val)\n",
    "    print('-----')\n",
    "    print(max_val_test)\n",
    "    print('-----')\n",
    "    \n",
    "    min_val = np.min(data)\n",
    "    min_val_test = np.min(data, axis=0)\n",
    "    \n",
    "    # Rescale the data to the range [0, 1]\n",
    "    scaled_data = (data - min_val) / (max_val - min_val)\n",
    "    scaled_data_test = (data - min_val_test) / (max_val_test - min_val_test)*(1-0.1) + 0.1\n",
    "    \n",
    "    print(scaled_data)\n",
    "    print('-----')\n",
    "    print(scaled_data_test)\n",
    "    \n",
    "    return scaled_data_test\n"
   ]
  },
  {
   "cell_type": "code",
   "execution_count": 20,
   "id": "28ad7a2c",
   "metadata": {},
   "outputs": [
    {
     "name": "stdout",
     "output_type": "stream",
     "text": [
      "[[-15.2   8.2]\n",
      " [-12.4   8.7]\n",
      " [  1.6   2. ]\n",
      " [-39.7  14. ]]\n",
      "-----\n",
      "14.0\n",
      "-----\n",
      "[ 1.6 14. ]\n",
      "-----\n",
      "[[0.45623836 0.89199255]\n",
      " [0.50837989 0.90130354]\n",
      " [0.76908752 0.77653631]\n",
      " [0.         1.        ]]\n",
      "-----\n",
      "[[0.63389831 0.565     ]\n",
      " [0.69491525 0.6025    ]\n",
      " [1.         0.1       ]\n",
      " [0.1        1.        ]]\n"
     ]
    }
   ],
   "source": [
    "indicators_scaled_minmax_minus = reversed_minmax_scaler(x_minus)"
   ]
  },
  {
   "cell_type": "code",
   "execution_count": 21,
   "id": "30ec41f7",
   "metadata": {},
   "outputs": [],
   "source": [
    "indicators_scaled_minmax_minus = pd.DataFrame(indicators_scaled_minmax_minus)"
   ]
  },
  {
   "cell_type": "code",
   "execution_count": 22,
   "id": "cdd09a3c",
   "metadata": {},
   "outputs": [
    {
     "data": {
      "text/html": [
       "<div>\n",
       "<style scoped>\n",
       "    .dataframe tbody tr th:only-of-type {\n",
       "        vertical-align: middle;\n",
       "    }\n",
       "\n",
       "    .dataframe tbody tr th {\n",
       "        vertical-align: top;\n",
       "    }\n",
       "\n",
       "    .dataframe thead th {\n",
       "        text-align: right;\n",
       "    }\n",
       "</style>\n",
       "<table border=\"1\" class=\"dataframe\">\n",
       "  <thead>\n",
       "    <tr style=\"text-align: right;\">\n",
       "      <th></th>\n",
       "      <th>0</th>\n",
       "      <th>1</th>\n",
       "    </tr>\n",
       "  </thead>\n",
       "  <tbody>\n",
       "    <tr>\n",
       "      <th>0</th>\n",
       "      <td>0.633898</td>\n",
       "      <td>0.5650</td>\n",
       "    </tr>\n",
       "    <tr>\n",
       "      <th>1</th>\n",
       "      <td>0.694915</td>\n",
       "      <td>0.6025</td>\n",
       "    </tr>\n",
       "    <tr>\n",
       "      <th>2</th>\n",
       "      <td>1.000000</td>\n",
       "      <td>0.1000</td>\n",
       "    </tr>\n",
       "    <tr>\n",
       "      <th>3</th>\n",
       "      <td>0.100000</td>\n",
       "      <td>1.0000</td>\n",
       "    </tr>\n",
       "  </tbody>\n",
       "</table>\n",
       "</div>"
      ],
      "text/plain": [
       "          0       1\n",
       "0  0.633898  0.5650\n",
       "1  0.694915  0.6025\n",
       "2  1.000000  0.1000\n",
       "3  0.100000  1.0000"
      ]
     },
     "execution_count": 22,
     "metadata": {},
     "output_type": "execute_result"
    }
   ],
   "source": [
    "indicators_scaled_minmax_minus"
   ]
  },
  {
   "cell_type": "code",
   "execution_count": 23,
   "id": "6d4ad743",
   "metadata": {},
   "outputs": [
    {
     "data": {
      "text/plain": [
       "(4, 6)"
      ]
     },
     "execution_count": 23,
     "metadata": {},
     "output_type": "execute_result"
    }
   ],
   "source": [
    "indicators_scaled_minmax = pd.DataFrame(index=range(4),columns=range(6))\n",
    "indicators_scaled_minmax.shape"
   ]
  },
  {
   "cell_type": "code",
   "execution_count": 24,
   "id": "624d6851",
   "metadata": {},
   "outputs": [
    {
     "data": {
      "text/plain": [
       "0    0.1\n",
       "1    0.1\n",
       "2    1.0\n",
       "3    0.1\n",
       "Name: 1, dtype: float64"
      ]
     },
     "execution_count": 24,
     "metadata": {},
     "output_type": "execute_result"
    }
   ],
   "source": [
    "indicators_scaled_minmax_plus.iloc[:, 1]"
   ]
  },
  {
   "cell_type": "code",
   "execution_count": 25,
   "id": "52658fb3",
   "metadata": {},
   "outputs": [
    {
     "name": "stderr",
     "output_type": "stream",
     "text": [
      "/var/folders/mt/lx9bxf895gq_bfbn6l6_m3kr0000gn/T/ipykernel_59657/3699407345.py:3: DeprecationWarning: In a future version, `df.iloc[:, i] = newvals` will attempt to set the values inplace instead of always setting a new array. To retain the old behavior, use either `df[df.columns[i]] = newvals` or, if columns are non-unique, `df.isetitem(i, newvals)`\n",
      "  for i,index_p in enumerate(indeces_plus): indicators_scaled_minmax.iloc[:, index_p] = indicators_scaled_minmax_plus.iloc[:, i]\n",
      "/var/folders/mt/lx9bxf895gq_bfbn6l6_m3kr0000gn/T/ipykernel_59657/3699407345.py:4: DeprecationWarning: In a future version, `df.iloc[:, i] = newvals` will attempt to set the values inplace instead of always setting a new array. To retain the old behavior, use either `df[df.columns[i]] = newvals` or, if columns are non-unique, `df.isetitem(i, newvals)`\n",
      "  for j, index_n in enumerate(indeces_minus): indicators_scaled_minmax.iloc[:, index_n]=indicators_scaled_minmax_minus.loc[:,j]\n"
     ]
    }
   ],
   "source": [
    "# merge back the plus and minus together\n",
    "indicators_scaled_minmax = pd.DataFrame(columns=range(6))\n",
    "for i,index_p in enumerate(indeces_plus): indicators_scaled_minmax.iloc[:, index_p] = indicators_scaled_minmax_plus.iloc[:, i]\n",
    "for j, index_n in enumerate(indeces_minus): indicators_scaled_minmax.iloc[:, index_n]=indicators_scaled_minmax_minus.loc[:,j]"
   ]
  },
  {
   "cell_type": "code",
   "execution_count": 26,
   "id": "3441f401",
   "metadata": {},
   "outputs": [
    {
     "data": {
      "text/html": [
       "<div>\n",
       "<style scoped>\n",
       "    .dataframe tbody tr th:only-of-type {\n",
       "        vertical-align: middle;\n",
       "    }\n",
       "\n",
       "    .dataframe tbody tr th {\n",
       "        vertical-align: top;\n",
       "    }\n",
       "\n",
       "    .dataframe thead th {\n",
       "        text-align: right;\n",
       "    }\n",
       "</style>\n",
       "<table border=\"1\" class=\"dataframe\">\n",
       "  <thead>\n",
       "    <tr style=\"text-align: right;\">\n",
       "      <th></th>\n",
       "      <th>0</th>\n",
       "      <th>1</th>\n",
       "      <th>2</th>\n",
       "      <th>3</th>\n",
       "      <th>4</th>\n",
       "      <th>5</th>\n",
       "    </tr>\n",
       "  </thead>\n",
       "  <tbody>\n",
       "    <tr>\n",
       "      <th>0</th>\n",
       "      <td>0.633898</td>\n",
       "      <td>0.5650</td>\n",
       "      <td>0.37</td>\n",
       "      <td>0.1</td>\n",
       "      <td>0.856</td>\n",
       "      <td>1.000000</td>\n",
       "    </tr>\n",
       "    <tr>\n",
       "      <th>1</th>\n",
       "      <td>0.694915</td>\n",
       "      <td>0.6025</td>\n",
       "      <td>0.46</td>\n",
       "      <td>0.1</td>\n",
       "      <td>0.856</td>\n",
       "      <td>0.775000</td>\n",
       "    </tr>\n",
       "    <tr>\n",
       "      <th>2</th>\n",
       "      <td>1.000000</td>\n",
       "      <td>0.1000</td>\n",
       "      <td>1.00</td>\n",
       "      <td>1.0</td>\n",
       "      <td>0.100</td>\n",
       "      <td>0.100000</td>\n",
       "    </tr>\n",
       "    <tr>\n",
       "      <th>3</th>\n",
       "      <td>0.100000</td>\n",
       "      <td>1.0000</td>\n",
       "      <td>0.10</td>\n",
       "      <td>0.1</td>\n",
       "      <td>1.000</td>\n",
       "      <td>0.712321</td>\n",
       "    </tr>\n",
       "  </tbody>\n",
       "</table>\n",
       "</div>"
      ],
      "text/plain": [
       "          0       1     2    3      4         5\n",
       "0  0.633898  0.5650  0.37  0.1  0.856  1.000000\n",
       "1  0.694915  0.6025  0.46  0.1  0.856  0.775000\n",
       "2  1.000000  0.1000  1.00  1.0  0.100  0.100000\n",
       "3  0.100000  1.0000  0.10  0.1  1.000  0.712321"
      ]
     },
     "execution_count": 26,
     "metadata": {},
     "output_type": "execute_result"
    }
   ],
   "source": [
    "indicators_scaled_minmax"
   ]
  },
  {
   "cell_type": "code",
   "execution_count": 29,
   "id": "6554549f",
   "metadata": {},
   "outputs": [
    {
     "data": {
      "text/html": [
       "<div>\n",
       "<style scoped>\n",
       "    .dataframe tbody tr th:only-of-type {\n",
       "        vertical-align: middle;\n",
       "    }\n",
       "\n",
       "    .dataframe tbody tr th {\n",
       "        vertical-align: top;\n",
       "    }\n",
       "\n",
       "    .dataframe thead th {\n",
       "        text-align: right;\n",
       "    }\n",
       "</style>\n",
       "<table border=\"1\" class=\"dataframe\">\n",
       "  <thead>\n",
       "    <tr style=\"text-align: right;\">\n",
       "      <th></th>\n",
       "      <th>0</th>\n",
       "      <th>1</th>\n",
       "      <th>2</th>\n",
       "      <th>3</th>\n",
       "      <th>4</th>\n",
       "      <th>5</th>\n",
       "    </tr>\n",
       "  </thead>\n",
       "  <tbody>\n",
       "    <tr>\n",
       "      <th>0</th>\n",
       "      <td>0.633898</td>\n",
       "      <td>0.5650</td>\n",
       "      <td>0.37</td>\n",
       "      <td>0.1</td>\n",
       "      <td>0.856</td>\n",
       "      <td>1.000000</td>\n",
       "    </tr>\n",
       "    <tr>\n",
       "      <th>1</th>\n",
       "      <td>0.694915</td>\n",
       "      <td>0.6025</td>\n",
       "      <td>0.46</td>\n",
       "      <td>0.1</td>\n",
       "      <td>0.856</td>\n",
       "      <td>0.775000</td>\n",
       "    </tr>\n",
       "    <tr>\n",
       "      <th>2</th>\n",
       "      <td>1.000000</td>\n",
       "      <td>0.1000</td>\n",
       "      <td>1.00</td>\n",
       "      <td>1.0</td>\n",
       "      <td>0.100</td>\n",
       "      <td>0.100000</td>\n",
       "    </tr>\n",
       "    <tr>\n",
       "      <th>3</th>\n",
       "      <td>0.100000</td>\n",
       "      <td>1.0000</td>\n",
       "      <td>0.10</td>\n",
       "      <td>0.1</td>\n",
       "      <td>1.000</td>\n",
       "      <td>0.712321</td>\n",
       "    </tr>\n",
       "  </tbody>\n",
       "</table>\n",
       "</div>"
      ],
      "text/plain": [
       "          0       1     2    3      4         5\n",
       "0  0.633898  0.5650  0.37  0.1  0.856  1.000000\n",
       "1  0.694915  0.6025  0.46  0.1  0.856  0.775000\n",
       "2  1.000000  0.1000  1.00  1.0  0.100  0.100000\n",
       "3  0.100000  1.0000  0.10  0.1  1.000  0.712321"
      ]
     },
     "execution_count": 29,
     "metadata": {},
     "output_type": "execute_result"
    }
   ],
   "source": [
    "# test class\n",
    "norm = Normalization(imd)\n",
    "test_res_01 = norm.minmax(polarities, feature_range=(0.1, 1))\n",
    "test_res_01"
   ]
  },
  {
   "cell_type": "code",
   "execution_count": 28,
   "id": "9a3946dc",
   "metadata": {},
   "outputs": [],
   "source": [
    "# if you save the file it might compromise the unit tests!\n",
    "#indicators_scaled_minmax.to_csv('tests/resources/normalization/res_minmax_pol_no0.csv',sep=';',decimal='.') "
   ]
  },
  {
   "cell_type": "markdown",
   "id": "c0f8785d",
   "metadata": {},
   "source": [
    "## target"
   ]
  },
  {
   "cell_type": "code",
   "execution_count": null,
   "id": "b257206b",
   "metadata": {},
   "outputs": [],
   "source": [
    "imd"
   ]
  },
  {
   "cell_type": "code",
   "execution_count": null,
   "id": "3e494b91",
   "metadata": {},
   "outputs": [],
   "source": [
    "imd['ind1'] = [-1,-3,-3,0]"
   ]
  },
  {
   "cell_type": "code",
   "execution_count": null,
   "id": "d54bd64d",
   "metadata": {},
   "outputs": [],
   "source": [
    "imd"
   ]
  },
  {
   "cell_type": "code",
   "execution_count": null,
   "id": "0152085e",
   "metadata": {},
   "outputs": [],
   "source": [
    "if imd.max().all() > 0: \n",
    "    target = imd / imd.max()\n",
    "else:\n",
    "    target = imd / (imd.max() + 1)"
   ]
  },
  {
   "cell_type": "code",
   "execution_count": null,
   "id": "661c5c2d",
   "metadata": {},
   "outputs": [],
   "source": [
    "imd.max()"
   ]
  },
  {
   "cell_type": "code",
   "execution_count": null,
   "id": "675579d8",
   "metadata": {},
   "outputs": [],
   "source": [
    "target"
   ]
  },
  {
   "cell_type": "code",
   "execution_count": null,
   "id": "ac5e7d0d",
   "metadata": {},
   "outputs": [],
   "source": [
    "4.8/6.2"
   ]
  },
  {
   "cell_type": "markdown",
   "id": "f3944dd5",
   "metadata": {},
   "source": [
    "## assert two df are the same"
   ]
  },
  {
   "cell_type": "code",
   "execution_count": null,
   "id": "2b87d863",
   "metadata": {},
   "outputs": [],
   "source": [
    "input_matrix = read_matrix(\"tests/resources/input_matrix_without_uncert.csv\")\n",
    "input_matrix = input_matrix.drop(input_matrix.columns[0],axis=1) "
   ]
  },
  {
   "cell_type": "code",
   "execution_count": null,
   "id": "ff2a2e4b",
   "metadata": {},
   "outputs": [],
   "source": [
    "expected_res = read_matrix('tests/resources/normalization/res_minmax_no0.csv')"
   ]
  },
  {
   "cell_type": "code",
   "execution_count": null,
   "id": "3a98a4bf",
   "metadata": {},
   "outputs": [],
   "source": [
    "norm = Normalization(input_matrix)\n",
    "res = norm.minmax(feature_range=(0, 1))"
   ]
  },
  {
   "cell_type": "code",
   "execution_count": null,
   "id": "cc10fb2c",
   "metadata": {},
   "outputs": [],
   "source": [
    "print(type(input_matrix))\n",
    "print(type(expected_res))\n",
    "print(type(res))"
   ]
  },
  {
   "cell_type": "code",
   "execution_count": null,
   "id": "39c54c7b",
   "metadata": {},
   "outputs": [],
   "source": [
    "res"
   ]
  },
  {
   "cell_type": "code",
   "execution_count": null,
   "id": "a083ef97",
   "metadata": {},
   "outputs": [],
   "source": [
    "res.columns = res.columns.astype('str')"
   ]
  },
  {
   "cell_type": "code",
   "execution_count": null,
   "id": "6d43819a",
   "metadata": {},
   "outputs": [],
   "source": [
    "res"
   ]
  },
  {
   "cell_type": "code",
   "execution_count": null,
   "id": "468436f9",
   "metadata": {},
   "outputs": [],
   "source": [
    "expected_res"
   ]
  },
  {
   "cell_type": "code",
   "execution_count": null,
   "id": "6a82801b",
   "metadata": {},
   "outputs": [],
   "source": [
    "assert_frame_equal(res, expected_res, check_like=True)"
   ]
  },
  {
   "cell_type": "code",
   "execution_count": null,
   "id": "932a7c20",
   "metadata": {},
   "outputs": [],
   "source": [
    "isinstance(res, pd.DataFrame)"
   ]
  },
  {
   "cell_type": "code",
   "execution_count": null,
   "id": "06a26c11",
   "metadata": {},
   "outputs": [],
   "source": [
    "feature_range=(0, 1)"
   ]
  }
 ],
 "metadata": {
  "kernelspec": {
   "display_name": "Python 3 (ipykernel)",
   "language": "python",
   "name": "python3"
  },
  "language_info": {
   "codemirror_mode": {
    "name": "ipython",
    "version": 3
   },
   "file_extension": ".py",
   "mimetype": "text/x-python",
   "name": "python",
   "nbconvert_exporter": "python",
   "pygments_lexer": "ipython3",
   "version": "3.9.6"
  }
 },
 "nbformat": 4,
 "nbformat_minor": 5
}
