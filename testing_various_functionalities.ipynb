{
 "cells": [
  {
   "cell_type": "code",
   "execution_count": 1,
   "id": "a1095371",
   "metadata": {},
   "outputs": [
    {
     "name": "stderr",
     "output_type": "stream",
     "text": [
      "<frozen importlib._bootstrap>:228: RuntimeWarning: scipy._lib.messagestream.MessageStream size changed, may indicate binary incompatibility. Expected 56 from C header, got 64 from PyObject\n"
     ]
    }
   ],
   "source": [
    "import pandas as pd\n",
    "import numpy as np\n",
    "from sklearn import preprocessing\n",
    "import pytest\n",
    "import unittest\n",
    "from pandas.testing import assert_frame_equal\n",
    "\n",
    "from mcda.mcda_run import main\n",
    "from mcda.utils import *\n",
    "from mcda.configuration.config import Config\n",
    "from mcda.utility_functions.normalization import Normalization"
   ]
  },
  {
   "cell_type": "code",
   "execution_count": 2,
   "id": "0eb4d158",
   "metadata": {},
   "outputs": [],
   "source": [
    "input_matrix = read_matrix(\"tests/resources/input_matrix_without_uncert.csv\")"
   ]
  },
  {
   "cell_type": "code",
   "execution_count": 3,
   "id": "8dbad724",
   "metadata": {},
   "outputs": [
    {
     "data": {
      "text/html": [
       "<div>\n",
       "<style scoped>\n",
       "    .dataframe tbody tr th:only-of-type {\n",
       "        vertical-align: middle;\n",
       "    }\n",
       "\n",
       "    .dataframe tbody tr th {\n",
       "        vertical-align: top;\n",
       "    }\n",
       "\n",
       "    .dataframe thead th {\n",
       "        text-align: right;\n",
       "    }\n",
       "</style>\n",
       "<table border=\"1\" class=\"dataframe\">\n",
       "  <thead>\n",
       "    <tr style=\"text-align: right;\">\n",
       "      <th></th>\n",
       "      <th>alternatives</th>\n",
       "      <th>ind1</th>\n",
       "      <th>ind2</th>\n",
       "      <th>ind3</th>\n",
       "      <th>ind4</th>\n",
       "      <th>ind5</th>\n",
       "      <th>ind6</th>\n",
       "    </tr>\n",
       "  </thead>\n",
       "  <tbody>\n",
       "    <tr>\n",
       "      <th>0</th>\n",
       "      <td>alt1</td>\n",
       "      <td>15.2</td>\n",
       "      <td>8.2</td>\n",
       "      <td>0.04</td>\n",
       "      <td>0.02</td>\n",
       "      <td>24.5</td>\n",
       "      <td>6.20</td>\n",
       "    </tr>\n",
       "    <tr>\n",
       "      <th>1</th>\n",
       "      <td>alt2</td>\n",
       "      <td>12.4</td>\n",
       "      <td>8.7</td>\n",
       "      <td>0.05</td>\n",
       "      <td>0.02</td>\n",
       "      <td>24.5</td>\n",
       "      <td>4.80</td>\n",
       "    </tr>\n",
       "    <tr>\n",
       "      <th>2</th>\n",
       "      <td>alt3</td>\n",
       "      <td>1.6</td>\n",
       "      <td>2.0</td>\n",
       "      <td>0.11</td>\n",
       "      <td>0.14</td>\n",
       "      <td>14.0</td>\n",
       "      <td>0.60</td>\n",
       "    </tr>\n",
       "    <tr>\n",
       "      <th>3</th>\n",
       "      <td>alt4</td>\n",
       "      <td>39.7</td>\n",
       "      <td>14.0</td>\n",
       "      <td>0.01</td>\n",
       "      <td>0.02</td>\n",
       "      <td>26.5</td>\n",
       "      <td>4.41</td>\n",
       "    </tr>\n",
       "  </tbody>\n",
       "</table>\n",
       "</div>"
      ],
      "text/plain": [
       "  alternatives  ind1  ind2  ind3  ind4  ind5  ind6\n",
       "0         alt1  15.2   8.2  0.04  0.02  24.5  6.20\n",
       "1         alt2  12.4   8.7  0.05  0.02  24.5  4.80\n",
       "2         alt3   1.6   2.0  0.11  0.14  14.0  0.60\n",
       "3         alt4  39.7  14.0  0.01  0.02  26.5  4.41"
      ]
     },
     "execution_count": 3,
     "metadata": {},
     "output_type": "execute_result"
    }
   ],
   "source": [
    "input_matrix"
   ]
  },
  {
   "cell_type": "code",
   "execution_count": 4,
   "id": "2b954c13",
   "metadata": {},
   "outputs": [],
   "source": [
    "imd = input_matrix.drop(input_matrix.columns[0],axis=1)"
   ]
  },
  {
   "cell_type": "code",
   "execution_count": 5,
   "id": "7d9d011c",
   "metadata": {},
   "outputs": [
    {
     "data": {
      "text/html": [
       "<div>\n",
       "<style scoped>\n",
       "    .dataframe tbody tr th:only-of-type {\n",
       "        vertical-align: middle;\n",
       "    }\n",
       "\n",
       "    .dataframe tbody tr th {\n",
       "        vertical-align: top;\n",
       "    }\n",
       "\n",
       "    .dataframe thead th {\n",
       "        text-align: right;\n",
       "    }\n",
       "</style>\n",
       "<table border=\"1\" class=\"dataframe\">\n",
       "  <thead>\n",
       "    <tr style=\"text-align: right;\">\n",
       "      <th></th>\n",
       "      <th>ind1</th>\n",
       "      <th>ind2</th>\n",
       "      <th>ind3</th>\n",
       "      <th>ind4</th>\n",
       "      <th>ind5</th>\n",
       "      <th>ind6</th>\n",
       "    </tr>\n",
       "  </thead>\n",
       "  <tbody>\n",
       "    <tr>\n",
       "      <th>0</th>\n",
       "      <td>15.2</td>\n",
       "      <td>8.2</td>\n",
       "      <td>0.04</td>\n",
       "      <td>0.02</td>\n",
       "      <td>24.5</td>\n",
       "      <td>6.20</td>\n",
       "    </tr>\n",
       "    <tr>\n",
       "      <th>1</th>\n",
       "      <td>12.4</td>\n",
       "      <td>8.7</td>\n",
       "      <td>0.05</td>\n",
       "      <td>0.02</td>\n",
       "      <td>24.5</td>\n",
       "      <td>4.80</td>\n",
       "    </tr>\n",
       "    <tr>\n",
       "      <th>2</th>\n",
       "      <td>1.6</td>\n",
       "      <td>2.0</td>\n",
       "      <td>0.11</td>\n",
       "      <td>0.14</td>\n",
       "      <td>14.0</td>\n",
       "      <td>0.60</td>\n",
       "    </tr>\n",
       "    <tr>\n",
       "      <th>3</th>\n",
       "      <td>39.7</td>\n",
       "      <td>14.0</td>\n",
       "      <td>0.01</td>\n",
       "      <td>0.02</td>\n",
       "      <td>26.5</td>\n",
       "      <td>4.41</td>\n",
       "    </tr>\n",
       "  </tbody>\n",
       "</table>\n",
       "</div>"
      ],
      "text/plain": [
       "   ind1  ind2  ind3  ind4  ind5  ind6\n",
       "0  15.2   8.2  0.04  0.02  24.5  6.20\n",
       "1  12.4   8.7  0.05  0.02  24.5  4.80\n",
       "2   1.6   2.0  0.11  0.14  14.0  0.60\n",
       "3  39.7  14.0  0.01  0.02  26.5  4.41"
      ]
     },
     "execution_count": 5,
     "metadata": {},
     "output_type": "execute_result"
    }
   ],
   "source": [
    "imd"
   ]
  },
  {
   "cell_type": "code",
   "execution_count": 6,
   "id": "0ead3b5f",
   "metadata": {},
   "outputs": [],
   "source": [
    "polarities = (\"-\",\"-\",\"+\",\"+\",\"+\",\"+\")"
   ]
  },
  {
   "cell_type": "code",
   "execution_count": 7,
   "id": "1c501140",
   "metadata": {},
   "outputs": [],
   "source": [
    "indeces_plus = [i for i, e in enumerate(polarities) if e == \"+\"]\n",
    "indeces_minus = [i for i, e in enumerate(polarities) if e == \"-\"]"
   ]
  },
  {
   "cell_type": "code",
   "execution_count": 8,
   "id": "12fc6a18",
   "metadata": {},
   "outputs": [
    {
     "name": "stdout",
     "output_type": "stream",
     "text": [
      "<class 'list'>\n",
      "[0, 1]\n"
     ]
    }
   ],
   "source": [
    "print(type(indeces_plus))\n",
    "print(indeces_minus)"
   ]
  },
  {
   "cell_type": "code",
   "execution_count": 9,
   "id": "43d71f73",
   "metadata": {},
   "outputs": [],
   "source": [
    "# from input matrix select columns that go into minmax and the ones that go into reversed minmax\n",
    "plus_pol = imd.iloc[:, indeces_plus]\n",
    "minus_pol = imd.iloc[:, indeces_minus]"
   ]
  },
  {
   "cell_type": "code",
   "execution_count": 10,
   "id": "4ec5ebeb",
   "metadata": {},
   "outputs": [
    {
     "data": {
      "text/html": [
       "<div>\n",
       "<style scoped>\n",
       "    .dataframe tbody tr th:only-of-type {\n",
       "        vertical-align: middle;\n",
       "    }\n",
       "\n",
       "    .dataframe tbody tr th {\n",
       "        vertical-align: top;\n",
       "    }\n",
       "\n",
       "    .dataframe thead th {\n",
       "        text-align: right;\n",
       "    }\n",
       "</style>\n",
       "<table border=\"1\" class=\"dataframe\">\n",
       "  <thead>\n",
       "    <tr style=\"text-align: right;\">\n",
       "      <th></th>\n",
       "      <th>ind3</th>\n",
       "      <th>ind4</th>\n",
       "      <th>ind5</th>\n",
       "      <th>ind6</th>\n",
       "    </tr>\n",
       "  </thead>\n",
       "  <tbody>\n",
       "    <tr>\n",
       "      <th>0</th>\n",
       "      <td>0.04</td>\n",
       "      <td>0.02</td>\n",
       "      <td>24.5</td>\n",
       "      <td>6.20</td>\n",
       "    </tr>\n",
       "    <tr>\n",
       "      <th>1</th>\n",
       "      <td>0.05</td>\n",
       "      <td>0.02</td>\n",
       "      <td>24.5</td>\n",
       "      <td>4.80</td>\n",
       "    </tr>\n",
       "    <tr>\n",
       "      <th>2</th>\n",
       "      <td>0.11</td>\n",
       "      <td>0.14</td>\n",
       "      <td>14.0</td>\n",
       "      <td>0.60</td>\n",
       "    </tr>\n",
       "    <tr>\n",
       "      <th>3</th>\n",
       "      <td>0.01</td>\n",
       "      <td>0.02</td>\n",
       "      <td>26.5</td>\n",
       "      <td>4.41</td>\n",
       "    </tr>\n",
       "  </tbody>\n",
       "</table>\n",
       "</div>"
      ],
      "text/plain": [
       "   ind3  ind4  ind5  ind6\n",
       "0  0.04  0.02  24.5  6.20\n",
       "1  0.05  0.02  24.5  4.80\n",
       "2  0.11  0.14  14.0  0.60\n",
       "3  0.01  0.02  26.5  4.41"
      ]
     },
     "execution_count": 10,
     "metadata": {},
     "output_type": "execute_result"
    }
   ],
   "source": [
    "plus_pol"
   ]
  },
  {
   "cell_type": "code",
   "execution_count": 11,
   "id": "76b10133",
   "metadata": {},
   "outputs": [
    {
     "data": {
      "text/plain": [
       "ind3     0.0525\n",
       "ind4     0.0500\n",
       "ind5    22.3750\n",
       "ind6     4.0025\n",
       "dtype: float64"
      ]
     },
     "execution_count": 11,
     "metadata": {},
     "output_type": "execute_result"
    }
   ],
   "source": [
    "plus_pol.mean(axis=0)"
   ]
  },
  {
   "cell_type": "code",
   "execution_count": 12,
   "id": "f1ed4efa",
   "metadata": {},
   "outputs": [
    {
     "data": {
      "text/html": [
       "<div>\n",
       "<style scoped>\n",
       "    .dataframe tbody tr th:only-of-type {\n",
       "        vertical-align: middle;\n",
       "    }\n",
       "\n",
       "    .dataframe tbody tr th {\n",
       "        vertical-align: top;\n",
       "    }\n",
       "\n",
       "    .dataframe thead th {\n",
       "        text-align: right;\n",
       "    }\n",
       "</style>\n",
       "<table border=\"1\" class=\"dataframe\">\n",
       "  <thead>\n",
       "    <tr style=\"text-align: right;\">\n",
       "      <th></th>\n",
       "      <th>ind3</th>\n",
       "      <th>ind4</th>\n",
       "      <th>ind5</th>\n",
       "      <th>ind6</th>\n",
       "    </tr>\n",
       "  </thead>\n",
       "  <tbody>\n",
       "    <tr>\n",
       "      <th>0</th>\n",
       "      <td>-0.0125</td>\n",
       "      <td>-0.03</td>\n",
       "      <td>2.125</td>\n",
       "      <td>2.1975</td>\n",
       "    </tr>\n",
       "    <tr>\n",
       "      <th>1</th>\n",
       "      <td>-0.0025</td>\n",
       "      <td>-0.03</td>\n",
       "      <td>2.125</td>\n",
       "      <td>0.7975</td>\n",
       "    </tr>\n",
       "    <tr>\n",
       "      <th>2</th>\n",
       "      <td>0.0575</td>\n",
       "      <td>0.09</td>\n",
       "      <td>-8.375</td>\n",
       "      <td>-3.4025</td>\n",
       "    </tr>\n",
       "    <tr>\n",
       "      <th>3</th>\n",
       "      <td>-0.0425</td>\n",
       "      <td>-0.03</td>\n",
       "      <td>4.125</td>\n",
       "      <td>0.4075</td>\n",
       "    </tr>\n",
       "  </tbody>\n",
       "</table>\n",
       "</div>"
      ],
      "text/plain": [
       "     ind3  ind4   ind5    ind6\n",
       "0 -0.0125 -0.03  2.125  2.1975\n",
       "1 -0.0025 -0.03  2.125  0.7975\n",
       "2  0.0575  0.09 -8.375 -3.4025\n",
       "3 -0.0425 -0.03  4.125  0.4075"
      ]
     },
     "execution_count": 12,
     "metadata": {},
     "output_type": "execute_result"
    }
   ],
   "source": [
    "plus_pol-plus_pol.mean(axis=0)"
   ]
  },
  {
   "cell_type": "markdown",
   "id": "f39b3eef",
   "metadata": {},
   "source": [
    "## rank"
   ]
  },
  {
   "cell_type": "code",
   "execution_count": null,
   "id": "434d1551",
   "metadata": {},
   "outputs": [],
   "source": [
    "imd"
   ]
  },
  {
   "cell_type": "code",
   "execution_count": null,
   "id": "0002da34",
   "metadata": {},
   "outputs": [],
   "source": [
    "-1*imd"
   ]
  },
  {
   "cell_type": "code",
   "execution_count": null,
   "id": "9c648201",
   "metadata": {},
   "outputs": [],
   "source": [
    "norm = Normalization(imd, polarities)\n",
    "indicators_scaled_rank = norm.rank()"
   ]
  },
  {
   "cell_type": "code",
   "execution_count": null,
   "id": "e00296fd",
   "metadata": {},
   "outputs": [],
   "source": [
    "indicators_scaled_rank"
   ]
  },
  {
   "cell_type": "code",
   "execution_count": null,
   "id": "a9f271a8",
   "metadata": {},
   "outputs": [],
   "source": [
    "# if you save the file it might compromise the unit tests!\n",
    "#indicators_scaled_rank.to_csv('tests/resources/normalization/res_rank.csv',sep=';',decimal='.') "
   ]
  },
  {
   "cell_type": "markdown",
   "id": "92e9caf6",
   "metadata": {},
   "source": [
    "## standardized"
   ]
  },
  {
   "cell_type": "code",
   "execution_count": null,
   "id": "592bb853",
   "metadata": {},
   "outputs": [],
   "source": [
    "indicators_scaled_standard_plus = (plus_pol - plus_pol.mean(axis=0))/plus_pol.std(axis=0)"
   ]
  },
  {
   "cell_type": "code",
   "execution_count": null,
   "id": "187c466c",
   "metadata": {},
   "outputs": [],
   "source": [
    "indicators_scaled_standard_plus"
   ]
  },
  {
   "cell_type": "code",
   "execution_count": null,
   "id": "0c88a964",
   "metadata": {},
   "outputs": [],
   "source": [
    "norm = Normalization(imd,polarities)\n",
    "indicators_scaled_stand = norm.standardized()"
   ]
  },
  {
   "cell_type": "code",
   "execution_count": null,
   "id": "eb95b088",
   "metadata": {},
   "outputs": [],
   "source": [
    "indicators_scaled_stand"
   ]
  },
  {
   "cell_type": "code",
   "execution_count": null,
   "id": "f95226a6",
   "metadata": {},
   "outputs": [],
   "source": [
    "# if you save the file it might compromise the unit tests!\n",
    "#indicators_scaled_stand.to_csv('tests/resources/normalization/res_standardized.csv',sep=';',decimal='.') "
   ]
  },
  {
   "cell_type": "markdown",
   "id": "c64b1f4e",
   "metadata": {},
   "source": [
    "## minmax"
   ]
  },
  {
   "cell_type": "markdown",
   "id": "06a00279",
   "metadata": {},
   "source": [
    "#### identify positive and negative polarities"
   ]
  },
  {
   "cell_type": "code",
   "execution_count": null,
   "id": "7f5bf57c",
   "metadata": {},
   "outputs": [],
   "source": [
    "x_plus = plus_pol.values # returns a numpy array\n",
    "x_minus = minus_pol.values\n",
    "x_minus"
   ]
  },
  {
   "cell_type": "code",
   "execution_count": null,
   "id": "2af1a591",
   "metadata": {},
   "outputs": [],
   "source": [
    "x_minus_test = minus_pol.to_numpy()\n",
    "x_minus_test"
   ]
  },
  {
   "cell_type": "code",
   "execution_count": null,
   "id": "71a1f602",
   "metadata": {},
   "outputs": [],
   "source": [
    "min_max_scaler = preprocessing.MinMaxScaler(feature_range=(0, 1), copy=False)\n",
    "x_scaled = min_max_scaler.fit_transform(x_plus)"
   ]
  },
  {
   "cell_type": "code",
   "execution_count": null,
   "id": "36bb4301",
   "metadata": {},
   "outputs": [],
   "source": [
    "x_scaled"
   ]
  },
  {
   "cell_type": "code",
   "execution_count": null,
   "id": "4ed7959f",
   "metadata": {},
   "outputs": [],
   "source": [
    "indicators_scaled_minmax_plus = pd.DataFrame(x_scaled)"
   ]
  },
  {
   "cell_type": "code",
   "execution_count": null,
   "id": "32885611",
   "metadata": {},
   "outputs": [],
   "source": [
    "indicators_scaled_minmax_plus"
   ]
  },
  {
   "cell_type": "code",
   "execution_count": null,
   "id": "79feefc7",
   "metadata": {},
   "outputs": [],
   "source": [
    "def reversed_minmax_scaler(data):\n",
    "    \"\"\"\n",
    "    Rescales the given data to the range [0, 1] in a reversed scale\n",
    "    where the smallest the value the better, using MinMaxScaler.\n",
    "\n",
    "    Args:\n",
    "    - data: A list or numpy array of numeric data to be scaled.\n",
    "\n",
    "    Returns:\n",
    "    - scaled_data: The scaled data as a numpy array.\n",
    "    \"\"\"\n",
    "    import numpy as np\n",
    "    \n",
    "    # Convert data to numpy array\n",
    "    data = np.array(data)\n",
    "    print(data)\n",
    "    print('-----')\n",
    "    \n",
    "    # Calculate the maximum and minimum values\n",
    "    max_val = np.max(data)\n",
    "    max_val_test = np.max(data, axis=0)\n",
    "    \n",
    "    #print(max_val)\n",
    "    #print('-----')\n",
    "    print(max_val_test)\n",
    "    print('-----')\n",
    "    \n",
    "    min_val = np.min(data)\n",
    "    min_val_test = np.min(data, axis=0)\n",
    "    \n",
    "    # Rescale the data to the range [0, 1]\n",
    "    scaled_data = (data - min_val) / (max_val - min_val)\n",
    "    scaled_data_test = (data - min_val_test) / (max_val_test - min_val_test)#*(1-0.1) + 0.1\n",
    "    \n",
    "    print(\"scaled_data\")\n",
    "    print('-----')\n",
    "    print(scaled_data_test)\n",
    "    \n",
    "    return scaled_data_test\n"
   ]
  },
  {
   "cell_type": "code",
   "execution_count": null,
   "id": "28ad7a2c",
   "metadata": {},
   "outputs": [],
   "source": [
    "indicators_scaled_minmax_minus = reversed_minmax_scaler(x_minus)"
   ]
  },
  {
   "cell_type": "code",
   "execution_count": null,
   "id": "47998f14",
   "metadata": {},
   "outputs": [],
   "source": [
    "(8.2-2)/(14-2)"
   ]
  },
  {
   "cell_type": "code",
   "execution_count": null,
   "id": "30ec41f7",
   "metadata": {},
   "outputs": [],
   "source": [
    "indicators_scaled_minmax_minus = pd.DataFrame(indicators_scaled_minmax_minus)"
   ]
  },
  {
   "cell_type": "code",
   "execution_count": null,
   "id": "cdd09a3c",
   "metadata": {},
   "outputs": [],
   "source": [
    "indicators_scaled_minmax_minus"
   ]
  },
  {
   "cell_type": "code",
   "execution_count": null,
   "id": "6d4ad743",
   "metadata": {},
   "outputs": [],
   "source": [
    "indicators_scaled_minmax = pd.DataFrame(index=range(4),columns=range(6))\n",
    "indicators_scaled_minmax.shape"
   ]
  },
  {
   "cell_type": "code",
   "execution_count": null,
   "id": "624d6851",
   "metadata": {},
   "outputs": [],
   "source": [
    "indicators_scaled_minmax_plus"
   ]
  },
  {
   "cell_type": "code",
   "execution_count": null,
   "id": "52658fb3",
   "metadata": {},
   "outputs": [],
   "source": [
    "# merge back the plus and minus together\n",
    "indicators_scaled_minmax = pd.DataFrame(columns=range(6))\n",
    "for i,index_p in enumerate(indeces_plus): indicators_scaled_minmax.iloc[:, index_p] = indicators_scaled_minmax_plus.iloc[:, i]\n",
    "for j, index_n in enumerate(indeces_minus): indicators_scaled_minmax.iloc[:, index_n]=indicators_scaled_minmax_minus.loc[:,j]"
   ]
  },
  {
   "cell_type": "code",
   "execution_count": null,
   "id": "3441f401",
   "metadata": {},
   "outputs": [],
   "source": [
    "indicators_scaled_minmax"
   ]
  },
  {
   "cell_type": "code",
   "execution_count": null,
   "id": "391498c6",
   "metadata": {},
   "outputs": [],
   "source": [
    "imd"
   ]
  },
  {
   "cell_type": "code",
   "execution_count": 17,
   "id": "7ddf2377",
   "metadata": {},
   "outputs": [
    {
     "data": {
      "text/html": [
       "<div>\n",
       "<style scoped>\n",
       "    .dataframe tbody tr th:only-of-type {\n",
       "        vertical-align: middle;\n",
       "    }\n",
       "\n",
       "    .dataframe tbody tr th {\n",
       "        vertical-align: top;\n",
       "    }\n",
       "\n",
       "    .dataframe thead th {\n",
       "        text-align: right;\n",
       "    }\n",
       "</style>\n",
       "<table border=\"1\" class=\"dataframe\">\n",
       "  <thead>\n",
       "    <tr style=\"text-align: right;\">\n",
       "      <th></th>\n",
       "      <th>0</th>\n",
       "      <th>1</th>\n",
       "      <th>2</th>\n",
       "      <th>3</th>\n",
       "      <th>4</th>\n",
       "      <th>5</th>\n",
       "    </tr>\n",
       "  </thead>\n",
       "  <tbody>\n",
       "    <tr>\n",
       "      <th>0</th>\n",
       "      <td>0.678740</td>\n",
       "      <td>0.5350</td>\n",
       "      <td>0.37</td>\n",
       "      <td>0.1</td>\n",
       "      <td>0.856</td>\n",
       "      <td>1.000000</td>\n",
       "    </tr>\n",
       "    <tr>\n",
       "      <th>1</th>\n",
       "      <td>0.744882</td>\n",
       "      <td>0.4975</td>\n",
       "      <td>0.46</td>\n",
       "      <td>0.1</td>\n",
       "      <td>0.856</td>\n",
       "      <td>0.775000</td>\n",
       "    </tr>\n",
       "    <tr>\n",
       "      <th>2</th>\n",
       "      <td>1.000000</td>\n",
       "      <td>1.0000</td>\n",
       "      <td>1.00</td>\n",
       "      <td>1.0</td>\n",
       "      <td>0.100</td>\n",
       "      <td>0.100000</td>\n",
       "    </tr>\n",
       "    <tr>\n",
       "      <th>3</th>\n",
       "      <td>0.100000</td>\n",
       "      <td>0.1000</td>\n",
       "      <td>0.10</td>\n",
       "      <td>0.1</td>\n",
       "      <td>1.000</td>\n",
       "      <td>0.712321</td>\n",
       "    </tr>\n",
       "  </tbody>\n",
       "</table>\n",
       "</div>"
      ],
      "text/plain": [
       "          0       1     2    3      4         5\n",
       "0  0.678740  0.5350  0.37  0.1  0.856  1.000000\n",
       "1  0.744882  0.4975  0.46  0.1  0.856  0.775000\n",
       "2  1.000000  1.0000  1.00  1.0  0.100  0.100000\n",
       "3  0.100000  0.1000  0.10  0.1  1.000  0.712321"
      ]
     },
     "execution_count": 17,
     "metadata": {},
     "output_type": "execute_result"
    }
   ],
   "source": [
    "# test class\n",
    "norm = Normalization(imd, polarities)\n",
    "test_res_no0 = norm.minmax(feature_range=(0.1, 1))\n",
    "test_res_no0"
   ]
  },
  {
   "cell_type": "code",
   "execution_count": 18,
   "id": "9a3946dc",
   "metadata": {},
   "outputs": [],
   "source": [
    "# if you save the file it might compromise the unit tests!\n",
    "#test_res_no0.to_csv('tests/resources/normalization/res_minmax_no0.csv',sep=';',decimal='.') "
   ]
  },
  {
   "cell_type": "markdown",
   "id": "c0f8785d",
   "metadata": {},
   "source": [
    "## target"
   ]
  },
  {
   "cell_type": "code",
   "execution_count": null,
   "id": "b257206b",
   "metadata": {},
   "outputs": [],
   "source": [
    "imd"
   ]
  },
  {
   "cell_type": "code",
   "execution_count": null,
   "id": "0152085e",
   "metadata": {},
   "outputs": [],
   "source": [
    "norm=Normalization(imd, polarities)\n",
    "res_target_01 = norm.target(feature_range=(0, 1))\n",
    "res_target_no0 = norm.target(feature_range=(0.1, 1))"
   ]
  },
  {
   "cell_type": "code",
   "execution_count": null,
   "id": "67caf86a",
   "metadata": {},
   "outputs": [],
   "source": [
    "# if you save the file it might compromise the unit tests!\n",
    "#res_target_01.to_csv('tests/resources/normalization/res_target_01.csv',sep=';',decimal='.') \n",
    "#res_target_no0.to_csv('tests/resources/normalization/res_target_no0.csv',sep=';',decimal='.') "
   ]
  },
  {
   "cell_type": "code",
   "execution_count": null,
   "id": "661c5c2d",
   "metadata": {},
   "outputs": [],
   "source": [
    "res_target_01"
   ]
  },
  {
   "cell_type": "code",
   "execution_count": null,
   "id": "4ac3eff6",
   "metadata": {},
   "outputs": [],
   "source": [
    "res_target_no0"
   ]
  },
  {
   "cell_type": "code",
   "execution_count": null,
   "id": "7a0a95fe",
   "metadata": {},
   "outputs": [],
   "source": [
    "col = imd.iloc[:,2]\n",
    "col1 = (col/max(col))*(1-0.1) + 0.1"
   ]
  },
  {
   "cell_type": "code",
   "execution_count": null,
   "id": "675579d8",
   "metadata": {},
   "outputs": [],
   "source": [
    "col1"
   ]
  },
  {
   "cell_type": "markdown",
   "id": "f3944dd5",
   "metadata": {},
   "source": [
    "## assert two df are the same"
   ]
  },
  {
   "cell_type": "code",
   "execution_count": null,
   "id": "2b87d863",
   "metadata": {},
   "outputs": [],
   "source": [
    "input_matrix = read_matrix(\"tests/resources/input_matrix_without_uncert.csv\")\n",
    "input_matrix = input_matrix.drop(input_matrix.columns[0],axis=1) "
   ]
  },
  {
   "cell_type": "code",
   "execution_count": null,
   "id": "ff2a2e4b",
   "metadata": {},
   "outputs": [],
   "source": [
    "expected_res = read_matrix('tests/resources/normalization/res_minmax_no0.csv')"
   ]
  },
  {
   "cell_type": "code",
   "execution_count": null,
   "id": "3a98a4bf",
   "metadata": {},
   "outputs": [],
   "source": [
    "norm = Normalization(input_matrix)\n",
    "res = norm.minmax(feature_range=(0, 1))"
   ]
  },
  {
   "cell_type": "code",
   "execution_count": null,
   "id": "cc10fb2c",
   "metadata": {},
   "outputs": [],
   "source": [
    "print(type(input_matrix))\n",
    "print(type(expected_res))\n",
    "print(type(res))"
   ]
  },
  {
   "cell_type": "code",
   "execution_count": null,
   "id": "39c54c7b",
   "metadata": {},
   "outputs": [],
   "source": [
    "res"
   ]
  },
  {
   "cell_type": "code",
   "execution_count": null,
   "id": "a083ef97",
   "metadata": {},
   "outputs": [],
   "source": [
    "res.columns = res.columns.astype('str')"
   ]
  },
  {
   "cell_type": "code",
   "execution_count": null,
   "id": "6d43819a",
   "metadata": {},
   "outputs": [],
   "source": [
    "res"
   ]
  },
  {
   "cell_type": "code",
   "execution_count": null,
   "id": "468436f9",
   "metadata": {},
   "outputs": [],
   "source": [
    "expected_res"
   ]
  },
  {
   "cell_type": "code",
   "execution_count": null,
   "id": "6a82801b",
   "metadata": {},
   "outputs": [],
   "source": [
    "assert_frame_equal(res, expected_res, check_like=True)"
   ]
  },
  {
   "cell_type": "code",
   "execution_count": null,
   "id": "932a7c20",
   "metadata": {},
   "outputs": [],
   "source": [
    "isinstance(res, pd.DataFrame)"
   ]
  },
  {
   "cell_type": "code",
   "execution_count": null,
   "id": "06a26c11",
   "metadata": {},
   "outputs": [],
   "source": [
    "feature_range=(0, 1)"
   ]
  },
  {
   "cell_type": "code",
   "execution_count": null,
   "id": "26c9e925",
   "metadata": {},
   "outputs": [],
   "source": []
  },
  {
   "cell_type": "code",
   "execution_count": null,
   "id": "63ed473b",
   "metadata": {},
   "outputs": [],
   "source": [
    "lista = (5,4,3,2)\n",
    "sum(lista)"
   ]
  },
  {
   "cell_type": "code",
   "execution_count": null,
   "id": "1db88c28",
   "metadata": {},
   "outputs": [],
   "source": [
    "lista_corr = [val/sum(lista) for val in lista]"
   ]
  },
  {
   "cell_type": "code",
   "execution_count": null,
   "id": "0f69b6c7",
   "metadata": {},
   "outputs": [],
   "source": [
    "lista_corr"
   ]
  },
  {
   "cell_type": "code",
   "execution_count": null,
   "id": "3dbf6da9",
   "metadata": {},
   "outputs": [],
   "source": [
    "sum(lista_corr)"
   ]
  },
  {
   "cell_type": "code",
   "execution_count": null,
   "id": "8b4eee1b",
   "metadata": {},
   "outputs": [],
   "source": [
    "round(lista_corr,2)"
   ]
  },
  {
   "cell_type": "code",
   "execution_count": null,
   "id": "526a7c81",
   "metadata": {},
   "outputs": [],
   "source": [
    "config = {\n",
    "  \"input_matrix_path\": \"tests/resources/input_matrix_without_uncert.csv\",\n",
    "  \"marginal_distribution_for_each_indicator\": [\"exact\", \"exact\", \"exact\", \"exact\", \"exact\", \"exact\"],\n",
    "  \"polarity_for_each_indicator\": [\"-\",\"-\",\"+\",\"+\",\"+\",\"+\"],\n",
    "  \"monte_carlo_runs\": 0,\n",
    "  \"no_cores\": 1,\n",
    "  \"weight_for_each_indicator\" : [0.5, 0.5, 0.5, 0.5, 0.5, 0.5],\n",
    "  \"output_file_path\": \"/path/to/output.csv\"\n",
    "}"
   ]
  },
  {
   "cell_type": "code",
   "execution_count": null,
   "id": "7bb51bc4",
   "metadata": {},
   "outputs": [],
   "source": [
    "type(config)"
   ]
  },
  {
   "cell_type": "code",
   "execution_count": null,
   "id": "e810abda",
   "metadata": {},
   "outputs": [],
   "source": [
    "import copy\n",
    "test_config = copy.deepcopy(config)"
   ]
  },
  {
   "cell_type": "code",
   "execution_count": null,
   "id": "7a9084c7",
   "metadata": {},
   "outputs": [],
   "source": [
    "type(test_config)"
   ]
  },
  {
   "cell_type": "code",
   "execution_count": null,
   "id": "779eb84f",
   "metadata": {},
   "outputs": [],
   "source": [
    "import unittest\n",
    "import pytest\n",
    "#isinstance(config, dict)\n",
    "isinstance(test_config, dict)"
   ]
  },
  {
   "cell_type": "markdown",
   "id": "281c9a47",
   "metadata": {},
   "source": [
    "### summing columns given a row"
   ]
  },
  {
   "cell_type": "code",
   "execution_count": 43,
   "id": "4fde1547",
   "metadata": {},
   "outputs": [
    {
     "data": {
      "text/html": [
       "<div>\n",
       "<style scoped>\n",
       "    .dataframe tbody tr th:only-of-type {\n",
       "        vertical-align: middle;\n",
       "    }\n",
       "\n",
       "    .dataframe tbody tr th {\n",
       "        vertical-align: top;\n",
       "    }\n",
       "\n",
       "    .dataframe thead th {\n",
       "        text-align: right;\n",
       "    }\n",
       "</style>\n",
       "<table border=\"1\" class=\"dataframe\">\n",
       "  <thead>\n",
       "    <tr style=\"text-align: right;\">\n",
       "      <th></th>\n",
       "      <th>ind1</th>\n",
       "      <th>ind2</th>\n",
       "      <th>ind3</th>\n",
       "      <th>ind4</th>\n",
       "      <th>ind5</th>\n",
       "      <th>ind6</th>\n",
       "    </tr>\n",
       "  </thead>\n",
       "  <tbody>\n",
       "    <tr>\n",
       "      <th>0</th>\n",
       "      <td>15.2</td>\n",
       "      <td>8.2</td>\n",
       "      <td>0.04</td>\n",
       "      <td>0.02</td>\n",
       "      <td>24.5</td>\n",
       "      <td>6.20</td>\n",
       "    </tr>\n",
       "    <tr>\n",
       "      <th>1</th>\n",
       "      <td>12.4</td>\n",
       "      <td>8.7</td>\n",
       "      <td>0.05</td>\n",
       "      <td>0.02</td>\n",
       "      <td>24.5</td>\n",
       "      <td>4.80</td>\n",
       "    </tr>\n",
       "    <tr>\n",
       "      <th>2</th>\n",
       "      <td>1.6</td>\n",
       "      <td>2.0</td>\n",
       "      <td>0.11</td>\n",
       "      <td>0.14</td>\n",
       "      <td>14.0</td>\n",
       "      <td>0.60</td>\n",
       "    </tr>\n",
       "    <tr>\n",
       "      <th>3</th>\n",
       "      <td>39.7</td>\n",
       "      <td>14.0</td>\n",
       "      <td>0.01</td>\n",
       "      <td>0.02</td>\n",
       "      <td>26.5</td>\n",
       "      <td>4.41</td>\n",
       "    </tr>\n",
       "  </tbody>\n",
       "</table>\n",
       "</div>"
      ],
      "text/plain": [
       "   ind1  ind2  ind3  ind4  ind5  ind6\n",
       "0  15.2   8.2  0.04  0.02  24.5  6.20\n",
       "1  12.4   8.7  0.05  0.02  24.5  4.80\n",
       "2   1.6   2.0  0.11  0.14  14.0  0.60\n",
       "3  39.7  14.0  0.01  0.02  26.5  4.41"
      ]
     },
     "execution_count": 43,
     "metadata": {},
     "output_type": "execute_result"
    }
   ],
   "source": [
    "imd"
   ]
  },
  {
   "cell_type": "code",
   "execution_count": 25,
   "id": "917279ab",
   "metadata": {},
   "outputs": [
    {
     "data": {
      "text/plain": [
       "0    54.16\n",
       "1    50.47\n",
       "2    18.45\n",
       "3    84.64\n",
       "dtype: float64"
      ]
     },
     "execution_count": 25,
     "metadata": {},
     "output_type": "execute_result"
    }
   ],
   "source": [
    "imd.sum(axis=1)"
   ]
  },
  {
   "cell_type": "code",
   "execution_count": 26,
   "id": "47304632",
   "metadata": {},
   "outputs": [
    {
     "data": {
      "text/plain": [
       "54.16"
      ]
     },
     "execution_count": 26,
     "metadata": {},
     "output_type": "execute_result"
    }
   ],
   "source": [
    "15.2+8.2+0.04+0.02+24.5+6.2"
   ]
  },
  {
   "cell_type": "code",
   "execution_count": 44,
   "id": "c6f9d8d6",
   "metadata": {},
   "outputs": [],
   "source": [
    "weights=(1,0,1,0,1,10)"
   ]
  },
  {
   "cell_type": "code",
   "execution_count": 32,
   "id": "99e82213",
   "metadata": {},
   "outputs": [],
   "source": [
    "test = imd*weights"
   ]
  },
  {
   "cell_type": "code",
   "execution_count": 33,
   "id": "f0cfd9ff",
   "metadata": {},
   "outputs": [
    {
     "data": {
      "text/plain": [
       "0    101.74\n",
       "1     84.95\n",
       "2     21.71\n",
       "3    110.31\n",
       "dtype: float64"
      ]
     },
     "execution_count": 33,
     "metadata": {},
     "output_type": "execute_result"
    }
   ],
   "source": [
    "test.sum(axis=1)"
   ]
  },
  {
   "cell_type": "code",
   "execution_count": 31,
   "id": "96f44342",
   "metadata": {},
   "outputs": [
    {
     "data": {
      "text/plain": [
       "0    101.74\n",
       "1     84.95\n",
       "2     21.71\n",
       "3    110.31\n",
       "dtype: float64"
      ]
     },
     "execution_count": 31,
     "metadata": {},
     "output_type": "execute_result"
    }
   ],
   "source": [
    "(imd*weights).sum(axis=1)"
   ]
  },
  {
   "cell_type": "code",
   "execution_count": 47,
   "id": "ebe3db57",
   "metadata": {},
   "outputs": [
    {
     "data": {
      "text/plain": [
       "0    1.250220e+09\n",
       "1    9.862117e+07\n",
       "2    1.489887e-02\n",
       "3    2.926997e+07\n",
       "dtype: float64"
      ]
     },
     "execution_count": 47,
     "metadata": {},
     "output_type": "execute_result"
    }
   ],
   "source": [
    "(imd**weights).product(axis=1)"
   ]
  },
  {
   "cell_type": "code",
   "execution_count": 46,
   "id": "3c91a935",
   "metadata": {},
   "outputs": [
    {
     "data": {
      "text/plain": [
       "1250220386.24"
      ]
     },
     "execution_count": 46,
     "metadata": {},
     "output_type": "execute_result"
    }
   ],
   "source": [
    "15.2*1.0*0.04*1.0*24.5*8.392994e+07"
   ]
  },
  {
   "cell_type": "code",
   "execution_count": 48,
   "id": "2cef2d17",
   "metadata": {},
   "outputs": [
    {
     "data": {
      "text/html": [
       "<div>\n",
       "<style scoped>\n",
       "    .dataframe tbody tr th:only-of-type {\n",
       "        vertical-align: middle;\n",
       "    }\n",
       "\n",
       "    .dataframe tbody tr th {\n",
       "        vertical-align: top;\n",
       "    }\n",
       "\n",
       "    .dataframe thead th {\n",
       "        text-align: right;\n",
       "    }\n",
       "</style>\n",
       "<table border=\"1\" class=\"dataframe\">\n",
       "  <thead>\n",
       "    <tr style=\"text-align: right;\">\n",
       "      <th></th>\n",
       "      <th>ind1</th>\n",
       "      <th>ind2</th>\n",
       "      <th>ind3</th>\n",
       "      <th>ind4</th>\n",
       "      <th>ind5</th>\n",
       "      <th>ind6</th>\n",
       "    </tr>\n",
       "  </thead>\n",
       "  <tbody>\n",
       "    <tr>\n",
       "      <th>0</th>\n",
       "      <td>15.2</td>\n",
       "      <td>8.2</td>\n",
       "      <td>0.04</td>\n",
       "      <td>0.02</td>\n",
       "      <td>24.5</td>\n",
       "      <td>6.20</td>\n",
       "    </tr>\n",
       "    <tr>\n",
       "      <th>1</th>\n",
       "      <td>12.4</td>\n",
       "      <td>8.7</td>\n",
       "      <td>0.05</td>\n",
       "      <td>0.02</td>\n",
       "      <td>24.5</td>\n",
       "      <td>4.80</td>\n",
       "    </tr>\n",
       "    <tr>\n",
       "      <th>2</th>\n",
       "      <td>1.6</td>\n",
       "      <td>2.0</td>\n",
       "      <td>0.11</td>\n",
       "      <td>0.14</td>\n",
       "      <td>14.0</td>\n",
       "      <td>0.60</td>\n",
       "    </tr>\n",
       "    <tr>\n",
       "      <th>3</th>\n",
       "      <td>39.7</td>\n",
       "      <td>14.0</td>\n",
       "      <td>0.01</td>\n",
       "      <td>0.02</td>\n",
       "      <td>26.5</td>\n",
       "      <td>4.41</td>\n",
       "    </tr>\n",
       "  </tbody>\n",
       "</table>\n",
       "</div>"
      ],
      "text/plain": [
       "   ind1  ind2  ind3  ind4  ind5  ind6\n",
       "0  15.2   8.2  0.04  0.02  24.5  6.20\n",
       "1  12.4   8.7  0.05  0.02  24.5  4.80\n",
       "2   1.6   2.0  0.11  0.14  14.0  0.60\n",
       "3  39.7  14.0  0.01  0.02  26.5  4.41"
      ]
     },
     "execution_count": 48,
     "metadata": {},
     "output_type": "execute_result"
    }
   ],
   "source": [
    "imd"
   ]
  },
  {
   "cell_type": "code",
   "execution_count": 49,
   "id": "f1bdb1c9",
   "metadata": {},
   "outputs": [],
   "source": [
    "imd.iloc[0,0]=0"
   ]
  },
  {
   "cell_type": "code",
   "execution_count": 50,
   "id": "21c64331",
   "metadata": {},
   "outputs": [
    {
     "data": {
      "text/html": [
       "<div>\n",
       "<style scoped>\n",
       "    .dataframe tbody tr th:only-of-type {\n",
       "        vertical-align: middle;\n",
       "    }\n",
       "\n",
       "    .dataframe tbody tr th {\n",
       "        vertical-align: top;\n",
       "    }\n",
       "\n",
       "    .dataframe thead th {\n",
       "        text-align: right;\n",
       "    }\n",
       "</style>\n",
       "<table border=\"1\" class=\"dataframe\">\n",
       "  <thead>\n",
       "    <tr style=\"text-align: right;\">\n",
       "      <th></th>\n",
       "      <th>ind1</th>\n",
       "      <th>ind2</th>\n",
       "      <th>ind3</th>\n",
       "      <th>ind4</th>\n",
       "      <th>ind5</th>\n",
       "      <th>ind6</th>\n",
       "    </tr>\n",
       "  </thead>\n",
       "  <tbody>\n",
       "    <tr>\n",
       "      <th>0</th>\n",
       "      <td>0.0</td>\n",
       "      <td>8.2</td>\n",
       "      <td>0.04</td>\n",
       "      <td>0.02</td>\n",
       "      <td>24.5</td>\n",
       "      <td>6.20</td>\n",
       "    </tr>\n",
       "    <tr>\n",
       "      <th>1</th>\n",
       "      <td>12.4</td>\n",
       "      <td>8.7</td>\n",
       "      <td>0.05</td>\n",
       "      <td>0.02</td>\n",
       "      <td>24.5</td>\n",
       "      <td>4.80</td>\n",
       "    </tr>\n",
       "    <tr>\n",
       "      <th>2</th>\n",
       "      <td>1.6</td>\n",
       "      <td>2.0</td>\n",
       "      <td>0.11</td>\n",
       "      <td>0.14</td>\n",
       "      <td>14.0</td>\n",
       "      <td>0.60</td>\n",
       "    </tr>\n",
       "    <tr>\n",
       "      <th>3</th>\n",
       "      <td>39.7</td>\n",
       "      <td>14.0</td>\n",
       "      <td>0.01</td>\n",
       "      <td>0.02</td>\n",
       "      <td>26.5</td>\n",
       "      <td>4.41</td>\n",
       "    </tr>\n",
       "  </tbody>\n",
       "</table>\n",
       "</div>"
      ],
      "text/plain": [
       "   ind1  ind2  ind3  ind4  ind5  ind6\n",
       "0   0.0   8.2  0.04  0.02  24.5  6.20\n",
       "1  12.4   8.7  0.05  0.02  24.5  4.80\n",
       "2   1.6   2.0  0.11  0.14  14.0  0.60\n",
       "3  39.7  14.0  0.01  0.02  26.5  4.41"
      ]
     },
     "execution_count": 50,
     "metadata": {},
     "output_type": "execute_result"
    }
   ],
   "source": [
    "imd"
   ]
  },
  {
   "cell_type": "code",
   "execution_count": 51,
   "id": "7872f5ba",
   "metadata": {},
   "outputs": [
    {
     "data": {
      "text/plain": [
       "array([[0.00e+00, 8.20e+00, 4.00e-02, 2.00e-02, 2.45e+01, 6.20e+00],\n",
       "       [1.24e+01, 8.70e+00, 5.00e-02, 2.00e-02, 2.45e+01, 4.80e+00],\n",
       "       [1.60e+00, 2.00e+00, 1.10e-01, 1.40e-01, 1.40e+01, 6.00e-01],\n",
       "       [3.97e+01, 1.40e+01, 1.00e-02, 2.00e-02, 2.65e+01, 4.41e+00]])"
      ]
     },
     "execution_count": 51,
     "metadata": {},
     "output_type": "execute_result"
    }
   ],
   "source": [
    "imd.values"
   ]
  },
  {
   "cell_type": "code",
   "execution_count": 66,
   "id": "36d3e72c",
   "metadata": {},
   "outputs": [
    {
     "ename": "ValueError",
     "evalue": "The truth value of an array with more than one element is ambiguous. Use a.any() or a.all()",
     "output_type": "error",
     "traceback": [
      "\u001b[0;31m---------------------------------------------------------------------------\u001b[0m",
      "\u001b[0;31mValueError\u001b[0m                                Traceback (most recent call last)",
      "\u001b[0;32m/var/folders/mt/lx9bxf895gq_bfbn6l6_m3kr0000gn/T/ipykernel_74002/2716848789.py\u001b[0m in \u001b[0;36m<module>\u001b[0;34m\u001b[0m\n\u001b[0;32m----> 1\u001b[0;31m \u001b[0many\u001b[0m\u001b[0;34m(\u001b[0m\u001b[0mx\u001b[0m\u001b[0;34m==\u001b[0m\u001b[0;36m0\u001b[0m \u001b[0;32mfor\u001b[0m \u001b[0mx\u001b[0m \u001b[0;32min\u001b[0m \u001b[0mimd\u001b[0m\u001b[0;34m.\u001b[0m\u001b[0mvalues\u001b[0m\u001b[0;34m)\u001b[0m\u001b[0;34m\u001b[0m\u001b[0;34m\u001b[0m\u001b[0m\n\u001b[0m",
      "\u001b[0;31mValueError\u001b[0m: The truth value of an array with more than one element is ambiguous. Use a.any() or a.all()"
     ]
    }
   ],
   "source": [
    "any(x==0 for x in imd.values) "
   ]
  },
  {
   "cell_type": "code",
   "execution_count": 60,
   "id": "ae954d2b",
   "metadata": {},
   "outputs": [
    {
     "name": "stdout",
     "output_type": "stream",
     "text": [
      "[0.00e+00 8.20e+00 4.00e-02 2.00e-02 2.45e+01 6.20e+00]\n",
      "[1.24e+01 8.70e+00 5.00e-02 2.00e-02 2.45e+01 4.80e+00]\n",
      "[ 1.6   2.    0.11  0.14 14.    0.6 ]\n",
      "[3.97e+01 1.40e+01 1.00e-02 2.00e-02 2.65e+01 4.41e+00]\n"
     ]
    }
   ],
   "source": [
    "for x in imd.values: print(x)"
   ]
  },
  {
   "cell_type": "code",
   "execution_count": 69,
   "id": "a188418a",
   "metadata": {},
   "outputs": [
    {
     "data": {
      "text/plain": [
       "False"
      ]
     },
     "execution_count": 69,
     "metadata": {},
     "output_type": "execute_result"
    }
   ],
   "source": [
    "(imd == 100).any().any()"
   ]
  },
  {
   "cell_type": "code",
   "execution_count": 74,
   "id": "67298c27",
   "metadata": {},
   "outputs": [
    {
     "data": {
      "text/html": [
       "<div>\n",
       "<style scoped>\n",
       "    .dataframe tbody tr th:only-of-type {\n",
       "        vertical-align: middle;\n",
       "    }\n",
       "\n",
       "    .dataframe tbody tr th {\n",
       "        vertical-align: top;\n",
       "    }\n",
       "\n",
       "    .dataframe thead th {\n",
       "        text-align: right;\n",
       "    }\n",
       "</style>\n",
       "<table border=\"1\" class=\"dataframe\">\n",
       "  <thead>\n",
       "    <tr style=\"text-align: right;\">\n",
       "      <th></th>\n",
       "      <th>ind1</th>\n",
       "      <th>ind2</th>\n",
       "      <th>ind3</th>\n",
       "      <th>ind4</th>\n",
       "      <th>ind5</th>\n",
       "      <th>ind6</th>\n",
       "    </tr>\n",
       "  </thead>\n",
       "  <tbody>\n",
       "    <tr>\n",
       "      <th>0</th>\n",
       "      <td>0.0</td>\n",
       "      <td>8.2</td>\n",
       "      <td>0.04</td>\n",
       "      <td>0.02</td>\n",
       "      <td>24.5</td>\n",
       "      <td>6.20</td>\n",
       "    </tr>\n",
       "    <tr>\n",
       "      <th>1</th>\n",
       "      <td>12.4</td>\n",
       "      <td>8.7</td>\n",
       "      <td>0.05</td>\n",
       "      <td>0.02</td>\n",
       "      <td>24.5</td>\n",
       "      <td>4.80</td>\n",
       "    </tr>\n",
       "    <tr>\n",
       "      <th>2</th>\n",
       "      <td>1.6</td>\n",
       "      <td>2.0</td>\n",
       "      <td>0.11</td>\n",
       "      <td>0.14</td>\n",
       "      <td>14.0</td>\n",
       "      <td>0.60</td>\n",
       "    </tr>\n",
       "    <tr>\n",
       "      <th>3</th>\n",
       "      <td>39.7</td>\n",
       "      <td>14.0</td>\n",
       "      <td>0.01</td>\n",
       "      <td>0.02</td>\n",
       "      <td>26.5</td>\n",
       "      <td>4.41</td>\n",
       "    </tr>\n",
       "  </tbody>\n",
       "</table>\n",
       "</div>"
      ],
      "text/plain": [
       "   ind1  ind2  ind3  ind4  ind5  ind6\n",
       "0   0.0   8.2  0.04  0.02  24.5  6.20\n",
       "1  12.4   8.7  0.05  0.02  24.5  4.80\n",
       "2   1.6   2.0  0.11  0.14  14.0  0.60\n",
       "3  39.7  14.0  0.01  0.02  26.5  4.41"
      ]
     },
     "execution_count": 74,
     "metadata": {},
     "output_type": "execute_result"
    }
   ],
   "source": [
    "imd"
   ]
  },
  {
   "cell_type": "code",
   "execution_count": 78,
   "id": "6a70c415",
   "metadata": {},
   "outputs": [],
   "source": [
    "weights=(1,2,1,2,1,10)"
   ]
  },
  {
   "cell_type": "code",
   "execution_count": 82,
   "id": "3be1607c",
   "metadata": {},
   "outputs": [
    {
     "data": {
      "text/plain": [
       "20.0"
      ]
     },
     "execution_count": 82,
     "metadata": {},
     "output_type": "execute_result"
    }
   ],
   "source": [
    "1/0.05"
   ]
  },
  {
   "cell_type": "code",
   "execution_count": 79,
   "id": "4bb424db",
   "metadata": {},
   "outputs": [
    {
     "data": {
      "text/html": [
       "<div>\n",
       "<style scoped>\n",
       "    .dataframe tbody tr th:only-of-type {\n",
       "        vertical-align: middle;\n",
       "    }\n",
       "\n",
       "    .dataframe tbody tr th {\n",
       "        vertical-align: top;\n",
       "    }\n",
       "\n",
       "    .dataframe thead th {\n",
       "        text-align: right;\n",
       "    }\n",
       "</style>\n",
       "<table border=\"1\" class=\"dataframe\">\n",
       "  <thead>\n",
       "    <tr style=\"text-align: right;\">\n",
       "      <th></th>\n",
       "      <th>ind1</th>\n",
       "      <th>ind2</th>\n",
       "      <th>ind3</th>\n",
       "      <th>ind4</th>\n",
       "      <th>ind5</th>\n",
       "      <th>ind6</th>\n",
       "    </tr>\n",
       "  </thead>\n",
       "  <tbody>\n",
       "    <tr>\n",
       "      <th>0</th>\n",
       "      <td>inf</td>\n",
       "      <td>0.243902</td>\n",
       "      <td>25.000000</td>\n",
       "      <td>100.000000</td>\n",
       "      <td>0.040816</td>\n",
       "      <td>1.612903</td>\n",
       "    </tr>\n",
       "    <tr>\n",
       "      <th>1</th>\n",
       "      <td>0.080645</td>\n",
       "      <td>0.229885</td>\n",
       "      <td>20.000000</td>\n",
       "      <td>100.000000</td>\n",
       "      <td>0.040816</td>\n",
       "      <td>2.083333</td>\n",
       "    </tr>\n",
       "    <tr>\n",
       "      <th>2</th>\n",
       "      <td>0.625000</td>\n",
       "      <td>1.000000</td>\n",
       "      <td>9.090909</td>\n",
       "      <td>14.285714</td>\n",
       "      <td>0.071429</td>\n",
       "      <td>16.666667</td>\n",
       "    </tr>\n",
       "    <tr>\n",
       "      <th>3</th>\n",
       "      <td>0.025189</td>\n",
       "      <td>0.142857</td>\n",
       "      <td>100.000000</td>\n",
       "      <td>100.000000</td>\n",
       "      <td>0.037736</td>\n",
       "      <td>2.267574</td>\n",
       "    </tr>\n",
       "  </tbody>\n",
       "</table>\n",
       "</div>"
      ],
      "text/plain": [
       "       ind1      ind2        ind3        ind4      ind5       ind6\n",
       "0       inf  0.243902   25.000000  100.000000  0.040816   1.612903\n",
       "1  0.080645  0.229885   20.000000  100.000000  0.040816   2.083333\n",
       "2  0.625000  1.000000    9.090909   14.285714  0.071429  16.666667\n",
       "3  0.025189  0.142857  100.000000  100.000000  0.037736   2.267574"
      ]
     },
     "execution_count": 79,
     "metadata": {},
     "output_type": "execute_result"
    }
   ],
   "source": [
    "weights/imd"
   ]
  },
  {
   "cell_type": "code",
   "execution_count": 83,
   "id": "37abd1c1",
   "metadata": {},
   "outputs": [
    {
     "data": {
      "text/plain": [
       "0           inf\n",
       "1    122.434680\n",
       "2     41.739719\n",
       "3    202.473356\n",
       "dtype: float64"
      ]
     },
     "execution_count": 83,
     "metadata": {},
     "output_type": "execute_result"
    }
   ],
   "source": [
    "(weights/imd).sum(axis=1)"
   ]
  },
  {
   "cell_type": "code",
   "execution_count": 75,
   "id": "98e2394b",
   "metadata": {},
   "outputs": [],
   "source": [
    "scores = 6/((weights/imd).sum(axis=1))"
   ]
  },
  {
   "cell_type": "code",
   "execution_count": 76,
   "id": "66c93150",
   "metadata": {},
   "outputs": [
    {
     "data": {
      "text/plain": [
       "0    0.000000\n",
       "1    0.270212\n",
       "2    0.226809\n",
       "3    0.058634\n",
       "dtype: float64"
      ]
     },
     "execution_count": 76,
     "metadata": {},
     "output_type": "execute_result"
    }
   ],
   "source": [
    "scores"
   ]
  },
  {
   "cell_type": "code",
   "execution_count": 86,
   "id": "c803868e",
   "metadata": {},
   "outputs": [
    {
     "data": {
      "text/html": [
       "<div>\n",
       "<style scoped>\n",
       "    .dataframe tbody tr th:only-of-type {\n",
       "        vertical-align: middle;\n",
       "    }\n",
       "\n",
       "    .dataframe tbody tr th {\n",
       "        vertical-align: top;\n",
       "    }\n",
       "\n",
       "    .dataframe thead th {\n",
       "        text-align: right;\n",
       "    }\n",
       "</style>\n",
       "<table border=\"1\" class=\"dataframe\">\n",
       "  <thead>\n",
       "    <tr style=\"text-align: right;\">\n",
       "      <th></th>\n",
       "      <th>ind1</th>\n",
       "      <th>ind2</th>\n",
       "      <th>ind3</th>\n",
       "      <th>ind4</th>\n",
       "      <th>ind5</th>\n",
       "      <th>ind6</th>\n",
       "    </tr>\n",
       "  </thead>\n",
       "  <tbody>\n",
       "    <tr>\n",
       "      <th>0</th>\n",
       "      <td>0.0</td>\n",
       "      <td>8.2</td>\n",
       "      <td>0.04</td>\n",
       "      <td>0.02</td>\n",
       "      <td>24.5</td>\n",
       "      <td>6.20</td>\n",
       "    </tr>\n",
       "    <tr>\n",
       "      <th>1</th>\n",
       "      <td>12.4</td>\n",
       "      <td>8.7</td>\n",
       "      <td>0.05</td>\n",
       "      <td>0.02</td>\n",
       "      <td>24.5</td>\n",
       "      <td>4.80</td>\n",
       "    </tr>\n",
       "    <tr>\n",
       "      <th>2</th>\n",
       "      <td>1.6</td>\n",
       "      <td>2.0</td>\n",
       "      <td>0.11</td>\n",
       "      <td>0.14</td>\n",
       "      <td>14.0</td>\n",
       "      <td>0.60</td>\n",
       "    </tr>\n",
       "    <tr>\n",
       "      <th>3</th>\n",
       "      <td>39.7</td>\n",
       "      <td>14.0</td>\n",
       "      <td>0.01</td>\n",
       "      <td>0.02</td>\n",
       "      <td>26.5</td>\n",
       "      <td>4.41</td>\n",
       "    </tr>\n",
       "  </tbody>\n",
       "</table>\n",
       "</div>"
      ],
      "text/plain": [
       "   ind1  ind2  ind3  ind4  ind5  ind6\n",
       "0   0.0   8.2  0.04  0.02  24.5  6.20\n",
       "1  12.4   8.7  0.05  0.02  24.5  4.80\n",
       "2   1.6   2.0  0.11  0.14  14.0  0.60\n",
       "3  39.7  14.0  0.01  0.02  26.5  4.41"
      ]
     },
     "execution_count": 86,
     "metadata": {},
     "output_type": "execute_result"
    }
   ],
   "source": [
    "imd"
   ]
  },
  {
   "cell_type": "code",
   "execution_count": 85,
   "id": "82715b04",
   "metadata": {},
   "outputs": [
    {
     "data": {
      "text/plain": [
       "0    0.00\n",
       "1    0.02\n",
       "2    0.11\n",
       "3    0.01\n",
       "dtype: float64"
      ]
     },
     "execution_count": 85,
     "metadata": {},
     "output_type": "execute_result"
    }
   ],
   "source": [
    "imd.min(axis=1)"
   ]
  },
  {
   "cell_type": "code",
   "execution_count": 87,
   "id": "2fa668ab",
   "metadata": {},
   "outputs": [
    {
     "data": {
      "text/html": [
       "<div>\n",
       "<style scoped>\n",
       "    .dataframe tbody tr th:only-of-type {\n",
       "        vertical-align: middle;\n",
       "    }\n",
       "\n",
       "    .dataframe tbody tr th {\n",
       "        vertical-align: top;\n",
       "    }\n",
       "\n",
       "    .dataframe thead th {\n",
       "        text-align: right;\n",
       "    }\n",
       "</style>\n",
       "<table border=\"1\" class=\"dataframe\">\n",
       "  <thead>\n",
       "    <tr style=\"text-align: right;\">\n",
       "      <th></th>\n",
       "      <th>ind1</th>\n",
       "      <th>ind2</th>\n",
       "      <th>ind3</th>\n",
       "      <th>ind4</th>\n",
       "      <th>ind5</th>\n",
       "      <th>ind6</th>\n",
       "    </tr>\n",
       "  </thead>\n",
       "  <tbody>\n",
       "    <tr>\n",
       "      <th>0</th>\n",
       "      <td>0.0</td>\n",
       "      <td>8.2</td>\n",
       "      <td>0.04</td>\n",
       "      <td>0.02</td>\n",
       "      <td>24.5</td>\n",
       "      <td>6.20</td>\n",
       "    </tr>\n",
       "    <tr>\n",
       "      <th>1</th>\n",
       "      <td>12.4</td>\n",
       "      <td>8.7</td>\n",
       "      <td>0.05</td>\n",
       "      <td>0.02</td>\n",
       "      <td>24.5</td>\n",
       "      <td>4.80</td>\n",
       "    </tr>\n",
       "    <tr>\n",
       "      <th>2</th>\n",
       "      <td>1.6</td>\n",
       "      <td>2.0</td>\n",
       "      <td>0.11</td>\n",
       "      <td>0.14</td>\n",
       "      <td>14.0</td>\n",
       "      <td>0.60</td>\n",
       "    </tr>\n",
       "    <tr>\n",
       "      <th>3</th>\n",
       "      <td>39.7</td>\n",
       "      <td>14.0</td>\n",
       "      <td>0.01</td>\n",
       "      <td>0.02</td>\n",
       "      <td>26.5</td>\n",
       "      <td>4.41</td>\n",
       "    </tr>\n",
       "  </tbody>\n",
       "</table>\n",
       "</div>"
      ],
      "text/plain": [
       "   ind1  ind2  ind3  ind4  ind5  ind6\n",
       "0   0.0   8.2  0.04  0.02  24.5  6.20\n",
       "1  12.4   8.7  0.05  0.02  24.5  4.80\n",
       "2   1.6   2.0  0.11  0.14  14.0  0.60\n",
       "3  39.7  14.0  0.01  0.02  26.5  4.41"
      ]
     },
     "execution_count": 87,
     "metadata": {},
     "output_type": "execute_result"
    }
   ],
   "source": [
    "imd"
   ]
  },
  {
   "cell_type": "code",
   "execution_count": 95,
   "id": "977c2f79",
   "metadata": {},
   "outputs": [],
   "source": [
    "test_df = pd.concat([imd,imd], axis=1)"
   ]
  },
  {
   "cell_type": "code",
   "execution_count": 96,
   "id": "d37d07dc",
   "metadata": {},
   "outputs": [
    {
     "data": {
      "text/html": [
       "<div>\n",
       "<style scoped>\n",
       "    .dataframe tbody tr th:only-of-type {\n",
       "        vertical-align: middle;\n",
       "    }\n",
       "\n",
       "    .dataframe tbody tr th {\n",
       "        vertical-align: top;\n",
       "    }\n",
       "\n",
       "    .dataframe thead th {\n",
       "        text-align: right;\n",
       "    }\n",
       "</style>\n",
       "<table border=\"1\" class=\"dataframe\">\n",
       "  <thead>\n",
       "    <tr style=\"text-align: right;\">\n",
       "      <th></th>\n",
       "      <th>ind1</th>\n",
       "      <th>ind2</th>\n",
       "      <th>ind3</th>\n",
       "      <th>ind4</th>\n",
       "      <th>ind5</th>\n",
       "      <th>ind6</th>\n",
       "      <th>ind1</th>\n",
       "      <th>ind2</th>\n",
       "      <th>ind3</th>\n",
       "      <th>ind4</th>\n",
       "      <th>ind5</th>\n",
       "      <th>ind6</th>\n",
       "    </tr>\n",
       "  </thead>\n",
       "  <tbody>\n",
       "    <tr>\n",
       "      <th>0</th>\n",
       "      <td>0.0</td>\n",
       "      <td>8.2</td>\n",
       "      <td>0.04</td>\n",
       "      <td>0.02</td>\n",
       "      <td>24.5</td>\n",
       "      <td>6.20</td>\n",
       "      <td>0.0</td>\n",
       "      <td>8.2</td>\n",
       "      <td>0.04</td>\n",
       "      <td>0.02</td>\n",
       "      <td>24.5</td>\n",
       "      <td>6.20</td>\n",
       "    </tr>\n",
       "    <tr>\n",
       "      <th>1</th>\n",
       "      <td>12.4</td>\n",
       "      <td>8.7</td>\n",
       "      <td>0.05</td>\n",
       "      <td>0.02</td>\n",
       "      <td>24.5</td>\n",
       "      <td>4.80</td>\n",
       "      <td>12.4</td>\n",
       "      <td>8.7</td>\n",
       "      <td>0.05</td>\n",
       "      <td>0.02</td>\n",
       "      <td>24.5</td>\n",
       "      <td>4.80</td>\n",
       "    </tr>\n",
       "    <tr>\n",
       "      <th>2</th>\n",
       "      <td>1.6</td>\n",
       "      <td>2.0</td>\n",
       "      <td>0.11</td>\n",
       "      <td>0.14</td>\n",
       "      <td>14.0</td>\n",
       "      <td>0.60</td>\n",
       "      <td>1.6</td>\n",
       "      <td>2.0</td>\n",
       "      <td>0.11</td>\n",
       "      <td>0.14</td>\n",
       "      <td>14.0</td>\n",
       "      <td>0.60</td>\n",
       "    </tr>\n",
       "    <tr>\n",
       "      <th>3</th>\n",
       "      <td>39.7</td>\n",
       "      <td>14.0</td>\n",
       "      <td>0.01</td>\n",
       "      <td>0.02</td>\n",
       "      <td>26.5</td>\n",
       "      <td>4.41</td>\n",
       "      <td>39.7</td>\n",
       "      <td>14.0</td>\n",
       "      <td>0.01</td>\n",
       "      <td>0.02</td>\n",
       "      <td>26.5</td>\n",
       "      <td>4.41</td>\n",
       "    </tr>\n",
       "  </tbody>\n",
       "</table>\n",
       "</div>"
      ],
      "text/plain": [
       "   ind1  ind2  ind3  ind4  ind5  ind6  ind1  ind2  ind3  ind4  ind5  ind6\n",
       "0   0.0   8.2  0.04  0.02  24.5  6.20   0.0   8.2  0.04  0.02  24.5  6.20\n",
       "1  12.4   8.7  0.05  0.02  24.5  4.80  12.4   8.7  0.05  0.02  24.5  4.80\n",
       "2   1.6   2.0  0.11  0.14  14.0  0.60   1.6   2.0  0.11  0.14  14.0  0.60\n",
       "3  39.7  14.0  0.01  0.02  26.5  4.41  39.7  14.0  0.01  0.02  26.5  4.41"
      ]
     },
     "execution_count": 96,
     "metadata": {},
     "output_type": "execute_result"
    }
   ],
   "source": [
    "test_df"
   ]
  },
  {
   "cell_type": "code",
   "execution_count": 99,
   "id": "236e3623",
   "metadata": {},
   "outputs": [],
   "source": [
    "test_df.columns=['JPM', 'WFC', 'BAC', 'C', 'STI', 'PNC', 'CMA','WFC', 'BAC', 'C', 'STI', 'PNC']"
   ]
  },
  {
   "cell_type": "code",
   "execution_count": 100,
   "id": "e8e9ca37",
   "metadata": {},
   "outputs": [
    {
     "data": {
      "text/html": [
       "<div>\n",
       "<style scoped>\n",
       "    .dataframe tbody tr th:only-of-type {\n",
       "        vertical-align: middle;\n",
       "    }\n",
       "\n",
       "    .dataframe tbody tr th {\n",
       "        vertical-align: top;\n",
       "    }\n",
       "\n",
       "    .dataframe thead th {\n",
       "        text-align: right;\n",
       "    }\n",
       "</style>\n",
       "<table border=\"1\" class=\"dataframe\">\n",
       "  <thead>\n",
       "    <tr style=\"text-align: right;\">\n",
       "      <th></th>\n",
       "      <th>JPM</th>\n",
       "      <th>WFC</th>\n",
       "      <th>BAC</th>\n",
       "      <th>C</th>\n",
       "      <th>STI</th>\n",
       "      <th>PNC</th>\n",
       "      <th>CMA</th>\n",
       "      <th>WFC</th>\n",
       "      <th>BAC</th>\n",
       "      <th>C</th>\n",
       "      <th>STI</th>\n",
       "      <th>PNC</th>\n",
       "    </tr>\n",
       "  </thead>\n",
       "  <tbody>\n",
       "    <tr>\n",
       "      <th>0</th>\n",
       "      <td>0.0</td>\n",
       "      <td>8.2</td>\n",
       "      <td>0.04</td>\n",
       "      <td>0.02</td>\n",
       "      <td>24.5</td>\n",
       "      <td>6.20</td>\n",
       "      <td>0.0</td>\n",
       "      <td>8.2</td>\n",
       "      <td>0.04</td>\n",
       "      <td>0.02</td>\n",
       "      <td>24.5</td>\n",
       "      <td>6.20</td>\n",
       "    </tr>\n",
       "    <tr>\n",
       "      <th>1</th>\n",
       "      <td>12.4</td>\n",
       "      <td>8.7</td>\n",
       "      <td>0.05</td>\n",
       "      <td>0.02</td>\n",
       "      <td>24.5</td>\n",
       "      <td>4.80</td>\n",
       "      <td>12.4</td>\n",
       "      <td>8.7</td>\n",
       "      <td>0.05</td>\n",
       "      <td>0.02</td>\n",
       "      <td>24.5</td>\n",
       "      <td>4.80</td>\n",
       "    </tr>\n",
       "    <tr>\n",
       "      <th>2</th>\n",
       "      <td>1.6</td>\n",
       "      <td>2.0</td>\n",
       "      <td>0.11</td>\n",
       "      <td>0.14</td>\n",
       "      <td>14.0</td>\n",
       "      <td>0.60</td>\n",
       "      <td>1.6</td>\n",
       "      <td>2.0</td>\n",
       "      <td>0.11</td>\n",
       "      <td>0.14</td>\n",
       "      <td>14.0</td>\n",
       "      <td>0.60</td>\n",
       "    </tr>\n",
       "    <tr>\n",
       "      <th>3</th>\n",
       "      <td>39.7</td>\n",
       "      <td>14.0</td>\n",
       "      <td>0.01</td>\n",
       "      <td>0.02</td>\n",
       "      <td>26.5</td>\n",
       "      <td>4.41</td>\n",
       "      <td>39.7</td>\n",
       "      <td>14.0</td>\n",
       "      <td>0.01</td>\n",
       "      <td>0.02</td>\n",
       "      <td>26.5</td>\n",
       "      <td>4.41</td>\n",
       "    </tr>\n",
       "  </tbody>\n",
       "</table>\n",
       "</div>"
      ],
      "text/plain": [
       "    JPM   WFC   BAC     C   STI   PNC   CMA   WFC   BAC     C   STI   PNC\n",
       "0   0.0   8.2  0.04  0.02  24.5  6.20   0.0   8.2  0.04  0.02  24.5  6.20\n",
       "1  12.4   8.7  0.05  0.02  24.5  4.80  12.4   8.7  0.05  0.02  24.5  4.80\n",
       "2   1.6   2.0  0.11  0.14  14.0  0.60   1.6   2.0  0.11  0.14  14.0  0.60\n",
       "3  39.7  14.0  0.01  0.02  26.5  4.41  39.7  14.0  0.01  0.02  26.5  4.41"
      ]
     },
     "execution_count": 100,
     "metadata": {},
     "output_type": "execute_result"
    }
   ],
   "source": [
    "test_df"
   ]
  },
  {
   "cell_type": "code",
   "execution_count": 102,
   "id": "ed722dba",
   "metadata": {},
   "outputs": [],
   "source": [
    "test_df_max_rank = test_df.rank(method='max')\n",
    "test_df_pct_rank = test_df.rank(pct=True)"
   ]
  },
  {
   "cell_type": "code",
   "execution_count": 103,
   "id": "ad2c3b08",
   "metadata": {},
   "outputs": [
    {
     "data": {
      "text/html": [
       "<div>\n",
       "<style scoped>\n",
       "    .dataframe tbody tr th:only-of-type {\n",
       "        vertical-align: middle;\n",
       "    }\n",
       "\n",
       "    .dataframe tbody tr th {\n",
       "        vertical-align: top;\n",
       "    }\n",
       "\n",
       "    .dataframe thead th {\n",
       "        text-align: right;\n",
       "    }\n",
       "</style>\n",
       "<table border=\"1\" class=\"dataframe\">\n",
       "  <thead>\n",
       "    <tr style=\"text-align: right;\">\n",
       "      <th></th>\n",
       "      <th>JPM</th>\n",
       "      <th>WFC</th>\n",
       "      <th>BAC</th>\n",
       "      <th>C</th>\n",
       "      <th>STI</th>\n",
       "      <th>PNC</th>\n",
       "      <th>CMA</th>\n",
       "      <th>WFC</th>\n",
       "      <th>BAC</th>\n",
       "      <th>C</th>\n",
       "      <th>STI</th>\n",
       "      <th>PNC</th>\n",
       "    </tr>\n",
       "  </thead>\n",
       "  <tbody>\n",
       "    <tr>\n",
       "      <th>0</th>\n",
       "      <td>1.0</td>\n",
       "      <td>2.0</td>\n",
       "      <td>2.0</td>\n",
       "      <td>3.0</td>\n",
       "      <td>3.0</td>\n",
       "      <td>4.0</td>\n",
       "      <td>1.0</td>\n",
       "      <td>2.0</td>\n",
       "      <td>2.0</td>\n",
       "      <td>3.0</td>\n",
       "      <td>3.0</td>\n",
       "      <td>4.0</td>\n",
       "    </tr>\n",
       "    <tr>\n",
       "      <th>1</th>\n",
       "      <td>3.0</td>\n",
       "      <td>3.0</td>\n",
       "      <td>3.0</td>\n",
       "      <td>3.0</td>\n",
       "      <td>3.0</td>\n",
       "      <td>3.0</td>\n",
       "      <td>3.0</td>\n",
       "      <td>3.0</td>\n",
       "      <td>3.0</td>\n",
       "      <td>3.0</td>\n",
       "      <td>3.0</td>\n",
       "      <td>3.0</td>\n",
       "    </tr>\n",
       "    <tr>\n",
       "      <th>2</th>\n",
       "      <td>2.0</td>\n",
       "      <td>1.0</td>\n",
       "      <td>4.0</td>\n",
       "      <td>4.0</td>\n",
       "      <td>1.0</td>\n",
       "      <td>1.0</td>\n",
       "      <td>2.0</td>\n",
       "      <td>1.0</td>\n",
       "      <td>4.0</td>\n",
       "      <td>4.0</td>\n",
       "      <td>1.0</td>\n",
       "      <td>1.0</td>\n",
       "    </tr>\n",
       "    <tr>\n",
       "      <th>3</th>\n",
       "      <td>4.0</td>\n",
       "      <td>4.0</td>\n",
       "      <td>1.0</td>\n",
       "      <td>3.0</td>\n",
       "      <td>4.0</td>\n",
       "      <td>2.0</td>\n",
       "      <td>4.0</td>\n",
       "      <td>4.0</td>\n",
       "      <td>1.0</td>\n",
       "      <td>3.0</td>\n",
       "      <td>4.0</td>\n",
       "      <td>2.0</td>\n",
       "    </tr>\n",
       "  </tbody>\n",
       "</table>\n",
       "</div>"
      ],
      "text/plain": [
       "   JPM  WFC  BAC    C  STI  PNC  CMA  WFC  BAC    C  STI  PNC\n",
       "0  1.0  2.0  2.0  3.0  3.0  4.0  1.0  2.0  2.0  3.0  3.0  4.0\n",
       "1  3.0  3.0  3.0  3.0  3.0  3.0  3.0  3.0  3.0  3.0  3.0  3.0\n",
       "2  2.0  1.0  4.0  4.0  1.0  1.0  2.0  1.0  4.0  4.0  1.0  1.0\n",
       "3  4.0  4.0  1.0  3.0  4.0  2.0  4.0  4.0  1.0  3.0  4.0  2.0"
      ]
     },
     "execution_count": 103,
     "metadata": {},
     "output_type": "execute_result"
    }
   ],
   "source": [
    "test_df_max_rank"
   ]
  },
  {
   "cell_type": "code",
   "execution_count": 104,
   "id": "e0e1afd3",
   "metadata": {},
   "outputs": [
    {
     "data": {
      "text/html": [
       "<div>\n",
       "<style scoped>\n",
       "    .dataframe tbody tr th:only-of-type {\n",
       "        vertical-align: middle;\n",
       "    }\n",
       "\n",
       "    .dataframe tbody tr th {\n",
       "        vertical-align: top;\n",
       "    }\n",
       "\n",
       "    .dataframe thead th {\n",
       "        text-align: right;\n",
       "    }\n",
       "</style>\n",
       "<table border=\"1\" class=\"dataframe\">\n",
       "  <thead>\n",
       "    <tr style=\"text-align: right;\">\n",
       "      <th></th>\n",
       "      <th>JPM</th>\n",
       "      <th>WFC</th>\n",
       "      <th>BAC</th>\n",
       "      <th>C</th>\n",
       "      <th>STI</th>\n",
       "      <th>PNC</th>\n",
       "      <th>CMA</th>\n",
       "      <th>WFC</th>\n",
       "      <th>BAC</th>\n",
       "      <th>C</th>\n",
       "      <th>STI</th>\n",
       "      <th>PNC</th>\n",
       "    </tr>\n",
       "  </thead>\n",
       "  <tbody>\n",
       "    <tr>\n",
       "      <th>0</th>\n",
       "      <td>0.25</td>\n",
       "      <td>0.50</td>\n",
       "      <td>0.50</td>\n",
       "      <td>0.5</td>\n",
       "      <td>0.625</td>\n",
       "      <td>1.00</td>\n",
       "      <td>0.25</td>\n",
       "      <td>0.50</td>\n",
       "      <td>0.50</td>\n",
       "      <td>0.5</td>\n",
       "      <td>0.625</td>\n",
       "      <td>1.00</td>\n",
       "    </tr>\n",
       "    <tr>\n",
       "      <th>1</th>\n",
       "      <td>0.75</td>\n",
       "      <td>0.75</td>\n",
       "      <td>0.75</td>\n",
       "      <td>0.5</td>\n",
       "      <td>0.625</td>\n",
       "      <td>0.75</td>\n",
       "      <td>0.75</td>\n",
       "      <td>0.75</td>\n",
       "      <td>0.75</td>\n",
       "      <td>0.5</td>\n",
       "      <td>0.625</td>\n",
       "      <td>0.75</td>\n",
       "    </tr>\n",
       "    <tr>\n",
       "      <th>2</th>\n",
       "      <td>0.50</td>\n",
       "      <td>0.25</td>\n",
       "      <td>1.00</td>\n",
       "      <td>1.0</td>\n",
       "      <td>0.250</td>\n",
       "      <td>0.25</td>\n",
       "      <td>0.50</td>\n",
       "      <td>0.25</td>\n",
       "      <td>1.00</td>\n",
       "      <td>1.0</td>\n",
       "      <td>0.250</td>\n",
       "      <td>0.25</td>\n",
       "    </tr>\n",
       "    <tr>\n",
       "      <th>3</th>\n",
       "      <td>1.00</td>\n",
       "      <td>1.00</td>\n",
       "      <td>0.25</td>\n",
       "      <td>0.5</td>\n",
       "      <td>1.000</td>\n",
       "      <td>0.50</td>\n",
       "      <td>1.00</td>\n",
       "      <td>1.00</td>\n",
       "      <td>0.25</td>\n",
       "      <td>0.5</td>\n",
       "      <td>1.000</td>\n",
       "      <td>0.50</td>\n",
       "    </tr>\n",
       "  </tbody>\n",
       "</table>\n",
       "</div>"
      ],
      "text/plain": [
       "    JPM   WFC   BAC    C    STI   PNC   CMA   WFC   BAC    C    STI   PNC\n",
       "0  0.25  0.50  0.50  0.5  0.625  1.00  0.25  0.50  0.50  0.5  0.625  1.00\n",
       "1  0.75  0.75  0.75  0.5  0.625  0.75  0.75  0.75  0.75  0.5  0.625  0.75\n",
       "2  0.50  0.25  1.00  1.0  0.250  0.25  0.50  0.25  1.00  1.0  0.250  0.25\n",
       "3  1.00  1.00  0.25  0.5  1.000  0.50  1.00  1.00  0.25  0.5  1.000  0.50"
      ]
     },
     "execution_count": 104,
     "metadata": {},
     "output_type": "execute_result"
    }
   ],
   "source": [
    "test_df_pct_rank"
   ]
  },
  {
   "cell_type": "code",
   "execution_count": 107,
   "id": "b57ddbd0",
   "metadata": {},
   "outputs": [
    {
     "data": {
      "text/plain": [
       "list"
      ]
     },
     "execution_count": 107,
     "metadata": {},
     "output_type": "execute_result"
    }
   ],
   "source": [
    "type(test_df_pct_rank.columns.tolist())"
   ]
  },
  {
   "cell_type": "code",
   "execution_count": 110,
   "id": "66a620e5",
   "metadata": {},
   "outputs": [
    {
     "name": "stdout",
     "output_type": "stream",
     "text": [
      "<class 'list'>\n"
     ]
    },
    {
     "ename": "TypeError",
     "evalue": "assertListEqual() missing 1 required positional argument: 'list2'",
     "output_type": "error",
     "traceback": [
      "\u001b[0;31m---------------------------------------------------------------------------\u001b[0m",
      "\u001b[0;31mTypeError\u001b[0m                                 Traceback (most recent call last)",
      "\u001b[0;32m/var/folders/mt/lx9bxf895gq_bfbn6l6_m3kr0000gn/T/ipykernel_74002/3939947202.py\u001b[0m in \u001b[0;36m<module>\u001b[0;34m\u001b[0m\n\u001b[1;32m      2\u001b[0m \u001b[0mcol_names\u001b[0m \u001b[0;34m=\u001b[0m \u001b[0;34m[\u001b[0m\u001b[0;34m'JPM'\u001b[0m\u001b[0;34m,\u001b[0m \u001b[0;34m'WFC'\u001b[0m\u001b[0;34m,\u001b[0m \u001b[0;34m'BAC'\u001b[0m\u001b[0;34m,\u001b[0m \u001b[0;34m'C'\u001b[0m\u001b[0;34m,\u001b[0m \u001b[0;34m'STI'\u001b[0m\u001b[0;34m,\u001b[0m \u001b[0;34m'PNC'\u001b[0m\u001b[0;34m,\u001b[0m \u001b[0;34m'CMA'\u001b[0m\u001b[0;34m,\u001b[0m\u001b[0;34m'WFC'\u001b[0m\u001b[0;34m,\u001b[0m \u001b[0;34m'BAC'\u001b[0m\u001b[0;34m,\u001b[0m \u001b[0;34m'C'\u001b[0m\u001b[0;34m,\u001b[0m \u001b[0;34m'STI'\u001b[0m\u001b[0;34m,\u001b[0m \u001b[0;34m'PNC'\u001b[0m\u001b[0;34m]\u001b[0m\u001b[0;34m\u001b[0m\u001b[0;34m\u001b[0m\u001b[0m\n\u001b[1;32m      3\u001b[0m \u001b[0mprint\u001b[0m\u001b[0;34m(\u001b[0m\u001b[0mtype\u001b[0m\u001b[0;34m(\u001b[0m\u001b[0mcol_names\u001b[0m\u001b[0;34m)\u001b[0m\u001b[0;34m)\u001b[0m\u001b[0;34m\u001b[0m\u001b[0;34m\u001b[0m\u001b[0m\n\u001b[0;32m----> 4\u001b[0;31m \u001b[0mTestCase\u001b[0m\u001b[0;34m.\u001b[0m\u001b[0massertListEqual\u001b[0m\u001b[0;34m(\u001b[0m\u001b[0mtest_df_pct_rank\u001b[0m\u001b[0;34m.\u001b[0m\u001b[0mcolumns\u001b[0m\u001b[0;34m.\u001b[0m\u001b[0mtolist\u001b[0m\u001b[0;34m(\u001b[0m\u001b[0;34m)\u001b[0m\u001b[0;34m,\u001b[0m \u001b[0mcol_names\u001b[0m\u001b[0;34m)\u001b[0m\u001b[0;34m\u001b[0m\u001b[0;34m\u001b[0m\u001b[0m\n\u001b[0m",
      "\u001b[0;31mTypeError\u001b[0m: assertListEqual() missing 1 required positional argument: 'list2'"
     ]
    }
   ],
   "source": [
    "from unittest import TestCase\n",
    "col_names = ['JPM', 'WFC', 'BAC', 'C', 'STI', 'PNC', 'CMA','WFC', 'BAC', 'C', 'STI', 'PNC']\n",
    "print(type(col_names))\n",
    "TestCase.assertListEqual(test_df_pct_rank.columns.tolist(), col_names)"
   ]
  },
  {
   "cell_type": "code",
   "execution_count": 113,
   "id": "b33126c7",
   "metadata": {},
   "outputs": [],
   "source": [
    "test = (7.75,7.75,9.0,5.5)\n",
    "test_df = pd.DataFrame(test)"
   ]
  },
  {
   "cell_type": "code",
   "execution_count": 114,
   "id": "7c285473",
   "metadata": {},
   "outputs": [
    {
     "data": {
      "text/html": [
       "<div>\n",
       "<style scoped>\n",
       "    .dataframe tbody tr th:only-of-type {\n",
       "        vertical-align: middle;\n",
       "    }\n",
       "\n",
       "    .dataframe tbody tr th {\n",
       "        vertical-align: top;\n",
       "    }\n",
       "\n",
       "    .dataframe thead th {\n",
       "        text-align: right;\n",
       "    }\n",
       "</style>\n",
       "<table border=\"1\" class=\"dataframe\">\n",
       "  <thead>\n",
       "    <tr style=\"text-align: right;\">\n",
       "      <th></th>\n",
       "      <th>0</th>\n",
       "    </tr>\n",
       "  </thead>\n",
       "  <tbody>\n",
       "    <tr>\n",
       "      <th>0</th>\n",
       "      <td>7.75</td>\n",
       "    </tr>\n",
       "    <tr>\n",
       "      <th>1</th>\n",
       "      <td>7.75</td>\n",
       "    </tr>\n",
       "    <tr>\n",
       "      <th>2</th>\n",
       "      <td>9.00</td>\n",
       "    </tr>\n",
       "    <tr>\n",
       "      <th>3</th>\n",
       "      <td>5.50</td>\n",
       "    </tr>\n",
       "  </tbody>\n",
       "</table>\n",
       "</div>"
      ],
      "text/plain": [
       "      0\n",
       "0  7.75\n",
       "1  7.75\n",
       "2  9.00\n",
       "3  5.50"
      ]
     },
     "execution_count": 114,
     "metadata": {},
     "output_type": "execute_result"
    }
   ],
   "source": [
    "test_df"
   ]
  },
  {
   "cell_type": "code",
   "execution_count": 115,
   "id": "8d54daa6",
   "metadata": {},
   "outputs": [],
   "source": [
    "test_df_pct_rank = test_df.rank(pct=True)"
   ]
  },
  {
   "cell_type": "code",
   "execution_count": 116,
   "id": "3cbd380a",
   "metadata": {},
   "outputs": [
    {
     "data": {
      "text/html": [
       "<div>\n",
       "<style scoped>\n",
       "    .dataframe tbody tr th:only-of-type {\n",
       "        vertical-align: middle;\n",
       "    }\n",
       "\n",
       "    .dataframe tbody tr th {\n",
       "        vertical-align: top;\n",
       "    }\n",
       "\n",
       "    .dataframe thead th {\n",
       "        text-align: right;\n",
       "    }\n",
       "</style>\n",
       "<table border=\"1\" class=\"dataframe\">\n",
       "  <thead>\n",
       "    <tr style=\"text-align: right;\">\n",
       "      <th></th>\n",
       "      <th>0</th>\n",
       "    </tr>\n",
       "  </thead>\n",
       "  <tbody>\n",
       "    <tr>\n",
       "      <th>0</th>\n",
       "      <td>0.625</td>\n",
       "    </tr>\n",
       "    <tr>\n",
       "      <th>1</th>\n",
       "      <td>0.625</td>\n",
       "    </tr>\n",
       "    <tr>\n",
       "      <th>2</th>\n",
       "      <td>1.000</td>\n",
       "    </tr>\n",
       "    <tr>\n",
       "      <th>3</th>\n",
       "      <td>0.250</td>\n",
       "    </tr>\n",
       "  </tbody>\n",
       "</table>\n",
       "</div>"
      ],
      "text/plain": [
       "       0\n",
       "0  0.625\n",
       "1  0.625\n",
       "2  1.000\n",
       "3  0.250"
      ]
     },
     "execution_count": 116,
     "metadata": {},
     "output_type": "execute_result"
    }
   ],
   "source": [
    "test_df_pct_rank"
   ]
  },
  {
   "cell_type": "code",
   "execution_count": 129,
   "id": "ce085c90",
   "metadata": {},
   "outputs": [],
   "source": [
    "with open('/Users/flaminia/Desktop/MCDA_no_var_tests/normalized_scores.csv', mode=\"rb\") as f:\n",
    "    scores = pd.read_csv(f)  "
   ]
  },
  {
   "cell_type": "code",
   "execution_count": 170,
   "id": "893ecd03",
   "metadata": {},
   "outputs": [
    {
     "data": {
      "text/plain": [
       "Index(['Alternatives', 'ws-stand', 'ws-minmax', 'ws-target', 'ws-rank',\n",
       "       'geom-stand', 'geom-minmax', 'geom-target', 'geom-rank', 'harm-stand',\n",
       "       'harm-minmax', 'harm-target', 'harm-rank', 'min-stand', 'min-minmax',\n",
       "       'min-target', 'min-rank'],\n",
       "      dtype='object')"
      ]
     },
     "execution_count": 170,
     "metadata": {},
     "output_type": "execute_result"
    }
   ],
   "source": [
    "scores.columns"
   ]
  },
  {
   "cell_type": "code",
   "execution_count": 171,
   "id": "4a779119",
   "metadata": {},
   "outputs": [
    {
     "data": {
      "application/vnd.plotly.v1+json": {
       "config": {
        "plotlyServerURL": "https://plot.ly"
       },
       "data": [
        {
         "name": "ws-stand",
         "type": "bar",
         "x": [
          "alt1",
          "alt2",
          "alt3",
          "alt4"
         ],
         "y": [
          0.7064348649443013,
          0.6557004301691082,
          1,
          0
         ]
        },
        {
         "name": "ws-minmax",
         "type": "bar",
         "x": [
          "alt1",
          "alt2",
          "alt3",
          "alt4"
         ],
         "y": [
          0.6837349141980809,
          0.6327892038899294,
          1,
          0
         ]
        },
        {
         "name": "ws-target",
         "type": "bar",
         "x": [
          "alt1",
          "alt2",
          "alt3",
          "alt4"
         ],
         "y": [
          0.6077150342566565,
          0.5676316196523944,
          1,
          0
         ]
        },
        {
         "name": "ws-rank",
         "type": "bar",
         "x": [
          "alt1",
          "alt2",
          "alt3",
          "alt4"
         ],
         "y": [
          0.6428571428571426,
          0.6428571428571426,
          0.9999999999999998,
          0
         ]
        },
        {
         "name": "geom-stand",
         "type": "bar",
         "x": [
          "alt1",
          "alt2",
          "alt3",
          "alt4"
         ],
         "y": [
          0,
          0.1133712173522293,
          1,
          0.2139007988908175
         ]
        },
        {
         "name": "geom-minmax",
         "type": "bar",
         "x": [
          "alt1",
          "alt2",
          "alt3",
          "alt4"
         ],
         "y": [
          1,
          0.9908923025412416,
          0.9266984713776792,
          0
         ]
        },
        {
         "name": "geom-target",
         "type": "bar",
         "x": [
          "alt1",
          "alt2",
          "alt3",
          "alt4"
         ],
         "y": [
          0.5312242948208696,
          0.5224121802303807,
          1,
          0
         ]
        },
        {
         "name": "geom-rank",
         "type": "bar",
         "x": [
          "alt1",
          "alt2",
          "alt3",
          "alt4"
         ],
         "y": [
          0.9244073538025824,
          1,
          0.9652760657553534,
          0
         ]
        },
        {
         "name": "harm-stand",
         "type": "bar",
         "x": [
          "alt1",
          "alt2",
          "alt3",
          "alt4"
         ],
         "y": [
          0.0918957001244131,
          0,
          1,
          0.706869668415634
         ]
        },
        {
         "name": "harm-minmax",
         "type": "bar",
         "x": [
          "alt1",
          "alt2",
          "alt3",
          "alt4"
         ],
         "y": [
          0.9782237597167354,
          1,
          0.5647847283465377,
          0
         ]
        },
        {
         "name": "harm-target",
         "type": "bar",
         "x": [
          "alt1",
          "alt2",
          "alt3",
          "alt4"
         ],
         "y": [
          0.8563503481621502,
          0.8678345864758819,
          1,
          0
         ]
        },
        {
         "name": "harm-rank",
         "type": "bar",
         "x": [
          "alt1",
          "alt2",
          "alt3",
          "alt4"
         ],
         "y": [
          0.922909486667876,
          1,
          0.5405405405405406,
          0
         ]
        },
        {
         "name": "min-stand",
         "type": "bar",
         "x": [
          "alt1",
          "alt2",
          "alt3",
          "alt4"
         ],
         "y": [
          1,
          1,
          0,
          0.0839740158467539
         ]
        },
        {
         "name": "min-minmax",
         "type": "bar",
         "x": [
          "alt1",
          "alt2",
          "alt3",
          "alt4"
         ],
         "y": [
          0,
          0,
          0,
          0
         ]
        },
        {
         "name": "min-target",
         "type": "bar",
         "x": [
          "alt1",
          "alt2",
          "alt3",
          "alt4"
         ],
         "y": [
          1,
          1,
          0.6774193548387096,
          0
         ]
        },
        {
         "name": "min-rank",
         "type": "bar",
         "x": [
          "alt1",
          "alt2",
          "alt3",
          "alt4"
         ],
         "y": [
          1,
          1,
          0,
          0
         ]
        }
       ],
       "layout": {
        "barmode": "group",
        "height": 600,
        "template": {
         "data": {
          "bar": [
           {
            "error_x": {
             "color": "#2a3f5f"
            },
            "error_y": {
             "color": "#2a3f5f"
            },
            "marker": {
             "line": {
              "color": "#E5ECF6",
              "width": 0.5
             },
             "pattern": {
              "fillmode": "overlay",
              "size": 10,
              "solidity": 0.2
             }
            },
            "type": "bar"
           }
          ],
          "barpolar": [
           {
            "marker": {
             "line": {
              "color": "#E5ECF6",
              "width": 0.5
             },
             "pattern": {
              "fillmode": "overlay",
              "size": 10,
              "solidity": 0.2
             }
            },
            "type": "barpolar"
           }
          ],
          "carpet": [
           {
            "aaxis": {
             "endlinecolor": "#2a3f5f",
             "gridcolor": "white",
             "linecolor": "white",
             "minorgridcolor": "white",
             "startlinecolor": "#2a3f5f"
            },
            "baxis": {
             "endlinecolor": "#2a3f5f",
             "gridcolor": "white",
             "linecolor": "white",
             "minorgridcolor": "white",
             "startlinecolor": "#2a3f5f"
            },
            "type": "carpet"
           }
          ],
          "choropleth": [
           {
            "colorbar": {
             "outlinewidth": 0,
             "ticks": ""
            },
            "type": "choropleth"
           }
          ],
          "contour": [
           {
            "colorbar": {
             "outlinewidth": 0,
             "ticks": ""
            },
            "colorscale": [
             [
              0,
              "#0d0887"
             ],
             [
              0.1111111111111111,
              "#46039f"
             ],
             [
              0.2222222222222222,
              "#7201a8"
             ],
             [
              0.3333333333333333,
              "#9c179e"
             ],
             [
              0.4444444444444444,
              "#bd3786"
             ],
             [
              0.5555555555555556,
              "#d8576b"
             ],
             [
              0.6666666666666666,
              "#ed7953"
             ],
             [
              0.7777777777777778,
              "#fb9f3a"
             ],
             [
              0.8888888888888888,
              "#fdca26"
             ],
             [
              1,
              "#f0f921"
             ]
            ],
            "type": "contour"
           }
          ],
          "contourcarpet": [
           {
            "colorbar": {
             "outlinewidth": 0,
             "ticks": ""
            },
            "type": "contourcarpet"
           }
          ],
          "heatmap": [
           {
            "colorbar": {
             "outlinewidth": 0,
             "ticks": ""
            },
            "colorscale": [
             [
              0,
              "#0d0887"
             ],
             [
              0.1111111111111111,
              "#46039f"
             ],
             [
              0.2222222222222222,
              "#7201a8"
             ],
             [
              0.3333333333333333,
              "#9c179e"
             ],
             [
              0.4444444444444444,
              "#bd3786"
             ],
             [
              0.5555555555555556,
              "#d8576b"
             ],
             [
              0.6666666666666666,
              "#ed7953"
             ],
             [
              0.7777777777777778,
              "#fb9f3a"
             ],
             [
              0.8888888888888888,
              "#fdca26"
             ],
             [
              1,
              "#f0f921"
             ]
            ],
            "type": "heatmap"
           }
          ],
          "heatmapgl": [
           {
            "colorbar": {
             "outlinewidth": 0,
             "ticks": ""
            },
            "colorscale": [
             [
              0,
              "#0d0887"
             ],
             [
              0.1111111111111111,
              "#46039f"
             ],
             [
              0.2222222222222222,
              "#7201a8"
             ],
             [
              0.3333333333333333,
              "#9c179e"
             ],
             [
              0.4444444444444444,
              "#bd3786"
             ],
             [
              0.5555555555555556,
              "#d8576b"
             ],
             [
              0.6666666666666666,
              "#ed7953"
             ],
             [
              0.7777777777777778,
              "#fb9f3a"
             ],
             [
              0.8888888888888888,
              "#fdca26"
             ],
             [
              1,
              "#f0f921"
             ]
            ],
            "type": "heatmapgl"
           }
          ],
          "histogram": [
           {
            "marker": {
             "pattern": {
              "fillmode": "overlay",
              "size": 10,
              "solidity": 0.2
             }
            },
            "type": "histogram"
           }
          ],
          "histogram2d": [
           {
            "colorbar": {
             "outlinewidth": 0,
             "ticks": ""
            },
            "colorscale": [
             [
              0,
              "#0d0887"
             ],
             [
              0.1111111111111111,
              "#46039f"
             ],
             [
              0.2222222222222222,
              "#7201a8"
             ],
             [
              0.3333333333333333,
              "#9c179e"
             ],
             [
              0.4444444444444444,
              "#bd3786"
             ],
             [
              0.5555555555555556,
              "#d8576b"
             ],
             [
              0.6666666666666666,
              "#ed7953"
             ],
             [
              0.7777777777777778,
              "#fb9f3a"
             ],
             [
              0.8888888888888888,
              "#fdca26"
             ],
             [
              1,
              "#f0f921"
             ]
            ],
            "type": "histogram2d"
           }
          ],
          "histogram2dcontour": [
           {
            "colorbar": {
             "outlinewidth": 0,
             "ticks": ""
            },
            "colorscale": [
             [
              0,
              "#0d0887"
             ],
             [
              0.1111111111111111,
              "#46039f"
             ],
             [
              0.2222222222222222,
              "#7201a8"
             ],
             [
              0.3333333333333333,
              "#9c179e"
             ],
             [
              0.4444444444444444,
              "#bd3786"
             ],
             [
              0.5555555555555556,
              "#d8576b"
             ],
             [
              0.6666666666666666,
              "#ed7953"
             ],
             [
              0.7777777777777778,
              "#fb9f3a"
             ],
             [
              0.8888888888888888,
              "#fdca26"
             ],
             [
              1,
              "#f0f921"
             ]
            ],
            "type": "histogram2dcontour"
           }
          ],
          "mesh3d": [
           {
            "colorbar": {
             "outlinewidth": 0,
             "ticks": ""
            },
            "type": "mesh3d"
           }
          ],
          "parcoords": [
           {
            "line": {
             "colorbar": {
              "outlinewidth": 0,
              "ticks": ""
             }
            },
            "type": "parcoords"
           }
          ],
          "pie": [
           {
            "automargin": true,
            "type": "pie"
           }
          ],
          "scatter": [
           {
            "fillpattern": {
             "fillmode": "overlay",
             "size": 10,
             "solidity": 0.2
            },
            "type": "scatter"
           }
          ],
          "scatter3d": [
           {
            "line": {
             "colorbar": {
              "outlinewidth": 0,
              "ticks": ""
             }
            },
            "marker": {
             "colorbar": {
              "outlinewidth": 0,
              "ticks": ""
             }
            },
            "type": "scatter3d"
           }
          ],
          "scattercarpet": [
           {
            "marker": {
             "colorbar": {
              "outlinewidth": 0,
              "ticks": ""
             }
            },
            "type": "scattercarpet"
           }
          ],
          "scattergeo": [
           {
            "marker": {
             "colorbar": {
              "outlinewidth": 0,
              "ticks": ""
             }
            },
            "type": "scattergeo"
           }
          ],
          "scattergl": [
           {
            "marker": {
             "colorbar": {
              "outlinewidth": 0,
              "ticks": ""
             }
            },
            "type": "scattergl"
           }
          ],
          "scattermapbox": [
           {
            "marker": {
             "colorbar": {
              "outlinewidth": 0,
              "ticks": ""
             }
            },
            "type": "scattermapbox"
           }
          ],
          "scatterpolar": [
           {
            "marker": {
             "colorbar": {
              "outlinewidth": 0,
              "ticks": ""
             }
            },
            "type": "scatterpolar"
           }
          ],
          "scatterpolargl": [
           {
            "marker": {
             "colorbar": {
              "outlinewidth": 0,
              "ticks": ""
             }
            },
            "type": "scatterpolargl"
           }
          ],
          "scatterternary": [
           {
            "marker": {
             "colorbar": {
              "outlinewidth": 0,
              "ticks": ""
             }
            },
            "type": "scatterternary"
           }
          ],
          "surface": [
           {
            "colorbar": {
             "outlinewidth": 0,
             "ticks": ""
            },
            "colorscale": [
             [
              0,
              "#0d0887"
             ],
             [
              0.1111111111111111,
              "#46039f"
             ],
             [
              0.2222222222222222,
              "#7201a8"
             ],
             [
              0.3333333333333333,
              "#9c179e"
             ],
             [
              0.4444444444444444,
              "#bd3786"
             ],
             [
              0.5555555555555556,
              "#d8576b"
             ],
             [
              0.6666666666666666,
              "#ed7953"
             ],
             [
              0.7777777777777778,
              "#fb9f3a"
             ],
             [
              0.8888888888888888,
              "#fdca26"
             ],
             [
              1,
              "#f0f921"
             ]
            ],
            "type": "surface"
           }
          ],
          "table": [
           {
            "cells": {
             "fill": {
              "color": "#EBF0F8"
             },
             "line": {
              "color": "white"
             }
            },
            "header": {
             "fill": {
              "color": "#C8D4E3"
             },
             "line": {
              "color": "white"
             }
            },
            "type": "table"
           }
          ]
         },
         "layout": {
          "annotationdefaults": {
           "arrowcolor": "#2a3f5f",
           "arrowhead": 0,
           "arrowwidth": 1
          },
          "autotypenumbers": "strict",
          "coloraxis": {
           "colorbar": {
            "outlinewidth": 0,
            "ticks": ""
           }
          },
          "colorscale": {
           "diverging": [
            [
             0,
             "#8e0152"
            ],
            [
             0.1,
             "#c51b7d"
            ],
            [
             0.2,
             "#de77ae"
            ],
            [
             0.3,
             "#f1b6da"
            ],
            [
             0.4,
             "#fde0ef"
            ],
            [
             0.5,
             "#f7f7f7"
            ],
            [
             0.6,
             "#e6f5d0"
            ],
            [
             0.7,
             "#b8e186"
            ],
            [
             0.8,
             "#7fbc41"
            ],
            [
             0.9,
             "#4d9221"
            ],
            [
             1,
             "#276419"
            ]
           ],
           "sequential": [
            [
             0,
             "#0d0887"
            ],
            [
             0.1111111111111111,
             "#46039f"
            ],
            [
             0.2222222222222222,
             "#7201a8"
            ],
            [
             0.3333333333333333,
             "#9c179e"
            ],
            [
             0.4444444444444444,
             "#bd3786"
            ],
            [
             0.5555555555555556,
             "#d8576b"
            ],
            [
             0.6666666666666666,
             "#ed7953"
            ],
            [
             0.7777777777777778,
             "#fb9f3a"
            ],
            [
             0.8888888888888888,
             "#fdca26"
            ],
            [
             1,
             "#f0f921"
            ]
           ],
           "sequentialminus": [
            [
             0,
             "#0d0887"
            ],
            [
             0.1111111111111111,
             "#46039f"
            ],
            [
             0.2222222222222222,
             "#7201a8"
            ],
            [
             0.3333333333333333,
             "#9c179e"
            ],
            [
             0.4444444444444444,
             "#bd3786"
            ],
            [
             0.5555555555555556,
             "#d8576b"
            ],
            [
             0.6666666666666666,
             "#ed7953"
            ],
            [
             0.7777777777777778,
             "#fb9f3a"
            ],
            [
             0.8888888888888888,
             "#fdca26"
            ],
            [
             1,
             "#f0f921"
            ]
           ]
          },
          "colorway": [
           "#636efa",
           "#EF553B",
           "#00cc96",
           "#ab63fa",
           "#FFA15A",
           "#19d3f3",
           "#FF6692",
           "#B6E880",
           "#FF97FF",
           "#FECB52"
          ],
          "font": {
           "color": "#2a3f5f"
          },
          "geo": {
           "bgcolor": "white",
           "lakecolor": "white",
           "landcolor": "#E5ECF6",
           "showlakes": true,
           "showland": true,
           "subunitcolor": "white"
          },
          "hoverlabel": {
           "align": "left"
          },
          "hovermode": "closest",
          "mapbox": {
           "style": "light"
          },
          "paper_bgcolor": "white",
          "plot_bgcolor": "#E5ECF6",
          "polar": {
           "angularaxis": {
            "gridcolor": "white",
            "linecolor": "white",
            "ticks": ""
           },
           "bgcolor": "#E5ECF6",
           "radialaxis": {
            "gridcolor": "white",
            "linecolor": "white",
            "ticks": ""
           }
          },
          "scene": {
           "xaxis": {
            "backgroundcolor": "#E5ECF6",
            "gridcolor": "white",
            "gridwidth": 2,
            "linecolor": "white",
            "showbackground": true,
            "ticks": "",
            "zerolinecolor": "white"
           },
           "yaxis": {
            "backgroundcolor": "#E5ECF6",
            "gridcolor": "white",
            "gridwidth": 2,
            "linecolor": "white",
            "showbackground": true,
            "ticks": "",
            "zerolinecolor": "white"
           },
           "zaxis": {
            "backgroundcolor": "#E5ECF6",
            "gridcolor": "white",
            "gridwidth": 2,
            "linecolor": "white",
            "showbackground": true,
            "ticks": "",
            "zerolinecolor": "white"
           }
          },
          "shapedefaults": {
           "line": {
            "color": "#2a3f5f"
           }
          },
          "ternary": {
           "aaxis": {
            "gridcolor": "white",
            "linecolor": "white",
            "ticks": ""
           },
           "baxis": {
            "gridcolor": "white",
            "linecolor": "white",
            "ticks": ""
           },
           "bgcolor": "#E5ECF6",
           "caxis": {
            "gridcolor": "white",
            "linecolor": "white",
            "ticks": ""
           }
          },
          "title": {
           "x": 0.05
          },
          "xaxis": {
           "automargin": true,
           "gridcolor": "white",
           "linecolor": "white",
           "ticks": "",
           "title": {
            "standoff": 15
           },
           "zerolinecolor": "white",
           "zerolinewidth": 2
          },
          "yaxis": {
           "automargin": true,
           "gridcolor": "white",
           "linecolor": "white",
           "ticks": "",
           "title": {
            "standoff": 15
           },
           "zerolinecolor": "white",
           "zerolinewidth": 2
          }
         }
        },
        "title": {
         "font": {
          "size": 22
         },
         "text": "<b>MCDA analysis<b>"
        },
        "width": 1000,
        "xaxis": {
         "tickangle": 45,
         "tickmode": "array",
         "ticktext": [
          "alt1",
          "alt2",
          "alt3",
          "alt4"
         ],
         "tickvals": [
          0,
          1,
          2,
          3
         ]
        },
        "yaxis": {
         "range": [
          -1.5,
          1.5
         ],
         "title": {
          "text": "MCDA normalized score"
         }
        }
       }
      },
      "text/html": [
       "<div>                            <div id=\"8c084cdb-f848-48f3-abbc-530e1bf38970\" class=\"plotly-graph-div\" style=\"height:600px; width:1000px;\"></div>            <script type=\"text/javascript\">                require([\"plotly\"], function(Plotly) {                    window.PLOTLYENV=window.PLOTLYENV || {};                                    if (document.getElementById(\"8c084cdb-f848-48f3-abbc-530e1bf38970\")) {                    Plotly.newPlot(                        \"8c084cdb-f848-48f3-abbc-530e1bf38970\",                        [{\"name\":\"ws-stand\",\"x\":[\"alt1\",\"alt2\",\"alt3\",\"alt4\"],\"y\":[0.7064348649443013,0.6557004301691082,1.0,0.0],\"type\":\"bar\"},{\"name\":\"ws-minmax\",\"x\":[\"alt1\",\"alt2\",\"alt3\",\"alt4\"],\"y\":[0.6837349141980809,0.6327892038899294,1.0,0.0],\"type\":\"bar\"},{\"name\":\"ws-target\",\"x\":[\"alt1\",\"alt2\",\"alt3\",\"alt4\"],\"y\":[0.6077150342566565,0.5676316196523944,1.0,0.0],\"type\":\"bar\"},{\"name\":\"ws-rank\",\"x\":[\"alt1\",\"alt2\",\"alt3\",\"alt4\"],\"y\":[0.6428571428571426,0.6428571428571426,0.9999999999999998,0.0],\"type\":\"bar\"},{\"name\":\"geom-stand\",\"x\":[\"alt1\",\"alt2\",\"alt3\",\"alt4\"],\"y\":[0.0,0.1133712173522293,1.0,0.2139007988908175],\"type\":\"bar\"},{\"name\":\"geom-minmax\",\"x\":[\"alt1\",\"alt2\",\"alt3\",\"alt4\"],\"y\":[1.0,0.9908923025412416,0.9266984713776792,0.0],\"type\":\"bar\"},{\"name\":\"geom-target\",\"x\":[\"alt1\",\"alt2\",\"alt3\",\"alt4\"],\"y\":[0.5312242948208696,0.5224121802303807,1.0,0.0],\"type\":\"bar\"},{\"name\":\"geom-rank\",\"x\":[\"alt1\",\"alt2\",\"alt3\",\"alt4\"],\"y\":[0.9244073538025824,1.0,0.9652760657553534,0.0],\"type\":\"bar\"},{\"name\":\"harm-stand\",\"x\":[\"alt1\",\"alt2\",\"alt3\",\"alt4\"],\"y\":[0.0918957001244131,0.0,1.0,0.706869668415634],\"type\":\"bar\"},{\"name\":\"harm-minmax\",\"x\":[\"alt1\",\"alt2\",\"alt3\",\"alt4\"],\"y\":[0.9782237597167354,1.0,0.5647847283465377,0.0],\"type\":\"bar\"},{\"name\":\"harm-target\",\"x\":[\"alt1\",\"alt2\",\"alt3\",\"alt4\"],\"y\":[0.8563503481621502,0.8678345864758819,1.0,0.0],\"type\":\"bar\"},{\"name\":\"harm-rank\",\"x\":[\"alt1\",\"alt2\",\"alt3\",\"alt4\"],\"y\":[0.922909486667876,1.0,0.5405405405405406,0.0],\"type\":\"bar\"},{\"name\":\"min-stand\",\"x\":[\"alt1\",\"alt2\",\"alt3\",\"alt4\"],\"y\":[1.0,1.0,0.0,0.0839740158467539],\"type\":\"bar\"},{\"name\":\"min-minmax\",\"x\":[\"alt1\",\"alt2\",\"alt3\",\"alt4\"],\"y\":[0.0,0.0,0.0,0.0],\"type\":\"bar\"},{\"name\":\"min-target\",\"x\":[\"alt1\",\"alt2\",\"alt3\",\"alt4\"],\"y\":[1.0,1.0,0.6774193548387096,0.0],\"type\":\"bar\"},{\"name\":\"min-rank\",\"x\":[\"alt1\",\"alt2\",\"alt3\",\"alt4\"],\"y\":[1.0,1.0,0.0,0.0],\"type\":\"bar\"}],                        {\"template\":{\"data\":{\"histogram2dcontour\":[{\"type\":\"histogram2dcontour\",\"colorbar\":{\"outlinewidth\":0,\"ticks\":\"\"},\"colorscale\":[[0.0,\"#0d0887\"],[0.1111111111111111,\"#46039f\"],[0.2222222222222222,\"#7201a8\"],[0.3333333333333333,\"#9c179e\"],[0.4444444444444444,\"#bd3786\"],[0.5555555555555556,\"#d8576b\"],[0.6666666666666666,\"#ed7953\"],[0.7777777777777778,\"#fb9f3a\"],[0.8888888888888888,\"#fdca26\"],[1.0,\"#f0f921\"]]}],\"choropleth\":[{\"type\":\"choropleth\",\"colorbar\":{\"outlinewidth\":0,\"ticks\":\"\"}}],\"histogram2d\":[{\"type\":\"histogram2d\",\"colorbar\":{\"outlinewidth\":0,\"ticks\":\"\"},\"colorscale\":[[0.0,\"#0d0887\"],[0.1111111111111111,\"#46039f\"],[0.2222222222222222,\"#7201a8\"],[0.3333333333333333,\"#9c179e\"],[0.4444444444444444,\"#bd3786\"],[0.5555555555555556,\"#d8576b\"],[0.6666666666666666,\"#ed7953\"],[0.7777777777777778,\"#fb9f3a\"],[0.8888888888888888,\"#fdca26\"],[1.0,\"#f0f921\"]]}],\"heatmap\":[{\"type\":\"heatmap\",\"colorbar\":{\"outlinewidth\":0,\"ticks\":\"\"},\"colorscale\":[[0.0,\"#0d0887\"],[0.1111111111111111,\"#46039f\"],[0.2222222222222222,\"#7201a8\"],[0.3333333333333333,\"#9c179e\"],[0.4444444444444444,\"#bd3786\"],[0.5555555555555556,\"#d8576b\"],[0.6666666666666666,\"#ed7953\"],[0.7777777777777778,\"#fb9f3a\"],[0.8888888888888888,\"#fdca26\"],[1.0,\"#f0f921\"]]}],\"heatmapgl\":[{\"type\":\"heatmapgl\",\"colorbar\":{\"outlinewidth\":0,\"ticks\":\"\"},\"colorscale\":[[0.0,\"#0d0887\"],[0.1111111111111111,\"#46039f\"],[0.2222222222222222,\"#7201a8\"],[0.3333333333333333,\"#9c179e\"],[0.4444444444444444,\"#bd3786\"],[0.5555555555555556,\"#d8576b\"],[0.6666666666666666,\"#ed7953\"],[0.7777777777777778,\"#fb9f3a\"],[0.8888888888888888,\"#fdca26\"],[1.0,\"#f0f921\"]]}],\"contourcarpet\":[{\"type\":\"contourcarpet\",\"colorbar\":{\"outlinewidth\":0,\"ticks\":\"\"}}],\"contour\":[{\"type\":\"contour\",\"colorbar\":{\"outlinewidth\":0,\"ticks\":\"\"},\"colorscale\":[[0.0,\"#0d0887\"],[0.1111111111111111,\"#46039f\"],[0.2222222222222222,\"#7201a8\"],[0.3333333333333333,\"#9c179e\"],[0.4444444444444444,\"#bd3786\"],[0.5555555555555556,\"#d8576b\"],[0.6666666666666666,\"#ed7953\"],[0.7777777777777778,\"#fb9f3a\"],[0.8888888888888888,\"#fdca26\"],[1.0,\"#f0f921\"]]}],\"surface\":[{\"type\":\"surface\",\"colorbar\":{\"outlinewidth\":0,\"ticks\":\"\"},\"colorscale\":[[0.0,\"#0d0887\"],[0.1111111111111111,\"#46039f\"],[0.2222222222222222,\"#7201a8\"],[0.3333333333333333,\"#9c179e\"],[0.4444444444444444,\"#bd3786\"],[0.5555555555555556,\"#d8576b\"],[0.6666666666666666,\"#ed7953\"],[0.7777777777777778,\"#fb9f3a\"],[0.8888888888888888,\"#fdca26\"],[1.0,\"#f0f921\"]]}],\"mesh3d\":[{\"type\":\"mesh3d\",\"colorbar\":{\"outlinewidth\":0,\"ticks\":\"\"}}],\"scatter\":[{\"fillpattern\":{\"fillmode\":\"overlay\",\"size\":10,\"solidity\":0.2},\"type\":\"scatter\"}],\"parcoords\":[{\"type\":\"parcoords\",\"line\":{\"colorbar\":{\"outlinewidth\":0,\"ticks\":\"\"}}}],\"scatterpolargl\":[{\"type\":\"scatterpolargl\",\"marker\":{\"colorbar\":{\"outlinewidth\":0,\"ticks\":\"\"}}}],\"bar\":[{\"error_x\":{\"color\":\"#2a3f5f\"},\"error_y\":{\"color\":\"#2a3f5f\"},\"marker\":{\"line\":{\"color\":\"#E5ECF6\",\"width\":0.5},\"pattern\":{\"fillmode\":\"overlay\",\"size\":10,\"solidity\":0.2}},\"type\":\"bar\"}],\"scattergeo\":[{\"type\":\"scattergeo\",\"marker\":{\"colorbar\":{\"outlinewidth\":0,\"ticks\":\"\"}}}],\"scatterpolar\":[{\"type\":\"scatterpolar\",\"marker\":{\"colorbar\":{\"outlinewidth\":0,\"ticks\":\"\"}}}],\"histogram\":[{\"marker\":{\"pattern\":{\"fillmode\":\"overlay\",\"size\":10,\"solidity\":0.2}},\"type\":\"histogram\"}],\"scattergl\":[{\"type\":\"scattergl\",\"marker\":{\"colorbar\":{\"outlinewidth\":0,\"ticks\":\"\"}}}],\"scatter3d\":[{\"type\":\"scatter3d\",\"line\":{\"colorbar\":{\"outlinewidth\":0,\"ticks\":\"\"}},\"marker\":{\"colorbar\":{\"outlinewidth\":0,\"ticks\":\"\"}}}],\"scattermapbox\":[{\"type\":\"scattermapbox\",\"marker\":{\"colorbar\":{\"outlinewidth\":0,\"ticks\":\"\"}}}],\"scatterternary\":[{\"type\":\"scatterternary\",\"marker\":{\"colorbar\":{\"outlinewidth\":0,\"ticks\":\"\"}}}],\"scattercarpet\":[{\"type\":\"scattercarpet\",\"marker\":{\"colorbar\":{\"outlinewidth\":0,\"ticks\":\"\"}}}],\"carpet\":[{\"aaxis\":{\"endlinecolor\":\"#2a3f5f\",\"gridcolor\":\"white\",\"linecolor\":\"white\",\"minorgridcolor\":\"white\",\"startlinecolor\":\"#2a3f5f\"},\"baxis\":{\"endlinecolor\":\"#2a3f5f\",\"gridcolor\":\"white\",\"linecolor\":\"white\",\"minorgridcolor\":\"white\",\"startlinecolor\":\"#2a3f5f\"},\"type\":\"carpet\"}],\"table\":[{\"cells\":{\"fill\":{\"color\":\"#EBF0F8\"},\"line\":{\"color\":\"white\"}},\"header\":{\"fill\":{\"color\":\"#C8D4E3\"},\"line\":{\"color\":\"white\"}},\"type\":\"table\"}],\"barpolar\":[{\"marker\":{\"line\":{\"color\":\"#E5ECF6\",\"width\":0.5},\"pattern\":{\"fillmode\":\"overlay\",\"size\":10,\"solidity\":0.2}},\"type\":\"barpolar\"}],\"pie\":[{\"automargin\":true,\"type\":\"pie\"}]},\"layout\":{\"autotypenumbers\":\"strict\",\"colorway\":[\"#636efa\",\"#EF553B\",\"#00cc96\",\"#ab63fa\",\"#FFA15A\",\"#19d3f3\",\"#FF6692\",\"#B6E880\",\"#FF97FF\",\"#FECB52\"],\"font\":{\"color\":\"#2a3f5f\"},\"hovermode\":\"closest\",\"hoverlabel\":{\"align\":\"left\"},\"paper_bgcolor\":\"white\",\"plot_bgcolor\":\"#E5ECF6\",\"polar\":{\"bgcolor\":\"#E5ECF6\",\"angularaxis\":{\"gridcolor\":\"white\",\"linecolor\":\"white\",\"ticks\":\"\"},\"radialaxis\":{\"gridcolor\":\"white\",\"linecolor\":\"white\",\"ticks\":\"\"}},\"ternary\":{\"bgcolor\":\"#E5ECF6\",\"aaxis\":{\"gridcolor\":\"white\",\"linecolor\":\"white\",\"ticks\":\"\"},\"baxis\":{\"gridcolor\":\"white\",\"linecolor\":\"white\",\"ticks\":\"\"},\"caxis\":{\"gridcolor\":\"white\",\"linecolor\":\"white\",\"ticks\":\"\"}},\"coloraxis\":{\"colorbar\":{\"outlinewidth\":0,\"ticks\":\"\"}},\"colorscale\":{\"sequential\":[[0.0,\"#0d0887\"],[0.1111111111111111,\"#46039f\"],[0.2222222222222222,\"#7201a8\"],[0.3333333333333333,\"#9c179e\"],[0.4444444444444444,\"#bd3786\"],[0.5555555555555556,\"#d8576b\"],[0.6666666666666666,\"#ed7953\"],[0.7777777777777778,\"#fb9f3a\"],[0.8888888888888888,\"#fdca26\"],[1.0,\"#f0f921\"]],\"sequentialminus\":[[0.0,\"#0d0887\"],[0.1111111111111111,\"#46039f\"],[0.2222222222222222,\"#7201a8\"],[0.3333333333333333,\"#9c179e\"],[0.4444444444444444,\"#bd3786\"],[0.5555555555555556,\"#d8576b\"],[0.6666666666666666,\"#ed7953\"],[0.7777777777777778,\"#fb9f3a\"],[0.8888888888888888,\"#fdca26\"],[1.0,\"#f0f921\"]],\"diverging\":[[0,\"#8e0152\"],[0.1,\"#c51b7d\"],[0.2,\"#de77ae\"],[0.3,\"#f1b6da\"],[0.4,\"#fde0ef\"],[0.5,\"#f7f7f7\"],[0.6,\"#e6f5d0\"],[0.7,\"#b8e186\"],[0.8,\"#7fbc41\"],[0.9,\"#4d9221\"],[1,\"#276419\"]]},\"xaxis\":{\"gridcolor\":\"white\",\"linecolor\":\"white\",\"ticks\":\"\",\"title\":{\"standoff\":15},\"zerolinecolor\":\"white\",\"automargin\":true,\"zerolinewidth\":2},\"yaxis\":{\"gridcolor\":\"white\",\"linecolor\":\"white\",\"ticks\":\"\",\"title\":{\"standoff\":15},\"zerolinecolor\":\"white\",\"automargin\":true,\"zerolinewidth\":2},\"scene\":{\"xaxis\":{\"backgroundcolor\":\"#E5ECF6\",\"gridcolor\":\"white\",\"linecolor\":\"white\",\"showbackground\":true,\"ticks\":\"\",\"zerolinecolor\":\"white\",\"gridwidth\":2},\"yaxis\":{\"backgroundcolor\":\"#E5ECF6\",\"gridcolor\":\"white\",\"linecolor\":\"white\",\"showbackground\":true,\"ticks\":\"\",\"zerolinecolor\":\"white\",\"gridwidth\":2},\"zaxis\":{\"backgroundcolor\":\"#E5ECF6\",\"gridcolor\":\"white\",\"linecolor\":\"white\",\"showbackground\":true,\"ticks\":\"\",\"zerolinecolor\":\"white\",\"gridwidth\":2}},\"shapedefaults\":{\"line\":{\"color\":\"#2a3f5f\"}},\"annotationdefaults\":{\"arrowcolor\":\"#2a3f5f\",\"arrowhead\":0,\"arrowwidth\":1},\"geo\":{\"bgcolor\":\"white\",\"landcolor\":\"#E5ECF6\",\"subunitcolor\":\"white\",\"showland\":true,\"showlakes\":true,\"lakecolor\":\"white\"},\"title\":{\"x\":0.05},\"mapbox\":{\"style\":\"light\"}}},\"yaxis\":{\"range\":[-1.5,1.5],\"title\":{\"text\":\"MCDA normalized score\"}},\"title\":{\"text\":\"<b>MCDA analysis<b>\",\"font\":{\"size\":22}},\"xaxis\":{\"tickmode\":\"array\",\"tickvals\":[0,1,2,3],\"ticktext\":[\"alt1\",\"alt2\",\"alt3\",\"alt4\"],\"tickangle\":45},\"barmode\":\"group\",\"height\":600,\"width\":1000},                        {\"responsive\": true}                    ).then(function(){\n",
       "                            \n",
       "var gd = document.getElementById('8c084cdb-f848-48f3-abbc-530e1bf38970');\n",
       "var x = new MutationObserver(function (mutations, observer) {{\n",
       "        var display = window.getComputedStyle(gd).display;\n",
       "        if (!display || display === 'none') {{\n",
       "            console.log([gd, 'removed!']);\n",
       "            Plotly.purge(gd);\n",
       "            observer.disconnect();\n",
       "        }}\n",
       "}});\n",
       "\n",
       "// Listen for the removal of the full notebook cells\n",
       "var notebookContainer = gd.closest('#notebook-container');\n",
       "if (notebookContainer) {{\n",
       "    x.observe(notebookContainer, {childList: true});\n",
       "}}\n",
       "\n",
       "// Listen for the clearing of the current output cell\n",
       "var outputEl = gd.closest('.output');\n",
       "if (outputEl) {{\n",
       "    x.observe(outputEl, {childList: true});\n",
       "}}\n",
       "\n",
       "                        })                };                });            </script>        </div>"
      ]
     },
     "metadata": {},
     "output_type": "display_data"
    }
   ],
   "source": [
    "import plotly.graph_objects as go\n",
    "\n",
    "no_of_pairs = scores.shape[1]-1\n",
    "\n",
    "fig = go.Figure(layout_yaxis_range=[-3,3], layout_yaxis_title=\"MCDA normalized score\")\n",
    "\n",
    "i=0\n",
    "combinations = scores.columns\n",
    "while i <= no_of_pairs-1:\n",
    "    fig.add_trace(go.Bar(\n",
    "        name=combinations[i+1],\n",
    "        x=scores['Alternatives'][:].values.tolist(), \n",
    "        y=scores.iloc[:,i+1],       \n",
    "    ))\n",
    "    i=i+1\n",
    "\n",
    "fig.update_layout(barmode='group', height=600, width=1000, \n",
    "                  title='<b>MCDA analysis<b>',\n",
    "                  title_font_size=22,\n",
    "                  \n",
    "                  xaxis=dict(\n",
    "                  tickmode=\"array\",\n",
    "                  tickvals=np.arange(0, len(scores['Alternatives'][:])),\n",
    "                  ticktext=scores['Alternatives'][:],\n",
    "                  tickangle=45\n",
    "                            ),\n",
    "                  \n",
    "                  yaxis_range = [-1.5,1.5]\n",
    "                  \n",
    "                 )\n",
    "                  \n",
    "fig.show()"
   ]
  },
  {
   "cell_type": "code",
   "execution_count": 169,
   "id": "00d92f2d",
   "metadata": {
    "scrolled": true
   },
   "outputs": [
    {
     "name": "stdout",
     "output_type": "stream",
     "text": [
      "Requirement already satisfied: kaleido in /Users/flaminia/mambaforge/lib/python3.9/site-packages (0.2.1)\r\n"
     ]
    }
   ],
   "source": [
    "!pip install -U kaleido"
   ]
  },
  {
   "cell_type": "code",
   "execution_count": 177,
   "id": "2ac86ef5",
   "metadata": {},
   "outputs": [],
   "source": [
    "import kaleido\n",
    "#import plotly.io as pio\n",
    "#pio.kaleido.scope.default_format = \"svg\""
   ]
  },
  {
   "cell_type": "code",
   "execution_count": 178,
   "id": "ee9cb098",
   "metadata": {},
   "outputs": [
    {
     "ename": "ValueError",
     "evalue": "\nImage export using the \"kaleido\" engine requires the kaleido package,\nwhich can be installed using pip:\n    $ pip install -U kaleido\n",
     "output_type": "error",
     "traceback": [
      "\u001b[0;31m---------------------------------------------------------------------------\u001b[0m",
      "\u001b[0;31mValueError\u001b[0m                                Traceback (most recent call last)",
      "\u001b[0;32m/var/folders/mt/lx9bxf895gq_bfbn6l6_m3kr0000gn/T/ipykernel_74002/1966477827.py\u001b[0m in \u001b[0;36m<module>\u001b[0;34m\u001b[0m\n\u001b[0;32m----> 1\u001b[0;31m \u001b[0mfig\u001b[0m\u001b[0;34m.\u001b[0m\u001b[0mwrite_image\u001b[0m\u001b[0;34m(\u001b[0m\u001b[0;34m\"./fig1.png\"\u001b[0m\u001b[0;34m)\u001b[0m\u001b[0;34m\u001b[0m\u001b[0;34m\u001b[0m\u001b[0m\n\u001b[0m",
      "\u001b[0;32m~/mambaforge/lib/python3.9/site-packages/plotly/basedatatypes.py\u001b[0m in \u001b[0;36mwrite_image\u001b[0;34m(self, *args, **kwargs)\u001b[0m\n\u001b[1;32m   3819\u001b[0m         \u001b[0;32mimport\u001b[0m \u001b[0mplotly\u001b[0m\u001b[0;34m.\u001b[0m\u001b[0mio\u001b[0m \u001b[0;32mas\u001b[0m \u001b[0mpio\u001b[0m\u001b[0;34m\u001b[0m\u001b[0;34m\u001b[0m\u001b[0m\n\u001b[1;32m   3820\u001b[0m \u001b[0;34m\u001b[0m\u001b[0m\n\u001b[0;32m-> 3821\u001b[0;31m         \u001b[0;32mreturn\u001b[0m \u001b[0mpio\u001b[0m\u001b[0;34m.\u001b[0m\u001b[0mwrite_image\u001b[0m\u001b[0;34m(\u001b[0m\u001b[0mself\u001b[0m\u001b[0;34m,\u001b[0m \u001b[0;34m*\u001b[0m\u001b[0margs\u001b[0m\u001b[0;34m,\u001b[0m \u001b[0;34m**\u001b[0m\u001b[0mkwargs\u001b[0m\u001b[0;34m)\u001b[0m\u001b[0;34m\u001b[0m\u001b[0;34m\u001b[0m\u001b[0m\n\u001b[0m\u001b[1;32m   3822\u001b[0m \u001b[0;34m\u001b[0m\u001b[0m\n\u001b[1;32m   3823\u001b[0m     \u001b[0;31m# Static helpers\u001b[0m\u001b[0;34m\u001b[0m\u001b[0;34m\u001b[0m\u001b[0;34m\u001b[0m\u001b[0m\n",
      "\u001b[0;32m~/mambaforge/lib/python3.9/site-packages/plotly/io/_kaleido.py\u001b[0m in \u001b[0;36mwrite_image\u001b[0;34m(fig, file, format, scale, width, height, validate, engine)\u001b[0m\n\u001b[1;32m    265\u001b[0m     \u001b[0;31m# -------------\u001b[0m\u001b[0;34m\u001b[0m\u001b[0;34m\u001b[0m\u001b[0;34m\u001b[0m\u001b[0m\n\u001b[1;32m    266\u001b[0m     \u001b[0;31m# Do this first so we don't create a file if image conversion fails\u001b[0m\u001b[0;34m\u001b[0m\u001b[0;34m\u001b[0m\u001b[0;34m\u001b[0m\u001b[0m\n\u001b[0;32m--> 267\u001b[0;31m     img_data = to_image(\n\u001b[0m\u001b[1;32m    268\u001b[0m         \u001b[0mfig\u001b[0m\u001b[0;34m,\u001b[0m\u001b[0;34m\u001b[0m\u001b[0;34m\u001b[0m\u001b[0m\n\u001b[1;32m    269\u001b[0m         \u001b[0mformat\u001b[0m\u001b[0;34m=\u001b[0m\u001b[0mformat\u001b[0m\u001b[0;34m,\u001b[0m\u001b[0;34m\u001b[0m\u001b[0;34m\u001b[0m\u001b[0m\n",
      "\u001b[0;32m~/mambaforge/lib/python3.9/site-packages/plotly/io/_kaleido.py\u001b[0m in \u001b[0;36mto_image\u001b[0;34m(fig, format, width, height, scale, validate, engine)\u001b[0m\n\u001b[1;32m    131\u001b[0m     \u001b[0;31m# Raise informative error message if Kaleido is not installed\u001b[0m\u001b[0;34m\u001b[0m\u001b[0;34m\u001b[0m\u001b[0;34m\u001b[0m\u001b[0m\n\u001b[1;32m    132\u001b[0m     \u001b[0;32mif\u001b[0m \u001b[0mscope\u001b[0m \u001b[0;32mis\u001b[0m \u001b[0;32mNone\u001b[0m\u001b[0;34m:\u001b[0m\u001b[0;34m\u001b[0m\u001b[0;34m\u001b[0m\u001b[0m\n\u001b[0;32m--> 133\u001b[0;31m         raise ValueError(\n\u001b[0m\u001b[1;32m    134\u001b[0m             \"\"\"\n\u001b[1;32m    135\u001b[0m \u001b[0mImage\u001b[0m \u001b[0mexport\u001b[0m \u001b[0musing\u001b[0m \u001b[0mthe\u001b[0m \u001b[0;34m\"kaleido\"\u001b[0m \u001b[0mengine\u001b[0m \u001b[0mrequires\u001b[0m \u001b[0mthe\u001b[0m \u001b[0mkaleido\u001b[0m \u001b[0mpackage\u001b[0m\u001b[0;34m,\u001b[0m\u001b[0;34m\u001b[0m\u001b[0;34m\u001b[0m\u001b[0m\n",
      "\u001b[0;31mValueError\u001b[0m: \nImage export using the \"kaleido\" engine requires the kaleido package,\nwhich can be installed using pip:\n    $ pip install -U kaleido\n"
     ]
    }
   ],
   "source": [
    "fig.write_image(\"./fig1.png\")"
   ]
  },
  {
   "cell_type": "code",
   "execution_count": 176,
   "id": "97bbb0f2",
   "metadata": {},
   "outputs": [
    {
     "name": "stdout",
     "output_type": "stream",
     "text": [
      "affine==2.3.0\r\n",
      "anyio==3.6.2\r\n",
      "appnope==0.1.2\r\n",
      "argon2-cffi==21.3.0\r\n",
      "argon2-cffi-bindings==21.2.0\r\n",
      "arrow==1.2.3\r\n",
      "async-generator==1.10\r\n",
      "attrs==21.2.0\r\n",
      "backcall==0.2.0\r\n",
      "basemap==1.3.6\r\n",
      "basemap-data==1.3.2\r\n",
      "beautifulsoup4 @ file:///home/conda/feedstock_root/build_artifacts/beautifulsoup4_1649463573192/work\r\n",
      "bleach==5.0.1\r\n",
      "blis @ file:///Users/runner/miniforge3/conda-bld/cython-blis_1668499380737/work\r\n",
      "Bottleneck @ file:///Users/runner/miniforge3/conda-bld/bottleneck_1666839229396/work\r\n",
      "boxsdk==3.1.0\r\n",
      "brotlipy==0.7.0\r\n",
      "catalogue @ file:///Users/runner/miniforge3/conda-bld/catalogue_1666892118051/work\r\n",
      "certifi==2022.12.7\r\n",
      "cffi @ file:///Users/runner/miniforge3/conda-bld/cffi_1625835350093/work\r\n",
      "chardet==3.0.4\r\n",
      "charset-normalizer @ file:///home/conda/feedstock_root/build_artifacts/charset-normalizer_1626371162869/work\r\n",
      "click==8.0.3\r\n",
      "click-plugins==1.1.1\r\n",
      "cligj==0.7.2\r\n",
      "colorama @ file:///home/conda/feedstock_root/build_artifacts/colorama_1602866480661/work\r\n",
      "comm==0.1.2\r\n",
      "conda==4.10.3\r\n",
      "conda-package-handling @ file:///Users/runner/miniforge3/conda-bld/conda-package-handling_1618231726924/work\r\n",
      "confection @ file:///Users/runner/miniforge3/conda-bld/confection_1667038815204/work\r\n",
      "contourpy @ file:///Users/runner/miniforge3/conda-bld/contourpy_1667248076842/work\r\n",
      "cryptography @ file:///Users/runner/miniforge3/conda-bld/cryptography_1616851494586/work\r\n",
      "cycler @ file:///home/conda/feedstock_root/build_artifacts/cycler_1635519461629/work\r\n",
      "cymem @ file:///Users/runner/miniforge3/conda-bld/cymem_1666909770670/work\r\n",
      "dataclasses @ file:///home/conda/feedstock_root/build_artifacts/dataclasses_1628958434797/work\r\n",
      "dbfread==2.0.4\r\n",
      "debugpy==1.6.4\r\n",
      "decorator==5.1.0\r\n",
      "defusedxml==0.7.1\r\n",
      "earthpy==0.9.4\r\n",
      "entrypoints==0.4\r\n",
      "et-xmlfile==1.1.0\r\n",
      "exceptiongroup==1.1.1\r\n",
      "fastai==2.7.10\r\n",
      "fastcore==1.5.27\r\n",
      "fastdownload==0.0.7\r\n",
      "fastjsonschema==2.16.2\r\n",
      "fastprogress @ file:///home/jhoward/mambaforge/conda-bld/fastprogress_1658473398631/work\r\n",
      "Fiona==1.8.20\r\n",
      "Flask==2.0.2\r\n",
      "fonttools==4.28.2\r\n",
      "fqdn==1.5.1\r\n",
      "GDAL==3.3.2\r\n",
      "geographiclib==2.0\r\n",
      "geopandas==0.10.2\r\n",
      "geopy==2.3.0\r\n",
      "gevent==21.8.0\r\n",
      "greenlet==1.1.2\r\n",
      "h11==0.12.0\r\n",
      "htmlmin==0.1.12\r\n",
      "idna @ file:///home/conda/feedstock_root/build_artifacts/idna_1609836280497/work\r\n",
      "ijson==2.6.1\r\n",
      "ImageHash==4.3.1\r\n",
      "imageio==2.13.0\r\n",
      "importlib-metadata==5.2.0\r\n",
      "iniconfig==2.0.0\r\n",
      "install==1.3.5\r\n",
      "ipykernel==6.19.3\r\n",
      "ipython==7.30.1\r\n",
      "ipython-genutils==0.2.0\r\n",
      "ipywidgets==8.0.4\r\n",
      "isoduration==20.11.0\r\n",
      "itsdangerous==2.0.1\r\n",
      "Janitor==0.1.1\r\n",
      "jedi==0.18.1\r\n",
      "Jinja2==3.0.3\r\n",
      "joblib==1.0.1\r\n",
      "jsonpickle==2.0.0\r\n",
      "jsonpointer==2.3\r\n",
      "jsonschema==4.17.3\r\n",
      "jupyter-events==0.5.0\r\n",
      "jupyter_client==7.4.8\r\n",
      "jupyter_core==5.1.0\r\n",
      "jupyter_server==2.0.1\r\n",
      "jupyter_server_terminals==0.4.3\r\n",
      "jupyterlab-pygments==0.2.2\r\n",
      "jupyterlab-widgets==3.0.5\r\n",
      "kaleido==0.2.1\r\n",
      "kiwisolver==1.3.2\r\n",
      "langcodes @ file:///home/conda/feedstock_root/build_artifacts/langcodes_1636741340529/work\r\n",
      "linkedin-scraper==2.9.0\r\n",
      "lxml==4.6.4\r\n",
      "mamba @ file:///Users/runner/miniforge3/conda-bld/mamba_1629310526029/work\r\n",
      "MarkupSafe==2.0.1\r\n",
      "matplotlib==3.5.0\r\n",
      "matplotlib-inline==0.1.3\r\n",
      "mbtools==0.1.1\r\n",
      "mdbtools==0.3.14\r\n",
      "meza==0.46.0\r\n",
      "missingno==0.5.0\r\n",
      "mistune==2.0.4\r\n",
      "multimethod==1.6\r\n",
      "multipledispatch==0.6.0\r\n",
      "munch==2.5.0\r\n",
      "munkres==1.1.4\r\n",
      "murmurhash @ file:///Users/runner/miniforge3/conda-bld/murmurhash_1666946231082/work\r\n",
      "natsort==8.0.0\r\n",
      "nbclassic==0.4.8\r\n",
      "nbclient==0.7.2\r\n",
      "nbconvert==7.2.7\r\n",
      "nbformat==5.7.1\r\n",
      "nest-asyncio==1.5.6\r\n",
      "networkx==2.6.3\r\n",
      "notebook==6.5.2\r\n",
      "notebook_shim==0.2.2\r\n",
      "numexpr @ file:///Users/runner/miniforge3/conda-bld/numexpr_1666816696240/work\r\n",
      "numpy==1.23.5\r\n",
      "openpyxl==3.1.2\r\n",
      "outcome==1.1.0\r\n",
      "OWSLib==0.28.1\r\n",
      "packaging==21.3\r\n",
      "pandas==1.3.4\r\n",
      "pandas-access==0.0.1\r\n",
      "pandas-flavor==0.2.0\r\n",
      "pandas-profiling==3.6.6\r\n",
      "pandocfilters==1.5.0\r\n",
      "parso==0.8.3\r\n",
      "pathy @ file:///home/conda/feedstock_root/build_artifacts/pathy_1670689864140/work\r\n",
      "patsy==0.5.3\r\n",
      "pdf2image==1.16.3\r\n",
      "pexpect==4.8.0\r\n",
      "phik==0.12.0\r\n",
      "pickleshare==0.7.5\r\n",
      "Pillow==8.4.0\r\n",
      "platformdirs==2.6.0\r\n",
      "plotly==5.13.0\r\n",
      "pluggy==1.0.0\r\n",
      "preshed @ file:///Users/runner/miniforge3/conda-bld/preshed_1666991344901/work\r\n",
      "progressbar==2.5\r\n",
      "prometheus-client==0.15.0\r\n",
      "prompt-toolkit==3.0.23\r\n",
      "psutil==5.9.4\r\n",
      "ptyprocess==0.7.0\r\n",
      "pycosat @ file:///Users/runner/miniforge3/conda-bld/pycosat_1624996792650/work\r\n",
      "pycparser @ file:///home/conda/feedstock_root/build_artifacts/pycparser_1593275161868/work\r\n",
      "pydantic @ file:///Users/runner/miniforge3/conda-bld/pydantic_1666755013609/work\r\n",
      "Pygments==2.10.0\r\n",
      "pygogo==1.3.0\r\n",
      "pyjanitor==0.22.0\r\n",
      "PyJWT==2.3.0\r\n",
      "pymongo==4.2.0\r\n",
      "PyMuPDF==1.22.2\r\n",
      "pyOpenSSL @ file:///home/conda/feedstock_root/build_artifacts/pyopenssl_1608055815057/work\r\n",
      "pyparsing==3.0.6\r\n",
      "PyPDF2==3.0.1\r\n",
      "pyproj==3.3.0\r\n",
      "pyrsistent==0.19.2\r\n",
      "pyshp==2.3.1\r\n",
      "PySocks @ file:///Users/runner/miniforge3/conda-bld/pysocks_1610291460269/work\r\n",
      "pystac==1.6.1\r\n",
      "pytesseract==0.3.10\r\n",
      "pytest==7.2.2\r\n",
      "python-dateutil @ file:///home/conda/feedstock_root/build_artifacts/python-dateutil_1626286286081/work\r\n",
      "python-json-logger==2.0.4\r\n",
      "python-qt==0.50\r\n",
      "python-slugify==1.2.6\r\n",
      "pytz==2021.3\r\n",
      "pyvis==0.1.9\r\n",
      "PyWavelets==1.2.0\r\n",
      "PyYAML==5.4.1\r\n",
      "pyzmq==24.0.1\r\n",
      "raster2xyz==0.1.3\r\n",
      "rasterio==1.2.10\r\n",
      "requests @ file:///home/conda/feedstock_root/build_artifacts/requests_1626393743643/work\r\n",
      "requests-toolbelt==0.9.1\r\n",
      "rfc3339-validator==0.1.4\r\n",
      "rfc3986-validator==0.1.1\r\n",
      "rioxarray==0.13.3\r\n",
      "ruamel-yaml-conda @ file:///Users/runner/miniforge3/conda-bld/ruamel_yaml_1624999868738/work\r\n",
      "scikit-image==0.18.3\r\n",
      "scikit-learn==1.2.0\r\n",
      "scipy==1.7.3\r\n",
      "seaborn==0.11.2\r\n",
      "selenium==4.1.0\r\n",
      "Send2Trash==1.8.0\r\n",
      "setuptools-scm==6.3.2\r\n",
      "Shapely==1.8.0\r\n",
      "shellingham @ file:///home/conda/feedstock_root/build_artifacts/shellingham_1659638615822/work\r\n",
      "six @ file:///home/conda/feedstock_root/build_artifacts/six_1620240208055/work\r\n",
      "smart-open @ file:///home/conda/feedstock_root/build_artifacts/smart_open_1630238320325/work\r\n",
      "sniffio==1.2.0\r\n",
      "snuggs==1.4.7\r\n",
      "sortedcontainers==2.4.0\r\n",
      "soupsieve @ file:///home/conda/feedstock_root/build_artifacts/soupsieve_1658207591808/work\r\n",
      "spacy @ file:///Users/runner/miniforge3/conda-bld/spacy_1668615326297/work\r\n",
      "spacy-legacy @ file:///home/conda/feedstock_root/build_artifacts/spacy-legacy_1660748275723/work\r\n",
      "spacy-loggers @ file:///home/conda/feedstock_root/build_artifacts/spacy-loggers_1661365735520/work\r\n",
      "SQLAlchemy==1.4.40\r\n",
      "srsly @ file:///Users/runner/miniforge3/conda-bld/srsly_1666955730822/work\r\n",
      "statsmodels==0.13.5\r\n",
      "tangled-up-in-unicode==0.1.0\r\n",
      "tenacity==8.1.0\r\n",
      "terminado==0.17.1\r\n",
      "thinc @ file:///Users/runner/miniforge3/conda-bld/thinc_1668511895179/work\r\n",
      "threadpoolctl==3.1.0\r\n",
      "tifffile==2021.11.2\r\n",
      "tinycss2==1.2.1\r\n",
      "tomli==1.2.2\r\n",
      "torch==1.13.1\r\n",
      "torchvision==0.14.1\r\n",
      "tornado @ file:///Users/runner/miniforge3/conda-bld/tornado_1666788824966/work\r\n",
      "tqdm @ file:///home/conda/feedstock_root/build_artifacts/tqdm_1628985621016/work\r\n",
      "traitlets==5.8.0\r\n",
      "trio==0.19.0\r\n",
      "trio-websocket==0.9.2\r\n",
      "typeguard==2.13.3\r\n",
      "typer @ file:///home/conda/feedstock_root/build_artifacts/typer_1657029164904/work\r\n",
      "typing_extensions==4.0.0\r\n",
      "unicodedata2 @ file:///Users/runner/miniforge3/conda-bld/unicodedata2_1667239959992/work\r\n",
      "Unidecode==1.3.4\r\n",
      "uri-template==1.2.0\r\n",
      "urllib3 @ file:///home/conda/feedstock_root/build_artifacts/urllib3_1624634538755/work\r\n",
      "visions==0.7.5\r\n",
      "Wand==0.6.11\r\n",
      "wasabi @ file:///home/conda/feedstock_root/build_artifacts/wasabi_1668249950899/work\r\n",
      "wcwidth==0.2.5\r\n",
      "webcolors==1.12\r\n",
      "webencodings==0.5.1\r\n",
      "websocket-client==1.4.2\r\n",
      "Werkzeug==2.0.2\r\n",
      "widgetsnbextension==4.0.5\r\n",
      "wrapt==1.13.3\r\n",
      "wsgi-oauth2==0.2.2\r\n",
      "wsproto==1.0.0\r\n",
      "xarray==0.20.1\r\n",
      "xlrd==2.0.1\r\n",
      "ydata-profiling==4.1.0\r\n",
      "zipp==3.11.0\r\n",
      "zope.event==4.5.0\r\n",
      "zope.interface==5.4.0\r\n"
     ]
    }
   ],
   "source": [
    "! pip freeze"
   ]
  },
  {
   "cell_type": "code",
   "execution_count": 161,
   "id": "29cb6d10",
   "metadata": {},
   "outputs": [
    {
     "data": {
      "text/plain": [
       "plotly.graph_objs._figure.Figure"
      ]
     },
     "execution_count": 161,
     "metadata": {},
     "output_type": "execute_result"
    }
   ],
   "source": [
    "type(fig)"
   ]
  },
  {
   "cell_type": "code",
   "execution_count": 134,
   "id": "ab32cdce",
   "metadata": {},
   "outputs": [
    {
     "data": {
      "text/plain": [
       "16"
      ]
     },
     "execution_count": 134,
     "metadata": {},
     "output_type": "execute_result"
    }
   ],
   "source": [
    "no_of_pairs"
   ]
  },
  {
   "cell_type": "code",
   "execution_count": 141,
   "id": "b71f1324",
   "metadata": {},
   "outputs": [
    {
     "data": {
      "text/plain": [
       "['alt1', 'alt2', 'alt3', 'alt4']"
      ]
     },
     "execution_count": 141,
     "metadata": {},
     "output_type": "execute_result"
    }
   ],
   "source": [
    "scores['Alternatives'][:].values.tolist()"
   ]
  },
  {
   "cell_type": "code",
   "execution_count": 138,
   "id": "96876485",
   "metadata": {},
   "outputs": [
    {
     "data": {
      "text/plain": [
       "0    alt1\n",
       "1    alt2\n",
       "2    alt3\n",
       "3    alt4\n",
       "Name: Alternatives, dtype: object"
      ]
     },
     "execution_count": 138,
     "metadata": {},
     "output_type": "execute_result"
    }
   ],
   "source": [
    "scores.iloc[:,0]"
   ]
  },
  {
   "cell_type": "code",
   "execution_count": 145,
   "id": "bb8008e2",
   "metadata": {},
   "outputs": [
    {
     "data": {
      "text/plain": [
       "0    alt1\n",
       "1    alt2\n",
       "2    alt3\n",
       "3    alt4\n",
       "Name: Alternatives, dtype: object"
      ]
     },
     "execution_count": 145,
     "metadata": {},
     "output_type": "execute_result"
    }
   ],
   "source": [
    "scores['Alternatives'][:]"
   ]
  },
  {
   "cell_type": "code",
   "execution_count": null,
   "id": "26af4973",
   "metadata": {},
   "outputs": [],
   "source": []
  }
 ],
 "metadata": {
  "kernelspec": {
   "display_name": "Python 3 (ipykernel)",
   "language": "python",
   "name": "python3"
  },
  "language_info": {
   "codemirror_mode": {
    "name": "ipython",
    "version": 3
   },
   "file_extension": ".py",
   "mimetype": "text/x-python",
   "name": "python",
   "nbconvert_exporter": "python",
   "pygments_lexer": "ipython3",
   "version": "3.9.6"
  }
 },
 "nbformat": 4,
 "nbformat_minor": 5
}
