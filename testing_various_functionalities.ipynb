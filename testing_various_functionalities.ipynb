{
 "cells": [
  {
   "cell_type": "code",
   "execution_count": 1,
   "id": "a1095371",
   "metadata": {},
   "outputs": [
    {
     "name": "stderr",
     "output_type": "stream",
     "text": [
      "<frozen importlib._bootstrap>:228: RuntimeWarning: scipy._lib.messagestream.MessageStream size changed, may indicate binary incompatibility. Expected 56 from C header, got 64 from PyObject\n"
     ]
    }
   ],
   "source": [
    "import pandas as pd\n",
    "import numpy as np\n",
    "from sklearn import preprocessing\n",
    "import pytest\n",
    "import unittest\n",
    "from pandas.testing import assert_frame_equal\n",
    "\n",
    "from mcda.mcda_run import main\n",
    "from mcda.utils import *\n",
    "from mcda.configuration.config import Config\n",
    "from mcda.utility_functions.normalization import Normalization"
   ]
  },
  {
   "cell_type": "code",
   "execution_count": 2,
   "id": "0eb4d158",
   "metadata": {},
   "outputs": [],
   "source": [
    "input_matrix = read_matrix(\"tests/resources/input_matrix_without_uncert.csv\")"
   ]
  },
  {
   "cell_type": "code",
   "execution_count": 3,
   "id": "8dbad724",
   "metadata": {},
   "outputs": [
    {
     "data": {
      "text/html": [
       "<div>\n",
       "<style scoped>\n",
       "    .dataframe tbody tr th:only-of-type {\n",
       "        vertical-align: middle;\n",
       "    }\n",
       "\n",
       "    .dataframe tbody tr th {\n",
       "        vertical-align: top;\n",
       "    }\n",
       "\n",
       "    .dataframe thead th {\n",
       "        text-align: right;\n",
       "    }\n",
       "</style>\n",
       "<table border=\"1\" class=\"dataframe\">\n",
       "  <thead>\n",
       "    <tr style=\"text-align: right;\">\n",
       "      <th></th>\n",
       "      <th>alternatives</th>\n",
       "      <th>ind1</th>\n",
       "      <th>ind2</th>\n",
       "      <th>ind3</th>\n",
       "      <th>ind4</th>\n",
       "      <th>ind5</th>\n",
       "      <th>ind6</th>\n",
       "    </tr>\n",
       "  </thead>\n",
       "  <tbody>\n",
       "    <tr>\n",
       "      <th>0</th>\n",
       "      <td>alt1</td>\n",
       "      <td>15.2</td>\n",
       "      <td>8.2</td>\n",
       "      <td>0.04</td>\n",
       "      <td>0.02</td>\n",
       "      <td>24.5</td>\n",
       "      <td>6.20</td>\n",
       "    </tr>\n",
       "    <tr>\n",
       "      <th>1</th>\n",
       "      <td>alt2</td>\n",
       "      <td>12.4</td>\n",
       "      <td>8.7</td>\n",
       "      <td>0.05</td>\n",
       "      <td>0.02</td>\n",
       "      <td>24.5</td>\n",
       "      <td>4.80</td>\n",
       "    </tr>\n",
       "    <tr>\n",
       "      <th>2</th>\n",
       "      <td>alt3</td>\n",
       "      <td>1.6</td>\n",
       "      <td>2.0</td>\n",
       "      <td>0.11</td>\n",
       "      <td>0.14</td>\n",
       "      <td>14.0</td>\n",
       "      <td>0.60</td>\n",
       "    </tr>\n",
       "    <tr>\n",
       "      <th>3</th>\n",
       "      <td>alt4</td>\n",
       "      <td>39.7</td>\n",
       "      <td>14.0</td>\n",
       "      <td>0.01</td>\n",
       "      <td>0.02</td>\n",
       "      <td>26.5</td>\n",
       "      <td>4.41</td>\n",
       "    </tr>\n",
       "  </tbody>\n",
       "</table>\n",
       "</div>"
      ],
      "text/plain": [
       "  alternatives  ind1  ind2  ind3  ind4  ind5  ind6\n",
       "0         alt1  15.2   8.2  0.04  0.02  24.5  6.20\n",
       "1         alt2  12.4   8.7  0.05  0.02  24.5  4.80\n",
       "2         alt3   1.6   2.0  0.11  0.14  14.0  0.60\n",
       "3         alt4  39.7  14.0  0.01  0.02  26.5  4.41"
      ]
     },
     "execution_count": 3,
     "metadata": {},
     "output_type": "execute_result"
    }
   ],
   "source": [
    "input_matrix"
   ]
  },
  {
   "cell_type": "code",
   "execution_count": 4,
   "id": "2b954c13",
   "metadata": {},
   "outputs": [],
   "source": [
    "imd = input_matrix.drop(input_matrix.columns[0],axis=1)"
   ]
  },
  {
   "cell_type": "code",
   "execution_count": 5,
   "id": "7d9d011c",
   "metadata": {},
   "outputs": [
    {
     "data": {
      "text/html": [
       "<div>\n",
       "<style scoped>\n",
       "    .dataframe tbody tr th:only-of-type {\n",
       "        vertical-align: middle;\n",
       "    }\n",
       "\n",
       "    .dataframe tbody tr th {\n",
       "        vertical-align: top;\n",
       "    }\n",
       "\n",
       "    .dataframe thead th {\n",
       "        text-align: right;\n",
       "    }\n",
       "</style>\n",
       "<table border=\"1\" class=\"dataframe\">\n",
       "  <thead>\n",
       "    <tr style=\"text-align: right;\">\n",
       "      <th></th>\n",
       "      <th>ind1</th>\n",
       "      <th>ind2</th>\n",
       "      <th>ind3</th>\n",
       "      <th>ind4</th>\n",
       "      <th>ind5</th>\n",
       "      <th>ind6</th>\n",
       "    </tr>\n",
       "  </thead>\n",
       "  <tbody>\n",
       "    <tr>\n",
       "      <th>0</th>\n",
       "      <td>15.2</td>\n",
       "      <td>8.2</td>\n",
       "      <td>0.04</td>\n",
       "      <td>0.02</td>\n",
       "      <td>24.5</td>\n",
       "      <td>6.20</td>\n",
       "    </tr>\n",
       "    <tr>\n",
       "      <th>1</th>\n",
       "      <td>12.4</td>\n",
       "      <td>8.7</td>\n",
       "      <td>0.05</td>\n",
       "      <td>0.02</td>\n",
       "      <td>24.5</td>\n",
       "      <td>4.80</td>\n",
       "    </tr>\n",
       "    <tr>\n",
       "      <th>2</th>\n",
       "      <td>1.6</td>\n",
       "      <td>2.0</td>\n",
       "      <td>0.11</td>\n",
       "      <td>0.14</td>\n",
       "      <td>14.0</td>\n",
       "      <td>0.60</td>\n",
       "    </tr>\n",
       "    <tr>\n",
       "      <th>3</th>\n",
       "      <td>39.7</td>\n",
       "      <td>14.0</td>\n",
       "      <td>0.01</td>\n",
       "      <td>0.02</td>\n",
       "      <td>26.5</td>\n",
       "      <td>4.41</td>\n",
       "    </tr>\n",
       "  </tbody>\n",
       "</table>\n",
       "</div>"
      ],
      "text/plain": [
       "   ind1  ind2  ind3  ind4  ind5  ind6\n",
       "0  15.2   8.2  0.04  0.02  24.5  6.20\n",
       "1  12.4   8.7  0.05  0.02  24.5  4.80\n",
       "2   1.6   2.0  0.11  0.14  14.0  0.60\n",
       "3  39.7  14.0  0.01  0.02  26.5  4.41"
      ]
     },
     "execution_count": 5,
     "metadata": {},
     "output_type": "execute_result"
    }
   ],
   "source": [
    "imd"
   ]
  },
  {
   "cell_type": "code",
   "execution_count": 6,
   "id": "0ead3b5f",
   "metadata": {},
   "outputs": [],
   "source": [
    "polarities = (\"-\",\"-\",\"+\",\"+\",\"+\",\"+\")"
   ]
  },
  {
   "cell_type": "code",
   "execution_count": 7,
   "id": "1c501140",
   "metadata": {},
   "outputs": [],
   "source": [
    "indeces_plus = [i for i, e in enumerate(polarities) if e == \"+\"]\n",
    "indeces_minus = [i for i, e in enumerate(polarities) if e == \"-\"]"
   ]
  },
  {
   "cell_type": "code",
   "execution_count": 8,
   "id": "12fc6a18",
   "metadata": {},
   "outputs": [
    {
     "name": "stdout",
     "output_type": "stream",
     "text": [
      "<class 'list'>\n",
      "[0, 1]\n"
     ]
    }
   ],
   "source": [
    "print(type(indeces_plus))\n",
    "print(indeces_minus)"
   ]
  },
  {
   "cell_type": "code",
   "execution_count": 9,
   "id": "43d71f73",
   "metadata": {},
   "outputs": [],
   "source": [
    "# from input matrix select columns that go into minmax and the ones that go into reversed minmax\n",
    "plus_pol = imd.iloc[:, indeces_plus]\n",
    "minus_pol = imd.iloc[:, indeces_minus]"
   ]
  },
  {
   "cell_type": "code",
   "execution_count": 10,
   "id": "4ec5ebeb",
   "metadata": {},
   "outputs": [
    {
     "data": {
      "text/html": [
       "<div>\n",
       "<style scoped>\n",
       "    .dataframe tbody tr th:only-of-type {\n",
       "        vertical-align: middle;\n",
       "    }\n",
       "\n",
       "    .dataframe tbody tr th {\n",
       "        vertical-align: top;\n",
       "    }\n",
       "\n",
       "    .dataframe thead th {\n",
       "        text-align: right;\n",
       "    }\n",
       "</style>\n",
       "<table border=\"1\" class=\"dataframe\">\n",
       "  <thead>\n",
       "    <tr style=\"text-align: right;\">\n",
       "      <th></th>\n",
       "      <th>ind3</th>\n",
       "      <th>ind4</th>\n",
       "      <th>ind5</th>\n",
       "      <th>ind6</th>\n",
       "    </tr>\n",
       "  </thead>\n",
       "  <tbody>\n",
       "    <tr>\n",
       "      <th>0</th>\n",
       "      <td>0.04</td>\n",
       "      <td>0.02</td>\n",
       "      <td>24.5</td>\n",
       "      <td>6.20</td>\n",
       "    </tr>\n",
       "    <tr>\n",
       "      <th>1</th>\n",
       "      <td>0.05</td>\n",
       "      <td>0.02</td>\n",
       "      <td>24.5</td>\n",
       "      <td>4.80</td>\n",
       "    </tr>\n",
       "    <tr>\n",
       "      <th>2</th>\n",
       "      <td>0.11</td>\n",
       "      <td>0.14</td>\n",
       "      <td>14.0</td>\n",
       "      <td>0.60</td>\n",
       "    </tr>\n",
       "    <tr>\n",
       "      <th>3</th>\n",
       "      <td>0.01</td>\n",
       "      <td>0.02</td>\n",
       "      <td>26.5</td>\n",
       "      <td>4.41</td>\n",
       "    </tr>\n",
       "  </tbody>\n",
       "</table>\n",
       "</div>"
      ],
      "text/plain": [
       "   ind3  ind4  ind5  ind6\n",
       "0  0.04  0.02  24.5  6.20\n",
       "1  0.05  0.02  24.5  4.80\n",
       "2  0.11  0.14  14.0  0.60\n",
       "3  0.01  0.02  26.5  4.41"
      ]
     },
     "execution_count": 10,
     "metadata": {},
     "output_type": "execute_result"
    }
   ],
   "source": [
    "plus_pol"
   ]
  },
  {
   "cell_type": "code",
   "execution_count": 11,
   "id": "76b10133",
   "metadata": {},
   "outputs": [
    {
     "data": {
      "text/plain": [
       "ind3     0.0525\n",
       "ind4     0.0500\n",
       "ind5    22.3750\n",
       "ind6     4.0025\n",
       "dtype: float64"
      ]
     },
     "execution_count": 11,
     "metadata": {},
     "output_type": "execute_result"
    }
   ],
   "source": [
    "plus_pol.mean(axis=0)"
   ]
  },
  {
   "cell_type": "code",
   "execution_count": 12,
   "id": "f1ed4efa",
   "metadata": {},
   "outputs": [
    {
     "data": {
      "text/html": [
       "<div>\n",
       "<style scoped>\n",
       "    .dataframe tbody tr th:only-of-type {\n",
       "        vertical-align: middle;\n",
       "    }\n",
       "\n",
       "    .dataframe tbody tr th {\n",
       "        vertical-align: top;\n",
       "    }\n",
       "\n",
       "    .dataframe thead th {\n",
       "        text-align: right;\n",
       "    }\n",
       "</style>\n",
       "<table border=\"1\" class=\"dataframe\">\n",
       "  <thead>\n",
       "    <tr style=\"text-align: right;\">\n",
       "      <th></th>\n",
       "      <th>ind3</th>\n",
       "      <th>ind4</th>\n",
       "      <th>ind5</th>\n",
       "      <th>ind6</th>\n",
       "    </tr>\n",
       "  </thead>\n",
       "  <tbody>\n",
       "    <tr>\n",
       "      <th>0</th>\n",
       "      <td>-0.0125</td>\n",
       "      <td>-0.03</td>\n",
       "      <td>2.125</td>\n",
       "      <td>2.1975</td>\n",
       "    </tr>\n",
       "    <tr>\n",
       "      <th>1</th>\n",
       "      <td>-0.0025</td>\n",
       "      <td>-0.03</td>\n",
       "      <td>2.125</td>\n",
       "      <td>0.7975</td>\n",
       "    </tr>\n",
       "    <tr>\n",
       "      <th>2</th>\n",
       "      <td>0.0575</td>\n",
       "      <td>0.09</td>\n",
       "      <td>-8.375</td>\n",
       "      <td>-3.4025</td>\n",
       "    </tr>\n",
       "    <tr>\n",
       "      <th>3</th>\n",
       "      <td>-0.0425</td>\n",
       "      <td>-0.03</td>\n",
       "      <td>4.125</td>\n",
       "      <td>0.4075</td>\n",
       "    </tr>\n",
       "  </tbody>\n",
       "</table>\n",
       "</div>"
      ],
      "text/plain": [
       "     ind3  ind4   ind5    ind6\n",
       "0 -0.0125 -0.03  2.125  2.1975\n",
       "1 -0.0025 -0.03  2.125  0.7975\n",
       "2  0.0575  0.09 -8.375 -3.4025\n",
       "3 -0.0425 -0.03  4.125  0.4075"
      ]
     },
     "execution_count": 12,
     "metadata": {},
     "output_type": "execute_result"
    }
   ],
   "source": [
    "plus_pol-plus_pol.mean(axis=0)"
   ]
  },
  {
   "cell_type": "markdown",
   "id": "621cb32b",
   "metadata": {},
   "source": [
    "## rank"
   ]
  },
  {
   "cell_type": "code",
   "execution_count": null,
   "id": "3bc64b0b",
   "metadata": {},
   "outputs": [],
   "source": [
    "imd"
   ]
  },
  {
   "cell_type": "code",
   "execution_count": null,
   "id": "abfaa2e4",
   "metadata": {},
   "outputs": [],
   "source": [
    "-1*imd"
   ]
  },
  {
   "cell_type": "code",
   "execution_count": null,
   "id": "f707a4fe",
   "metadata": {},
   "outputs": [],
   "source": [
    "norm = Normalization(imd, polarities)\n",
    "indicators_scaled_rank = norm.rank()"
   ]
  },
  {
   "cell_type": "code",
   "execution_count": null,
   "id": "bc35e4aa",
   "metadata": {},
   "outputs": [],
   "source": [
    "indicators_scaled_rank"
   ]
  },
  {
   "cell_type": "code",
   "execution_count": null,
   "id": "68540351",
   "metadata": {},
   "outputs": [],
   "source": [
    "# if you save the file it might compromise the unit tests!\n",
    "#indicators_scaled_rank.to_csv('tests/resources/normalization/res_rank.csv',sep=';',decimal='.') "
   ]
  },
  {
   "cell_type": "markdown",
   "id": "92e9caf6",
   "metadata": {},
   "source": [
    "## standardized"
   ]
  },
  {
   "cell_type": "code",
   "execution_count": null,
   "id": "592bb853",
   "metadata": {},
   "outputs": [],
   "source": [
    "indicators_scaled_standard_plus = (plus_pol - plus_pol.mean(axis=0))/plus_pol.std(axis=0)"
   ]
  },
  {
   "cell_type": "code",
   "execution_count": null,
   "id": "187c466c",
   "metadata": {},
   "outputs": [],
   "source": [
    "indicators_scaled_standard_plus"
   ]
  },
  {
   "cell_type": "code",
   "execution_count": null,
   "id": "0c88a964",
   "metadata": {},
   "outputs": [],
   "source": [
    "norm = Normalization(imd,polarities)\n",
    "indicators_scaled_stand = norm.standardized()"
   ]
  },
  {
   "cell_type": "code",
   "execution_count": null,
   "id": "eb95b088",
   "metadata": {},
   "outputs": [],
   "source": [
    "indicators_scaled_stand"
   ]
  },
  {
   "cell_type": "code",
   "execution_count": null,
   "id": "f95226a6",
   "metadata": {},
   "outputs": [],
   "source": [
    "# if you save the file it might compromise the unit tests!\n",
    "#indicators_scaled_stand.to_csv('tests/resources/normalization/res_standardized.csv',sep=';',decimal='.') "
   ]
  },
  {
   "cell_type": "markdown",
   "id": "c64b1f4e",
   "metadata": {},
   "source": [
    "## minmax"
   ]
  },
  {
   "cell_type": "markdown",
   "id": "06a00279",
   "metadata": {},
   "source": [
    "#### identify positive and negative polarities"
   ]
  },
  {
   "cell_type": "code",
   "execution_count": null,
   "id": "7f5bf57c",
   "metadata": {},
   "outputs": [],
   "source": [
    "x_plus = plus_pol.values # returns a numpy array\n",
    "x_minus = minus_pol.values\n",
    "x_minus"
   ]
  },
  {
   "cell_type": "code",
   "execution_count": null,
   "id": "2af1a591",
   "metadata": {},
   "outputs": [],
   "source": [
    "x_minus_test = minus_pol.to_numpy()\n",
    "x_minus_test"
   ]
  },
  {
   "cell_type": "code",
   "execution_count": null,
   "id": "71a1f602",
   "metadata": {},
   "outputs": [],
   "source": [
    "min_max_scaler = preprocessing.MinMaxScaler(feature_range=(0, 1), copy=False)\n",
    "x_scaled = min_max_scaler.fit_transform(x_plus)"
   ]
  },
  {
   "cell_type": "code",
   "execution_count": null,
   "id": "36bb4301",
   "metadata": {},
   "outputs": [],
   "source": [
    "x_scaled"
   ]
  },
  {
   "cell_type": "code",
   "execution_count": null,
   "id": "4ed7959f",
   "metadata": {},
   "outputs": [],
   "source": [
    "indicators_scaled_minmax_plus = pd.DataFrame(x_scaled)"
   ]
  },
  {
   "cell_type": "code",
   "execution_count": null,
   "id": "32885611",
   "metadata": {},
   "outputs": [],
   "source": [
    "indicators_scaled_minmax_plus"
   ]
  },
  {
   "cell_type": "code",
   "execution_count": null,
   "id": "79feefc7",
   "metadata": {},
   "outputs": [],
   "source": [
    "def reversed_minmax_scaler(data):\n",
    "    \"\"\"\n",
    "    Rescales the given data to the range [0, 1] in a reversed scale\n",
    "    where the smallest the value the better, using MinMaxScaler.\n",
    "\n",
    "    Args:\n",
    "    - data: A list or numpy array of numeric data to be scaled.\n",
    "\n",
    "    Returns:\n",
    "    - scaled_data: The scaled data as a numpy array.\n",
    "    \"\"\"\n",
    "    import numpy as np\n",
    "    \n",
    "    # Convert data to numpy array\n",
    "    data = np.array(data)\n",
    "    print(data)\n",
    "    print('-----')\n",
    "    \n",
    "    # Calculate the maximum and minimum values\n",
    "    max_val = np.max(data)\n",
    "    max_val_test = np.max(data, axis=0)\n",
    "    \n",
    "    #print(max_val)\n",
    "    #print('-----')\n",
    "    print(max_val_test)\n",
    "    print('-----')\n",
    "    \n",
    "    min_val = np.min(data)\n",
    "    min_val_test = np.min(data, axis=0)\n",
    "    \n",
    "    # Rescale the data to the range [0, 1]\n",
    "    scaled_data = (data - min_val) / (max_val - min_val)\n",
    "    scaled_data_test = (data - min_val_test) / (max_val_test - min_val_test)#*(1-0.1) + 0.1\n",
    "    \n",
    "    print(\"scaled_data\")\n",
    "    print('-----')\n",
    "    print(scaled_data_test)\n",
    "    \n",
    "    return scaled_data_test\n"
   ]
  },
  {
   "cell_type": "code",
   "execution_count": null,
   "id": "28ad7a2c",
   "metadata": {},
   "outputs": [],
   "source": [
    "indicators_scaled_minmax_minus = reversed_minmax_scaler(x_minus)"
   ]
  },
  {
   "cell_type": "code",
   "execution_count": null,
   "id": "a56e7450",
   "metadata": {},
   "outputs": [],
   "source": [
    "(8.2-2)/(14-2)"
   ]
  },
  {
   "cell_type": "code",
   "execution_count": null,
   "id": "30ec41f7",
   "metadata": {},
   "outputs": [],
   "source": [
    "indicators_scaled_minmax_minus = pd.DataFrame(indicators_scaled_minmax_minus)"
   ]
  },
  {
   "cell_type": "code",
   "execution_count": null,
   "id": "cdd09a3c",
   "metadata": {},
   "outputs": [],
   "source": [
    "indicators_scaled_minmax_minus"
   ]
  },
  {
   "cell_type": "code",
   "execution_count": null,
   "id": "6d4ad743",
   "metadata": {},
   "outputs": [],
   "source": [
    "indicators_scaled_minmax = pd.DataFrame(index=range(4),columns=range(6))\n",
    "indicators_scaled_minmax.shape"
   ]
  },
  {
   "cell_type": "code",
   "execution_count": null,
   "id": "624d6851",
   "metadata": {},
   "outputs": [],
   "source": [
    "indicators_scaled_minmax_plus"
   ]
  },
  {
   "cell_type": "code",
   "execution_count": null,
   "id": "52658fb3",
   "metadata": {},
   "outputs": [],
   "source": [
    "# merge back the plus and minus together\n",
    "indicators_scaled_minmax = pd.DataFrame(columns=range(6))\n",
    "for i,index_p in enumerate(indeces_plus): indicators_scaled_minmax.iloc[:, index_p] = indicators_scaled_minmax_plus.iloc[:, i]\n",
    "for j, index_n in enumerate(indeces_minus): indicators_scaled_minmax.iloc[:, index_n]=indicators_scaled_minmax_minus.loc[:,j]"
   ]
  },
  {
   "cell_type": "code",
   "execution_count": null,
   "id": "3441f401",
   "metadata": {},
   "outputs": [],
   "source": [
    "indicators_scaled_minmax"
   ]
  },
  {
   "cell_type": "code",
   "execution_count": null,
   "id": "9a1a817f",
   "metadata": {},
   "outputs": [],
   "source": [
    "imd"
   ]
  },
  {
   "cell_type": "code",
   "execution_count": 17,
   "id": "7ddf2377",
   "metadata": {},
   "outputs": [
    {
     "data": {
      "text/html": [
       "<div>\n",
       "<style scoped>\n",
       "    .dataframe tbody tr th:only-of-type {\n",
       "        vertical-align: middle;\n",
       "    }\n",
       "\n",
       "    .dataframe tbody tr th {\n",
       "        vertical-align: top;\n",
       "    }\n",
       "\n",
       "    .dataframe thead th {\n",
       "        text-align: right;\n",
       "    }\n",
       "</style>\n",
       "<table border=\"1\" class=\"dataframe\">\n",
       "  <thead>\n",
       "    <tr style=\"text-align: right;\">\n",
       "      <th></th>\n",
       "      <th>0</th>\n",
       "      <th>1</th>\n",
       "      <th>2</th>\n",
       "      <th>3</th>\n",
       "      <th>4</th>\n",
       "      <th>5</th>\n",
       "    </tr>\n",
       "  </thead>\n",
       "  <tbody>\n",
       "    <tr>\n",
       "      <th>0</th>\n",
       "      <td>0.678740</td>\n",
       "      <td>0.5350</td>\n",
       "      <td>0.37</td>\n",
       "      <td>0.1</td>\n",
       "      <td>0.856</td>\n",
       "      <td>1.000000</td>\n",
       "    </tr>\n",
       "    <tr>\n",
       "      <th>1</th>\n",
       "      <td>0.744882</td>\n",
       "      <td>0.4975</td>\n",
       "      <td>0.46</td>\n",
       "      <td>0.1</td>\n",
       "      <td>0.856</td>\n",
       "      <td>0.775000</td>\n",
       "    </tr>\n",
       "    <tr>\n",
       "      <th>2</th>\n",
       "      <td>1.000000</td>\n",
       "      <td>1.0000</td>\n",
       "      <td>1.00</td>\n",
       "      <td>1.0</td>\n",
       "      <td>0.100</td>\n",
       "      <td>0.100000</td>\n",
       "    </tr>\n",
       "    <tr>\n",
       "      <th>3</th>\n",
       "      <td>0.100000</td>\n",
       "      <td>0.1000</td>\n",
       "      <td>0.10</td>\n",
       "      <td>0.1</td>\n",
       "      <td>1.000</td>\n",
       "      <td>0.712321</td>\n",
       "    </tr>\n",
       "  </tbody>\n",
       "</table>\n",
       "</div>"
      ],
      "text/plain": [
       "          0       1     2    3      4         5\n",
       "0  0.678740  0.5350  0.37  0.1  0.856  1.000000\n",
       "1  0.744882  0.4975  0.46  0.1  0.856  0.775000\n",
       "2  1.000000  1.0000  1.00  1.0  0.100  0.100000\n",
       "3  0.100000  0.1000  0.10  0.1  1.000  0.712321"
      ]
     },
     "execution_count": 17,
     "metadata": {},
     "output_type": "execute_result"
    }
   ],
   "source": [
    "# test class\n",
    "norm = Normalization(imd, polarities)\n",
    "test_res_no0 = norm.minmax(feature_range=(0.1, 1))\n",
    "test_res_no0"
   ]
  },
  {
   "cell_type": "code",
   "execution_count": 18,
   "id": "9a3946dc",
   "metadata": {},
   "outputs": [],
   "source": [
    "# if you save the file it might compromise the unit tests!\n",
    "#test_res_no0.to_csv('tests/resources/normalization/res_minmax_no0.csv',sep=';',decimal='.') "
   ]
  },
  {
   "cell_type": "markdown",
   "id": "c0f8785d",
   "metadata": {},
   "source": [
    "## target"
   ]
  },
  {
   "cell_type": "code",
   "execution_count": null,
   "id": "b257206b",
   "metadata": {},
   "outputs": [],
   "source": [
    "imd"
   ]
  },
  {
   "cell_type": "code",
   "execution_count": null,
   "id": "0152085e",
   "metadata": {},
   "outputs": [],
   "source": [
    "norm=Normalization(imd, polarities)\n",
    "res_target_01 = norm.target(feature_range=(0, 1))\n",
    "res_target_no0 = norm.target(feature_range=(0.1, 1))"
   ]
  },
  {
   "cell_type": "code",
   "execution_count": null,
   "id": "67caf86a",
   "metadata": {},
   "outputs": [],
   "source": [
    "# if you save the file it might compromise the unit tests!\n",
    "#res_target_01.to_csv('tests/resources/normalization/res_target_01.csv',sep=';',decimal='.') \n",
    "#res_target_no0.to_csv('tests/resources/normalization/res_target_no0.csv',sep=';',decimal='.') "
   ]
  },
  {
   "cell_type": "code",
   "execution_count": null,
   "id": "661c5c2d",
   "metadata": {},
   "outputs": [],
   "source": [
    "res_target_01"
   ]
  },
  {
   "cell_type": "code",
   "execution_count": null,
   "id": "4ac3eff6",
   "metadata": {},
   "outputs": [],
   "source": [
    "res_target_no0"
   ]
  },
  {
   "cell_type": "code",
   "execution_count": null,
   "id": "7a0a95fe",
   "metadata": {},
   "outputs": [],
   "source": [
    "col = imd.iloc[:,2]\n",
    "col1 = (col/max(col))*(1-0.1) + 0.1"
   ]
  },
  {
   "cell_type": "code",
   "execution_count": null,
   "id": "675579d8",
   "metadata": {},
   "outputs": [],
   "source": [
    "col1"
   ]
  },
  {
   "cell_type": "markdown",
   "id": "f3944dd5",
   "metadata": {},
   "source": [
    "## assert two df are the same"
   ]
  },
  {
   "cell_type": "code",
   "execution_count": null,
   "id": "2b87d863",
   "metadata": {},
   "outputs": [],
   "source": [
    "input_matrix = read_matrix(\"tests/resources/input_matrix_without_uncert.csv\")\n",
    "input_matrix = input_matrix.drop(input_matrix.columns[0],axis=1) "
   ]
  },
  {
   "cell_type": "code",
   "execution_count": null,
   "id": "ff2a2e4b",
   "metadata": {},
   "outputs": [],
   "source": [
    "expected_res = read_matrix('tests/resources/normalization/res_minmax_no0.csv')"
   ]
  },
  {
   "cell_type": "code",
   "execution_count": null,
   "id": "3a98a4bf",
   "metadata": {},
   "outputs": [],
   "source": [
    "norm = Normalization(input_matrix)\n",
    "res = norm.minmax(feature_range=(0, 1))"
   ]
  },
  {
   "cell_type": "code",
   "execution_count": null,
   "id": "cc10fb2c",
   "metadata": {},
   "outputs": [],
   "source": [
    "print(type(input_matrix))\n",
    "print(type(expected_res))\n",
    "print(type(res))"
   ]
  },
  {
   "cell_type": "code",
   "execution_count": null,
   "id": "39c54c7b",
   "metadata": {},
   "outputs": [],
   "source": [
    "res"
   ]
  },
  {
   "cell_type": "code",
   "execution_count": null,
   "id": "a083ef97",
   "metadata": {},
   "outputs": [],
   "source": [
    "res.columns = res.columns.astype('str')"
   ]
  },
  {
   "cell_type": "code",
   "execution_count": null,
   "id": "6d43819a",
   "metadata": {},
   "outputs": [],
   "source": [
    "res"
   ]
  },
  {
   "cell_type": "code",
   "execution_count": null,
   "id": "468436f9",
   "metadata": {},
   "outputs": [],
   "source": [
    "expected_res"
   ]
  },
  {
   "cell_type": "code",
   "execution_count": null,
   "id": "6a82801b",
   "metadata": {},
   "outputs": [],
   "source": [
    "assert_frame_equal(res, expected_res, check_like=True)"
   ]
  },
  {
   "cell_type": "code",
   "execution_count": null,
   "id": "932a7c20",
   "metadata": {},
   "outputs": [],
   "source": [
    "isinstance(res, pd.DataFrame)"
   ]
  },
  {
   "cell_type": "code",
   "execution_count": null,
   "id": "06a26c11",
   "metadata": {},
   "outputs": [],
   "source": [
    "feature_range=(0, 1)"
   ]
  },
  {
   "cell_type": "code",
   "execution_count": null,
   "id": "f162cd1a",
   "metadata": {},
   "outputs": [],
   "source": []
  },
  {
   "cell_type": "code",
   "execution_count": null,
   "id": "271f92c5",
   "metadata": {},
   "outputs": [],
   "source": [
    "lista = (5,4,3,2)\n",
    "sum(lista)"
   ]
  },
  {
   "cell_type": "code",
   "execution_count": null,
   "id": "3cd91a38",
   "metadata": {},
   "outputs": [],
   "source": [
    "lista_corr = [val/sum(lista) for val in lista]"
   ]
  },
  {
   "cell_type": "code",
   "execution_count": null,
   "id": "e4b2aa31",
   "metadata": {},
   "outputs": [],
   "source": [
    "lista_corr"
   ]
  },
  {
   "cell_type": "code",
   "execution_count": null,
   "id": "4ff7dba0",
   "metadata": {},
   "outputs": [],
   "source": [
    "sum(lista_corr)"
   ]
  },
  {
   "cell_type": "code",
   "execution_count": null,
   "id": "9f39e28c",
   "metadata": {},
   "outputs": [],
   "source": [
    "round(lista_corr,2)"
   ]
  },
  {
   "cell_type": "code",
   "execution_count": null,
   "id": "1f233449",
   "metadata": {},
   "outputs": [],
   "source": [
    "config = {\n",
    "  \"input_matrix_path\": \"tests/resources/input_matrix_without_uncert.csv\",\n",
    "  \"marginal_distribution_for_each_indicator\": [\"exact\", \"exact\", \"exact\", \"exact\", \"exact\", \"exact\"],\n",
    "  \"polarity_for_each_indicator\": [\"-\",\"-\",\"+\",\"+\",\"+\",\"+\"],\n",
    "  \"monte_carlo_runs\": 0,\n",
    "  \"no_cores\": 1,\n",
    "  \"weight_for_each_indicator\" : [0.5, 0.5, 0.5, 0.5, 0.5, 0.5],\n",
    "  \"output_file_path\": \"/path/to/output.csv\"\n",
    "}"
   ]
  },
  {
   "cell_type": "code",
   "execution_count": null,
   "id": "8c566e68",
   "metadata": {},
   "outputs": [],
   "source": [
    "type(config)"
   ]
  },
  {
   "cell_type": "code",
   "execution_count": null,
   "id": "4017ca0c",
   "metadata": {},
   "outputs": [],
   "source": [
    "import copy\n",
    "test_config = copy.deepcopy(config)"
   ]
  },
  {
   "cell_type": "code",
   "execution_count": null,
   "id": "51bcfe49",
   "metadata": {},
   "outputs": [],
   "source": [
    "type(test_config)"
   ]
  },
  {
   "cell_type": "code",
   "execution_count": null,
   "id": "e3d1aa69",
   "metadata": {},
   "outputs": [],
   "source": [
    "import unittest\n",
    "import pytest\n",
    "#isinstance(config, dict)\n",
    "isinstance(test_config, dict)"
   ]
  },
  {
   "cell_type": "markdown",
   "id": "f3c29e3b",
   "metadata": {},
   "source": [
    "### summing columns given a row"
   ]
  },
  {
   "cell_type": "code",
   "execution_count": 43,
   "id": "071dd6b6",
   "metadata": {},
   "outputs": [
    {
     "data": {
      "text/html": [
       "<div>\n",
       "<style scoped>\n",
       "    .dataframe tbody tr th:only-of-type {\n",
       "        vertical-align: middle;\n",
       "    }\n",
       "\n",
       "    .dataframe tbody tr th {\n",
       "        vertical-align: top;\n",
       "    }\n",
       "\n",
       "    .dataframe thead th {\n",
       "        text-align: right;\n",
       "    }\n",
       "</style>\n",
       "<table border=\"1\" class=\"dataframe\">\n",
       "  <thead>\n",
       "    <tr style=\"text-align: right;\">\n",
       "      <th></th>\n",
       "      <th>ind1</th>\n",
       "      <th>ind2</th>\n",
       "      <th>ind3</th>\n",
       "      <th>ind4</th>\n",
       "      <th>ind5</th>\n",
       "      <th>ind6</th>\n",
       "    </tr>\n",
       "  </thead>\n",
       "  <tbody>\n",
       "    <tr>\n",
       "      <th>0</th>\n",
       "      <td>15.2</td>\n",
       "      <td>8.2</td>\n",
       "      <td>0.04</td>\n",
       "      <td>0.02</td>\n",
       "      <td>24.5</td>\n",
       "      <td>6.20</td>\n",
       "    </tr>\n",
       "    <tr>\n",
       "      <th>1</th>\n",
       "      <td>12.4</td>\n",
       "      <td>8.7</td>\n",
       "      <td>0.05</td>\n",
       "      <td>0.02</td>\n",
       "      <td>24.5</td>\n",
       "      <td>4.80</td>\n",
       "    </tr>\n",
       "    <tr>\n",
       "      <th>2</th>\n",
       "      <td>1.6</td>\n",
       "      <td>2.0</td>\n",
       "      <td>0.11</td>\n",
       "      <td>0.14</td>\n",
       "      <td>14.0</td>\n",
       "      <td>0.60</td>\n",
       "    </tr>\n",
       "    <tr>\n",
       "      <th>3</th>\n",
       "      <td>39.7</td>\n",
       "      <td>14.0</td>\n",
       "      <td>0.01</td>\n",
       "      <td>0.02</td>\n",
       "      <td>26.5</td>\n",
       "      <td>4.41</td>\n",
       "    </tr>\n",
       "  </tbody>\n",
       "</table>\n",
       "</div>"
      ],
      "text/plain": [
       "   ind1  ind2  ind3  ind4  ind5  ind6\n",
       "0  15.2   8.2  0.04  0.02  24.5  6.20\n",
       "1  12.4   8.7  0.05  0.02  24.5  4.80\n",
       "2   1.6   2.0  0.11  0.14  14.0  0.60\n",
       "3  39.7  14.0  0.01  0.02  26.5  4.41"
      ]
     },
     "execution_count": 43,
     "metadata": {},
     "output_type": "execute_result"
    }
   ],
   "source": [
    "imd"
   ]
  },
  {
   "cell_type": "code",
   "execution_count": 25,
   "id": "2a885e5c",
   "metadata": {},
   "outputs": [
    {
     "data": {
      "text/plain": [
       "0    54.16\n",
       "1    50.47\n",
       "2    18.45\n",
       "3    84.64\n",
       "dtype: float64"
      ]
     },
     "execution_count": 25,
     "metadata": {},
     "output_type": "execute_result"
    }
   ],
   "source": [
    "imd.sum(axis=1)"
   ]
  },
  {
   "cell_type": "code",
   "execution_count": 26,
   "id": "1ae38aed",
   "metadata": {},
   "outputs": [
    {
     "data": {
      "text/plain": [
       "54.16"
      ]
     },
     "execution_count": 26,
     "metadata": {},
     "output_type": "execute_result"
    }
   ],
   "source": [
    "15.2+8.2+0.04+0.02+24.5+6.2"
   ]
  },
  {
   "cell_type": "code",
   "execution_count": 44,
   "id": "c55fb812",
   "metadata": {},
   "outputs": [],
   "source": [
    "weights=(1,0,1,0,1,10)"
   ]
  },
  {
   "cell_type": "code",
   "execution_count": 32,
   "id": "c4a24212",
   "metadata": {},
   "outputs": [],
   "source": [
    "test = imd*weights"
   ]
  },
  {
   "cell_type": "code",
   "execution_count": 33,
   "id": "6b8ef78d",
   "metadata": {},
   "outputs": [
    {
     "data": {
      "text/plain": [
       "0    101.74\n",
       "1     84.95\n",
       "2     21.71\n",
       "3    110.31\n",
       "dtype: float64"
      ]
     },
     "execution_count": 33,
     "metadata": {},
     "output_type": "execute_result"
    }
   ],
   "source": [
    "test.sum(axis=1)"
   ]
  },
  {
   "cell_type": "code",
   "execution_count": 31,
   "id": "600c9d3d",
   "metadata": {},
   "outputs": [
    {
     "data": {
      "text/plain": [
       "0    101.74\n",
       "1     84.95\n",
       "2     21.71\n",
       "3    110.31\n",
       "dtype: float64"
      ]
     },
     "execution_count": 31,
     "metadata": {},
     "output_type": "execute_result"
    }
   ],
   "source": [
    "(imd*weights).sum(axis=1)"
   ]
  },
  {
   "cell_type": "code",
   "execution_count": 47,
   "id": "180cf40c",
   "metadata": {},
   "outputs": [
    {
     "data": {
      "text/plain": [
       "0    1.250220e+09\n",
       "1    9.862117e+07\n",
       "2    1.489887e-02\n",
       "3    2.926997e+07\n",
       "dtype: float64"
      ]
     },
     "execution_count": 47,
     "metadata": {},
     "output_type": "execute_result"
    }
   ],
   "source": [
    "(imd**weights).product(axis=1)"
   ]
  },
  {
   "cell_type": "code",
   "execution_count": 46,
   "id": "32fa4e41",
   "metadata": {},
   "outputs": [
    {
     "data": {
      "text/plain": [
       "1250220386.24"
      ]
     },
     "execution_count": 46,
     "metadata": {},
     "output_type": "execute_result"
    }
   ],
   "source": [
    "15.2*1.0*0.04*1.0*24.5*8.392994e+07"
   ]
  },
  {
   "cell_type": "code",
   "execution_count": 48,
   "id": "e7a529e3",
   "metadata": {},
   "outputs": [
    {
     "data": {
      "text/html": [
       "<div>\n",
       "<style scoped>\n",
       "    .dataframe tbody tr th:only-of-type {\n",
       "        vertical-align: middle;\n",
       "    }\n",
       "\n",
       "    .dataframe tbody tr th {\n",
       "        vertical-align: top;\n",
       "    }\n",
       "\n",
       "    .dataframe thead th {\n",
       "        text-align: right;\n",
       "    }\n",
       "</style>\n",
       "<table border=\"1\" class=\"dataframe\">\n",
       "  <thead>\n",
       "    <tr style=\"text-align: right;\">\n",
       "      <th></th>\n",
       "      <th>ind1</th>\n",
       "      <th>ind2</th>\n",
       "      <th>ind3</th>\n",
       "      <th>ind4</th>\n",
       "      <th>ind5</th>\n",
       "      <th>ind6</th>\n",
       "    </tr>\n",
       "  </thead>\n",
       "  <tbody>\n",
       "    <tr>\n",
       "      <th>0</th>\n",
       "      <td>15.2</td>\n",
       "      <td>8.2</td>\n",
       "      <td>0.04</td>\n",
       "      <td>0.02</td>\n",
       "      <td>24.5</td>\n",
       "      <td>6.20</td>\n",
       "    </tr>\n",
       "    <tr>\n",
       "      <th>1</th>\n",
       "      <td>12.4</td>\n",
       "      <td>8.7</td>\n",
       "      <td>0.05</td>\n",
       "      <td>0.02</td>\n",
       "      <td>24.5</td>\n",
       "      <td>4.80</td>\n",
       "    </tr>\n",
       "    <tr>\n",
       "      <th>2</th>\n",
       "      <td>1.6</td>\n",
       "      <td>2.0</td>\n",
       "      <td>0.11</td>\n",
       "      <td>0.14</td>\n",
       "      <td>14.0</td>\n",
       "      <td>0.60</td>\n",
       "    </tr>\n",
       "    <tr>\n",
       "      <th>3</th>\n",
       "      <td>39.7</td>\n",
       "      <td>14.0</td>\n",
       "      <td>0.01</td>\n",
       "      <td>0.02</td>\n",
       "      <td>26.5</td>\n",
       "      <td>4.41</td>\n",
       "    </tr>\n",
       "  </tbody>\n",
       "</table>\n",
       "</div>"
      ],
      "text/plain": [
       "   ind1  ind2  ind3  ind4  ind5  ind6\n",
       "0  15.2   8.2  0.04  0.02  24.5  6.20\n",
       "1  12.4   8.7  0.05  0.02  24.5  4.80\n",
       "2   1.6   2.0  0.11  0.14  14.0  0.60\n",
       "3  39.7  14.0  0.01  0.02  26.5  4.41"
      ]
     },
     "execution_count": 48,
     "metadata": {},
     "output_type": "execute_result"
    }
   ],
   "source": [
    "imd"
   ]
  },
  {
   "cell_type": "code",
   "execution_count": 49,
   "id": "49f6908e",
   "metadata": {},
   "outputs": [],
   "source": [
    "imd.iloc[0,0]=0"
   ]
  },
  {
   "cell_type": "code",
   "execution_count": 50,
   "id": "8f6246a0",
   "metadata": {},
   "outputs": [
    {
     "data": {
      "text/html": [
       "<div>\n",
       "<style scoped>\n",
       "    .dataframe tbody tr th:only-of-type {\n",
       "        vertical-align: middle;\n",
       "    }\n",
       "\n",
       "    .dataframe tbody tr th {\n",
       "        vertical-align: top;\n",
       "    }\n",
       "\n",
       "    .dataframe thead th {\n",
       "        text-align: right;\n",
       "    }\n",
       "</style>\n",
       "<table border=\"1\" class=\"dataframe\">\n",
       "  <thead>\n",
       "    <tr style=\"text-align: right;\">\n",
       "      <th></th>\n",
       "      <th>ind1</th>\n",
       "      <th>ind2</th>\n",
       "      <th>ind3</th>\n",
       "      <th>ind4</th>\n",
       "      <th>ind5</th>\n",
       "      <th>ind6</th>\n",
       "    </tr>\n",
       "  </thead>\n",
       "  <tbody>\n",
       "    <tr>\n",
       "      <th>0</th>\n",
       "      <td>0.0</td>\n",
       "      <td>8.2</td>\n",
       "      <td>0.04</td>\n",
       "      <td>0.02</td>\n",
       "      <td>24.5</td>\n",
       "      <td>6.20</td>\n",
       "    </tr>\n",
       "    <tr>\n",
       "      <th>1</th>\n",
       "      <td>12.4</td>\n",
       "      <td>8.7</td>\n",
       "      <td>0.05</td>\n",
       "      <td>0.02</td>\n",
       "      <td>24.5</td>\n",
       "      <td>4.80</td>\n",
       "    </tr>\n",
       "    <tr>\n",
       "      <th>2</th>\n",
       "      <td>1.6</td>\n",
       "      <td>2.0</td>\n",
       "      <td>0.11</td>\n",
       "      <td>0.14</td>\n",
       "      <td>14.0</td>\n",
       "      <td>0.60</td>\n",
       "    </tr>\n",
       "    <tr>\n",
       "      <th>3</th>\n",
       "      <td>39.7</td>\n",
       "      <td>14.0</td>\n",
       "      <td>0.01</td>\n",
       "      <td>0.02</td>\n",
       "      <td>26.5</td>\n",
       "      <td>4.41</td>\n",
       "    </tr>\n",
       "  </tbody>\n",
       "</table>\n",
       "</div>"
      ],
      "text/plain": [
       "   ind1  ind2  ind3  ind4  ind5  ind6\n",
       "0   0.0   8.2  0.04  0.02  24.5  6.20\n",
       "1  12.4   8.7  0.05  0.02  24.5  4.80\n",
       "2   1.6   2.0  0.11  0.14  14.0  0.60\n",
       "3  39.7  14.0  0.01  0.02  26.5  4.41"
      ]
     },
     "execution_count": 50,
     "metadata": {},
     "output_type": "execute_result"
    }
   ],
   "source": [
    "imd"
   ]
  },
  {
   "cell_type": "code",
   "execution_count": 51,
   "id": "9dd6a9d5",
   "metadata": {},
   "outputs": [
    {
     "data": {
      "text/plain": [
       "array([[0.00e+00, 8.20e+00, 4.00e-02, 2.00e-02, 2.45e+01, 6.20e+00],\n",
       "       [1.24e+01, 8.70e+00, 5.00e-02, 2.00e-02, 2.45e+01, 4.80e+00],\n",
       "       [1.60e+00, 2.00e+00, 1.10e-01, 1.40e-01, 1.40e+01, 6.00e-01],\n",
       "       [3.97e+01, 1.40e+01, 1.00e-02, 2.00e-02, 2.65e+01, 4.41e+00]])"
      ]
     },
     "execution_count": 51,
     "metadata": {},
     "output_type": "execute_result"
    }
   ],
   "source": [
    "imd.values"
   ]
  },
  {
   "cell_type": "code",
   "execution_count": 66,
   "id": "780988db",
   "metadata": {},
   "outputs": [
    {
     "ename": "ValueError",
     "evalue": "The truth value of an array with more than one element is ambiguous. Use a.any() or a.all()",
     "output_type": "error",
     "traceback": [
      "\u001b[0;31m---------------------------------------------------------------------------\u001b[0m",
      "\u001b[0;31mValueError\u001b[0m                                Traceback (most recent call last)",
      "\u001b[0;32m/var/folders/mt/lx9bxf895gq_bfbn6l6_m3kr0000gn/T/ipykernel_74002/2716848789.py\u001b[0m in \u001b[0;36m<module>\u001b[0;34m\u001b[0m\n\u001b[0;32m----> 1\u001b[0;31m \u001b[0many\u001b[0m\u001b[0;34m(\u001b[0m\u001b[0mx\u001b[0m\u001b[0;34m==\u001b[0m\u001b[0;36m0\u001b[0m \u001b[0;32mfor\u001b[0m \u001b[0mx\u001b[0m \u001b[0;32min\u001b[0m \u001b[0mimd\u001b[0m\u001b[0;34m.\u001b[0m\u001b[0mvalues\u001b[0m\u001b[0;34m)\u001b[0m\u001b[0;34m\u001b[0m\u001b[0;34m\u001b[0m\u001b[0m\n\u001b[0m",
      "\u001b[0;31mValueError\u001b[0m: The truth value of an array with more than one element is ambiguous. Use a.any() or a.all()"
     ]
    }
   ],
   "source": [
    "any(x==0 for x in imd.values) "
   ]
  },
  {
   "cell_type": "code",
   "execution_count": 60,
   "id": "7b5a6d0d",
   "metadata": {},
   "outputs": [
    {
     "name": "stdout",
     "output_type": "stream",
     "text": [
      "[0.00e+00 8.20e+00 4.00e-02 2.00e-02 2.45e+01 6.20e+00]\n",
      "[1.24e+01 8.70e+00 5.00e-02 2.00e-02 2.45e+01 4.80e+00]\n",
      "[ 1.6   2.    0.11  0.14 14.    0.6 ]\n",
      "[3.97e+01 1.40e+01 1.00e-02 2.00e-02 2.65e+01 4.41e+00]\n"
     ]
    }
   ],
   "source": [
    "for x in imd.values: print(x)"
   ]
  },
  {
   "cell_type": "code",
   "execution_count": 69,
   "id": "224d8252",
   "metadata": {},
   "outputs": [
    {
     "data": {
      "text/plain": [
       "False"
      ]
     },
     "execution_count": 69,
     "metadata": {},
     "output_type": "execute_result"
    }
   ],
   "source": [
    "(imd == 100).any().any()"
   ]
  },
  {
   "cell_type": "code",
   "execution_count": 74,
   "id": "f8f287ca",
   "metadata": {},
   "outputs": [
    {
     "data": {
      "text/html": [
       "<div>\n",
       "<style scoped>\n",
       "    .dataframe tbody tr th:only-of-type {\n",
       "        vertical-align: middle;\n",
       "    }\n",
       "\n",
       "    .dataframe tbody tr th {\n",
       "        vertical-align: top;\n",
       "    }\n",
       "\n",
       "    .dataframe thead th {\n",
       "        text-align: right;\n",
       "    }\n",
       "</style>\n",
       "<table border=\"1\" class=\"dataframe\">\n",
       "  <thead>\n",
       "    <tr style=\"text-align: right;\">\n",
       "      <th></th>\n",
       "      <th>ind1</th>\n",
       "      <th>ind2</th>\n",
       "      <th>ind3</th>\n",
       "      <th>ind4</th>\n",
       "      <th>ind5</th>\n",
       "      <th>ind6</th>\n",
       "    </tr>\n",
       "  </thead>\n",
       "  <tbody>\n",
       "    <tr>\n",
       "      <th>0</th>\n",
       "      <td>0.0</td>\n",
       "      <td>8.2</td>\n",
       "      <td>0.04</td>\n",
       "      <td>0.02</td>\n",
       "      <td>24.5</td>\n",
       "      <td>6.20</td>\n",
       "    </tr>\n",
       "    <tr>\n",
       "      <th>1</th>\n",
       "      <td>12.4</td>\n",
       "      <td>8.7</td>\n",
       "      <td>0.05</td>\n",
       "      <td>0.02</td>\n",
       "      <td>24.5</td>\n",
       "      <td>4.80</td>\n",
       "    </tr>\n",
       "    <tr>\n",
       "      <th>2</th>\n",
       "      <td>1.6</td>\n",
       "      <td>2.0</td>\n",
       "      <td>0.11</td>\n",
       "      <td>0.14</td>\n",
       "      <td>14.0</td>\n",
       "      <td>0.60</td>\n",
       "    </tr>\n",
       "    <tr>\n",
       "      <th>3</th>\n",
       "      <td>39.7</td>\n",
       "      <td>14.0</td>\n",
       "      <td>0.01</td>\n",
       "      <td>0.02</td>\n",
       "      <td>26.5</td>\n",
       "      <td>4.41</td>\n",
       "    </tr>\n",
       "  </tbody>\n",
       "</table>\n",
       "</div>"
      ],
      "text/plain": [
       "   ind1  ind2  ind3  ind4  ind5  ind6\n",
       "0   0.0   8.2  0.04  0.02  24.5  6.20\n",
       "1  12.4   8.7  0.05  0.02  24.5  4.80\n",
       "2   1.6   2.0  0.11  0.14  14.0  0.60\n",
       "3  39.7  14.0  0.01  0.02  26.5  4.41"
      ]
     },
     "execution_count": 74,
     "metadata": {},
     "output_type": "execute_result"
    }
   ],
   "source": [
    "imd"
   ]
  },
  {
   "cell_type": "code",
   "execution_count": 78,
   "id": "8ffbd7db",
   "metadata": {},
   "outputs": [],
   "source": [
    "weights=(1,2,1,2,1,10)"
   ]
  },
  {
   "cell_type": "code",
   "execution_count": 82,
   "id": "5efe98b1",
   "metadata": {},
   "outputs": [
    {
     "data": {
      "text/plain": [
       "20.0"
      ]
     },
     "execution_count": 82,
     "metadata": {},
     "output_type": "execute_result"
    }
   ],
   "source": [
    "1/0.05"
   ]
  },
  {
   "cell_type": "code",
   "execution_count": 79,
   "id": "d7eda434",
   "metadata": {},
   "outputs": [
    {
     "data": {
      "text/html": [
       "<div>\n",
       "<style scoped>\n",
       "    .dataframe tbody tr th:only-of-type {\n",
       "        vertical-align: middle;\n",
       "    }\n",
       "\n",
       "    .dataframe tbody tr th {\n",
       "        vertical-align: top;\n",
       "    }\n",
       "\n",
       "    .dataframe thead th {\n",
       "        text-align: right;\n",
       "    }\n",
       "</style>\n",
       "<table border=\"1\" class=\"dataframe\">\n",
       "  <thead>\n",
       "    <tr style=\"text-align: right;\">\n",
       "      <th></th>\n",
       "      <th>ind1</th>\n",
       "      <th>ind2</th>\n",
       "      <th>ind3</th>\n",
       "      <th>ind4</th>\n",
       "      <th>ind5</th>\n",
       "      <th>ind6</th>\n",
       "    </tr>\n",
       "  </thead>\n",
       "  <tbody>\n",
       "    <tr>\n",
       "      <th>0</th>\n",
       "      <td>inf</td>\n",
       "      <td>0.243902</td>\n",
       "      <td>25.000000</td>\n",
       "      <td>100.000000</td>\n",
       "      <td>0.040816</td>\n",
       "      <td>1.612903</td>\n",
       "    </tr>\n",
       "    <tr>\n",
       "      <th>1</th>\n",
       "      <td>0.080645</td>\n",
       "      <td>0.229885</td>\n",
       "      <td>20.000000</td>\n",
       "      <td>100.000000</td>\n",
       "      <td>0.040816</td>\n",
       "      <td>2.083333</td>\n",
       "    </tr>\n",
       "    <tr>\n",
       "      <th>2</th>\n",
       "      <td>0.625000</td>\n",
       "      <td>1.000000</td>\n",
       "      <td>9.090909</td>\n",
       "      <td>14.285714</td>\n",
       "      <td>0.071429</td>\n",
       "      <td>16.666667</td>\n",
       "    </tr>\n",
       "    <tr>\n",
       "      <th>3</th>\n",
       "      <td>0.025189</td>\n",
       "      <td>0.142857</td>\n",
       "      <td>100.000000</td>\n",
       "      <td>100.000000</td>\n",
       "      <td>0.037736</td>\n",
       "      <td>2.267574</td>\n",
       "    </tr>\n",
       "  </tbody>\n",
       "</table>\n",
       "</div>"
      ],
      "text/plain": [
       "       ind1      ind2        ind3        ind4      ind5       ind6\n",
       "0       inf  0.243902   25.000000  100.000000  0.040816   1.612903\n",
       "1  0.080645  0.229885   20.000000  100.000000  0.040816   2.083333\n",
       "2  0.625000  1.000000    9.090909   14.285714  0.071429  16.666667\n",
       "3  0.025189  0.142857  100.000000  100.000000  0.037736   2.267574"
      ]
     },
     "execution_count": 79,
     "metadata": {},
     "output_type": "execute_result"
    }
   ],
   "source": [
    "weights/imd"
   ]
  },
  {
   "cell_type": "code",
   "execution_count": 83,
   "id": "d52dec8f",
   "metadata": {},
   "outputs": [
    {
     "data": {
      "text/plain": [
       "0           inf\n",
       "1    122.434680\n",
       "2     41.739719\n",
       "3    202.473356\n",
       "dtype: float64"
      ]
     },
     "execution_count": 83,
     "metadata": {},
     "output_type": "execute_result"
    }
   ],
   "source": [
    "(weights/imd).sum(axis=1)"
   ]
  },
  {
   "cell_type": "code",
   "execution_count": 75,
   "id": "7d7740b6",
   "metadata": {},
   "outputs": [],
   "source": [
    "scores = 6/((weights/imd).sum(axis=1))"
   ]
  },
  {
   "cell_type": "code",
   "execution_count": 76,
   "id": "af89064f",
   "metadata": {},
   "outputs": [
    {
     "data": {
      "text/plain": [
       "0    0.000000\n",
       "1    0.270212\n",
       "2    0.226809\n",
       "3    0.058634\n",
       "dtype: float64"
      ]
     },
     "execution_count": 76,
     "metadata": {},
     "output_type": "execute_result"
    }
   ],
   "source": [
    "scores"
   ]
  },
  {
   "cell_type": "code",
   "execution_count": 86,
   "id": "fcd9fd63",
   "metadata": {},
   "outputs": [
    {
     "data": {
      "text/html": [
       "<div>\n",
       "<style scoped>\n",
       "    .dataframe tbody tr th:only-of-type {\n",
       "        vertical-align: middle;\n",
       "    }\n",
       "\n",
       "    .dataframe tbody tr th {\n",
       "        vertical-align: top;\n",
       "    }\n",
       "\n",
       "    .dataframe thead th {\n",
       "        text-align: right;\n",
       "    }\n",
       "</style>\n",
       "<table border=\"1\" class=\"dataframe\">\n",
       "  <thead>\n",
       "    <tr style=\"text-align: right;\">\n",
       "      <th></th>\n",
       "      <th>ind1</th>\n",
       "      <th>ind2</th>\n",
       "      <th>ind3</th>\n",
       "      <th>ind4</th>\n",
       "      <th>ind5</th>\n",
       "      <th>ind6</th>\n",
       "    </tr>\n",
       "  </thead>\n",
       "  <tbody>\n",
       "    <tr>\n",
       "      <th>0</th>\n",
       "      <td>0.0</td>\n",
       "      <td>8.2</td>\n",
       "      <td>0.04</td>\n",
       "      <td>0.02</td>\n",
       "      <td>24.5</td>\n",
       "      <td>6.20</td>\n",
       "    </tr>\n",
       "    <tr>\n",
       "      <th>1</th>\n",
       "      <td>12.4</td>\n",
       "      <td>8.7</td>\n",
       "      <td>0.05</td>\n",
       "      <td>0.02</td>\n",
       "      <td>24.5</td>\n",
       "      <td>4.80</td>\n",
       "    </tr>\n",
       "    <tr>\n",
       "      <th>2</th>\n",
       "      <td>1.6</td>\n",
       "      <td>2.0</td>\n",
       "      <td>0.11</td>\n",
       "      <td>0.14</td>\n",
       "      <td>14.0</td>\n",
       "      <td>0.60</td>\n",
       "    </tr>\n",
       "    <tr>\n",
       "      <th>3</th>\n",
       "      <td>39.7</td>\n",
       "      <td>14.0</td>\n",
       "      <td>0.01</td>\n",
       "      <td>0.02</td>\n",
       "      <td>26.5</td>\n",
       "      <td>4.41</td>\n",
       "    </tr>\n",
       "  </tbody>\n",
       "</table>\n",
       "</div>"
      ],
      "text/plain": [
       "   ind1  ind2  ind3  ind4  ind5  ind6\n",
       "0   0.0   8.2  0.04  0.02  24.5  6.20\n",
       "1  12.4   8.7  0.05  0.02  24.5  4.80\n",
       "2   1.6   2.0  0.11  0.14  14.0  0.60\n",
       "3  39.7  14.0  0.01  0.02  26.5  4.41"
      ]
     },
     "execution_count": 86,
     "metadata": {},
     "output_type": "execute_result"
    }
   ],
   "source": [
    "imd"
   ]
  },
  {
   "cell_type": "code",
   "execution_count": 85,
   "id": "8b1f72bf",
   "metadata": {},
   "outputs": [
    {
     "data": {
      "text/plain": [
       "0    0.00\n",
       "1    0.02\n",
       "2    0.11\n",
       "3    0.01\n",
       "dtype: float64"
      ]
     },
     "execution_count": 85,
     "metadata": {},
     "output_type": "execute_result"
    }
   ],
   "source": [
    "imd.min(axis=1)"
   ]
  },
  {
   "cell_type": "code",
   "execution_count": 87,
   "id": "1be884c8",
   "metadata": {},
   "outputs": [
    {
     "data": {
      "text/html": [
       "<div>\n",
       "<style scoped>\n",
       "    .dataframe tbody tr th:only-of-type {\n",
       "        vertical-align: middle;\n",
       "    }\n",
       "\n",
       "    .dataframe tbody tr th {\n",
       "        vertical-align: top;\n",
       "    }\n",
       "\n",
       "    .dataframe thead th {\n",
       "        text-align: right;\n",
       "    }\n",
       "</style>\n",
       "<table border=\"1\" class=\"dataframe\">\n",
       "  <thead>\n",
       "    <tr style=\"text-align: right;\">\n",
       "      <th></th>\n",
       "      <th>ind1</th>\n",
       "      <th>ind2</th>\n",
       "      <th>ind3</th>\n",
       "      <th>ind4</th>\n",
       "      <th>ind5</th>\n",
       "      <th>ind6</th>\n",
       "    </tr>\n",
       "  </thead>\n",
       "  <tbody>\n",
       "    <tr>\n",
       "      <th>0</th>\n",
       "      <td>0.0</td>\n",
       "      <td>8.2</td>\n",
       "      <td>0.04</td>\n",
       "      <td>0.02</td>\n",
       "      <td>24.5</td>\n",
       "      <td>6.20</td>\n",
       "    </tr>\n",
       "    <tr>\n",
       "      <th>1</th>\n",
       "      <td>12.4</td>\n",
       "      <td>8.7</td>\n",
       "      <td>0.05</td>\n",
       "      <td>0.02</td>\n",
       "      <td>24.5</td>\n",
       "      <td>4.80</td>\n",
       "    </tr>\n",
       "    <tr>\n",
       "      <th>2</th>\n",
       "      <td>1.6</td>\n",
       "      <td>2.0</td>\n",
       "      <td>0.11</td>\n",
       "      <td>0.14</td>\n",
       "      <td>14.0</td>\n",
       "      <td>0.60</td>\n",
       "    </tr>\n",
       "    <tr>\n",
       "      <th>3</th>\n",
       "      <td>39.7</td>\n",
       "      <td>14.0</td>\n",
       "      <td>0.01</td>\n",
       "      <td>0.02</td>\n",
       "      <td>26.5</td>\n",
       "      <td>4.41</td>\n",
       "    </tr>\n",
       "  </tbody>\n",
       "</table>\n",
       "</div>"
      ],
      "text/plain": [
       "   ind1  ind2  ind3  ind4  ind5  ind6\n",
       "0   0.0   8.2  0.04  0.02  24.5  6.20\n",
       "1  12.4   8.7  0.05  0.02  24.5  4.80\n",
       "2   1.6   2.0  0.11  0.14  14.0  0.60\n",
       "3  39.7  14.0  0.01  0.02  26.5  4.41"
      ]
     },
     "execution_count": 87,
     "metadata": {},
     "output_type": "execute_result"
    }
   ],
   "source": [
    "imd"
   ]
  },
  {
   "cell_type": "code",
   "execution_count": 95,
   "id": "3ee295ed",
   "metadata": {},
   "outputs": [],
   "source": [
    "test_df = pd.concat([imd,imd], axis=1)"
   ]
  },
  {
   "cell_type": "code",
   "execution_count": 96,
   "id": "4b06480d",
   "metadata": {},
   "outputs": [
    {
     "data": {
      "text/html": [
       "<div>\n",
       "<style scoped>\n",
       "    .dataframe tbody tr th:only-of-type {\n",
       "        vertical-align: middle;\n",
       "    }\n",
       "\n",
       "    .dataframe tbody tr th {\n",
       "        vertical-align: top;\n",
       "    }\n",
       "\n",
       "    .dataframe thead th {\n",
       "        text-align: right;\n",
       "    }\n",
       "</style>\n",
       "<table border=\"1\" class=\"dataframe\">\n",
       "  <thead>\n",
       "    <tr style=\"text-align: right;\">\n",
       "      <th></th>\n",
       "      <th>ind1</th>\n",
       "      <th>ind2</th>\n",
       "      <th>ind3</th>\n",
       "      <th>ind4</th>\n",
       "      <th>ind5</th>\n",
       "      <th>ind6</th>\n",
       "      <th>ind1</th>\n",
       "      <th>ind2</th>\n",
       "      <th>ind3</th>\n",
       "      <th>ind4</th>\n",
       "      <th>ind5</th>\n",
       "      <th>ind6</th>\n",
       "    </tr>\n",
       "  </thead>\n",
       "  <tbody>\n",
       "    <tr>\n",
       "      <th>0</th>\n",
       "      <td>0.0</td>\n",
       "      <td>8.2</td>\n",
       "      <td>0.04</td>\n",
       "      <td>0.02</td>\n",
       "      <td>24.5</td>\n",
       "      <td>6.20</td>\n",
       "      <td>0.0</td>\n",
       "      <td>8.2</td>\n",
       "      <td>0.04</td>\n",
       "      <td>0.02</td>\n",
       "      <td>24.5</td>\n",
       "      <td>6.20</td>\n",
       "    </tr>\n",
       "    <tr>\n",
       "      <th>1</th>\n",
       "      <td>12.4</td>\n",
       "      <td>8.7</td>\n",
       "      <td>0.05</td>\n",
       "      <td>0.02</td>\n",
       "      <td>24.5</td>\n",
       "      <td>4.80</td>\n",
       "      <td>12.4</td>\n",
       "      <td>8.7</td>\n",
       "      <td>0.05</td>\n",
       "      <td>0.02</td>\n",
       "      <td>24.5</td>\n",
       "      <td>4.80</td>\n",
       "    </tr>\n",
       "    <tr>\n",
       "      <th>2</th>\n",
       "      <td>1.6</td>\n",
       "      <td>2.0</td>\n",
       "      <td>0.11</td>\n",
       "      <td>0.14</td>\n",
       "      <td>14.0</td>\n",
       "      <td>0.60</td>\n",
       "      <td>1.6</td>\n",
       "      <td>2.0</td>\n",
       "      <td>0.11</td>\n",
       "      <td>0.14</td>\n",
       "      <td>14.0</td>\n",
       "      <td>0.60</td>\n",
       "    </tr>\n",
       "    <tr>\n",
       "      <th>3</th>\n",
       "      <td>39.7</td>\n",
       "      <td>14.0</td>\n",
       "      <td>0.01</td>\n",
       "      <td>0.02</td>\n",
       "      <td>26.5</td>\n",
       "      <td>4.41</td>\n",
       "      <td>39.7</td>\n",
       "      <td>14.0</td>\n",
       "      <td>0.01</td>\n",
       "      <td>0.02</td>\n",
       "      <td>26.5</td>\n",
       "      <td>4.41</td>\n",
       "    </tr>\n",
       "  </tbody>\n",
       "</table>\n",
       "</div>"
      ],
      "text/plain": [
       "   ind1  ind2  ind3  ind4  ind5  ind6  ind1  ind2  ind3  ind4  ind5  ind6\n",
       "0   0.0   8.2  0.04  0.02  24.5  6.20   0.0   8.2  0.04  0.02  24.5  6.20\n",
       "1  12.4   8.7  0.05  0.02  24.5  4.80  12.4   8.7  0.05  0.02  24.5  4.80\n",
       "2   1.6   2.0  0.11  0.14  14.0  0.60   1.6   2.0  0.11  0.14  14.0  0.60\n",
       "3  39.7  14.0  0.01  0.02  26.5  4.41  39.7  14.0  0.01  0.02  26.5  4.41"
      ]
     },
     "execution_count": 96,
     "metadata": {},
     "output_type": "execute_result"
    }
   ],
   "source": [
    "test_df"
   ]
  },
  {
   "cell_type": "code",
   "execution_count": 99,
   "id": "3f7cbee6",
   "metadata": {},
   "outputs": [],
   "source": [
    "test_df.columns=['JPM', 'WFC', 'BAC', 'C', 'STI', 'PNC', 'CMA','WFC', 'BAC', 'C', 'STI', 'PNC']"
   ]
  },
  {
   "cell_type": "code",
   "execution_count": 100,
   "id": "afc286f3",
   "metadata": {},
   "outputs": [
    {
     "data": {
      "text/html": [
       "<div>\n",
       "<style scoped>\n",
       "    .dataframe tbody tr th:only-of-type {\n",
       "        vertical-align: middle;\n",
       "    }\n",
       "\n",
       "    .dataframe tbody tr th {\n",
       "        vertical-align: top;\n",
       "    }\n",
       "\n",
       "    .dataframe thead th {\n",
       "        text-align: right;\n",
       "    }\n",
       "</style>\n",
       "<table border=\"1\" class=\"dataframe\">\n",
       "  <thead>\n",
       "    <tr style=\"text-align: right;\">\n",
       "      <th></th>\n",
       "      <th>JPM</th>\n",
       "      <th>WFC</th>\n",
       "      <th>BAC</th>\n",
       "      <th>C</th>\n",
       "      <th>STI</th>\n",
       "      <th>PNC</th>\n",
       "      <th>CMA</th>\n",
       "      <th>WFC</th>\n",
       "      <th>BAC</th>\n",
       "      <th>C</th>\n",
       "      <th>STI</th>\n",
       "      <th>PNC</th>\n",
       "    </tr>\n",
       "  </thead>\n",
       "  <tbody>\n",
       "    <tr>\n",
       "      <th>0</th>\n",
       "      <td>0.0</td>\n",
       "      <td>8.2</td>\n",
       "      <td>0.04</td>\n",
       "      <td>0.02</td>\n",
       "      <td>24.5</td>\n",
       "      <td>6.20</td>\n",
       "      <td>0.0</td>\n",
       "      <td>8.2</td>\n",
       "      <td>0.04</td>\n",
       "      <td>0.02</td>\n",
       "      <td>24.5</td>\n",
       "      <td>6.20</td>\n",
       "    </tr>\n",
       "    <tr>\n",
       "      <th>1</th>\n",
       "      <td>12.4</td>\n",
       "      <td>8.7</td>\n",
       "      <td>0.05</td>\n",
       "      <td>0.02</td>\n",
       "      <td>24.5</td>\n",
       "      <td>4.80</td>\n",
       "      <td>12.4</td>\n",
       "      <td>8.7</td>\n",
       "      <td>0.05</td>\n",
       "      <td>0.02</td>\n",
       "      <td>24.5</td>\n",
       "      <td>4.80</td>\n",
       "    </tr>\n",
       "    <tr>\n",
       "      <th>2</th>\n",
       "      <td>1.6</td>\n",
       "      <td>2.0</td>\n",
       "      <td>0.11</td>\n",
       "      <td>0.14</td>\n",
       "      <td>14.0</td>\n",
       "      <td>0.60</td>\n",
       "      <td>1.6</td>\n",
       "      <td>2.0</td>\n",
       "      <td>0.11</td>\n",
       "      <td>0.14</td>\n",
       "      <td>14.0</td>\n",
       "      <td>0.60</td>\n",
       "    </tr>\n",
       "    <tr>\n",
       "      <th>3</th>\n",
       "      <td>39.7</td>\n",
       "      <td>14.0</td>\n",
       "      <td>0.01</td>\n",
       "      <td>0.02</td>\n",
       "      <td>26.5</td>\n",
       "      <td>4.41</td>\n",
       "      <td>39.7</td>\n",
       "      <td>14.0</td>\n",
       "      <td>0.01</td>\n",
       "      <td>0.02</td>\n",
       "      <td>26.5</td>\n",
       "      <td>4.41</td>\n",
       "    </tr>\n",
       "  </tbody>\n",
       "</table>\n",
       "</div>"
      ],
      "text/plain": [
       "    JPM   WFC   BAC     C   STI   PNC   CMA   WFC   BAC     C   STI   PNC\n",
       "0   0.0   8.2  0.04  0.02  24.5  6.20   0.0   8.2  0.04  0.02  24.5  6.20\n",
       "1  12.4   8.7  0.05  0.02  24.5  4.80  12.4   8.7  0.05  0.02  24.5  4.80\n",
       "2   1.6   2.0  0.11  0.14  14.0  0.60   1.6   2.0  0.11  0.14  14.0  0.60\n",
       "3  39.7  14.0  0.01  0.02  26.5  4.41  39.7  14.0  0.01  0.02  26.5  4.41"
      ]
     },
     "execution_count": 100,
     "metadata": {},
     "output_type": "execute_result"
    }
   ],
   "source": [
    "test_df"
   ]
  },
  {
   "cell_type": "code",
   "execution_count": 102,
   "id": "28f6d884",
   "metadata": {},
   "outputs": [],
   "source": [
    "test_df_max_rank = test_df.rank(method='max')\n",
    "test_df_pct_rank = test_df.rank(pct=True)"
   ]
  },
  {
   "cell_type": "code",
   "execution_count": 103,
   "id": "1267dbbc",
   "metadata": {},
   "outputs": [
    {
     "data": {
      "text/html": [
       "<div>\n",
       "<style scoped>\n",
       "    .dataframe tbody tr th:only-of-type {\n",
       "        vertical-align: middle;\n",
       "    }\n",
       "\n",
       "    .dataframe tbody tr th {\n",
       "        vertical-align: top;\n",
       "    }\n",
       "\n",
       "    .dataframe thead th {\n",
       "        text-align: right;\n",
       "    }\n",
       "</style>\n",
       "<table border=\"1\" class=\"dataframe\">\n",
       "  <thead>\n",
       "    <tr style=\"text-align: right;\">\n",
       "      <th></th>\n",
       "      <th>JPM</th>\n",
       "      <th>WFC</th>\n",
       "      <th>BAC</th>\n",
       "      <th>C</th>\n",
       "      <th>STI</th>\n",
       "      <th>PNC</th>\n",
       "      <th>CMA</th>\n",
       "      <th>WFC</th>\n",
       "      <th>BAC</th>\n",
       "      <th>C</th>\n",
       "      <th>STI</th>\n",
       "      <th>PNC</th>\n",
       "    </tr>\n",
       "  </thead>\n",
       "  <tbody>\n",
       "    <tr>\n",
       "      <th>0</th>\n",
       "      <td>1.0</td>\n",
       "      <td>2.0</td>\n",
       "      <td>2.0</td>\n",
       "      <td>3.0</td>\n",
       "      <td>3.0</td>\n",
       "      <td>4.0</td>\n",
       "      <td>1.0</td>\n",
       "      <td>2.0</td>\n",
       "      <td>2.0</td>\n",
       "      <td>3.0</td>\n",
       "      <td>3.0</td>\n",
       "      <td>4.0</td>\n",
       "    </tr>\n",
       "    <tr>\n",
       "      <th>1</th>\n",
       "      <td>3.0</td>\n",
       "      <td>3.0</td>\n",
       "      <td>3.0</td>\n",
       "      <td>3.0</td>\n",
       "      <td>3.0</td>\n",
       "      <td>3.0</td>\n",
       "      <td>3.0</td>\n",
       "      <td>3.0</td>\n",
       "      <td>3.0</td>\n",
       "      <td>3.0</td>\n",
       "      <td>3.0</td>\n",
       "      <td>3.0</td>\n",
       "    </tr>\n",
       "    <tr>\n",
       "      <th>2</th>\n",
       "      <td>2.0</td>\n",
       "      <td>1.0</td>\n",
       "      <td>4.0</td>\n",
       "      <td>4.0</td>\n",
       "      <td>1.0</td>\n",
       "      <td>1.0</td>\n",
       "      <td>2.0</td>\n",
       "      <td>1.0</td>\n",
       "      <td>4.0</td>\n",
       "      <td>4.0</td>\n",
       "      <td>1.0</td>\n",
       "      <td>1.0</td>\n",
       "    </tr>\n",
       "    <tr>\n",
       "      <th>3</th>\n",
       "      <td>4.0</td>\n",
       "      <td>4.0</td>\n",
       "      <td>1.0</td>\n",
       "      <td>3.0</td>\n",
       "      <td>4.0</td>\n",
       "      <td>2.0</td>\n",
       "      <td>4.0</td>\n",
       "      <td>4.0</td>\n",
       "      <td>1.0</td>\n",
       "      <td>3.0</td>\n",
       "      <td>4.0</td>\n",
       "      <td>2.0</td>\n",
       "    </tr>\n",
       "  </tbody>\n",
       "</table>\n",
       "</div>"
      ],
      "text/plain": [
       "   JPM  WFC  BAC    C  STI  PNC  CMA  WFC  BAC    C  STI  PNC\n",
       "0  1.0  2.0  2.0  3.0  3.0  4.0  1.0  2.0  2.0  3.0  3.0  4.0\n",
       "1  3.0  3.0  3.0  3.0  3.0  3.0  3.0  3.0  3.0  3.0  3.0  3.0\n",
       "2  2.0  1.0  4.0  4.0  1.0  1.0  2.0  1.0  4.0  4.0  1.0  1.0\n",
       "3  4.0  4.0  1.0  3.0  4.0  2.0  4.0  4.0  1.0  3.0  4.0  2.0"
      ]
     },
     "execution_count": 103,
     "metadata": {},
     "output_type": "execute_result"
    }
   ],
   "source": [
    "test_df_max_rank"
   ]
  },
  {
   "cell_type": "code",
   "execution_count": 104,
   "id": "b2f54b77",
   "metadata": {},
   "outputs": [
    {
     "data": {
      "text/html": [
       "<div>\n",
       "<style scoped>\n",
       "    .dataframe tbody tr th:only-of-type {\n",
       "        vertical-align: middle;\n",
       "    }\n",
       "\n",
       "    .dataframe tbody tr th {\n",
       "        vertical-align: top;\n",
       "    }\n",
       "\n",
       "    .dataframe thead th {\n",
       "        text-align: right;\n",
       "    }\n",
       "</style>\n",
       "<table border=\"1\" class=\"dataframe\">\n",
       "  <thead>\n",
       "    <tr style=\"text-align: right;\">\n",
       "      <th></th>\n",
       "      <th>JPM</th>\n",
       "      <th>WFC</th>\n",
       "      <th>BAC</th>\n",
       "      <th>C</th>\n",
       "      <th>STI</th>\n",
       "      <th>PNC</th>\n",
       "      <th>CMA</th>\n",
       "      <th>WFC</th>\n",
       "      <th>BAC</th>\n",
       "      <th>C</th>\n",
       "      <th>STI</th>\n",
       "      <th>PNC</th>\n",
       "    </tr>\n",
       "  </thead>\n",
       "  <tbody>\n",
       "    <tr>\n",
       "      <th>0</th>\n",
       "      <td>0.25</td>\n",
       "      <td>0.50</td>\n",
       "      <td>0.50</td>\n",
       "      <td>0.5</td>\n",
       "      <td>0.625</td>\n",
       "      <td>1.00</td>\n",
       "      <td>0.25</td>\n",
       "      <td>0.50</td>\n",
       "      <td>0.50</td>\n",
       "      <td>0.5</td>\n",
       "      <td>0.625</td>\n",
       "      <td>1.00</td>\n",
       "    </tr>\n",
       "    <tr>\n",
       "      <th>1</th>\n",
       "      <td>0.75</td>\n",
       "      <td>0.75</td>\n",
       "      <td>0.75</td>\n",
       "      <td>0.5</td>\n",
       "      <td>0.625</td>\n",
       "      <td>0.75</td>\n",
       "      <td>0.75</td>\n",
       "      <td>0.75</td>\n",
       "      <td>0.75</td>\n",
       "      <td>0.5</td>\n",
       "      <td>0.625</td>\n",
       "      <td>0.75</td>\n",
       "    </tr>\n",
       "    <tr>\n",
       "      <th>2</th>\n",
       "      <td>0.50</td>\n",
       "      <td>0.25</td>\n",
       "      <td>1.00</td>\n",
       "      <td>1.0</td>\n",
       "      <td>0.250</td>\n",
       "      <td>0.25</td>\n",
       "      <td>0.50</td>\n",
       "      <td>0.25</td>\n",
       "      <td>1.00</td>\n",
       "      <td>1.0</td>\n",
       "      <td>0.250</td>\n",
       "      <td>0.25</td>\n",
       "    </tr>\n",
       "    <tr>\n",
       "      <th>3</th>\n",
       "      <td>1.00</td>\n",
       "      <td>1.00</td>\n",
       "      <td>0.25</td>\n",
       "      <td>0.5</td>\n",
       "      <td>1.000</td>\n",
       "      <td>0.50</td>\n",
       "      <td>1.00</td>\n",
       "      <td>1.00</td>\n",
       "      <td>0.25</td>\n",
       "      <td>0.5</td>\n",
       "      <td>1.000</td>\n",
       "      <td>0.50</td>\n",
       "    </tr>\n",
       "  </tbody>\n",
       "</table>\n",
       "</div>"
      ],
      "text/plain": [
       "    JPM   WFC   BAC    C    STI   PNC   CMA   WFC   BAC    C    STI   PNC\n",
       "0  0.25  0.50  0.50  0.5  0.625  1.00  0.25  0.50  0.50  0.5  0.625  1.00\n",
       "1  0.75  0.75  0.75  0.5  0.625  0.75  0.75  0.75  0.75  0.5  0.625  0.75\n",
       "2  0.50  0.25  1.00  1.0  0.250  0.25  0.50  0.25  1.00  1.0  0.250  0.25\n",
       "3  1.00  1.00  0.25  0.5  1.000  0.50  1.00  1.00  0.25  0.5  1.000  0.50"
      ]
     },
     "execution_count": 104,
     "metadata": {},
     "output_type": "execute_result"
    }
   ],
   "source": [
    "test_df_pct_rank"
   ]
  },
  {
   "cell_type": "code",
   "execution_count": 107,
   "id": "ba190144",
   "metadata": {},
   "outputs": [
    {
     "data": {
      "text/plain": [
       "list"
      ]
     },
     "execution_count": 107,
     "metadata": {},
     "output_type": "execute_result"
    }
   ],
   "source": [
    "type(test_df_pct_rank.columns.tolist())"
   ]
  },
  {
   "cell_type": "code",
   "execution_count": 110,
   "id": "0b1bd29a",
   "metadata": {},
   "outputs": [
    {
     "name": "stdout",
     "output_type": "stream",
     "text": [
      "<class 'list'>\n"
     ]
    },
    {
     "ename": "TypeError",
     "evalue": "assertListEqual() missing 1 required positional argument: 'list2'",
     "output_type": "error",
     "traceback": [
      "\u001b[0;31m---------------------------------------------------------------------------\u001b[0m",
      "\u001b[0;31mTypeError\u001b[0m                                 Traceback (most recent call last)",
      "\u001b[0;32m/var/folders/mt/lx9bxf895gq_bfbn6l6_m3kr0000gn/T/ipykernel_74002/3939947202.py\u001b[0m in \u001b[0;36m<module>\u001b[0;34m\u001b[0m\n\u001b[1;32m      2\u001b[0m \u001b[0mcol_names\u001b[0m \u001b[0;34m=\u001b[0m \u001b[0;34m[\u001b[0m\u001b[0;34m'JPM'\u001b[0m\u001b[0;34m,\u001b[0m \u001b[0;34m'WFC'\u001b[0m\u001b[0;34m,\u001b[0m \u001b[0;34m'BAC'\u001b[0m\u001b[0;34m,\u001b[0m \u001b[0;34m'C'\u001b[0m\u001b[0;34m,\u001b[0m \u001b[0;34m'STI'\u001b[0m\u001b[0;34m,\u001b[0m \u001b[0;34m'PNC'\u001b[0m\u001b[0;34m,\u001b[0m \u001b[0;34m'CMA'\u001b[0m\u001b[0;34m,\u001b[0m\u001b[0;34m'WFC'\u001b[0m\u001b[0;34m,\u001b[0m \u001b[0;34m'BAC'\u001b[0m\u001b[0;34m,\u001b[0m \u001b[0;34m'C'\u001b[0m\u001b[0;34m,\u001b[0m \u001b[0;34m'STI'\u001b[0m\u001b[0;34m,\u001b[0m \u001b[0;34m'PNC'\u001b[0m\u001b[0;34m]\u001b[0m\u001b[0;34m\u001b[0m\u001b[0;34m\u001b[0m\u001b[0m\n\u001b[1;32m      3\u001b[0m \u001b[0mprint\u001b[0m\u001b[0;34m(\u001b[0m\u001b[0mtype\u001b[0m\u001b[0;34m(\u001b[0m\u001b[0mcol_names\u001b[0m\u001b[0;34m)\u001b[0m\u001b[0;34m)\u001b[0m\u001b[0;34m\u001b[0m\u001b[0;34m\u001b[0m\u001b[0m\n\u001b[0;32m----> 4\u001b[0;31m \u001b[0mTestCase\u001b[0m\u001b[0;34m.\u001b[0m\u001b[0massertListEqual\u001b[0m\u001b[0;34m(\u001b[0m\u001b[0mtest_df_pct_rank\u001b[0m\u001b[0;34m.\u001b[0m\u001b[0mcolumns\u001b[0m\u001b[0;34m.\u001b[0m\u001b[0mtolist\u001b[0m\u001b[0;34m(\u001b[0m\u001b[0;34m)\u001b[0m\u001b[0;34m,\u001b[0m \u001b[0mcol_names\u001b[0m\u001b[0;34m)\u001b[0m\u001b[0;34m\u001b[0m\u001b[0;34m\u001b[0m\u001b[0m\n\u001b[0m",
      "\u001b[0;31mTypeError\u001b[0m: assertListEqual() missing 1 required positional argument: 'list2'"
     ]
    }
   ],
   "source": [
    "from unittest import TestCase\n",
    "col_names = ['JPM', 'WFC', 'BAC', 'C', 'STI', 'PNC', 'CMA','WFC', 'BAC', 'C', 'STI', 'PNC']\n",
    "print(type(col_names))\n",
    "TestCase.assertListEqual(test_df_pct_rank.columns.tolist(), col_names)"
   ]
  },
  {
   "cell_type": "code",
   "execution_count": 113,
   "id": "cb1d27c0",
   "metadata": {},
   "outputs": [],
   "source": [
    "test = (7.75,7.75,9.0,5.5)\n",
    "test_df = pd.DataFrame(test)"
   ]
  },
  {
   "cell_type": "code",
   "execution_count": 114,
   "id": "a25ecb47",
   "metadata": {},
   "outputs": [
    {
     "data": {
      "text/html": [
       "<div>\n",
       "<style scoped>\n",
       "    .dataframe tbody tr th:only-of-type {\n",
       "        vertical-align: middle;\n",
       "    }\n",
       "\n",
       "    .dataframe tbody tr th {\n",
       "        vertical-align: top;\n",
       "    }\n",
       "\n",
       "    .dataframe thead th {\n",
       "        text-align: right;\n",
       "    }\n",
       "</style>\n",
       "<table border=\"1\" class=\"dataframe\">\n",
       "  <thead>\n",
       "    <tr style=\"text-align: right;\">\n",
       "      <th></th>\n",
       "      <th>0</th>\n",
       "    </tr>\n",
       "  </thead>\n",
       "  <tbody>\n",
       "    <tr>\n",
       "      <th>0</th>\n",
       "      <td>7.75</td>\n",
       "    </tr>\n",
       "    <tr>\n",
       "      <th>1</th>\n",
       "      <td>7.75</td>\n",
       "    </tr>\n",
       "    <tr>\n",
       "      <th>2</th>\n",
       "      <td>9.00</td>\n",
       "    </tr>\n",
       "    <tr>\n",
       "      <th>3</th>\n",
       "      <td>5.50</td>\n",
       "    </tr>\n",
       "  </tbody>\n",
       "</table>\n",
       "</div>"
      ],
      "text/plain": [
       "      0\n",
       "0  7.75\n",
       "1  7.75\n",
       "2  9.00\n",
       "3  5.50"
      ]
     },
     "execution_count": 114,
     "metadata": {},
     "output_type": "execute_result"
    }
   ],
   "source": [
    "test_df"
   ]
  },
  {
   "cell_type": "code",
   "execution_count": 115,
   "id": "f36bff81",
   "metadata": {},
   "outputs": [],
   "source": [
    "test_df_pct_rank = test_df.rank(pct=True)"
   ]
  },
  {
   "cell_type": "code",
   "execution_count": 116,
   "id": "3e03bb62",
   "metadata": {},
   "outputs": [
    {
     "data": {
      "text/html": [
       "<div>\n",
       "<style scoped>\n",
       "    .dataframe tbody tr th:only-of-type {\n",
       "        vertical-align: middle;\n",
       "    }\n",
       "\n",
       "    .dataframe tbody tr th {\n",
       "        vertical-align: top;\n",
       "    }\n",
       "\n",
       "    .dataframe thead th {\n",
       "        text-align: right;\n",
       "    }\n",
       "</style>\n",
       "<table border=\"1\" class=\"dataframe\">\n",
       "  <thead>\n",
       "    <tr style=\"text-align: right;\">\n",
       "      <th></th>\n",
       "      <th>0</th>\n",
       "    </tr>\n",
       "  </thead>\n",
       "  <tbody>\n",
       "    <tr>\n",
       "      <th>0</th>\n",
       "      <td>0.625</td>\n",
       "    </tr>\n",
       "    <tr>\n",
       "      <th>1</th>\n",
       "      <td>0.625</td>\n",
       "    </tr>\n",
       "    <tr>\n",
       "      <th>2</th>\n",
       "      <td>1.000</td>\n",
       "    </tr>\n",
       "    <tr>\n",
       "      <th>3</th>\n",
       "      <td>0.250</td>\n",
       "    </tr>\n",
       "  </tbody>\n",
       "</table>\n",
       "</div>"
      ],
      "text/plain": [
       "       0\n",
       "0  0.625\n",
       "1  0.625\n",
       "2  1.000\n",
       "3  0.250"
      ]
     },
     "execution_count": 116,
     "metadata": {},
     "output_type": "execute_result"
    }
   ],
   "source": [
    "test_df_pct_rank"
   ]
  },
  {
   "cell_type": "code",
   "execution_count": null,
   "id": "07044b85",
   "metadata": {},
   "outputs": [],
   "source": []
  }
 ],
 "metadata": {
  "kernelspec": {
   "display_name": "Python 3 (ipykernel)",
   "language": "python",
   "name": "python3"
  },
  "language_info": {
   "codemirror_mode": {
    "name": "ipython",
    "version": 3
   },
   "file_extension": ".py",
   "mimetype": "text/x-python",
   "name": "python",
   "nbconvert_exporter": "python",
   "pygments_lexer": "ipython3",
   "version": "3.9.6"
  }
 },
 "nbformat": 4,
 "nbformat_minor": 5
}
