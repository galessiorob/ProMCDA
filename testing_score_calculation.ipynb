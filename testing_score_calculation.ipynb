{
 "cells": [
  {
   "cell_type": "code",
   "execution_count": 1,
   "id": "3e0ead32",
   "metadata": {},
   "outputs": [],
   "source": [
    "import pandas as pd\n",
    "import numpy as np\n",
    "\n",
    "from mcda.mcda_run import main\n",
    "from mcda.utils import *\n",
    "from mcda.configuration.config import Config\n",
    "from mcda.utility_functions.normalization import Normalization\n",
    "from mcda.utility_functions.aggregation import Aggregation"
   ]
  },
  {
   "cell_type": "markdown",
   "id": "59e9bdf9",
   "metadata": {},
   "source": [
    "#### test with test df - uncomment"
   ]
  },
  {
   "cell_type": "code",
   "execution_count": 2,
   "id": "13a0c342",
   "metadata": {},
   "outputs": [],
   "source": [
    "#polarities = (\"+\",\"-\")"
   ]
  },
  {
   "cell_type": "code",
   "execution_count": 3,
   "id": "6ff7b251",
   "metadata": {},
   "outputs": [],
   "source": [
    "#d = {'col1': [1, 2, 3], 'col3': [100, 200, 300]}\n",
    "#df = pd.DataFrame(data=d)\n",
    "#df\n",
    "#input_matrix = df"
   ]
  },
  {
   "cell_type": "markdown",
   "id": "0c0d0a94",
   "metadata": {},
   "source": [
    "#### test with test example - uncomment"
   ]
  },
  {
   "cell_type": "code",
   "execution_count": 4,
   "id": "4235c832",
   "metadata": {},
   "outputs": [
    {
     "name": "stderr",
     "output_type": "stream",
     "text": [
      "/Users/flaminia/Documents/work/MCDTool/mcda/utils.py:15: ParserWarning: Falling back to the 'python' engine because the 'c' engine does not support regex separators (separators > 1 char and different from '\\s+' are interpreted as regex); you can avoid this warning by specifying engine='python'.\n",
      "  test = pd.read_csv(fp, sep=\"[,;:]\", decimal='.')\n"
     ]
    }
   ],
   "source": [
    "input_matrix = read_matrix(\"/Users/flaminia/Documents/work/MCDA/Examples/exp2_12_alternatives.csv\")"
   ]
  },
  {
   "cell_type": "code",
   "execution_count": 5,
   "id": "8775e208",
   "metadata": {},
   "outputs": [],
   "source": [
    "imd = input_matrix.drop(input_matrix.columns[0],axis=1)"
   ]
  },
  {
   "cell_type": "code",
   "execution_count": 6,
   "id": "d55579b3",
   "metadata": {},
   "outputs": [
    {
     "data": {
      "text/html": [
       "<div>\n",
       "<style scoped>\n",
       "    .dataframe tbody tr th:only-of-type {\n",
       "        vertical-align: middle;\n",
       "    }\n",
       "\n",
       "    .dataframe tbody tr th {\n",
       "        vertical-align: top;\n",
       "    }\n",
       "\n",
       "    .dataframe thead th {\n",
       "        text-align: right;\n",
       "    }\n",
       "</style>\n",
       "<table border=\"1\" class=\"dataframe\">\n",
       "  <thead>\n",
       "    <tr style=\"text-align: right;\">\n",
       "      <th></th>\n",
       "      <th>productivity</th>\n",
       "      <th>timber amount</th>\n",
       "      <th>carbon storage</th>\n",
       "      <th>species suitability</th>\n",
       "      <th>biodiversity</th>\n",
       "      <th>disturbances</th>\n",
       "      <th>management cost</th>\n",
       "      <th>groundwater</th>\n",
       "    </tr>\n",
       "  </thead>\n",
       "  <tbody>\n",
       "    <tr>\n",
       "      <th>0</th>\n",
       "      <td>6.577442</td>\n",
       "      <td>24.845319</td>\n",
       "      <td>107.507196</td>\n",
       "      <td>0.513059</td>\n",
       "      <td>1.0</td>\n",
       "      <td>2.0</td>\n",
       "      <td>3.0</td>\n",
       "      <td>160.369958</td>\n",
       "    </tr>\n",
       "    <tr>\n",
       "      <th>1</th>\n",
       "      <td>15.647698</td>\n",
       "      <td>224.026542</td>\n",
       "      <td>161.416472</td>\n",
       "      <td>0.547062</td>\n",
       "      <td>1.0</td>\n",
       "      <td>2.0</td>\n",
       "      <td>2.0</td>\n",
       "      <td>196.771264</td>\n",
       "    </tr>\n",
       "    <tr>\n",
       "      <th>2</th>\n",
       "      <td>8.996213</td>\n",
       "      <td>344.345764</td>\n",
       "      <td>176.419571</td>\n",
       "      <td>0.482547</td>\n",
       "      <td>1.0</td>\n",
       "      <td>3.0</td>\n",
       "      <td>2.0</td>\n",
       "      <td>187.386841</td>\n",
       "    </tr>\n",
       "  </tbody>\n",
       "</table>\n",
       "</div>"
      ],
      "text/plain": [
       "   productivity  timber amount  carbon storage  species suitability  \\\n",
       "0      6.577442      24.845319      107.507196             0.513059   \n",
       "1     15.647698     224.026542      161.416472             0.547062   \n",
       "2      8.996213     344.345764      176.419571             0.482547   \n",
       "\n",
       "   biodiversity  disturbances  management cost  groundwater  \n",
       "0           1.0           2.0              3.0   160.369958  \n",
       "1           1.0           2.0              2.0   196.771264  \n",
       "2           1.0           3.0              2.0   187.386841  "
      ]
     },
     "execution_count": 6,
     "metadata": {},
     "output_type": "execute_result"
    }
   ],
   "source": [
    "imd.head(3)"
   ]
  },
  {
   "cell_type": "code",
   "execution_count": 7,
   "id": "6f3ed05d",
   "metadata": {},
   "outputs": [],
   "source": [
    "polarities = (\"+\",\"+\",\"+\",\"+\",\"+\",\"-\",\"-\",\"+\")"
   ]
  },
  {
   "cell_type": "code",
   "execution_count": 8,
   "id": "e2decb4d",
   "metadata": {},
   "outputs": [],
   "source": [
    "weights = (0.0833,0.0833,0.0833,0.0833,0.0833,0.0833,0.0833,0.0833)"
   ]
  },
  {
   "cell_type": "markdown",
   "id": "534b33ca",
   "metadata": {},
   "source": [
    "## test normalization functions"
   ]
  },
  {
   "cell_type": "code",
   "execution_count": 9,
   "id": "95e40ced",
   "metadata": {},
   "outputs": [],
   "source": [
    "norm = Normalization(imd, polarities)"
   ]
  },
  {
   "cell_type": "markdown",
   "id": "deb21b66",
   "metadata": {},
   "source": [
    "#### minmax_01"
   ]
  },
  {
   "cell_type": "code",
   "execution_count": 10,
   "id": "9f891399",
   "metadata": {},
   "outputs": [
    {
     "data": {
      "text/html": [
       "<div>\n",
       "<style scoped>\n",
       "    .dataframe tbody tr th:only-of-type {\n",
       "        vertical-align: middle;\n",
       "    }\n",
       "\n",
       "    .dataframe tbody tr th {\n",
       "        vertical-align: top;\n",
       "    }\n",
       "\n",
       "    .dataframe thead th {\n",
       "        text-align: right;\n",
       "    }\n",
       "</style>\n",
       "<table border=\"1\" class=\"dataframe\">\n",
       "  <thead>\n",
       "    <tr style=\"text-align: right;\">\n",
       "      <th></th>\n",
       "      <th>0</th>\n",
       "      <th>1</th>\n",
       "      <th>2</th>\n",
       "      <th>3</th>\n",
       "      <th>4</th>\n",
       "      <th>5</th>\n",
       "      <th>6</th>\n",
       "      <th>7</th>\n",
       "    </tr>\n",
       "  </thead>\n",
       "  <tbody>\n",
       "    <tr>\n",
       "      <th>0</th>\n",
       "      <td>0.403506</td>\n",
       "      <td>0.060007</td>\n",
       "      <td>0.294457</td>\n",
       "      <td>0.592141</td>\n",
       "      <td>0.0</td>\n",
       "      <td>0.5</td>\n",
       "      <td>0.0</td>\n",
       "      <td>0.000000</td>\n",
       "    </tr>\n",
       "    <tr>\n",
       "      <th>1</th>\n",
       "      <td>1.000000</td>\n",
       "      <td>0.646012</td>\n",
       "      <td>0.727827</td>\n",
       "      <td>0.638796</td>\n",
       "      <td>0.0</td>\n",
       "      <td>0.5</td>\n",
       "      <td>1.0</td>\n",
       "      <td>0.438020</td>\n",
       "    </tr>\n",
       "    <tr>\n",
       "      <th>2</th>\n",
       "      <td>0.562574</td>\n",
       "      <td>1.000000</td>\n",
       "      <td>0.848436</td>\n",
       "      <td>0.550275</td>\n",
       "      <td>0.0</td>\n",
       "      <td>0.0</td>\n",
       "      <td>1.0</td>\n",
       "      <td>0.325096</td>\n",
       "    </tr>\n",
       "    <tr>\n",
       "      <th>3</th>\n",
       "      <td>0.051873</td>\n",
       "      <td>0.000000</td>\n",
       "      <td>0.174235</td>\n",
       "      <td>0.277905</td>\n",
       "      <td>0.0</td>\n",
       "      <td>0.5</td>\n",
       "      <td>1.0</td>\n",
       "      <td>0.456405</td>\n",
       "    </tr>\n",
       "    <tr>\n",
       "      <th>4</th>\n",
       "      <td>0.391955</td>\n",
       "      <td>0.216542</td>\n",
       "      <td>0.333791</td>\n",
       "      <td>0.241762</td>\n",
       "      <td>0.0</td>\n",
       "      <td>0.0</td>\n",
       "      <td>1.0</td>\n",
       "      <td>0.864244</td>\n",
       "    </tr>\n",
       "    <tr>\n",
       "      <th>5</th>\n",
       "      <td>0.000000</td>\n",
       "      <td>0.067382</td>\n",
       "      <td>0.000000</td>\n",
       "      <td>0.000000</td>\n",
       "      <td>0.0</td>\n",
       "      <td>0.0</td>\n",
       "      <td>1.0</td>\n",
       "      <td>0.617626</td>\n",
       "    </tr>\n",
       "    <tr>\n",
       "      <th>6</th>\n",
       "      <td>0.423869</td>\n",
       "      <td>0.126550</td>\n",
       "      <td>0.516781</td>\n",
       "      <td>0.886672</td>\n",
       "      <td>1.0</td>\n",
       "      <td>0.5</td>\n",
       "      <td>1.0</td>\n",
       "      <td>0.050011</td>\n",
       "    </tr>\n",
       "    <tr>\n",
       "      <th>7</th>\n",
       "      <td>0.409913</td>\n",
       "      <td>0.246300</td>\n",
       "      <td>0.685612</td>\n",
       "      <td>0.937092</td>\n",
       "      <td>1.0</td>\n",
       "      <td>0.5</td>\n",
       "      <td>0.0</td>\n",
       "      <td>0.496287</td>\n",
       "    </tr>\n",
       "    <tr>\n",
       "      <th>8</th>\n",
       "      <td>0.393471</td>\n",
       "      <td>0.578574</td>\n",
       "      <td>1.000000</td>\n",
       "      <td>1.000000</td>\n",
       "      <td>1.0</td>\n",
       "      <td>1.0</td>\n",
       "      <td>0.0</td>\n",
       "      <td>0.393672</td>\n",
       "    </tr>\n",
       "    <tr>\n",
       "      <th>9</th>\n",
       "      <td>0.342596</td>\n",
       "      <td>0.092918</td>\n",
       "      <td>0.457862</td>\n",
       "      <td>0.564497</td>\n",
       "      <td>1.0</td>\n",
       "      <td>1.0</td>\n",
       "      <td>1.0</td>\n",
       "      <td>0.472508</td>\n",
       "    </tr>\n",
       "    <tr>\n",
       "      <th>10</th>\n",
       "      <td>0.334660</td>\n",
       "      <td>0.202342</td>\n",
       "      <td>0.663546</td>\n",
       "      <td>0.701255</td>\n",
       "      <td>1.0</td>\n",
       "      <td>1.0</td>\n",
       "      <td>0.0</td>\n",
       "      <td>1.000000</td>\n",
       "    </tr>\n",
       "    <tr>\n",
       "      <th>11</th>\n",
       "      <td>0.250514</td>\n",
       "      <td>0.410641</td>\n",
       "      <td>0.852265</td>\n",
       "      <td>0.373209</td>\n",
       "      <td>1.0</td>\n",
       "      <td>1.0</td>\n",
       "      <td>0.0</td>\n",
       "      <td>0.607862</td>\n",
       "    </tr>\n",
       "  </tbody>\n",
       "</table>\n",
       "</div>"
      ],
      "text/plain": [
       "           0         1         2         3    4    5    6         7\n",
       "0   0.403506  0.060007  0.294457  0.592141  0.0  0.5  0.0  0.000000\n",
       "1   1.000000  0.646012  0.727827  0.638796  0.0  0.5  1.0  0.438020\n",
       "2   0.562574  1.000000  0.848436  0.550275  0.0  0.0  1.0  0.325096\n",
       "3   0.051873  0.000000  0.174235  0.277905  0.0  0.5  1.0  0.456405\n",
       "4   0.391955  0.216542  0.333791  0.241762  0.0  0.0  1.0  0.864244\n",
       "5   0.000000  0.067382  0.000000  0.000000  0.0  0.0  1.0  0.617626\n",
       "6   0.423869  0.126550  0.516781  0.886672  1.0  0.5  1.0  0.050011\n",
       "7   0.409913  0.246300  0.685612  0.937092  1.0  0.5  0.0  0.496287\n",
       "8   0.393471  0.578574  1.000000  1.000000  1.0  1.0  0.0  0.393672\n",
       "9   0.342596  0.092918  0.457862  0.564497  1.0  1.0  1.0  0.472508\n",
       "10  0.334660  0.202342  0.663546  0.701255  1.0  1.0  0.0  1.000000\n",
       "11  0.250514  0.410641  0.852265  0.373209  1.0  1.0  0.0  0.607862"
      ]
     },
     "execution_count": 10,
     "metadata": {},
     "output_type": "execute_result"
    }
   ],
   "source": [
    "scaled_minmax_01 = norm.minmax(feature_range=(0, 1))\n",
    "scaled_minmax_01"
   ]
  },
  {
   "cell_type": "code",
   "execution_count": 11,
   "id": "7271658b",
   "metadata": {},
   "outputs": [
    {
     "name": "stdout",
     "output_type": "stream",
     "text": [
      "0.0\n",
      "1.0000000000000002\n"
     ]
    }
   ],
   "source": [
    "print(scaled_minmax_01.to_numpy().min())\n",
    "print(scaled_minmax_01.to_numpy().max())"
   ]
  },
  {
   "cell_type": "markdown",
   "id": "f21d4334",
   "metadata": {},
   "source": [
    "#### minmax_no0"
   ]
  },
  {
   "cell_type": "code",
   "execution_count": 12,
   "id": "038d3b20",
   "metadata": {},
   "outputs": [
    {
     "data": {
      "text/html": [
       "<div>\n",
       "<style scoped>\n",
       "    .dataframe tbody tr th:only-of-type {\n",
       "        vertical-align: middle;\n",
       "    }\n",
       "\n",
       "    .dataframe tbody tr th {\n",
       "        vertical-align: top;\n",
       "    }\n",
       "\n",
       "    .dataframe thead th {\n",
       "        text-align: right;\n",
       "    }\n",
       "</style>\n",
       "<table border=\"1\" class=\"dataframe\">\n",
       "  <thead>\n",
       "    <tr style=\"text-align: right;\">\n",
       "      <th></th>\n",
       "      <th>0</th>\n",
       "      <th>1</th>\n",
       "      <th>2</th>\n",
       "      <th>3</th>\n",
       "      <th>4</th>\n",
       "      <th>5</th>\n",
       "      <th>6</th>\n",
       "      <th>7</th>\n",
       "    </tr>\n",
       "  </thead>\n",
       "  <tbody>\n",
       "    <tr>\n",
       "      <th>0</th>\n",
       "      <td>0.463156</td>\n",
       "      <td>0.154007</td>\n",
       "      <td>0.365011</td>\n",
       "      <td>0.632927</td>\n",
       "      <td>0.1</td>\n",
       "      <td>0.55</td>\n",
       "      <td>0.1</td>\n",
       "      <td>0.100000</td>\n",
       "    </tr>\n",
       "    <tr>\n",
       "      <th>1</th>\n",
       "      <td>1.000000</td>\n",
       "      <td>0.681411</td>\n",
       "      <td>0.755045</td>\n",
       "      <td>0.674917</td>\n",
       "      <td>0.1</td>\n",
       "      <td>0.55</td>\n",
       "      <td>1.0</td>\n",
       "      <td>0.494218</td>\n",
       "    </tr>\n",
       "    <tr>\n",
       "      <th>2</th>\n",
       "      <td>0.606316</td>\n",
       "      <td>1.000000</td>\n",
       "      <td>0.863592</td>\n",
       "      <td>0.595248</td>\n",
       "      <td>0.1</td>\n",
       "      <td>0.10</td>\n",
       "      <td>1.0</td>\n",
       "      <td>0.392586</td>\n",
       "    </tr>\n",
       "    <tr>\n",
       "      <th>3</th>\n",
       "      <td>0.146686</td>\n",
       "      <td>0.100000</td>\n",
       "      <td>0.256812</td>\n",
       "      <td>0.350115</td>\n",
       "      <td>0.1</td>\n",
       "      <td>0.55</td>\n",
       "      <td>1.0</td>\n",
       "      <td>0.510765</td>\n",
       "    </tr>\n",
       "    <tr>\n",
       "      <th>4</th>\n",
       "      <td>0.452760</td>\n",
       "      <td>0.294888</td>\n",
       "      <td>0.400412</td>\n",
       "      <td>0.317585</td>\n",
       "      <td>0.1</td>\n",
       "      <td>0.10</td>\n",
       "      <td>1.0</td>\n",
       "      <td>0.877819</td>\n",
       "    </tr>\n",
       "    <tr>\n",
       "      <th>5</th>\n",
       "      <td>0.100000</td>\n",
       "      <td>0.160644</td>\n",
       "      <td>0.100000</td>\n",
       "      <td>0.100000</td>\n",
       "      <td>0.1</td>\n",
       "      <td>0.10</td>\n",
       "      <td>1.0</td>\n",
       "      <td>0.655863</td>\n",
       "    </tr>\n",
       "    <tr>\n",
       "      <th>6</th>\n",
       "      <td>0.481482</td>\n",
       "      <td>0.213895</td>\n",
       "      <td>0.565103</td>\n",
       "      <td>0.898005</td>\n",
       "      <td>1.0</td>\n",
       "      <td>0.55</td>\n",
       "      <td>1.0</td>\n",
       "      <td>0.145010</td>\n",
       "    </tr>\n",
       "    <tr>\n",
       "      <th>7</th>\n",
       "      <td>0.468922</td>\n",
       "      <td>0.321670</td>\n",
       "      <td>0.717050</td>\n",
       "      <td>0.943383</td>\n",
       "      <td>1.0</td>\n",
       "      <td>0.55</td>\n",
       "      <td>0.1</td>\n",
       "      <td>0.546658</td>\n",
       "    </tr>\n",
       "    <tr>\n",
       "      <th>8</th>\n",
       "      <td>0.454123</td>\n",
       "      <td>0.620716</td>\n",
       "      <td>1.000000</td>\n",
       "      <td>1.000000</td>\n",
       "      <td>1.0</td>\n",
       "      <td>1.00</td>\n",
       "      <td>0.1</td>\n",
       "      <td>0.454305</td>\n",
       "    </tr>\n",
       "    <tr>\n",
       "      <th>9</th>\n",
       "      <td>0.408337</td>\n",
       "      <td>0.183626</td>\n",
       "      <td>0.512076</td>\n",
       "      <td>0.608047</td>\n",
       "      <td>1.0</td>\n",
       "      <td>1.00</td>\n",
       "      <td>1.0</td>\n",
       "      <td>0.525258</td>\n",
       "    </tr>\n",
       "    <tr>\n",
       "      <th>10</th>\n",
       "      <td>0.401194</td>\n",
       "      <td>0.282108</td>\n",
       "      <td>0.697191</td>\n",
       "      <td>0.731129</td>\n",
       "      <td>1.0</td>\n",
       "      <td>1.00</td>\n",
       "      <td>0.1</td>\n",
       "      <td>1.000000</td>\n",
       "    </tr>\n",
       "    <tr>\n",
       "      <th>11</th>\n",
       "      <td>0.325463</td>\n",
       "      <td>0.469577</td>\n",
       "      <td>0.867038</td>\n",
       "      <td>0.435888</td>\n",
       "      <td>1.0</td>\n",
       "      <td>1.00</td>\n",
       "      <td>0.1</td>\n",
       "      <td>0.647076</td>\n",
       "    </tr>\n",
       "  </tbody>\n",
       "</table>\n",
       "</div>"
      ],
      "text/plain": [
       "           0         1         2         3    4     5    6         7\n",
       "0   0.463156  0.154007  0.365011  0.632927  0.1  0.55  0.1  0.100000\n",
       "1   1.000000  0.681411  0.755045  0.674917  0.1  0.55  1.0  0.494218\n",
       "2   0.606316  1.000000  0.863592  0.595248  0.1  0.10  1.0  0.392586\n",
       "3   0.146686  0.100000  0.256812  0.350115  0.1  0.55  1.0  0.510765\n",
       "4   0.452760  0.294888  0.400412  0.317585  0.1  0.10  1.0  0.877819\n",
       "5   0.100000  0.160644  0.100000  0.100000  0.1  0.10  1.0  0.655863\n",
       "6   0.481482  0.213895  0.565103  0.898005  1.0  0.55  1.0  0.145010\n",
       "7   0.468922  0.321670  0.717050  0.943383  1.0  0.55  0.1  0.546658\n",
       "8   0.454123  0.620716  1.000000  1.000000  1.0  1.00  0.1  0.454305\n",
       "9   0.408337  0.183626  0.512076  0.608047  1.0  1.00  1.0  0.525258\n",
       "10  0.401194  0.282108  0.697191  0.731129  1.0  1.00  0.1  1.000000\n",
       "11  0.325463  0.469577  0.867038  0.435888  1.0  1.00  0.1  0.647076"
      ]
     },
     "execution_count": 12,
     "metadata": {},
     "output_type": "execute_result"
    }
   ],
   "source": [
    "scaled_minmax_no0 = norm.minmax(feature_range=(0.1, 1))\n",
    "scaled_minmax_no0"
   ]
  },
  {
   "cell_type": "code",
   "execution_count": 13,
   "id": "06087ebe",
   "metadata": {},
   "outputs": [
    {
     "name": "stdout",
     "output_type": "stream",
     "text": [
      "0.09999999999999998\n",
      "1.0\n"
     ]
    }
   ],
   "source": [
    "print(scaled_minmax_no0.to_numpy().min())\n",
    "print(scaled_minmax_no0.to_numpy().max())"
   ]
  },
  {
   "cell_type": "markdown",
   "id": "bfaef138",
   "metadata": {},
   "source": [
    "#### rank"
   ]
  },
  {
   "cell_type": "code",
   "execution_count": 14,
   "id": "5104e117",
   "metadata": {},
   "outputs": [
    {
     "data": {
      "text/html": [
       "<div>\n",
       "<style scoped>\n",
       "    .dataframe tbody tr th:only-of-type {\n",
       "        vertical-align: middle;\n",
       "    }\n",
       "\n",
       "    .dataframe tbody tr th {\n",
       "        vertical-align: top;\n",
       "    }\n",
       "\n",
       "    .dataframe thead th {\n",
       "        text-align: right;\n",
       "    }\n",
       "</style>\n",
       "<table border=\"1\" class=\"dataframe\">\n",
       "  <thead>\n",
       "    <tr style=\"text-align: right;\">\n",
       "      <th></th>\n",
       "      <th>0</th>\n",
       "      <th>1</th>\n",
       "      <th>2</th>\n",
       "      <th>3</th>\n",
       "      <th>4</th>\n",
       "      <th>5</th>\n",
       "      <th>6</th>\n",
       "      <th>7</th>\n",
       "    </tr>\n",
       "  </thead>\n",
       "  <tbody>\n",
       "    <tr>\n",
       "      <th>0</th>\n",
       "      <td>8.0</td>\n",
       "      <td>2.0</td>\n",
       "      <td>3.0</td>\n",
       "      <td>7.0</td>\n",
       "      <td>3.5</td>\n",
       "      <td>6.0</td>\n",
       "      <td>3.0</td>\n",
       "      <td>1.0</td>\n",
       "    </tr>\n",
       "    <tr>\n",
       "      <th>1</th>\n",
       "      <td>12.0</td>\n",
       "      <td>11.0</td>\n",
       "      <td>9.0</td>\n",
       "      <td>8.0</td>\n",
       "      <td>3.5</td>\n",
       "      <td>6.0</td>\n",
       "      <td>9.0</td>\n",
       "      <td>5.0</td>\n",
       "    </tr>\n",
       "    <tr>\n",
       "      <th>2</th>\n",
       "      <td>11.0</td>\n",
       "      <td>12.0</td>\n",
       "      <td>10.0</td>\n",
       "      <td>5.0</td>\n",
       "      <td>3.5</td>\n",
       "      <td>2.0</td>\n",
       "      <td>9.0</td>\n",
       "      <td>3.0</td>\n",
       "    </tr>\n",
       "    <tr>\n",
       "      <th>3</th>\n",
       "      <td>2.0</td>\n",
       "      <td>1.0</td>\n",
       "      <td>2.0</td>\n",
       "      <td>3.0</td>\n",
       "      <td>3.5</td>\n",
       "      <td>6.0</td>\n",
       "      <td>9.0</td>\n",
       "      <td>6.0</td>\n",
       "    </tr>\n",
       "    <tr>\n",
       "      <th>4</th>\n",
       "      <td>6.0</td>\n",
       "      <td>7.0</td>\n",
       "      <td>4.0</td>\n",
       "      <td>2.0</td>\n",
       "      <td>3.5</td>\n",
       "      <td>2.0</td>\n",
       "      <td>9.0</td>\n",
       "      <td>11.0</td>\n",
       "    </tr>\n",
       "    <tr>\n",
       "      <th>5</th>\n",
       "      <td>1.0</td>\n",
       "      <td>3.0</td>\n",
       "      <td>1.0</td>\n",
       "      <td>1.0</td>\n",
       "      <td>3.5</td>\n",
       "      <td>2.0</td>\n",
       "      <td>9.0</td>\n",
       "      <td>10.0</td>\n",
       "    </tr>\n",
       "    <tr>\n",
       "      <th>6</th>\n",
       "      <td>10.0</td>\n",
       "      <td>5.0</td>\n",
       "      <td>6.0</td>\n",
       "      <td>10.0</td>\n",
       "      <td>9.5</td>\n",
       "      <td>6.0</td>\n",
       "      <td>9.0</td>\n",
       "      <td>2.0</td>\n",
       "    </tr>\n",
       "    <tr>\n",
       "      <th>7</th>\n",
       "      <td>9.0</td>\n",
       "      <td>8.0</td>\n",
       "      <td>8.0</td>\n",
       "      <td>11.0</td>\n",
       "      <td>9.5</td>\n",
       "      <td>6.0</td>\n",
       "      <td>3.0</td>\n",
       "      <td>8.0</td>\n",
       "    </tr>\n",
       "    <tr>\n",
       "      <th>8</th>\n",
       "      <td>7.0</td>\n",
       "      <td>10.0</td>\n",
       "      <td>12.0</td>\n",
       "      <td>12.0</td>\n",
       "      <td>9.5</td>\n",
       "      <td>10.5</td>\n",
       "      <td>3.0</td>\n",
       "      <td>4.0</td>\n",
       "    </tr>\n",
       "    <tr>\n",
       "      <th>9</th>\n",
       "      <td>5.0</td>\n",
       "      <td>4.0</td>\n",
       "      <td>5.0</td>\n",
       "      <td>6.0</td>\n",
       "      <td>9.5</td>\n",
       "      <td>10.5</td>\n",
       "      <td>9.0</td>\n",
       "      <td>7.0</td>\n",
       "    </tr>\n",
       "    <tr>\n",
       "      <th>10</th>\n",
       "      <td>4.0</td>\n",
       "      <td>6.0</td>\n",
       "      <td>7.0</td>\n",
       "      <td>9.0</td>\n",
       "      <td>9.5</td>\n",
       "      <td>10.5</td>\n",
       "      <td>3.0</td>\n",
       "      <td>12.0</td>\n",
       "    </tr>\n",
       "    <tr>\n",
       "      <th>11</th>\n",
       "      <td>3.0</td>\n",
       "      <td>9.0</td>\n",
       "      <td>11.0</td>\n",
       "      <td>4.0</td>\n",
       "      <td>9.5</td>\n",
       "      <td>10.5</td>\n",
       "      <td>3.0</td>\n",
       "      <td>9.0</td>\n",
       "    </tr>\n",
       "  </tbody>\n",
       "</table>\n",
       "</div>"
      ],
      "text/plain": [
       "       0     1     2     3    4     5    6     7\n",
       "0    8.0   2.0   3.0   7.0  3.5   6.0  3.0   1.0\n",
       "1   12.0  11.0   9.0   8.0  3.5   6.0  9.0   5.0\n",
       "2   11.0  12.0  10.0   5.0  3.5   2.0  9.0   3.0\n",
       "3    2.0   1.0   2.0   3.0  3.5   6.0  9.0   6.0\n",
       "4    6.0   7.0   4.0   2.0  3.5   2.0  9.0  11.0\n",
       "5    1.0   3.0   1.0   1.0  3.5   2.0  9.0  10.0\n",
       "6   10.0   5.0   6.0  10.0  9.5   6.0  9.0   2.0\n",
       "7    9.0   8.0   8.0  11.0  9.5   6.0  3.0   8.0\n",
       "8    7.0  10.0  12.0  12.0  9.5  10.5  3.0   4.0\n",
       "9    5.0   4.0   5.0   6.0  9.5  10.5  9.0   7.0\n",
       "10   4.0   6.0   7.0   9.0  9.5  10.5  3.0  12.0\n",
       "11   3.0   9.0  11.0   4.0  9.5  10.5  3.0   9.0"
      ]
     },
     "execution_count": 14,
     "metadata": {},
     "output_type": "execute_result"
    }
   ],
   "source": [
    "scaled_rank = norm.rank()\n",
    "scaled_rank"
   ]
  },
  {
   "cell_type": "code",
   "execution_count": 15,
   "id": "abb0058b",
   "metadata": {},
   "outputs": [
    {
     "name": "stdout",
     "output_type": "stream",
     "text": [
      "1.0\n",
      "12.0\n"
     ]
    }
   ],
   "source": [
    "print(scaled_rank.to_numpy().min())\n",
    "print(scaled_rank.to_numpy().max())"
   ]
  },
  {
   "cell_type": "markdown",
   "id": "b6489eae",
   "metadata": {},
   "source": [
    "#### standardized"
   ]
  },
  {
   "cell_type": "code",
   "execution_count": 16,
   "id": "38281c82",
   "metadata": {
    "scrolled": true
   },
   "outputs": [
    {
     "data": {
      "text/html": [
       "<div>\n",
       "<style scoped>\n",
       "    .dataframe tbody tr th:only-of-type {\n",
       "        vertical-align: middle;\n",
       "    }\n",
       "\n",
       "    .dataframe tbody tr th {\n",
       "        vertical-align: top;\n",
       "    }\n",
       "\n",
       "    .dataframe thead th {\n",
       "        text-align: right;\n",
       "    }\n",
       "</style>\n",
       "<table border=\"1\" class=\"dataframe\">\n",
       "  <thead>\n",
       "    <tr style=\"text-align: right;\">\n",
       "      <th></th>\n",
       "      <th>0</th>\n",
       "      <th>1</th>\n",
       "      <th>2</th>\n",
       "      <th>3</th>\n",
       "      <th>4</th>\n",
       "      <th>5</th>\n",
       "      <th>6</th>\n",
       "      <th>7</th>\n",
       "    </tr>\n",
       "  </thead>\n",
       "  <tbody>\n",
       "    <tr>\n",
       "      <th>0</th>\n",
       "      <td>0.091967</td>\n",
       "      <td>-0.811695</td>\n",
       "      <td>-0.830495</td>\n",
       "      <td>0.094594</td>\n",
       "      <td>-0.957427</td>\n",
       "      <td>-0.105091</td>\n",
       "      <td>-1.132843</td>\n",
       "      <td>-1.664553</td>\n",
       "    </tr>\n",
       "    <tr>\n",
       "      <th>1</th>\n",
       "      <td>2.467228</td>\n",
       "      <td>1.138266</td>\n",
       "      <td>0.598990</td>\n",
       "      <td>0.249410</td>\n",
       "      <td>-0.957427</td>\n",
       "      <td>-0.105091</td>\n",
       "      <td>0.809174</td>\n",
       "      <td>-0.135421</td>\n",
       "    </tr>\n",
       "    <tr>\n",
       "      <th>2</th>\n",
       "      <td>0.725379</td>\n",
       "      <td>2.316177</td>\n",
       "      <td>0.996819</td>\n",
       "      <td>-0.044327</td>\n",
       "      <td>-0.957427</td>\n",
       "      <td>-1.366187</td>\n",
       "      <td>0.809174</td>\n",
       "      <td>-0.529638</td>\n",
       "    </tr>\n",
       "    <tr>\n",
       "      <th>3</th>\n",
       "      <td>-1.308250</td>\n",
       "      <td>-1.011373</td>\n",
       "      <td>-1.227048</td>\n",
       "      <td>-0.948124</td>\n",
       "      <td>-0.957427</td>\n",
       "      <td>-0.105091</td>\n",
       "      <td>0.809174</td>\n",
       "      <td>-0.071237</td>\n",
       "    </tr>\n",
       "    <tr>\n",
       "      <th>4</th>\n",
       "      <td>0.045970</td>\n",
       "      <td>-0.290819</td>\n",
       "      <td>-0.700751</td>\n",
       "      <td>-1.068059</td>\n",
       "      <td>-0.957427</td>\n",
       "      <td>-1.366187</td>\n",
       "      <td>0.809174</td>\n",
       "      <td>1.352532</td>\n",
       "    </tr>\n",
       "    <tr>\n",
       "      <th>5</th>\n",
       "      <td>-1.514811</td>\n",
       "      <td>-0.787154</td>\n",
       "      <td>-1.801768</td>\n",
       "      <td>-1.870289</td>\n",
       "      <td>-0.957427</td>\n",
       "      <td>-1.366187</td>\n",
       "      <td>0.809174</td>\n",
       "      <td>0.491586</td>\n",
       "    </tr>\n",
       "    <tr>\n",
       "      <th>6</th>\n",
       "      <td>0.173052</td>\n",
       "      <td>-0.590272</td>\n",
       "      <td>-0.097151</td>\n",
       "      <td>1.071930</td>\n",
       "      <td>0.957427</td>\n",
       "      <td>-0.105091</td>\n",
       "      <td>0.809174</td>\n",
       "      <td>-1.489962</td>\n",
       "    </tr>\n",
       "    <tr>\n",
       "      <th>7</th>\n",
       "      <td>0.117479</td>\n",
       "      <td>-0.191796</td>\n",
       "      <td>0.459739</td>\n",
       "      <td>1.239237</td>\n",
       "      <td>0.957427</td>\n",
       "      <td>-0.105091</td>\n",
       "      <td>-1.132843</td>\n",
       "      <td>0.067992</td>\n",
       "    </tr>\n",
       "    <tr>\n",
       "      <th>8</th>\n",
       "      <td>0.052004</td>\n",
       "      <td>0.913860</td>\n",
       "      <td>1.496758</td>\n",
       "      <td>1.447981</td>\n",
       "      <td>0.957427</td>\n",
       "      <td>1.156004</td>\n",
       "      <td>-1.132843</td>\n",
       "      <td>-0.290239</td>\n",
       "    </tr>\n",
       "    <tr>\n",
       "      <th>9</th>\n",
       "      <td>-0.150580</td>\n",
       "      <td>-0.702183</td>\n",
       "      <td>-0.291499</td>\n",
       "      <td>0.002865</td>\n",
       "      <td>0.957427</td>\n",
       "      <td>1.156004</td>\n",
       "      <td>0.809174</td>\n",
       "      <td>-0.015020</td>\n",
       "    </tr>\n",
       "    <tr>\n",
       "      <th>10</th>\n",
       "      <td>-0.182183</td>\n",
       "      <td>-0.338069</td>\n",
       "      <td>0.386956</td>\n",
       "      <td>0.456663</td>\n",
       "      <td>0.957427</td>\n",
       "      <td>1.156004</td>\n",
       "      <td>-1.132843</td>\n",
       "      <td>1.826459</td>\n",
       "    </tr>\n",
       "    <tr>\n",
       "      <th>11</th>\n",
       "      <td>-0.517254</td>\n",
       "      <td>0.355057</td>\n",
       "      <td>1.009449</td>\n",
       "      <td>-0.631881</td>\n",
       "      <td>0.957427</td>\n",
       "      <td>1.156004</td>\n",
       "      <td>-1.132843</td>\n",
       "      <td>0.457500</td>\n",
       "    </tr>\n",
       "  </tbody>\n",
       "</table>\n",
       "</div>"
      ],
      "text/plain": [
       "           0         1         2         3         4         5         6  \\\n",
       "0   0.091967 -0.811695 -0.830495  0.094594 -0.957427 -0.105091 -1.132843   \n",
       "1   2.467228  1.138266  0.598990  0.249410 -0.957427 -0.105091  0.809174   \n",
       "2   0.725379  2.316177  0.996819 -0.044327 -0.957427 -1.366187  0.809174   \n",
       "3  -1.308250 -1.011373 -1.227048 -0.948124 -0.957427 -0.105091  0.809174   \n",
       "4   0.045970 -0.290819 -0.700751 -1.068059 -0.957427 -1.366187  0.809174   \n",
       "5  -1.514811 -0.787154 -1.801768 -1.870289 -0.957427 -1.366187  0.809174   \n",
       "6   0.173052 -0.590272 -0.097151  1.071930  0.957427 -0.105091  0.809174   \n",
       "7   0.117479 -0.191796  0.459739  1.239237  0.957427 -0.105091 -1.132843   \n",
       "8   0.052004  0.913860  1.496758  1.447981  0.957427  1.156004 -1.132843   \n",
       "9  -0.150580 -0.702183 -0.291499  0.002865  0.957427  1.156004  0.809174   \n",
       "10 -0.182183 -0.338069  0.386956  0.456663  0.957427  1.156004 -1.132843   \n",
       "11 -0.517254  0.355057  1.009449 -0.631881  0.957427  1.156004 -1.132843   \n",
       "\n",
       "           7  \n",
       "0  -1.664553  \n",
       "1  -0.135421  \n",
       "2  -0.529638  \n",
       "3  -0.071237  \n",
       "4   1.352532  \n",
       "5   0.491586  \n",
       "6  -1.489962  \n",
       "7   0.067992  \n",
       "8  -0.290239  \n",
       "9  -0.015020  \n",
       "10  1.826459  \n",
       "11  0.457500  "
      ]
     },
     "execution_count": 16,
     "metadata": {},
     "output_type": "execute_result"
    }
   ],
   "source": [
    "scaled_stand_any = norm.standardized(feature_range=('-inf','+inf'))\n",
    "scaled_stand_any"
   ]
  },
  {
   "cell_type": "code",
   "execution_count": 17,
   "id": "fea40f92",
   "metadata": {},
   "outputs": [
    {
     "name": "stdout",
     "output_type": "stream",
     "text": [
      "-1.8702885822299633\n",
      "2.467227664076385\n",
      "-2.1279274638648835e-16\n",
      "0.9574271077563381\n"
     ]
    }
   ],
   "source": [
    "print(scaled_stand_any.to_numpy().min())\n",
    "print(scaled_stand_any.to_numpy().max())\n",
    "print(scaled_stand_any.to_numpy().mean())\n",
    "print(scaled_stand_any.to_numpy().std())"
   ]
  },
  {
   "cell_type": "markdown",
   "id": "5824b8b0",
   "metadata": {},
   "source": [
    "#### standardized no 0 - does not have mean 0 and std 1!"
   ]
  },
  {
   "cell_type": "code",
   "execution_count": 18,
   "id": "fda4e018",
   "metadata": {},
   "outputs": [
    {
     "data": {
      "text/html": [
       "<div>\n",
       "<style scoped>\n",
       "    .dataframe tbody tr th:only-of-type {\n",
       "        vertical-align: middle;\n",
       "    }\n",
       "\n",
       "    .dataframe tbody tr th {\n",
       "        vertical-align: top;\n",
       "    }\n",
       "\n",
       "    .dataframe thead th {\n",
       "        text-align: right;\n",
       "    }\n",
       "</style>\n",
       "<table border=\"1\" class=\"dataframe\">\n",
       "  <thead>\n",
       "    <tr style=\"text-align: right;\">\n",
       "      <th></th>\n",
       "      <th>0</th>\n",
       "      <th>1</th>\n",
       "      <th>2</th>\n",
       "      <th>3</th>\n",
       "      <th>4</th>\n",
       "      <th>5</th>\n",
       "      <th>6</th>\n",
       "      <th>7</th>\n",
       "    </tr>\n",
       "  </thead>\n",
       "  <tbody>\n",
       "    <tr>\n",
       "      <th>0</th>\n",
       "      <td>1.706779</td>\n",
       "      <td>0.299678</td>\n",
       "      <td>1.071273</td>\n",
       "      <td>2.064882</td>\n",
       "      <td>0.100000</td>\n",
       "      <td>1.361095</td>\n",
       "      <td>0.100000</td>\n",
       "      <td>0.100000</td>\n",
       "    </tr>\n",
       "    <tr>\n",
       "      <th>1</th>\n",
       "      <td>4.082039</td>\n",
       "      <td>2.249639</td>\n",
       "      <td>2.500757</td>\n",
       "      <td>2.219698</td>\n",
       "      <td>0.100000</td>\n",
       "      <td>1.361095</td>\n",
       "      <td>2.042017</td>\n",
       "      <td>1.629131</td>\n",
       "    </tr>\n",
       "    <tr>\n",
       "      <th>2</th>\n",
       "      <td>2.340191</td>\n",
       "      <td>3.427550</td>\n",
       "      <td>2.898587</td>\n",
       "      <td>1.925961</td>\n",
       "      <td>0.100000</td>\n",
       "      <td>0.100000</td>\n",
       "      <td>2.042017</td>\n",
       "      <td>1.234914</td>\n",
       "    </tr>\n",
       "    <tr>\n",
       "      <th>3</th>\n",
       "      <td>0.306561</td>\n",
       "      <td>0.100000</td>\n",
       "      <td>0.674720</td>\n",
       "      <td>1.022165</td>\n",
       "      <td>0.100000</td>\n",
       "      <td>1.361095</td>\n",
       "      <td>2.042017</td>\n",
       "      <td>1.693316</td>\n",
       "    </tr>\n",
       "    <tr>\n",
       "      <th>4</th>\n",
       "      <td>1.660781</td>\n",
       "      <td>0.820554</td>\n",
       "      <td>1.201017</td>\n",
       "      <td>0.902230</td>\n",
       "      <td>0.100000</td>\n",
       "      <td>0.100000</td>\n",
       "      <td>2.042017</td>\n",
       "      <td>3.117085</td>\n",
       "    </tr>\n",
       "    <tr>\n",
       "      <th>5</th>\n",
       "      <td>0.100000</td>\n",
       "      <td>0.324218</td>\n",
       "      <td>0.100000</td>\n",
       "      <td>0.100000</td>\n",
       "      <td>0.100000</td>\n",
       "      <td>0.100000</td>\n",
       "      <td>2.042017</td>\n",
       "      <td>2.256139</td>\n",
       "    </tr>\n",
       "    <tr>\n",
       "      <th>6</th>\n",
       "      <td>1.787863</td>\n",
       "      <td>0.521101</td>\n",
       "      <td>1.804617</td>\n",
       "      <td>3.042218</td>\n",
       "      <td>2.014854</td>\n",
       "      <td>1.361095</td>\n",
       "      <td>2.042017</td>\n",
       "      <td>0.274591</td>\n",
       "    </tr>\n",
       "    <tr>\n",
       "      <th>7</th>\n",
       "      <td>1.732290</td>\n",
       "      <td>0.919577</td>\n",
       "      <td>2.361507</td>\n",
       "      <td>3.209525</td>\n",
       "      <td>2.014854</td>\n",
       "      <td>1.361095</td>\n",
       "      <td>0.100000</td>\n",
       "      <td>1.832544</td>\n",
       "    </tr>\n",
       "    <tr>\n",
       "      <th>8</th>\n",
       "      <td>1.666815</td>\n",
       "      <td>2.025232</td>\n",
       "      <td>3.398526</td>\n",
       "      <td>3.418270</td>\n",
       "      <td>2.014854</td>\n",
       "      <td>2.622191</td>\n",
       "      <td>0.100000</td>\n",
       "      <td>1.474313</td>\n",
       "    </tr>\n",
       "    <tr>\n",
       "      <th>9</th>\n",
       "      <td>1.464231</td>\n",
       "      <td>0.409190</td>\n",
       "      <td>1.610269</td>\n",
       "      <td>1.973154</td>\n",
       "      <td>2.014854</td>\n",
       "      <td>2.622191</td>\n",
       "      <td>2.042017</td>\n",
       "      <td>1.749532</td>\n",
       "    </tr>\n",
       "    <tr>\n",
       "      <th>10</th>\n",
       "      <td>1.432628</td>\n",
       "      <td>0.773304</td>\n",
       "      <td>2.288724</td>\n",
       "      <td>2.426952</td>\n",
       "      <td>2.014854</td>\n",
       "      <td>2.622191</td>\n",
       "      <td>0.100000</td>\n",
       "      <td>3.591012</td>\n",
       "    </tr>\n",
       "    <tr>\n",
       "      <th>11</th>\n",
       "      <td>1.097557</td>\n",
       "      <td>1.466430</td>\n",
       "      <td>2.911217</td>\n",
       "      <td>1.338407</td>\n",
       "      <td>2.014854</td>\n",
       "      <td>2.622191</td>\n",
       "      <td>0.100000</td>\n",
       "      <td>2.222053</td>\n",
       "    </tr>\n",
       "  </tbody>\n",
       "</table>\n",
       "</div>"
      ],
      "text/plain": [
       "           0         1         2         3         4         5         6  \\\n",
       "0   1.706779  0.299678  1.071273  2.064882  0.100000  1.361095  0.100000   \n",
       "1   4.082039  2.249639  2.500757  2.219698  0.100000  1.361095  2.042017   \n",
       "2   2.340191  3.427550  2.898587  1.925961  0.100000  0.100000  2.042017   \n",
       "3   0.306561  0.100000  0.674720  1.022165  0.100000  1.361095  2.042017   \n",
       "4   1.660781  0.820554  1.201017  0.902230  0.100000  0.100000  2.042017   \n",
       "5   0.100000  0.324218  0.100000  0.100000  0.100000  0.100000  2.042017   \n",
       "6   1.787863  0.521101  1.804617  3.042218  2.014854  1.361095  2.042017   \n",
       "7   1.732290  0.919577  2.361507  3.209525  2.014854  1.361095  0.100000   \n",
       "8   1.666815  2.025232  3.398526  3.418270  2.014854  2.622191  0.100000   \n",
       "9   1.464231  0.409190  1.610269  1.973154  2.014854  2.622191  2.042017   \n",
       "10  1.432628  0.773304  2.288724  2.426952  2.014854  2.622191  0.100000   \n",
       "11  1.097557  1.466430  2.911217  1.338407  2.014854  2.622191  0.100000   \n",
       "\n",
       "           7  \n",
       "0   0.100000  \n",
       "1   1.629131  \n",
       "2   1.234914  \n",
       "3   1.693316  \n",
       "4   3.117085  \n",
       "5   2.256139  \n",
       "6   0.274591  \n",
       "7   1.832544  \n",
       "8   1.474313  \n",
       "9   1.749532  \n",
       "10  3.591012  \n",
       "11  2.222053  "
      ]
     },
     "execution_count": 18,
     "metadata": {},
     "output_type": "execute_result"
    }
   ],
   "source": [
    "scaled_stand_no0 = norm.standardized(feature_range=(0.1,'+inf'))\n",
    "scaled_stand_no0"
   ]
  },
  {
   "cell_type": "code",
   "execution_count": 19,
   "id": "875108b8",
   "metadata": {},
   "outputs": [
    {
     "name": "stdout",
     "output_type": "stream",
     "text": [
      "0.1\n",
      "4.082038963125437\n",
      "1.514906186645644\n",
      "1.0134552445816336\n"
     ]
    }
   ],
   "source": [
    "print(scaled_stand_no0.to_numpy().min())\n",
    "print(scaled_stand_no0.to_numpy().max())\n",
    "print(scaled_stand_no0.to_numpy().mean())\n",
    "print(scaled_stand_no0.to_numpy().std())"
   ]
  },
  {
   "cell_type": "markdown",
   "id": "efabf3bf",
   "metadata": {},
   "source": [
    "#### target"
   ]
  },
  {
   "cell_type": "code",
   "execution_count": 20,
   "id": "0c2ae952",
   "metadata": {},
   "outputs": [
    {
     "data": {
      "text/html": [
       "<div>\n",
       "<style scoped>\n",
       "    .dataframe tbody tr th:only-of-type {\n",
       "        vertical-align: middle;\n",
       "    }\n",
       "\n",
       "    .dataframe tbody tr th {\n",
       "        vertical-align: top;\n",
       "    }\n",
       "\n",
       "    .dataframe thead th {\n",
       "        text-align: right;\n",
       "    }\n",
       "</style>\n",
       "<table border=\"1\" class=\"dataframe\">\n",
       "  <thead>\n",
       "    <tr style=\"text-align: right;\">\n",
       "      <th></th>\n",
       "      <th>0</th>\n",
       "      <th>1</th>\n",
       "      <th>2</th>\n",
       "      <th>3</th>\n",
       "      <th>4</th>\n",
       "      <th>5</th>\n",
       "      <th>6</th>\n",
       "      <th>7</th>\n",
       "    </tr>\n",
       "  </thead>\n",
       "  <tbody>\n",
       "    <tr>\n",
       "      <th>0</th>\n",
       "      <td>0.420346</td>\n",
       "      <td>0.072152</td>\n",
       "      <td>0.550547</td>\n",
       "      <td>0.633162</td>\n",
       "      <td>0.5</td>\n",
       "      <td>0.333333</td>\n",
       "      <td>0.000000</td>\n",
       "      <td>0.658673</td>\n",
       "    </tr>\n",
       "    <tr>\n",
       "      <th>1</th>\n",
       "      <td>1.000000</td>\n",
       "      <td>0.650586</td>\n",
       "      <td>0.826618</td>\n",
       "      <td>0.675125</td>\n",
       "      <td>0.5</td>\n",
       "      <td>0.333333</td>\n",
       "      <td>0.333333</td>\n",
       "      <td>0.808181</td>\n",
       "    </tr>\n",
       "    <tr>\n",
       "      <th>2</th>\n",
       "      <td>0.574922</td>\n",
       "      <td>1.000000</td>\n",
       "      <td>0.903449</td>\n",
       "      <td>0.595507</td>\n",
       "      <td>0.5</td>\n",
       "      <td>0.000000</td>\n",
       "      <td>0.333333</td>\n",
       "      <td>0.769637</td>\n",
       "    </tr>\n",
       "    <tr>\n",
       "      <th>3</th>\n",
       "      <td>0.078639</td>\n",
       "      <td>0.012920</td>\n",
       "      <td>0.473962</td>\n",
       "      <td>0.350532</td>\n",
       "      <td>0.5</td>\n",
       "      <td>0.333333</td>\n",
       "      <td>0.333333</td>\n",
       "      <td>0.814456</td>\n",
       "    </tr>\n",
       "    <tr>\n",
       "      <th>4</th>\n",
       "      <td>0.409121</td>\n",
       "      <td>0.226664</td>\n",
       "      <td>0.575604</td>\n",
       "      <td>0.318023</td>\n",
       "      <td>0.5</td>\n",
       "      <td>0.000000</td>\n",
       "      <td>0.333333</td>\n",
       "      <td>0.953663</td>\n",
       "    </tr>\n",
       "    <tr>\n",
       "      <th>5</th>\n",
       "      <td>0.028230</td>\n",
       "      <td>0.079432</td>\n",
       "      <td>0.362969</td>\n",
       "      <td>0.100577</td>\n",
       "      <td>0.5</td>\n",
       "      <td>0.000000</td>\n",
       "      <td>0.333333</td>\n",
       "      <td>0.869485</td>\n",
       "    </tr>\n",
       "    <tr>\n",
       "      <th>6</th>\n",
       "      <td>0.440133</td>\n",
       "      <td>0.137835</td>\n",
       "      <td>0.692175</td>\n",
       "      <td>0.898071</td>\n",
       "      <td>1.0</td>\n",
       "      <td>0.333333</td>\n",
       "      <td>0.333333</td>\n",
       "      <td>0.675743</td>\n",
       "    </tr>\n",
       "    <tr>\n",
       "      <th>7</th>\n",
       "      <td>0.426571</td>\n",
       "      <td>0.256038</td>\n",
       "      <td>0.799725</td>\n",
       "      <td>0.943419</td>\n",
       "      <td>1.0</td>\n",
       "      <td>0.333333</td>\n",
       "      <td>0.000000</td>\n",
       "      <td>0.828069</td>\n",
       "    </tr>\n",
       "    <tr>\n",
       "      <th>8</th>\n",
       "      <td>0.410593</td>\n",
       "      <td>0.584018</td>\n",
       "      <td>1.000000</td>\n",
       "      <td>1.000000</td>\n",
       "      <td>1.0</td>\n",
       "      <td>0.666667</td>\n",
       "      <td>0.000000</td>\n",
       "      <td>0.793044</td>\n",
       "    </tr>\n",
       "    <tr>\n",
       "      <th>9</th>\n",
       "      <td>0.361155</td>\n",
       "      <td>0.104638</td>\n",
       "      <td>0.654641</td>\n",
       "      <td>0.608299</td>\n",
       "      <td>1.0</td>\n",
       "      <td>0.666667</td>\n",
       "      <td>0.333333</td>\n",
       "      <td>0.819953</td>\n",
       "    </tr>\n",
       "    <tr>\n",
       "      <th>10</th>\n",
       "      <td>0.353442</td>\n",
       "      <td>0.212648</td>\n",
       "      <td>0.785668</td>\n",
       "      <td>0.731302</td>\n",
       "      <td>1.0</td>\n",
       "      <td>0.666667</td>\n",
       "      <td>0.000000</td>\n",
       "      <td>1.000000</td>\n",
       "    </tr>\n",
       "    <tr>\n",
       "      <th>11</th>\n",
       "      <td>0.271672</td>\n",
       "      <td>0.418256</td>\n",
       "      <td>0.905888</td>\n",
       "      <td>0.436250</td>\n",
       "      <td>1.0</td>\n",
       "      <td>0.666667</td>\n",
       "      <td>0.000000</td>\n",
       "      <td>0.866153</td>\n",
       "    </tr>\n",
       "  </tbody>\n",
       "</table>\n",
       "</div>"
      ],
      "text/plain": [
       "           0         1         2         3    4         5         6         7\n",
       "0   0.420346  0.072152  0.550547  0.633162  0.5  0.333333  0.000000  0.658673\n",
       "1   1.000000  0.650586  0.826618  0.675125  0.5  0.333333  0.333333  0.808181\n",
       "2   0.574922  1.000000  0.903449  0.595507  0.5  0.000000  0.333333  0.769637\n",
       "3   0.078639  0.012920  0.473962  0.350532  0.5  0.333333  0.333333  0.814456\n",
       "4   0.409121  0.226664  0.575604  0.318023  0.5  0.000000  0.333333  0.953663\n",
       "5   0.028230  0.079432  0.362969  0.100577  0.5  0.000000  0.333333  0.869485\n",
       "6   0.440133  0.137835  0.692175  0.898071  1.0  0.333333  0.333333  0.675743\n",
       "7   0.426571  0.256038  0.799725  0.943419  1.0  0.333333  0.000000  0.828069\n",
       "8   0.410593  0.584018  1.000000  1.000000  1.0  0.666667  0.000000  0.793044\n",
       "9   0.361155  0.104638  0.654641  0.608299  1.0  0.666667  0.333333  0.819953\n",
       "10  0.353442  0.212648  0.785668  0.731302  1.0  0.666667  0.000000  1.000000\n",
       "11  0.271672  0.418256  0.905888  0.436250  1.0  0.666667  0.000000  0.866153"
      ]
     },
     "execution_count": 20,
     "metadata": {},
     "output_type": "execute_result"
    }
   ],
   "source": [
    "scaled_target = norm.target(feature_range=(0, 1))\n",
    "scaled_target"
   ]
  },
  {
   "cell_type": "code",
   "execution_count": 21,
   "id": "c94df62b",
   "metadata": {},
   "outputs": [
    {
     "name": "stdout",
     "output_type": "stream",
     "text": [
      "0.0\n",
      "1.0\n"
     ]
    }
   ],
   "source": [
    "print(scaled_target.to_numpy().min())\n",
    "print(scaled_target.to_numpy().max())"
   ]
  },
  {
   "cell_type": "markdown",
   "id": "bd3b7149",
   "metadata": {},
   "source": [
    "#### target no 0"
   ]
  },
  {
   "cell_type": "code",
   "execution_count": 22,
   "id": "8f489453",
   "metadata": {},
   "outputs": [],
   "source": [
    "scaled_target_no0 = norm.target(feature_range=(0.1, 1))"
   ]
  },
  {
   "cell_type": "code",
   "execution_count": 23,
   "id": "51f8c3fe",
   "metadata": {},
   "outputs": [
    {
     "data": {
      "text/html": [
       "<div>\n",
       "<style scoped>\n",
       "    .dataframe tbody tr th:only-of-type {\n",
       "        vertical-align: middle;\n",
       "    }\n",
       "\n",
       "    .dataframe tbody tr th {\n",
       "        vertical-align: top;\n",
       "    }\n",
       "\n",
       "    .dataframe thead th {\n",
       "        text-align: right;\n",
       "    }\n",
       "</style>\n",
       "<table border=\"1\" class=\"dataframe\">\n",
       "  <thead>\n",
       "    <tr style=\"text-align: right;\">\n",
       "      <th></th>\n",
       "      <th>0</th>\n",
       "      <th>1</th>\n",
       "      <th>2</th>\n",
       "      <th>3</th>\n",
       "      <th>4</th>\n",
       "      <th>5</th>\n",
       "      <th>6</th>\n",
       "      <th>7</th>\n",
       "    </tr>\n",
       "  </thead>\n",
       "  <tbody>\n",
       "    <tr>\n",
       "      <th>0</th>\n",
       "      <td>0.478311</td>\n",
       "      <td>0.164937</td>\n",
       "      <td>0.595492</td>\n",
       "      <td>0.669846</td>\n",
       "      <td>0.55</td>\n",
       "      <td>0.4</td>\n",
       "      <td>0.1</td>\n",
       "      <td>0.692806</td>\n",
       "    </tr>\n",
       "    <tr>\n",
       "      <th>1</th>\n",
       "      <td>1.000000</td>\n",
       "      <td>0.685527</td>\n",
       "      <td>0.843956</td>\n",
       "      <td>0.707613</td>\n",
       "      <td>0.55</td>\n",
       "      <td>0.4</td>\n",
       "      <td>0.4</td>\n",
       "      <td>0.827363</td>\n",
       "    </tr>\n",
       "    <tr>\n",
       "      <th>2</th>\n",
       "      <td>0.617430</td>\n",
       "      <td>1.000000</td>\n",
       "      <td>0.913104</td>\n",
       "      <td>0.635957</td>\n",
       "      <td>0.55</td>\n",
       "      <td>0.1</td>\n",
       "      <td>0.4</td>\n",
       "      <td>0.792673</td>\n",
       "    </tr>\n",
       "    <tr>\n",
       "      <th>3</th>\n",
       "      <td>0.170775</td>\n",
       "      <td>0.111628</td>\n",
       "      <td>0.526566</td>\n",
       "      <td>0.415479</td>\n",
       "      <td>0.55</td>\n",
       "      <td>0.4</td>\n",
       "      <td>0.4</td>\n",
       "      <td>0.833011</td>\n",
       "    </tr>\n",
       "    <tr>\n",
       "      <th>4</th>\n",
       "      <td>0.468209</td>\n",
       "      <td>0.303998</td>\n",
       "      <td>0.618043</td>\n",
       "      <td>0.386221</td>\n",
       "      <td>0.55</td>\n",
       "      <td>0.1</td>\n",
       "      <td>0.4</td>\n",
       "      <td>0.958296</td>\n",
       "    </tr>\n",
       "    <tr>\n",
       "      <th>5</th>\n",
       "      <td>0.125407</td>\n",
       "      <td>0.171489</td>\n",
       "      <td>0.426672</td>\n",
       "      <td>0.190520</td>\n",
       "      <td>0.55</td>\n",
       "      <td>0.1</td>\n",
       "      <td>0.4</td>\n",
       "      <td>0.882537</td>\n",
       "    </tr>\n",
       "    <tr>\n",
       "      <th>6</th>\n",
       "      <td>0.496120</td>\n",
       "      <td>0.224051</td>\n",
       "      <td>0.722957</td>\n",
       "      <td>0.908264</td>\n",
       "      <td>1.00</td>\n",
       "      <td>0.4</td>\n",
       "      <td>0.4</td>\n",
       "      <td>0.708169</td>\n",
       "    </tr>\n",
       "    <tr>\n",
       "      <th>7</th>\n",
       "      <td>0.483914</td>\n",
       "      <td>0.330434</td>\n",
       "      <td>0.819752</td>\n",
       "      <td>0.949077</td>\n",
       "      <td>1.00</td>\n",
       "      <td>0.4</td>\n",
       "      <td>0.1</td>\n",
       "      <td>0.845262</td>\n",
       "    </tr>\n",
       "    <tr>\n",
       "      <th>8</th>\n",
       "      <td>0.469534</td>\n",
       "      <td>0.625617</td>\n",
       "      <td>1.000000</td>\n",
       "      <td>1.000000</td>\n",
       "      <td>1.00</td>\n",
       "      <td>0.7</td>\n",
       "      <td>0.1</td>\n",
       "      <td>0.813740</td>\n",
       "    </tr>\n",
       "    <tr>\n",
       "      <th>9</th>\n",
       "      <td>0.425039</td>\n",
       "      <td>0.194174</td>\n",
       "      <td>0.689177</td>\n",
       "      <td>0.647469</td>\n",
       "      <td>1.00</td>\n",
       "      <td>0.7</td>\n",
       "      <td>0.4</td>\n",
       "      <td>0.837958</td>\n",
       "    </tr>\n",
       "    <tr>\n",
       "      <th>10</th>\n",
       "      <td>0.418098</td>\n",
       "      <td>0.291383</td>\n",
       "      <td>0.807101</td>\n",
       "      <td>0.758171</td>\n",
       "      <td>1.00</td>\n",
       "      <td>0.7</td>\n",
       "      <td>0.1</td>\n",
       "      <td>1.000000</td>\n",
       "    </tr>\n",
       "    <tr>\n",
       "      <th>11</th>\n",
       "      <td>0.344505</td>\n",
       "      <td>0.476430</td>\n",
       "      <td>0.915299</td>\n",
       "      <td>0.492625</td>\n",
       "      <td>1.00</td>\n",
       "      <td>0.7</td>\n",
       "      <td>0.1</td>\n",
       "      <td>0.879537</td>\n",
       "    </tr>\n",
       "  </tbody>\n",
       "</table>\n",
       "</div>"
      ],
      "text/plain": [
       "           0         1         2         3     4    5    6         7\n",
       "0   0.478311  0.164937  0.595492  0.669846  0.55  0.4  0.1  0.692806\n",
       "1   1.000000  0.685527  0.843956  0.707613  0.55  0.4  0.4  0.827363\n",
       "2   0.617430  1.000000  0.913104  0.635957  0.55  0.1  0.4  0.792673\n",
       "3   0.170775  0.111628  0.526566  0.415479  0.55  0.4  0.4  0.833011\n",
       "4   0.468209  0.303998  0.618043  0.386221  0.55  0.1  0.4  0.958296\n",
       "5   0.125407  0.171489  0.426672  0.190520  0.55  0.1  0.4  0.882537\n",
       "6   0.496120  0.224051  0.722957  0.908264  1.00  0.4  0.4  0.708169\n",
       "7   0.483914  0.330434  0.819752  0.949077  1.00  0.4  0.1  0.845262\n",
       "8   0.469534  0.625617  1.000000  1.000000  1.00  0.7  0.1  0.813740\n",
       "9   0.425039  0.194174  0.689177  0.647469  1.00  0.7  0.4  0.837958\n",
       "10  0.418098  0.291383  0.807101  0.758171  1.00  0.7  0.1  1.000000\n",
       "11  0.344505  0.476430  0.915299  0.492625  1.00  0.7  0.1  0.879537"
      ]
     },
     "execution_count": 23,
     "metadata": {},
     "output_type": "execute_result"
    }
   ],
   "source": [
    "scaled_target_no0"
   ]
  },
  {
   "cell_type": "code",
   "execution_count": 24,
   "id": "34b41cfd",
   "metadata": {},
   "outputs": [
    {
     "name": "stdout",
     "output_type": "stream",
     "text": [
      "0.1\n",
      "1.0\n"
     ]
    }
   ],
   "source": [
    "print(scaled_target_no0.to_numpy().min())\n",
    "print(scaled_target_no0.to_numpy().max())"
   ]
  },
  {
   "cell_type": "markdown",
   "id": "bea32345",
   "metadata": {},
   "source": [
    "## test aggregation functions"
   ]
  },
  {
   "cell_type": "code",
   "execution_count": 25,
   "id": "b26f30b0",
   "metadata": {},
   "outputs": [],
   "source": [
    "agg = Aggregation(weights)"
   ]
  },
  {
   "cell_type": "markdown",
   "id": "b0338619",
   "metadata": {},
   "source": [
    "#### ws - standardized"
   ]
  },
  {
   "cell_type": "code",
   "execution_count": 26,
   "id": "c0aadad0",
   "metadata": {},
   "outputs": [
    {
     "name": "stdout",
     "output_type": "stream",
     "text": [
      "[0.125, 0.125, 0.125, 0.125, 0.125, 0.125, 0.125, 0.125]\n",
      "           0         1         2         3         4         5         6  \\\n",
      "0   1.706779  0.299678  1.071273  2.064882  0.100000  1.361095  0.100000   \n",
      "1   4.082039  2.249639  2.500757  2.219698  0.100000  1.361095  2.042017   \n",
      "2   2.340191  3.427550  2.898587  1.925961  0.100000  0.100000  2.042017   \n",
      "3   0.306561  0.100000  0.674720  1.022165  0.100000  1.361095  2.042017   \n",
      "4   1.660781  0.820554  1.201017  0.902230  0.100000  0.100000  2.042017   \n",
      "5   0.100000  0.324218  0.100000  0.100000  0.100000  0.100000  2.042017   \n",
      "6   1.787863  0.521101  1.804617  3.042218  2.014854  1.361095  2.042017   \n",
      "7   1.732290  0.919577  2.361507  3.209525  2.014854  1.361095  0.100000   \n",
      "8   1.666815  2.025232  3.398526  3.418270  2.014854  2.622191  0.100000   \n",
      "9   1.464231  0.409190  1.610269  1.973154  2.014854  2.622191  2.042017   \n",
      "10  1.432628  0.773304  2.288724  2.426952  2.014854  2.622191  0.100000   \n",
      "11  1.097557  1.466430  2.911217  1.338407  2.014854  2.622191  0.100000   \n",
      "\n",
      "           7  \n",
      "0   0.100000  \n",
      "1   1.629131  \n",
      "2   1.234914  \n",
      "3   1.693316  \n",
      "4   3.117085  \n",
      "5   2.256139  \n",
      "6   0.274591  \n",
      "7   1.832544  \n",
      "8   1.474313  \n",
      "9   1.749532  \n",
      "10  3.591012  \n",
      "11  2.222053  \n"
     ]
    },
    {
     "data": {
      "text/plain": [
       "0    0.850463\n",
       "1    2.023047\n",
       "2    1.758652\n",
       "dtype: float64"
      ]
     },
     "execution_count": 26,
     "metadata": {},
     "output_type": "execute_result"
    }
   ],
   "source": [
    "scores_weighted_sum_standardized = agg.weighted_sum(scaled_stand_no0)\n",
    "scores_weighted_sum_standardized.head(3)"
   ]
  },
  {
   "cell_type": "code",
   "execution_count": 27,
   "id": "e766bb01",
   "metadata": {},
   "outputs": [
    {
     "name": "stdout",
     "output_type": "stream",
     "text": [
      "0.6402967161868066\n",
      "2.090025141676184\n"
     ]
    }
   ],
   "source": [
    "print(scores_weighted_sum_standardized.to_numpy().min())\n",
    "print(scores_weighted_sum_standardized.to_numpy().max())"
   ]
  },
  {
   "cell_type": "markdown",
   "id": "05f4bea3",
   "metadata": {},
   "source": [
    "#### ws - target"
   ]
  },
  {
   "cell_type": "code",
   "execution_count": 28,
   "id": "0e9f9d55",
   "metadata": {},
   "outputs": [
    {
     "name": "stdout",
     "output_type": "stream",
     "text": [
      "[0.125, 0.125, 0.125, 0.125, 0.125, 0.125, 0.125, 0.125]\n",
      "           0         1         2         3    4         5         6         7\n",
      "0   0.420346  0.072152  0.550547  0.633162  0.5  0.333333  0.000000  0.658673\n",
      "1   1.000000  0.650586  0.826618  0.675125  0.5  0.333333  0.333333  0.808181\n",
      "2   0.574922  1.000000  0.903449  0.595507  0.5  0.000000  0.333333  0.769637\n",
      "3   0.078639  0.012920  0.473962  0.350532  0.5  0.333333  0.333333  0.814456\n",
      "4   0.409121  0.226664  0.575604  0.318023  0.5  0.000000  0.333333  0.953663\n",
      "5   0.028230  0.079432  0.362969  0.100577  0.5  0.000000  0.333333  0.869485\n",
      "6   0.440133  0.137835  0.692175  0.898071  1.0  0.333333  0.333333  0.675743\n",
      "7   0.426571  0.256038  0.799725  0.943419  1.0  0.333333  0.000000  0.828069\n",
      "8   0.410593  0.584018  1.000000  1.000000  1.0  0.666667  0.000000  0.793044\n",
      "9   0.361155  0.104638  0.654641  0.608299  1.0  0.666667  0.333333  0.819953\n",
      "10  0.353442  0.212648  0.785668  0.731302  1.0  0.666667  0.000000  1.000000\n",
      "11  0.271672  0.418256  0.905888  0.436250  1.0  0.666667  0.000000  0.866153\n"
     ]
    },
    {
     "data": {
      "text/plain": [
       "0    0.396027\n",
       "1    0.640897\n",
       "2    0.584606\n",
       "dtype: float64"
      ]
     },
     "execution_count": 28,
     "metadata": {},
     "output_type": "execute_result"
    }
   ],
   "source": [
    "scores_weighted_sum_target = agg.weighted_sum(scaled_target)\n",
    "scores_weighted_sum_target.head(3)"
   ]
  },
  {
   "cell_type": "code",
   "execution_count": 29,
   "id": "bb4f2143",
   "metadata": {},
   "outputs": [
    {
     "name": "stdout",
     "output_type": "stream",
     "text": [
      "0.28425340308299735\n",
      "0.681790264936132\n"
     ]
    }
   ],
   "source": [
    "print(scores_weighted_sum_target.to_numpy().min())\n",
    "print(scores_weighted_sum_target.to_numpy().max())"
   ]
  },
  {
   "cell_type": "markdown",
   "id": "a35bfd72",
   "metadata": {},
   "source": [
    "#### ws - rank"
   ]
  },
  {
   "cell_type": "code",
   "execution_count": 30,
   "id": "695e44c0",
   "metadata": {},
   "outputs": [
    {
     "name": "stdout",
     "output_type": "stream",
     "text": [
      "[0.125, 0.125, 0.125, 0.125, 0.125, 0.125, 0.125, 0.125]\n",
      "       0     1     2     3    4     5    6     7\n",
      "0    8.0   2.0   3.0   7.0  3.5   6.0  3.0   1.0\n",
      "1   12.0  11.0   9.0   8.0  3.5   6.0  9.0   5.0\n",
      "2   11.0  12.0  10.0   5.0  3.5   2.0  9.0   3.0\n",
      "3    2.0   1.0   2.0   3.0  3.5   6.0  9.0   6.0\n",
      "4    6.0   7.0   4.0   2.0  3.5   2.0  9.0  11.0\n",
      "5    1.0   3.0   1.0   1.0  3.5   2.0  9.0  10.0\n",
      "6   10.0   5.0   6.0  10.0  9.5   6.0  9.0   2.0\n",
      "7    9.0   8.0   8.0  11.0  9.5   6.0  3.0   8.0\n",
      "8    7.0  10.0  12.0  12.0  9.5  10.5  3.0   4.0\n",
      "9    5.0   4.0   5.0   6.0  9.5  10.5  9.0   7.0\n",
      "10   4.0   6.0   7.0   9.0  9.5  10.5  3.0  12.0\n",
      "11   3.0   9.0  11.0   4.0  9.5  10.5  3.0   9.0\n"
     ]
    },
    {
     "data": {
      "text/plain": [
       "0    4.1875\n",
       "1    7.9375\n",
       "2    6.9375\n",
       "dtype: float64"
      ]
     },
     "execution_count": 30,
     "metadata": {},
     "output_type": "execute_result"
    }
   ],
   "source": [
    "scores_weighted_sum_rank = agg.weighted_sum(scaled_rank)\n",
    "scores_weighted_sum_rank.head(3)"
   ]
  },
  {
   "cell_type": "code",
   "execution_count": 31,
   "id": "619feac7",
   "metadata": {},
   "outputs": [
    {
     "name": "stdout",
     "output_type": "stream",
     "text": [
      "3.8125\n",
      "8.5\n"
     ]
    }
   ],
   "source": [
    "print(scores_weighted_sum_rank.to_numpy().min())\n",
    "print(scores_weighted_sum_rank.to_numpy().max())"
   ]
  },
  {
   "cell_type": "markdown",
   "id": "7f7d171f",
   "metadata": {},
   "source": [
    "#### ws -minmax"
   ]
  },
  {
   "cell_type": "code",
   "execution_count": 32,
   "id": "690554d8",
   "metadata": {},
   "outputs": [
    {
     "name": "stdout",
     "output_type": "stream",
     "text": [
      "[0.125, 0.125, 0.125, 0.125, 0.125, 0.125, 0.125, 0.125]\n",
      "           0         1         2         3    4    5    6         7\n",
      "0   0.403506  0.060007  0.294457  0.592141  0.0  0.5  0.0  0.000000\n",
      "1   1.000000  0.646012  0.727827  0.638796  0.0  0.5  1.0  0.438020\n",
      "2   0.562574  1.000000  0.848436  0.550275  0.0  0.0  1.0  0.325096\n",
      "3   0.051873  0.000000  0.174235  0.277905  0.0  0.5  1.0  0.456405\n",
      "4   0.391955  0.216542  0.333791  0.241762  0.0  0.0  1.0  0.864244\n",
      "5   0.000000  0.067382  0.000000  0.000000  0.0  0.0  1.0  0.617626\n",
      "6   0.423869  0.126550  0.516781  0.886672  1.0  0.5  1.0  0.050011\n",
      "7   0.409913  0.246300  0.685612  0.937092  1.0  0.5  0.0  0.496287\n",
      "8   0.393471  0.578574  1.000000  1.000000  1.0  1.0  0.0  0.393672\n",
      "9   0.342596  0.092918  0.457862  0.564497  1.0  1.0  1.0  0.472508\n",
      "10  0.334660  0.202342  0.663546  0.701255  1.0  1.0  0.0  1.000000\n",
      "11  0.250514  0.410641  0.852265  0.373209  1.0  1.0  0.0  0.607862\n"
     ]
    },
    {
     "data": {
      "text/plain": [
       "0    0.231264\n",
       "1    0.618832\n",
       "2    0.535798\n",
       "dtype: float64"
      ]
     },
     "execution_count": 32,
     "metadata": {},
     "output_type": "execute_result"
    }
   ],
   "source": [
    "scores_weighted_sum_minmax = agg.weighted_sum(scaled_minmax_01)\n",
    "scores_weighted_sum_minmax.head(3)"
   ]
  },
  {
   "cell_type": "code",
   "execution_count": 33,
   "id": "ac690571",
   "metadata": {},
   "outputs": [
    {
     "name": "stdout",
     "output_type": "stream",
     "text": [
      "0.2106260187790405\n",
      "0.6707145049121476\n"
     ]
    }
   ],
   "source": [
    "print(scores_weighted_sum_minmax.to_numpy().min())\n",
    "print(scores_weighted_sum_minmax.to_numpy().max())"
   ]
  },
  {
   "cell_type": "markdown",
   "id": "f380ac04",
   "metadata": {},
   "source": [
    "#### geom - stand"
   ]
  },
  {
   "cell_type": "code",
   "execution_count": 34,
   "id": "b68e3316",
   "metadata": {},
   "outputs": [
    {
     "ename": "AttributeError",
     "evalue": "'numpy.ndarray' object has no attribute 'head'",
     "output_type": "error",
     "traceback": [
      "\u001b[0;31m---------------------------------------------------------------------------\u001b[0m",
      "\u001b[0;31mAttributeError\u001b[0m                            Traceback (most recent call last)",
      "\u001b[0;32m/var/folders/mt/lx9bxf895gq_bfbn6l6_m3kr0000gn/T/ipykernel_10993/757950010.py\u001b[0m in \u001b[0;36m<module>\u001b[0;34m\u001b[0m\n\u001b[1;32m      1\u001b[0m \u001b[0mscores_geom_standardized\u001b[0m \u001b[0;34m=\u001b[0m \u001b[0magg\u001b[0m\u001b[0;34m.\u001b[0m\u001b[0mgeometric\u001b[0m\u001b[0;34m(\u001b[0m\u001b[0mscaled_stand_no0\u001b[0m\u001b[0;34m)\u001b[0m\u001b[0;34m\u001b[0m\u001b[0;34m\u001b[0m\u001b[0m\n\u001b[0;32m----> 2\u001b[0;31m \u001b[0mscores_geom_standardized\u001b[0m\u001b[0;34m.\u001b[0m\u001b[0mhead\u001b[0m\u001b[0;34m(\u001b[0m\u001b[0;36m3\u001b[0m\u001b[0;34m)\u001b[0m\u001b[0;34m\u001b[0m\u001b[0;34m\u001b[0m\u001b[0m\n\u001b[0m",
      "\u001b[0;31mAttributeError\u001b[0m: 'numpy.ndarray' object has no attribute 'head'"
     ]
    }
   ],
   "source": [
    "scores_geom_standardized = agg.geometric(scaled_stand_no0)\n",
    "scores_geom_standardized.head(3)"
   ]
  },
  {
   "cell_type": "code",
   "execution_count": 35,
   "id": "2401f1f4",
   "metadata": {},
   "outputs": [
    {
     "ename": "AttributeError",
     "evalue": "'numpy.ndarray' object has no attribute 'to_numpy'",
     "output_type": "error",
     "traceback": [
      "\u001b[0;31m---------------------------------------------------------------------------\u001b[0m",
      "\u001b[0;31mAttributeError\u001b[0m                            Traceback (most recent call last)",
      "\u001b[0;32m/var/folders/mt/lx9bxf895gq_bfbn6l6_m3kr0000gn/T/ipykernel_10993/1101877634.py\u001b[0m in \u001b[0;36m<module>\u001b[0;34m\u001b[0m\n\u001b[0;32m----> 1\u001b[0;31m \u001b[0mprint\u001b[0m\u001b[0;34m(\u001b[0m\u001b[0mscores_geom_standardized\u001b[0m\u001b[0;34m.\u001b[0m\u001b[0mto_numpy\u001b[0m\u001b[0;34m(\u001b[0m\u001b[0;34m)\u001b[0m\u001b[0;34m.\u001b[0m\u001b[0mmin\u001b[0m\u001b[0;34m(\u001b[0m\u001b[0;34m)\u001b[0m\u001b[0;34m)\u001b[0m\u001b[0;34m\u001b[0m\u001b[0;34m\u001b[0m\u001b[0m\n\u001b[0m\u001b[1;32m      2\u001b[0m \u001b[0mprint\u001b[0m\u001b[0;34m(\u001b[0m\u001b[0mscores_geom_standardized\u001b[0m\u001b[0;34m.\u001b[0m\u001b[0mto_numpy\u001b[0m\u001b[0;34m(\u001b[0m\u001b[0;34m)\u001b[0m\u001b[0;34m.\u001b[0m\u001b[0mmax\u001b[0m\u001b[0;34m(\u001b[0m\u001b[0;34m)\u001b[0m\u001b[0;34m)\u001b[0m\u001b[0;34m\u001b[0m\u001b[0;34m\u001b[0m\u001b[0m\n",
      "\u001b[0;31mAttributeError\u001b[0m: 'numpy.ndarray' object has no attribute 'to_numpy'"
     ]
    }
   ],
   "source": [
    "print(scores_geom_standardized.to_numpy().min())\n",
    "print(scores_geom_standardized.to_numpy().max())"
   ]
  },
  {
   "cell_type": "markdown",
   "id": "4a8010f7",
   "metadata": {},
   "source": [
    "#### harm - rank"
   ]
  },
  {
   "cell_type": "code",
   "execution_count": 36,
   "id": "4a0e5fac",
   "metadata": {},
   "outputs": [
    {
     "data": {
      "text/html": [
       "<div>\n",
       "<style scoped>\n",
       "    .dataframe tbody tr th:only-of-type {\n",
       "        vertical-align: middle;\n",
       "    }\n",
       "\n",
       "    .dataframe tbody tr th {\n",
       "        vertical-align: top;\n",
       "    }\n",
       "\n",
       "    .dataframe thead th {\n",
       "        text-align: right;\n",
       "    }\n",
       "</style>\n",
       "<table border=\"1\" class=\"dataframe\">\n",
       "  <thead>\n",
       "    <tr style=\"text-align: right;\">\n",
       "      <th></th>\n",
       "      <th>0</th>\n",
       "      <th>1</th>\n",
       "      <th>2</th>\n",
       "      <th>3</th>\n",
       "      <th>4</th>\n",
       "      <th>5</th>\n",
       "      <th>6</th>\n",
       "      <th>7</th>\n",
       "    </tr>\n",
       "  </thead>\n",
       "  <tbody>\n",
       "    <tr>\n",
       "      <th>0</th>\n",
       "      <td>8.0</td>\n",
       "      <td>2.0</td>\n",
       "      <td>3.0</td>\n",
       "      <td>7.0</td>\n",
       "      <td>3.5</td>\n",
       "      <td>6.0</td>\n",
       "      <td>3.0</td>\n",
       "      <td>1.0</td>\n",
       "    </tr>\n",
       "    <tr>\n",
       "      <th>1</th>\n",
       "      <td>12.0</td>\n",
       "      <td>11.0</td>\n",
       "      <td>9.0</td>\n",
       "      <td>8.0</td>\n",
       "      <td>3.5</td>\n",
       "      <td>6.0</td>\n",
       "      <td>9.0</td>\n",
       "      <td>5.0</td>\n",
       "    </tr>\n",
       "    <tr>\n",
       "      <th>2</th>\n",
       "      <td>11.0</td>\n",
       "      <td>12.0</td>\n",
       "      <td>10.0</td>\n",
       "      <td>5.0</td>\n",
       "      <td>3.5</td>\n",
       "      <td>2.0</td>\n",
       "      <td>9.0</td>\n",
       "      <td>3.0</td>\n",
       "    </tr>\n",
       "    <tr>\n",
       "      <th>3</th>\n",
       "      <td>2.0</td>\n",
       "      <td>1.0</td>\n",
       "      <td>2.0</td>\n",
       "      <td>3.0</td>\n",
       "      <td>3.5</td>\n",
       "      <td>6.0</td>\n",
       "      <td>9.0</td>\n",
       "      <td>6.0</td>\n",
       "    </tr>\n",
       "    <tr>\n",
       "      <th>4</th>\n",
       "      <td>6.0</td>\n",
       "      <td>7.0</td>\n",
       "      <td>4.0</td>\n",
       "      <td>2.0</td>\n",
       "      <td>3.5</td>\n",
       "      <td>2.0</td>\n",
       "      <td>9.0</td>\n",
       "      <td>11.0</td>\n",
       "    </tr>\n",
       "    <tr>\n",
       "      <th>5</th>\n",
       "      <td>1.0</td>\n",
       "      <td>3.0</td>\n",
       "      <td>1.0</td>\n",
       "      <td>1.0</td>\n",
       "      <td>3.5</td>\n",
       "      <td>2.0</td>\n",
       "      <td>9.0</td>\n",
       "      <td>10.0</td>\n",
       "    </tr>\n",
       "    <tr>\n",
       "      <th>6</th>\n",
       "      <td>10.0</td>\n",
       "      <td>5.0</td>\n",
       "      <td>6.0</td>\n",
       "      <td>10.0</td>\n",
       "      <td>9.5</td>\n",
       "      <td>6.0</td>\n",
       "      <td>9.0</td>\n",
       "      <td>2.0</td>\n",
       "    </tr>\n",
       "    <tr>\n",
       "      <th>7</th>\n",
       "      <td>9.0</td>\n",
       "      <td>8.0</td>\n",
       "      <td>8.0</td>\n",
       "      <td>11.0</td>\n",
       "      <td>9.5</td>\n",
       "      <td>6.0</td>\n",
       "      <td>3.0</td>\n",
       "      <td>8.0</td>\n",
       "    </tr>\n",
       "    <tr>\n",
       "      <th>8</th>\n",
       "      <td>7.0</td>\n",
       "      <td>10.0</td>\n",
       "      <td>12.0</td>\n",
       "      <td>12.0</td>\n",
       "      <td>9.5</td>\n",
       "      <td>10.5</td>\n",
       "      <td>3.0</td>\n",
       "      <td>4.0</td>\n",
       "    </tr>\n",
       "    <tr>\n",
       "      <th>9</th>\n",
       "      <td>5.0</td>\n",
       "      <td>4.0</td>\n",
       "      <td>5.0</td>\n",
       "      <td>6.0</td>\n",
       "      <td>9.5</td>\n",
       "      <td>10.5</td>\n",
       "      <td>9.0</td>\n",
       "      <td>7.0</td>\n",
       "    </tr>\n",
       "    <tr>\n",
       "      <th>10</th>\n",
       "      <td>4.0</td>\n",
       "      <td>6.0</td>\n",
       "      <td>7.0</td>\n",
       "      <td>9.0</td>\n",
       "      <td>9.5</td>\n",
       "      <td>10.5</td>\n",
       "      <td>3.0</td>\n",
       "      <td>12.0</td>\n",
       "    </tr>\n",
       "    <tr>\n",
       "      <th>11</th>\n",
       "      <td>3.0</td>\n",
       "      <td>9.0</td>\n",
       "      <td>11.0</td>\n",
       "      <td>4.0</td>\n",
       "      <td>9.5</td>\n",
       "      <td>10.5</td>\n",
       "      <td>3.0</td>\n",
       "      <td>9.0</td>\n",
       "    </tr>\n",
       "  </tbody>\n",
       "</table>\n",
       "</div>"
      ],
      "text/plain": [
       "       0     1     2     3    4     5    6     7\n",
       "0    8.0   2.0   3.0   7.0  3.5   6.0  3.0   1.0\n",
       "1   12.0  11.0   9.0   8.0  3.5   6.0  9.0   5.0\n",
       "2   11.0  12.0  10.0   5.0  3.5   2.0  9.0   3.0\n",
       "3    2.0   1.0   2.0   3.0  3.5   6.0  9.0   6.0\n",
       "4    6.0   7.0   4.0   2.0  3.5   2.0  9.0  11.0\n",
       "5    1.0   3.0   1.0   1.0  3.5   2.0  9.0  10.0\n",
       "6   10.0   5.0   6.0  10.0  9.5   6.0  9.0   2.0\n",
       "7    9.0   8.0   8.0  11.0  9.5   6.0  3.0   8.0\n",
       "8    7.0  10.0  12.0  12.0  9.5  10.5  3.0   4.0\n",
       "9    5.0   4.0   5.0   6.0  9.5  10.5  9.0   7.0\n",
       "10   4.0   6.0   7.0   9.0  9.5  10.5  3.0  12.0\n",
       "11   3.0   9.0  11.0   4.0  9.5  10.5  3.0   9.0"
      ]
     },
     "execution_count": 36,
     "metadata": {},
     "output_type": "execute_result"
    }
   ],
   "source": [
    "scaled_rank"
   ]
  },
  {
   "cell_type": "code",
   "execution_count": 37,
   "id": "3536eccd",
   "metadata": {},
   "outputs": [
    {
     "data": {
      "text/plain": [
       "array([2.77113402, 6.81520637, 4.69373069, 2.61139896, 3.9076652 ,\n",
       "       1.84750733, 5.51835418, 6.76656737, 6.70376982, 6.2935822 ,\n",
       "       6.21213104, 5.59323519])"
      ]
     },
     "execution_count": 37,
     "metadata": {},
     "output_type": "execute_result"
    }
   ],
   "source": [
    "scores_harm_rank = agg.harmonic(scaled_rank)\n",
    "scores_harm_rank"
   ]
  },
  {
   "cell_type": "code",
   "execution_count": 38,
   "id": "6bc8585b",
   "metadata": {
    "scrolled": true
   },
   "outputs": [
    {
     "ename": "AttributeError",
     "evalue": "'numpy.ndarray' object has no attribute 'to_numpy'",
     "output_type": "error",
     "traceback": [
      "\u001b[0;31m---------------------------------------------------------------------------\u001b[0m",
      "\u001b[0;31mAttributeError\u001b[0m                            Traceback (most recent call last)",
      "\u001b[0;32m/var/folders/mt/lx9bxf895gq_bfbn6l6_m3kr0000gn/T/ipykernel_10993/167534925.py\u001b[0m in \u001b[0;36m<module>\u001b[0;34m\u001b[0m\n\u001b[0;32m----> 1\u001b[0;31m \u001b[0mprint\u001b[0m\u001b[0;34m(\u001b[0m\u001b[0mscores_harm_rank\u001b[0m\u001b[0;34m.\u001b[0m\u001b[0mto_numpy\u001b[0m\u001b[0;34m(\u001b[0m\u001b[0;34m)\u001b[0m\u001b[0;34m.\u001b[0m\u001b[0mmin\u001b[0m\u001b[0;34m(\u001b[0m\u001b[0;34m)\u001b[0m\u001b[0;34m)\u001b[0m\u001b[0;34m\u001b[0m\u001b[0;34m\u001b[0m\u001b[0m\n\u001b[0m\u001b[1;32m      2\u001b[0m \u001b[0mprint\u001b[0m\u001b[0;34m(\u001b[0m\u001b[0mscores_harm_rank\u001b[0m\u001b[0;34m.\u001b[0m\u001b[0mto_numpy\u001b[0m\u001b[0;34m(\u001b[0m\u001b[0;34m)\u001b[0m\u001b[0;34m.\u001b[0m\u001b[0mmax\u001b[0m\u001b[0;34m(\u001b[0m\u001b[0;34m)\u001b[0m\u001b[0;34m)\u001b[0m\u001b[0;34m\u001b[0m\u001b[0;34m\u001b[0m\u001b[0m\n",
      "\u001b[0;31mAttributeError\u001b[0m: 'numpy.ndarray' object has no attribute 'to_numpy'"
     ]
    }
   ],
   "source": [
    "print(scores_harm_rank.to_numpy().min())\n",
    "print(scores_harm_rank.to_numpy().max())"
   ]
  },
  {
   "cell_type": "code",
   "execution_count": 39,
   "id": "9f0a3aa4",
   "metadata": {},
   "outputs": [
    {
     "data": {
      "text/plain": [
       "array([0.0833, 0.0833, 0.0833, 0.0833, 0.0833, 0.0833, 0.0833, 0.0833])"
      ]
     },
     "execution_count": 39,
     "metadata": {},
     "output_type": "execute_result"
    }
   ],
   "source": [
    "np.asarray(weights)"
   ]
  },
  {
   "cell_type": "code",
   "execution_count": 40,
   "id": "6d67d533",
   "metadata": {},
   "outputs": [],
   "source": [
    "from scipy import stats\n",
    "scores = stats.hmean(scaled_rank, axis=1, weights=[0.0833, 0.0833, 0.0833, 0.0833, 0.0833, 0.0833, 0.0833, 0.0833])"
   ]
  },
  {
   "cell_type": "code",
   "execution_count": 41,
   "id": "60fa3bf0",
   "metadata": {},
   "outputs": [
    {
     "data": {
      "text/plain": [
       "array([2.77113402, 6.81520637, 4.69373069, 2.61139896, 3.9076652 ,\n",
       "       1.84750733, 5.51835418, 6.76656737, 6.70376982, 6.2935822 ,\n",
       "       6.21213104, 5.59323519])"
      ]
     },
     "execution_count": 41,
     "metadata": {},
     "output_type": "execute_result"
    }
   ],
   "source": [
    "scores"
   ]
  },
  {
   "cell_type": "markdown",
   "id": "8760cd38",
   "metadata": {},
   "source": [
    "#### harm -minmax"
   ]
  },
  {
   "cell_type": "code",
   "execution_count": 42,
   "id": "7629b9b2",
   "metadata": {},
   "outputs": [
    {
     "ename": "AttributeError",
     "evalue": "'numpy.ndarray' object has no attribute 'head'",
     "output_type": "error",
     "traceback": [
      "\u001b[0;31m---------------------------------------------------------------------------\u001b[0m",
      "\u001b[0;31mAttributeError\u001b[0m                            Traceback (most recent call last)",
      "\u001b[0;32m/var/folders/mt/lx9bxf895gq_bfbn6l6_m3kr0000gn/T/ipykernel_10993/1028276634.py\u001b[0m in \u001b[0;36m<module>\u001b[0;34m\u001b[0m\n\u001b[1;32m      1\u001b[0m \u001b[0mscores_harm_minmax\u001b[0m \u001b[0;34m=\u001b[0m \u001b[0magg\u001b[0m\u001b[0;34m.\u001b[0m\u001b[0mharmonic\u001b[0m\u001b[0;34m(\u001b[0m\u001b[0mscaled_minmax_no0\u001b[0m\u001b[0;34m)\u001b[0m\u001b[0;34m\u001b[0m\u001b[0;34m\u001b[0m\u001b[0m\n\u001b[0;32m----> 2\u001b[0;31m \u001b[0mscores_harm_minmax\u001b[0m\u001b[0;34m.\u001b[0m\u001b[0mhead\u001b[0m\u001b[0;34m(\u001b[0m\u001b[0;36m3\u001b[0m\u001b[0;34m)\u001b[0m\u001b[0;34m\u001b[0m\u001b[0;34m\u001b[0m\u001b[0m\n\u001b[0m",
      "\u001b[0;31mAttributeError\u001b[0m: 'numpy.ndarray' object has no attribute 'head'"
     ]
    }
   ],
   "source": [
    "scores_harm_minmax = agg.harmonic(scaled_minmax_no0)\n",
    "scores_harm_minmax.head(3)"
   ]
  },
  {
   "cell_type": "code",
   "execution_count": 43,
   "id": "f607f69c",
   "metadata": {},
   "outputs": [
    {
     "ename": "AttributeError",
     "evalue": "'numpy.ndarray' object has no attribute 'to_numpy'",
     "output_type": "error",
     "traceback": [
      "\u001b[0;31m---------------------------------------------------------------------------\u001b[0m",
      "\u001b[0;31mAttributeError\u001b[0m                            Traceback (most recent call last)",
      "\u001b[0;32m/var/folders/mt/lx9bxf895gq_bfbn6l6_m3kr0000gn/T/ipykernel_10993/3918183396.py\u001b[0m in \u001b[0;36m<module>\u001b[0;34m\u001b[0m\n\u001b[0;32m----> 1\u001b[0;31m \u001b[0mprint\u001b[0m\u001b[0;34m(\u001b[0m\u001b[0mscores_harm_minmax\u001b[0m\u001b[0;34m.\u001b[0m\u001b[0mto_numpy\u001b[0m\u001b[0;34m(\u001b[0m\u001b[0;34m)\u001b[0m\u001b[0;34m.\u001b[0m\u001b[0mmin\u001b[0m\u001b[0;34m(\u001b[0m\u001b[0;34m)\u001b[0m\u001b[0;34m)\u001b[0m\u001b[0;34m\u001b[0m\u001b[0;34m\u001b[0m\u001b[0m\n\u001b[0m\u001b[1;32m      2\u001b[0m \u001b[0mprint\u001b[0m\u001b[0;34m(\u001b[0m\u001b[0mscores_harm_minmax\u001b[0m\u001b[0;34m.\u001b[0m\u001b[0mto_numpy\u001b[0m\u001b[0;34m(\u001b[0m\u001b[0;34m)\u001b[0m\u001b[0;34m.\u001b[0m\u001b[0mmax\u001b[0m\u001b[0;34m(\u001b[0m\u001b[0;34m)\u001b[0m\u001b[0;34m)\u001b[0m\u001b[0;34m\u001b[0m\u001b[0;34m\u001b[0m\u001b[0m\n",
      "\u001b[0;31mAttributeError\u001b[0m: 'numpy.ndarray' object has no attribute 'to_numpy'"
     ]
    }
   ],
   "source": [
    "print(scores_harm_minmax.to_numpy().min())\n",
    "print(scores_harm_minmax.to_numpy().max())"
   ]
  },
  {
   "cell_type": "markdown",
   "id": "a6ad85ce",
   "metadata": {},
   "source": [
    "#### test"
   ]
  },
  {
   "cell_type": "code",
   "execution_count": 44,
   "id": "ee5240b1",
   "metadata": {},
   "outputs": [
    {
     "data": {
      "text/html": [
       "<div>\n",
       "<style scoped>\n",
       "    .dataframe tbody tr th:only-of-type {\n",
       "        vertical-align: middle;\n",
       "    }\n",
       "\n",
       "    .dataframe tbody tr th {\n",
       "        vertical-align: top;\n",
       "    }\n",
       "\n",
       "    .dataframe thead th {\n",
       "        text-align: right;\n",
       "    }\n",
       "</style>\n",
       "<table border=\"1\" class=\"dataframe\">\n",
       "  <thead>\n",
       "    <tr style=\"text-align: right;\">\n",
       "      <th></th>\n",
       "      <th>col1</th>\n",
       "      <th>col2</th>\n",
       "      <th>col3</th>\n",
       "    </tr>\n",
       "  </thead>\n",
       "  <tbody>\n",
       "    <tr>\n",
       "      <th>0</th>\n",
       "      <td>2</td>\n",
       "      <td>4</td>\n",
       "      <td>8</td>\n",
       "    </tr>\n",
       "    <tr>\n",
       "      <th>1</th>\n",
       "      <td>4</td>\n",
       "      <td>2</td>\n",
       "      <td>8</td>\n",
       "    </tr>\n",
       "    <tr>\n",
       "      <th>2</th>\n",
       "      <td>8</td>\n",
       "      <td>4</td>\n",
       "      <td>2</td>\n",
       "    </tr>\n",
       "  </tbody>\n",
       "</table>\n",
       "</div>"
      ],
      "text/plain": [
       "   col1  col2  col3\n",
       "0     2     4     8\n",
       "1     4     2     8\n",
       "2     8     4     2"
      ]
     },
     "execution_count": 44,
     "metadata": {},
     "output_type": "execute_result"
    }
   ],
   "source": [
    "d = {'col1': [2, 4, 8], 'col2': [4, 2, 4], 'col3': [8, 8, 2]}\n",
    "df = pd.DataFrame(data=d)\n",
    "df"
   ]
  },
  {
   "cell_type": "code",
   "execution_count": 45,
   "id": "5788759b",
   "metadata": {},
   "outputs": [
    {
     "name": "stdout",
     "output_type": "stream",
     "text": [
      "[0.33333333333333337, 0.33333333333333337, 0.33333333333333337]\n"
     ]
    }
   ],
   "source": [
    "w = (0.83,0.83,0.83)\n",
    "w = [val/sum(w) for val in w]\n",
    "print(w)\n",
    "agg = Aggregation(w)"
   ]
  },
  {
   "cell_type": "code",
   "execution_count": 46,
   "id": "21c60c55",
   "metadata": {},
   "outputs": [],
   "source": [
    "test_harmonic = agg.harmonic(df)"
   ]
  },
  {
   "cell_type": "code",
   "execution_count": 47,
   "id": "f35e9997",
   "metadata": {},
   "outputs": [
    {
     "data": {
      "text/plain": [
       "array([3.42857143, 3.42857143, 3.42857143])"
      ]
     },
     "execution_count": 47,
     "metadata": {},
     "output_type": "execute_result"
    }
   ],
   "source": [
    "test_harmonic"
   ]
  },
  {
   "cell_type": "code",
   "execution_count": 48,
   "id": "a5470d52",
   "metadata": {},
   "outputs": [],
   "source": [
    "scores = 3/((w/df).sum(axis=1))"
   ]
  },
  {
   "cell_type": "code",
   "execution_count": 49,
   "id": "4d05134b",
   "metadata": {},
   "outputs": [
    {
     "data": {
      "text/plain": [
       "0    10.285714\n",
       "1    10.285714\n",
       "2    10.285714\n",
       "dtype: float64"
      ]
     },
     "execution_count": 49,
     "metadata": {},
     "output_type": "execute_result"
    }
   ],
   "source": [
    "scores"
   ]
  },
  {
   "cell_type": "code",
   "execution_count": 50,
   "id": "8037e057",
   "metadata": {},
   "outputs": [
    {
     "data": {
      "text/html": [
       "<div>\n",
       "<style scoped>\n",
       "    .dataframe tbody tr th:only-of-type {\n",
       "        vertical-align: middle;\n",
       "    }\n",
       "\n",
       "    .dataframe tbody tr th {\n",
       "        vertical-align: top;\n",
       "    }\n",
       "\n",
       "    .dataframe thead th {\n",
       "        text-align: right;\n",
       "    }\n",
       "</style>\n",
       "<table border=\"1\" class=\"dataframe\">\n",
       "  <thead>\n",
       "    <tr style=\"text-align: right;\">\n",
       "      <th></th>\n",
       "      <th>col1</th>\n",
       "      <th>col2</th>\n",
       "      <th>col3</th>\n",
       "    </tr>\n",
       "  </thead>\n",
       "  <tbody>\n",
       "    <tr>\n",
       "      <th>0</th>\n",
       "      <td>0.500</td>\n",
       "      <td>0.25</td>\n",
       "      <td>0.125</td>\n",
       "    </tr>\n",
       "    <tr>\n",
       "      <th>1</th>\n",
       "      <td>0.250</td>\n",
       "      <td>0.50</td>\n",
       "      <td>0.125</td>\n",
       "    </tr>\n",
       "    <tr>\n",
       "      <th>2</th>\n",
       "      <td>0.125</td>\n",
       "      <td>0.25</td>\n",
       "      <td>0.500</td>\n",
       "    </tr>\n",
       "  </tbody>\n",
       "</table>\n",
       "</div>"
      ],
      "text/plain": [
       "    col1  col2   col3\n",
       "0  0.500  0.25  0.125\n",
       "1  0.250  0.50  0.125\n",
       "2  0.125  0.25  0.500"
      ]
     },
     "execution_count": 50,
     "metadata": {},
     "output_type": "execute_result"
    }
   ],
   "source": [
    "1/df"
   ]
  },
  {
   "cell_type": "code",
   "execution_count": 51,
   "id": "8367ef46",
   "metadata": {},
   "outputs": [
    {
     "data": {
      "text/plain": [
       "0    0.291667\n",
       "1    0.291667\n",
       "2    0.291667\n",
       "dtype: float64"
      ]
     },
     "execution_count": 51,
     "metadata": {},
     "output_type": "execute_result"
    }
   ],
   "source": [
    "((w/df).sum(axis=1))"
   ]
  },
  {
   "cell_type": "code",
   "execution_count": 52,
   "id": "6b136738",
   "metadata": {},
   "outputs": [
    {
     "data": {
      "text/plain": [
       "0.291667"
      ]
     },
     "execution_count": 52,
     "metadata": {},
     "output_type": "execute_result"
    }
   ],
   "source": [
    "0.166667+0.083333+0.041667"
   ]
  },
  {
   "cell_type": "code",
   "execution_count": 53,
   "id": "a1d9add8",
   "metadata": {},
   "outputs": [
    {
     "data": {
      "text/plain": [
       "10.285702530625679"
      ]
     },
     "execution_count": 53,
     "metadata": {},
     "output_type": "execute_result"
    }
   ],
   "source": [
    "3/0.291667"
   ]
  },
  {
   "cell_type": "code",
   "execution_count": 54,
   "id": "98ff1d5d",
   "metadata": {},
   "outputs": [
    {
     "name": "stdout",
     "output_type": "stream",
     "text": [
      "affine==2.3.0\r\n",
      "anyio==3.6.2\r\n",
      "appnope==0.1.2\r\n",
      "argon2-cffi==21.3.0\r\n",
      "argon2-cffi-bindings==21.2.0\r\n",
      "arrow==1.2.3\r\n",
      "async-generator==1.10\r\n",
      "attrs==21.2.0\r\n",
      "backcall==0.2.0\r\n",
      "basemap==1.3.6\r\n",
      "basemap-data==1.3.2\r\n",
      "beautifulsoup4 @ file:///home/conda/feedstock_root/build_artifacts/beautifulsoup4_1649463573192/work\r\n",
      "bleach==5.0.1\r\n",
      "blis @ file:///Users/runner/miniforge3/conda-bld/cython-blis_1668499380737/work\r\n",
      "Bottleneck @ file:///Users/runner/miniforge3/conda-bld/bottleneck_1666839229396/work\r\n",
      "boxsdk==3.1.0\r\n",
      "brotlipy==0.7.0\r\n",
      "catalogue @ file:///Users/runner/miniforge3/conda-bld/catalogue_1666892118051/work\r\n",
      "certifi==2022.12.7\r\n",
      "cffi @ file:///Users/runner/miniforge3/conda-bld/cffi_1625835350093/work\r\n",
      "chardet==3.0.4\r\n",
      "charset-normalizer @ file:///home/conda/feedstock_root/build_artifacts/charset-normalizer_1626371162869/work\r\n",
      "click==8.0.3\r\n",
      "click-plugins==1.1.1\r\n",
      "cligj==0.7.2\r\n",
      "colorama @ file:///home/conda/feedstock_root/build_artifacts/colorama_1602866480661/work\r\n",
      "comm==0.1.2\r\n",
      "conda==4.10.3\r\n",
      "conda-package-handling @ file:///Users/runner/miniforge3/conda-bld/conda-package-handling_1618231726924/work\r\n",
      "confection @ file:///Users/runner/miniforge3/conda-bld/confection_1667038815204/work\r\n",
      "contourpy @ file:///Users/runner/miniforge3/conda-bld/contourpy_1667248076842/work\r\n",
      "cryptography @ file:///Users/runner/miniforge3/conda-bld/cryptography_1616851494586/work\r\n",
      "cycler @ file:///home/conda/feedstock_root/build_artifacts/cycler_1635519461629/work\r\n",
      "cymem @ file:///Users/runner/miniforge3/conda-bld/cymem_1666909770670/work\r\n",
      "dataclasses @ file:///home/conda/feedstock_root/build_artifacts/dataclasses_1628958434797/work\r\n",
      "dbfread==2.0.4\r\n",
      "debugpy==1.6.4\r\n",
      "decorator==5.1.0\r\n",
      "defusedxml==0.7.1\r\n",
      "earthpy==0.9.4\r\n",
      "entrypoints==0.4\r\n",
      "et-xmlfile==1.1.0\r\n",
      "exceptiongroup==1.1.1\r\n",
      "fastai==2.7.10\r\n",
      "fastcore==1.5.27\r\n",
      "fastdownload==0.0.7\r\n",
      "fastjsonschema==2.16.2\r\n",
      "fastprogress @ file:///home/jhoward/mambaforge/conda-bld/fastprogress_1658473398631/work\r\n",
      "Fiona==1.8.20\r\n",
      "Flask==2.0.2\r\n",
      "fonttools==4.28.2\r\n",
      "fqdn==1.5.1\r\n",
      "GDAL==3.3.2\r\n",
      "geographiclib==2.0\r\n",
      "geopandas==0.10.2\r\n",
      "geopy==2.3.0\r\n",
      "gevent==21.8.0\r\n",
      "greenlet==1.1.2\r\n",
      "h11==0.12.0\r\n",
      "htmlmin==0.1.12\r\n",
      "idna @ file:///home/conda/feedstock_root/build_artifacts/idna_1609836280497/work\r\n",
      "ijson==2.6.1\r\n",
      "ImageHash==4.3.1\r\n",
      "imageio==2.13.0\r\n",
      "importlib-metadata==5.2.0\r\n",
      "iniconfig==2.0.0\r\n",
      "install==1.3.5\r\n",
      "ipykernel==6.19.3\r\n",
      "ipython==7.30.1\r\n",
      "ipython-genutils==0.2.0\r\n",
      "ipywidgets==8.0.4\r\n",
      "isoduration==20.11.0\r\n",
      "itsdangerous==2.0.1\r\n",
      "Janitor==0.1.1\r\n",
      "jedi==0.18.1\r\n",
      "Jinja2==3.0.3\r\n",
      "joblib==1.0.1\r\n",
      "jsonpickle==2.0.0\r\n",
      "jsonpointer==2.3\r\n",
      "jsonschema==4.17.3\r\n",
      "jupyter-events==0.5.0\r\n",
      "jupyter_client==7.4.8\r\n",
      "jupyter_core==5.1.0\r\n",
      "jupyter_server==2.0.1\r\n",
      "jupyter_server_terminals==0.4.3\r\n",
      "jupyterlab-pygments==0.2.2\r\n",
      "jupyterlab-widgets==3.0.5\r\n",
      "kaleido==0.2.1\r\n",
      "kiwisolver==1.3.2\r\n",
      "langcodes @ file:///home/conda/feedstock_root/build_artifacts/langcodes_1636741340529/work\r\n",
      "linkedin-scraper==2.9.0\r\n",
      "lxml==4.6.4\r\n",
      "mamba @ file:///Users/runner/miniforge3/conda-bld/mamba_1629310526029/work\r\n",
      "MarkupSafe==2.0.1\r\n",
      "matplotlib==3.5.0\r\n",
      "matplotlib-inline==0.1.3\r\n",
      "mbtools==0.1.1\r\n",
      "mdbtools==0.3.14\r\n",
      "meza==0.46.0\r\n",
      "missingno==0.5.0\r\n",
      "mistune==2.0.4\r\n",
      "multimethod==1.6\r\n",
      "multipledispatch==0.6.0\r\n",
      "munch==2.5.0\r\n",
      "munkres==1.1.4\r\n",
      "murmurhash @ file:///Users/runner/miniforge3/conda-bld/murmurhash_1666946231082/work\r\n",
      "natsort==8.0.0\r\n",
      "nbclassic==0.4.8\r\n",
      "nbclient==0.7.2\r\n",
      "nbconvert==7.2.7\r\n",
      "nbformat==5.7.1\r\n",
      "nest-asyncio==1.5.6\r\n",
      "networkx==2.6.3\r\n",
      "notebook==6.5.2\r\n",
      "notebook_shim==0.2.2\r\n",
      "numexpr @ file:///Users/runner/miniforge3/conda-bld/numexpr_1666816696240/work\r\n",
      "numpy==1.23.5\r\n",
      "openpyxl==3.1.2\r\n",
      "outcome==1.1.0\r\n",
      "OWSLib==0.28.1\r\n",
      "packaging==21.3\r\n",
      "pandas==1.3.4\r\n",
      "pandas-access==0.0.1\r\n",
      "pandas-flavor==0.2.0\r\n",
      "pandas-profiling==3.6.6\r\n",
      "pandocfilters==1.5.0\r\n",
      "parso==0.8.3\r\n",
      "pathy @ file:///home/conda/feedstock_root/build_artifacts/pathy_1670689864140/work\r\n",
      "patsy==0.5.3\r\n",
      "pdf2image==1.16.3\r\n",
      "pexpect==4.8.0\r\n",
      "phik==0.12.0\r\n",
      "pickleshare==0.7.5\r\n",
      "Pillow==8.4.0\r\n",
      "platformdirs==2.6.0\r\n",
      "plotly==5.13.0\r\n",
      "pluggy==1.0.0\r\n",
      "preshed @ file:///Users/runner/miniforge3/conda-bld/preshed_1666991344901/work\r\n",
      "progressbar==2.5\r\n",
      "prometheus-client==0.15.0\r\n",
      "prompt-toolkit==3.0.23\r\n",
      "psutil==5.9.4\r\n",
      "ptyprocess==0.7.0\r\n",
      "pycosat @ file:///Users/runner/miniforge3/conda-bld/pycosat_1624996792650/work\r\n",
      "pycparser @ file:///home/conda/feedstock_root/build_artifacts/pycparser_1593275161868/work\r\n",
      "pydantic @ file:///Users/runner/miniforge3/conda-bld/pydantic_1666755013609/work\r\n",
      "Pygments==2.10.0\r\n",
      "pygogo==1.3.0\r\n",
      "pyjanitor==0.22.0\r\n",
      "PyJWT==2.3.0\r\n",
      "pymongo==4.2.0\r\n",
      "PyMuPDF==1.22.2\r\n",
      "pyOpenSSL @ file:///home/conda/feedstock_root/build_artifacts/pyopenssl_1608055815057/work\r\n",
      "pyparsing==3.0.6\r\n",
      "PyPDF2==3.0.1\r\n",
      "pyproj==3.3.0\r\n",
      "pyrsistent==0.19.2\r\n",
      "pyshp==2.3.1\r\n",
      "PySocks @ file:///Users/runner/miniforge3/conda-bld/pysocks_1610291460269/work\r\n",
      "pystac==1.6.1\r\n",
      "pytesseract==0.3.10\r\n",
      "pytest==7.2.2\r\n",
      "python-dateutil @ file:///home/conda/feedstock_root/build_artifacts/python-dateutil_1626286286081/work\r\n",
      "python-json-logger==2.0.4\r\n",
      "python-qt==0.50\r\n",
      "python-slugify==1.2.6\r\n",
      "pytz==2021.3\r\n",
      "pyvis==0.1.9\r\n",
      "PyWavelets==1.2.0\r\n",
      "PyYAML==5.4.1\r\n",
      "pyzmq==24.0.1\r\n",
      "raster2xyz==0.1.3\r\n",
      "rasterio==1.2.10\r\n",
      "requests @ file:///home/conda/feedstock_root/build_artifacts/requests_1626393743643/work\r\n",
      "requests-toolbelt==0.9.1\r\n",
      "rfc3339-validator==0.1.4\r\n",
      "rfc3986-validator==0.1.1\r\n",
      "rioxarray==0.13.3\r\n",
      "ruamel-yaml-conda @ file:///Users/runner/miniforge3/conda-bld/ruamel_yaml_1624999868738/work\r\n",
      "scikit-image==0.18.3\r\n",
      "scikit-learn==1.2.0\r\n",
      "scipy==1.10.1\r\n",
      "seaborn==0.11.2\r\n",
      "selenium==4.1.0\r\n",
      "Send2Trash==1.8.0\r\n",
      "setuptools-scm==6.3.2\r\n",
      "Shapely==1.8.0\r\n",
      "shellingham @ file:///home/conda/feedstock_root/build_artifacts/shellingham_1659638615822/work\r\n",
      "six @ file:///home/conda/feedstock_root/build_artifacts/six_1620240208055/work\r\n",
      "smart-open @ file:///home/conda/feedstock_root/build_artifacts/smart_open_1630238320325/work\r\n",
      "sniffio==1.2.0\r\n",
      "snuggs==1.4.7\r\n",
      "sortedcontainers==2.4.0\r\n",
      "soupsieve @ file:///home/conda/feedstock_root/build_artifacts/soupsieve_1658207591808/work\r\n",
      "spacy @ file:///Users/runner/miniforge3/conda-bld/spacy_1668615326297/work\r\n",
      "spacy-legacy @ file:///home/conda/feedstock_root/build_artifacts/spacy-legacy_1660748275723/work\r\n",
      "spacy-loggers @ file:///home/conda/feedstock_root/build_artifacts/spacy-loggers_1661365735520/work\r\n",
      "SQLAlchemy==1.4.40\r\n",
      "srsly @ file:///Users/runner/miniforge3/conda-bld/srsly_1666955730822/work\r\n",
      "statsmodels==0.13.5\r\n",
      "tangled-up-in-unicode==0.1.0\r\n",
      "tenacity==8.1.0\r\n",
      "terminado==0.17.1\r\n",
      "thinc @ file:///Users/runner/miniforge3/conda-bld/thinc_1668511895179/work\r\n",
      "threadpoolctl==3.1.0\r\n",
      "tifffile==2021.11.2\r\n",
      "tinycss2==1.2.1\r\n",
      "tomli==1.2.2\r\n",
      "torch==1.13.1\r\n",
      "torchvision==0.14.1\r\n",
      "tornado @ file:///Users/runner/miniforge3/conda-bld/tornado_1666788824966/work\r\n",
      "tqdm @ file:///home/conda/feedstock_root/build_artifacts/tqdm_1628985621016/work\r\n",
      "traitlets==5.8.0\r\n",
      "trio==0.19.0\r\n",
      "trio-websocket==0.9.2\r\n",
      "typeguard==2.13.3\r\n",
      "typer @ file:///home/conda/feedstock_root/build_artifacts/typer_1657029164904/work\r\n",
      "typing_extensions==4.0.0\r\n",
      "unicodedata2 @ file:///Users/runner/miniforge3/conda-bld/unicodedata2_1667239959992/work\r\n",
      "Unidecode==1.3.4\r\n",
      "uri-template==1.2.0\r\n",
      "urllib3 @ file:///home/conda/feedstock_root/build_artifacts/urllib3_1624634538755/work\r\n",
      "visions==0.7.5\r\n",
      "Wand==0.6.11\r\n",
      "wasabi @ file:///home/conda/feedstock_root/build_artifacts/wasabi_1668249950899/work\r\n",
      "wcwidth==0.2.5\r\n",
      "webcolors==1.12\r\n",
      "webencodings==0.5.1\r\n",
      "websocket-client==1.4.2\r\n",
      "Werkzeug==2.0.2\r\n",
      "widgetsnbextension==4.0.5\r\n",
      "wrapt==1.13.3\r\n",
      "wsgi-oauth2==0.2.2\r\n",
      "wsproto==1.0.0\r\n",
      "xarray==0.20.1\r\n",
      "xlrd==2.0.1\r\n",
      "ydata-profiling==4.1.0\r\n",
      "zipp==3.11.0\r\n",
      "zope.event==4.5.0\r\n",
      "zope.interface==5.4.0\r\n"
     ]
    }
   ],
   "source": [
    "! pip freeze"
   ]
  },
  {
   "cell_type": "code",
   "execution_count": 55,
   "id": "312c76c4",
   "metadata": {},
   "outputs": [
    {
     "name": "stdout",
     "output_type": "stream",
     "text": [
      "Requirement already satisfied: scipy in /Users/flaminia/mambaforge/lib/python3.9/site-packages (1.10.1)\n",
      "Requirement already satisfied: numpy<1.27.0,>=1.19.5 in /Users/flaminia/mambaforge/lib/python3.9/site-packages (from scipy) (1.23.5)\n"
     ]
    }
   ],
   "source": [
    "! pip install scipy --upgrade "
   ]
  },
  {
   "cell_type": "code",
   "execution_count": 56,
   "id": "dfbb26cd",
   "metadata": {},
   "outputs": [],
   "source": [
    "test = (-0.8746094704588377, 0.2106260187790405, 0.28425340308299735, 3.8125, 0.24933476179485964,\n",
    "        0.178992476386785, 0.2762762052039914, 2.5677794893476786, 0.14810073274476654, 0.13617103272451786, \n",
    "        0.21710160012362398, 1.8475073313782997, -1.8702885822299633)"
   ]
  },
  {
   "cell_type": "code",
   "execution_count": 57,
   "id": "e8a63307",
   "metadata": {},
   "outputs": [],
   "source": [
    "x = pd.Series(test)\n",
    "\n",
    "min_max_scaler = preprocessing.MinMaxScaler()\n",
    "x_scaled = min_max_scaler.fit_transform(x.to_numpy().reshape(1, -1))\n",
    "#normalized_scores = pd.DataFrame(x_scaled)\n",
    "#normalized_scores.columns = scores.columns"
   ]
  },
  {
   "cell_type": "code",
   "execution_count": 58,
   "id": "ce56f3a0",
   "metadata": {},
   "outputs": [
    {
     "data": {
      "text/plain": [
       "array([[0., 0., 0., 0., 0., 0., 0., 0., 0., 0., 0., 0., 0.]])"
      ]
     },
     "execution_count": 58,
     "metadata": {},
     "output_type": "execute_result"
    }
   ],
   "source": [
    "x_scaled"
   ]
  },
  {
   "cell_type": "code",
   "execution_count": 59,
   "id": "f6c58996",
   "metadata": {},
   "outputs": [],
   "source": [
    "mat = ([0.312364069620889, 0.572682522547028, 0.620758070630362, 0.284353233876634,0.373314401059457,0.227338359110367,\n",
    "       0.637996861947329,0.485862240805223,0.437484071882582,0.29521571388874,0.356620159424411])"
   ]
  },
  {
   "cell_type": "code",
   "execution_count": 60,
   "id": "5e971eba",
   "metadata": {},
   "outputs": [
    {
     "name": "stdout",
     "output_type": "stream",
     "text": [
      "DEBUG: 2023-05-31 15:55:22,997 - matplotlib - matplotlib data path: /Users/flaminia/mambaforge/lib/python3.9/site-packages/matplotlib/mpl-data\n",
      "DEBUG: 2023-05-31 15:55:23,000 - matplotlib - CONFIGDIR=/Users/flaminia/.matplotlib\n",
      "DEBUG: 2023-05-31 15:55:23,002 - matplotlib - interactive is False\n",
      "DEBUG: 2023-05-31 15:55:23,003 - matplotlib - platform is darwin\n",
      "DEBUG: 2023-05-31 15:55:23,038 - matplotlib - CACHEDIR=/Users/flaminia/.matplotlib\n",
      "DEBUG: 2023-05-31 15:55:23,040 - matplotlib.font_manager - Using fontManager instance from /Users/flaminia/.matplotlib/fontlist-v330.json\n",
      "DEBUG: 2023-05-31 15:55:23,168 - matplotlib.pyplot - Loaded backend module://matplotlib_inline.backend_inline version unknown.\n",
      "DEBUG: 2023-05-31 15:55:23,169 - matplotlib.pyplot - Loaded backend module://matplotlib_inline.backend_inline version unknown.\n",
      "DEBUG: 2023-05-31 15:55:23,170 - matplotlib.font_manager - findfont: Matching sans\\-serif:style=normal:variant=normal:weight=normal:stretch=normal:size=10.0.\n",
      "DEBUG: 2023-05-31 15:55:23,171 - matplotlib.font_manager - findfont: score(FontEntry(fname='/Users/flaminia/mambaforge/lib/python3.9/site-packages/matplotlib/mpl-data/fonts/ttf/DejaVuSans-Bold.ttf', name='DejaVu Sans', style='normal', variant='normal', weight=700, stretch='normal', size='scalable')) = 0.33499999999999996\n",
      "DEBUG: 2023-05-31 15:55:23,171 - matplotlib.font_manager - findfont: score(FontEntry(fname='/Users/flaminia/mambaforge/lib/python3.9/site-packages/matplotlib/mpl-data/fonts/ttf/STIXSizFourSymBol.ttf', name='STIXSizeFourSym', style='normal', variant='normal', weight=700, stretch='normal', size='scalable')) = 10.335\n",
      "DEBUG: 2023-05-31 15:55:23,171 - matplotlib.font_manager - findfont: score(FontEntry(fname='/Users/flaminia/mambaforge/lib/python3.9/site-packages/matplotlib/mpl-data/fonts/ttf/cmtt10.ttf', name='cmtt10', style='normal', variant='normal', weight=400, stretch='normal', size='scalable')) = 10.05\n",
      "DEBUG: 2023-05-31 15:55:23,172 - matplotlib.font_manager - findfont: score(FontEntry(fname='/Users/flaminia/mambaforge/lib/python3.9/site-packages/matplotlib/mpl-data/fonts/ttf/DejaVuSansDisplay.ttf', name='DejaVu Sans Display', style='normal', variant='normal', weight=400, stretch='normal', size='scalable')) = 10.05\n",
      "DEBUG: 2023-05-31 15:55:23,172 - matplotlib.font_manager - findfont: score(FontEntry(fname='/Users/flaminia/mambaforge/lib/python3.9/site-packages/matplotlib/mpl-data/fonts/ttf/DejaVuSerif-Italic.ttf', name='DejaVu Serif', style='italic', variant='normal', weight=400, stretch='normal', size='scalable')) = 11.05\n",
      "DEBUG: 2023-05-31 15:55:23,172 - matplotlib.font_manager - findfont: score(FontEntry(fname='/Users/flaminia/mambaforge/lib/python3.9/site-packages/matplotlib/mpl-data/fonts/ttf/DejaVuSerif-BoldItalic.ttf', name='DejaVu Serif', style='italic', variant='normal', weight=700, stretch='normal', size='scalable')) = 11.335\n",
      "DEBUG: 2023-05-31 15:55:23,172 - matplotlib.font_manager - findfont: score(FontEntry(fname='/Users/flaminia/mambaforge/lib/python3.9/site-packages/matplotlib/mpl-data/fonts/ttf/DejaVuSansMono-BoldOblique.ttf', name='DejaVu Sans Mono', style='oblique', variant='normal', weight=700, stretch='normal', size='scalable')) = 11.335\n",
      "DEBUG: 2023-05-31 15:55:23,172 - matplotlib.font_manager - findfont: score(FontEntry(fname='/Users/flaminia/mambaforge/lib/python3.9/site-packages/matplotlib/mpl-data/fonts/ttf/STIXGeneralItalic.ttf', name='STIXGeneral', style='italic', variant='normal', weight=400, stretch='normal', size='scalable')) = 11.05\n",
      "DEBUG: 2023-05-31 15:55:23,173 - matplotlib.font_manager - findfont: score(FontEntry(fname='/Users/flaminia/mambaforge/lib/python3.9/site-packages/matplotlib/mpl-data/fonts/ttf/STIXSizFourSymReg.ttf', name='STIXSizeFourSym', style='normal', variant='normal', weight=400, stretch='normal', size='scalable')) = 10.05\n",
      "DEBUG: 2023-05-31 15:55:23,173 - matplotlib.font_manager - findfont: score(FontEntry(fname='/Users/flaminia/mambaforge/lib/python3.9/site-packages/matplotlib/mpl-data/fonts/ttf/DejaVuSans-BoldOblique.ttf', name='DejaVu Sans', style='oblique', variant='normal', weight=700, stretch='normal', size='scalable')) = 1.335\n",
      "DEBUG: 2023-05-31 15:55:23,173 - matplotlib.font_manager - findfont: score(FontEntry(fname='/Users/flaminia/mambaforge/lib/python3.9/site-packages/matplotlib/mpl-data/fonts/ttf/DejaVuSansMono-Bold.ttf', name='DejaVu Sans Mono', style='normal', variant='normal', weight=700, stretch='normal', size='scalable')) = 10.335\n",
      "DEBUG: 2023-05-31 15:55:23,173 - matplotlib.font_manager - findfont: score(FontEntry(fname='/Users/flaminia/mambaforge/lib/python3.9/site-packages/matplotlib/mpl-data/fonts/ttf/STIXSizFiveSymReg.ttf', name='STIXSizeFiveSym', style='normal', variant='normal', weight=400, stretch='normal', size='scalable')) = 10.05\n",
      "DEBUG: 2023-05-31 15:55:23,174 - matplotlib.font_manager - findfont: score(FontEntry(fname='/Users/flaminia/mambaforge/lib/python3.9/site-packages/matplotlib/mpl-data/fonts/ttf/STIXNonUniIta.ttf', name='STIXNonUnicode', style='italic', variant='normal', weight=400, stretch='normal', size='scalable')) = 11.05\n",
      "DEBUG: 2023-05-31 15:55:23,174 - matplotlib.font_manager - findfont: score(FontEntry(fname='/Users/flaminia/mambaforge/lib/python3.9/site-packages/matplotlib/mpl-data/fonts/ttf/STIXSizThreeSymBol.ttf', name='STIXSizeThreeSym', style='normal', variant='normal', weight=700, stretch='normal', size='scalable')) = 10.335\n",
      "DEBUG: 2023-05-31 15:55:23,174 - matplotlib.font_manager - findfont: score(FontEntry(fname='/Users/flaminia/mambaforge/lib/python3.9/site-packages/matplotlib/mpl-data/fonts/ttf/DejaVuSansMono.ttf', name='DejaVu Sans Mono', style='normal', variant='normal', weight=400, stretch='normal', size='scalable')) = 10.05\n",
      "DEBUG: 2023-05-31 15:55:23,174 - matplotlib.font_manager - findfont: score(FontEntry(fname='/Users/flaminia/mambaforge/lib/python3.9/site-packages/matplotlib/mpl-data/fonts/ttf/cmss10.ttf', name='cmss10', style='normal', variant='normal', weight=400, stretch='normal', size='scalable')) = 10.05\n",
      "DEBUG: 2023-05-31 15:55:23,174 - matplotlib.font_manager - findfont: score(FontEntry(fname='/Users/flaminia/mambaforge/lib/python3.9/site-packages/matplotlib/mpl-data/fonts/ttf/STIXSizTwoSymBol.ttf', name='STIXSizeTwoSym', style='normal', variant='normal', weight=700, stretch='normal', size='scalable')) = 10.335\n",
      "DEBUG: 2023-05-31 15:55:23,175 - matplotlib.font_manager - findfont: score(FontEntry(fname='/Users/flaminia/mambaforge/lib/python3.9/site-packages/matplotlib/mpl-data/fonts/ttf/STIXSizOneSymBol.ttf', name='STIXSizeOneSym', style='normal', variant='normal', weight=700, stretch='normal', size='scalable')) = 10.335\n",
      "DEBUG: 2023-05-31 15:55:23,175 - matplotlib.font_manager - findfont: score(FontEntry(fname='/Users/flaminia/mambaforge/lib/python3.9/site-packages/matplotlib/mpl-data/fonts/ttf/DejaVuSansMono-Oblique.ttf', name='DejaVu Sans Mono', style='oblique', variant='normal', weight=400, stretch='normal', size='scalable')) = 11.05\n",
      "DEBUG: 2023-05-31 15:55:23,175 - matplotlib.font_manager - findfont: score(FontEntry(fname='/Users/flaminia/mambaforge/lib/python3.9/site-packages/matplotlib/mpl-data/fonts/ttf/cmex10.ttf', name='cmex10', style='normal', variant='normal', weight=400, stretch='normal', size='scalable')) = 10.05\n",
      "DEBUG: 2023-05-31 15:55:23,175 - matplotlib.font_manager - findfont: score(FontEntry(fname='/Users/flaminia/mambaforge/lib/python3.9/site-packages/matplotlib/mpl-data/fonts/ttf/STIXGeneral.ttf', name='STIXGeneral', style='normal', variant='normal', weight=400, stretch='normal', size='scalable')) = 10.05\n",
      "DEBUG: 2023-05-31 15:55:23,175 - matplotlib.font_manager - findfont: score(FontEntry(fname='/Users/flaminia/mambaforge/lib/python3.9/site-packages/matplotlib/mpl-data/fonts/ttf/DejaVuSans.ttf', name='DejaVu Sans', style='normal', variant='normal', weight=400, stretch='normal', size='scalable')) = 0.05\n",
      "DEBUG: 2023-05-31 15:55:23,175 - matplotlib.font_manager - findfont: score(FontEntry(fname='/Users/flaminia/mambaforge/lib/python3.9/site-packages/matplotlib/mpl-data/fonts/ttf/cmb10.ttf', name='cmb10', style='normal', variant='normal', weight=400, stretch='normal', size='scalable')) = 10.05\n",
      "DEBUG: 2023-05-31 15:55:23,176 - matplotlib.font_manager - findfont: score(FontEntry(fname='/Users/flaminia/mambaforge/lib/python3.9/site-packages/matplotlib/mpl-data/fonts/ttf/STIXGeneralBol.ttf', name='STIXGeneral', style='normal', variant='normal', weight=700, stretch='normal', size='scalable')) = 10.335\n"
     ]
    },
    {
     "name": "stdout",
     "output_type": "stream",
     "text": [
      "DEBUG: 2023-05-31 15:55:23,176 - matplotlib.font_manager - findfont: score(FontEntry(fname='/Users/flaminia/mambaforge/lib/python3.9/site-packages/matplotlib/mpl-data/fonts/ttf/STIXNonUni.ttf', name='STIXNonUnicode', style='normal', variant='normal', weight=400, stretch='normal', size='scalable')) = 10.05\n",
      "DEBUG: 2023-05-31 15:55:23,176 - matplotlib.font_manager - findfont: score(FontEntry(fname='/Users/flaminia/mambaforge/lib/python3.9/site-packages/matplotlib/mpl-data/fonts/ttf/DejaVuSerif.ttf', name='DejaVu Serif', style='normal', variant='normal', weight=400, stretch='normal', size='scalable')) = 10.05\n",
      "DEBUG: 2023-05-31 15:55:23,176 - matplotlib.font_manager - findfont: score(FontEntry(fname='/Users/flaminia/mambaforge/lib/python3.9/site-packages/matplotlib/mpl-data/fonts/ttf/DejaVuSans-Oblique.ttf', name='DejaVu Sans', style='oblique', variant='normal', weight=400, stretch='normal', size='scalable')) = 1.05\n",
      "DEBUG: 2023-05-31 15:55:23,176 - matplotlib.font_manager - findfont: score(FontEntry(fname='/Users/flaminia/mambaforge/lib/python3.9/site-packages/matplotlib/mpl-data/fonts/ttf/DejaVuSerif-Bold.ttf', name='DejaVu Serif', style='normal', variant='normal', weight=700, stretch='normal', size='scalable')) = 10.335\n",
      "DEBUG: 2023-05-31 15:55:23,176 - matplotlib.font_manager - findfont: score(FontEntry(fname='/Users/flaminia/mambaforge/lib/python3.9/site-packages/matplotlib/mpl-data/fonts/ttf/STIXGeneralBolIta.ttf', name='STIXGeneral', style='italic', variant='normal', weight=700, stretch='normal', size='scalable')) = 11.335\n",
      "DEBUG: 2023-05-31 15:55:23,177 - matplotlib.font_manager - findfont: score(FontEntry(fname='/Users/flaminia/mambaforge/lib/python3.9/site-packages/matplotlib/mpl-data/fonts/ttf/DejaVuSerifDisplay.ttf', name='DejaVu Serif Display', style='normal', variant='normal', weight=400, stretch='normal', size='scalable')) = 10.05\n",
      "DEBUG: 2023-05-31 15:55:23,177 - matplotlib.font_manager - findfont: score(FontEntry(fname='/Users/flaminia/mambaforge/lib/python3.9/site-packages/matplotlib/mpl-data/fonts/ttf/cmr10.ttf', name='cmr10', style='normal', variant='normal', weight=400, stretch='normal', size='scalable')) = 10.05\n",
      "DEBUG: 2023-05-31 15:55:23,177 - matplotlib.font_manager - findfont: score(FontEntry(fname='/Users/flaminia/mambaforge/lib/python3.9/site-packages/matplotlib/mpl-data/fonts/ttf/cmmi10.ttf', name='cmmi10', style='normal', variant='normal', weight=400, stretch='normal', size='scalable')) = 10.05\n",
      "DEBUG: 2023-05-31 15:55:23,177 - matplotlib.font_manager - findfont: score(FontEntry(fname='/Users/flaminia/mambaforge/lib/python3.9/site-packages/matplotlib/mpl-data/fonts/ttf/STIXSizTwoSymReg.ttf', name='STIXSizeTwoSym', style='normal', variant='normal', weight=400, stretch='normal', size='scalable')) = 10.05\n",
      "DEBUG: 2023-05-31 15:55:23,177 - matplotlib.font_manager - findfont: score(FontEntry(fname='/Users/flaminia/mambaforge/lib/python3.9/site-packages/matplotlib/mpl-data/fonts/ttf/STIXNonUniBol.ttf', name='STIXNonUnicode', style='normal', variant='normal', weight=700, stretch='normal', size='scalable')) = 10.335\n",
      "DEBUG: 2023-05-31 15:55:23,177 - matplotlib.font_manager - findfont: score(FontEntry(fname='/Users/flaminia/mambaforge/lib/python3.9/site-packages/matplotlib/mpl-data/fonts/ttf/STIXSizThreeSymReg.ttf', name='STIXSizeThreeSym', style='normal', variant='normal', weight=400, stretch='normal', size='scalable')) = 10.05\n",
      "DEBUG: 2023-05-31 15:55:23,178 - matplotlib.font_manager - findfont: score(FontEntry(fname='/Users/flaminia/mambaforge/lib/python3.9/site-packages/matplotlib/mpl-data/fonts/ttf/cmsy10.ttf', name='cmsy10', style='normal', variant='normal', weight=400, stretch='normal', size='scalable')) = 10.05\n",
      "DEBUG: 2023-05-31 15:55:23,178 - matplotlib.font_manager - findfont: score(FontEntry(fname='/Users/flaminia/mambaforge/lib/python3.9/site-packages/matplotlib/mpl-data/fonts/ttf/STIXNonUniBolIta.ttf', name='STIXNonUnicode', style='italic', variant='normal', weight=700, stretch='normal', size='scalable')) = 11.335\n",
      "DEBUG: 2023-05-31 15:55:23,178 - matplotlib.font_manager - findfont: score(FontEntry(fname='/Users/flaminia/mambaforge/lib/python3.9/site-packages/matplotlib/mpl-data/fonts/ttf/STIXSizOneSymReg.ttf', name='STIXSizeOneSym', style='normal', variant='normal', weight=400, stretch='normal', size='scalable')) = 10.05\n",
      "DEBUG: 2023-05-31 15:55:23,178 - matplotlib.font_manager - findfont: score(FontEntry(fname='/System/Library/Fonts/Supplemental/Lao MN.ttc', name='Lao MN', style='normal', variant='normal', weight=400, stretch='normal', size='scalable')) = 10.05\n",
      "DEBUG: 2023-05-31 15:55:23,179 - matplotlib.font_manager - findfont: score(FontEntry(fname='/System/Library/Fonts/Supplemental/NotoSansOldPersian-Regular.ttf', name='Noto Sans Old Persian', style='normal', variant='normal', weight=400, stretch='normal', size='scalable')) = 10.05\n",
      "DEBUG: 2023-05-31 15:55:23,180 - matplotlib.font_manager - findfont: score(FontEntry(fname='/Library/Fonts/Arial Unicode.ttf', name='Arial Unicode MS', style='normal', variant='normal', weight=400, stretch='normal', size='scalable')) = 10.05\n",
      "DEBUG: 2023-05-31 15:55:23,180 - matplotlib.font_manager - findfont: score(FontEntry(fname='/System/Library/Fonts/Supplemental/STIXIntUpBol.otf', name='STIXIntegralsUp', style='normal', variant='normal', weight=700, stretch='normal', size='scalable')) = 10.335\n",
      "DEBUG: 2023-05-31 15:55:23,181 - matplotlib.font_manager - findfont: score(FontEntry(fname='/System/Library/Fonts/Supplemental/NotoSansSyriac-Regular.ttf', name='Noto Sans Syriac', style='normal', variant='normal', weight=400, stretch='normal', size='scalable')) = 10.05\n",
      "DEBUG: 2023-05-31 15:55:23,183 - matplotlib.font_manager - findfont: score(FontEntry(fname='/System/Library/Fonts/Supplemental/NotoSansTagbanwa-Regular.ttf', name='Noto Sans Tagbanwa', style='normal', variant='normal', weight=400, stretch='normal', size='scalable')) = 10.05\n",
      "DEBUG: 2023-05-31 15:55:23,184 - matplotlib.font_manager - findfont: score(FontEntry(fname='/System/Library/Fonts/Supplemental/STIXIntDBol.otf', name='STIXIntegralsD', style='normal', variant='normal', weight=700, stretch='normal', size='scalable')) = 10.335\n",
      "DEBUG: 2023-05-31 15:55:23,184 - matplotlib.font_manager - findfont: score(FontEntry(fname='/System/Library/Fonts/Supplemental/NotoSansLinearB-Regular.ttf', name='Noto Sans Linear B', style='normal', variant='normal', weight=400, stretch='normal', size='scalable')) = 10.05\n",
      "DEBUG: 2023-05-31 15:55:23,185 - matplotlib.font_manager - findfont: score(FontEntry(fname='/System/Library/Fonts/ヒラギノ角ゴシック W2.ttc', name='Hiragino Sans', style='normal', variant='normal', weight=250, stretch='normal', size='scalable')) = 10.1925\n",
      "DEBUG: 2023-05-31 15:55:23,185 - matplotlib.font_manager - findfont: score(FontEntry(fname='/System/Library/Fonts/Supplemental/Apple Chancery.ttf', name='Apple Chancery', style='normal', variant='normal', weight=0, stretch='normal', size='scalable')) = 10.43\n",
      "DEBUG: 2023-05-31 15:55:23,185 - matplotlib.font_manager - findfont: score(FontEntry(fname='/System/Library/Fonts/Supplemental/NotoSansCypriot-Regular.ttf', name='Noto Sans Cypriot', style='normal', variant='normal', weight=400, stretch='normal', size='scalable')) = 10.05\n",
      "DEBUG: 2023-05-31 15:55:23,185 - matplotlib.font_manager - findfont: score(FontEntry(fname='/System/Library/Fonts/Supplemental/STIXIntUpSmBol.otf', name='STIXIntegralsUpSm', style='normal', variant='normal', weight=700, stretch='normal', size='scalable')) = 10.335\n",
      "DEBUG: 2023-05-31 15:55:23,186 - matplotlib.font_manager - findfont: score(FontEntry(fname='/System/Library/Fonts/Supplemental/Iowan Old Style.ttc', name='Iowan Old Style', style='normal', variant='normal', weight=400, stretch='normal', size='scalable')) = 10.05\n",
      "DEBUG: 2023-05-31 15:55:23,186 - matplotlib.font_manager - findfont: score(FontEntry(fname='/System/Library/Fonts/Supplemental/NotoSansBhaiksuki-Regular.ttf', name='Noto Sans Bhaiksuki', style='normal', variant='normal', weight=400, stretch='normal', size='scalable')) = 10.05\n",
      "DEBUG: 2023-05-31 15:55:23,186 - matplotlib.font_manager - findfont: score(FontEntry(fname='/System/Library/Fonts/Supplemental/Trebuchet MS Bold Italic.ttf', name='Trebuchet MS', style='italic', variant='normal', weight=700, stretch='normal', size='scalable')) = 11.335\n"
     ]
    },
    {
     "name": "stdout",
     "output_type": "stream",
     "text": [
      "DEBUG: 2023-05-31 15:55:23,186 - matplotlib.font_manager - findfont: score(FontEntry(fname='/System/Library/Fonts/Supplemental/Bangla MN.ttc', name='Bangla MN', style='normal', variant='normal', weight=400, stretch='normal', size='scalable')) = 10.05\n",
      "DEBUG: 2023-05-31 15:55:23,187 - matplotlib.font_manager - findfont: score(FontEntry(fname='/System/Library/Fonts/Supplemental/NotoSansOldHungarian-Regular.ttf', name='Noto Sans Old Hungarian', style='normal', variant='normal', weight=400, stretch='normal', size='scalable')) = 10.05\n",
      "DEBUG: 2023-05-31 15:55:23,187 - matplotlib.font_manager - findfont: score(FontEntry(fname='/System/Library/Fonts/Supplemental/Futura.ttc', name='Futura', style='normal', variant='normal', weight=500, stretch='normal', size='scalable')) = 10.145\n",
      "DEBUG: 2023-05-31 15:55:23,187 - matplotlib.font_manager - findfont: score(FontEntry(fname='/System/Library/Fonts/Palatino.ttc', name='Palatino', style='normal', variant='normal', weight=400, stretch='normal', size='scalable')) = 10.05\n",
      "DEBUG: 2023-05-31 15:55:23,187 - matplotlib.font_manager - findfont: score(FontEntry(fname='/System/Library/Fonts/Supplemental/NotoSansBuginese-Regular.ttf', name='Noto Sans Buginese', style='normal', variant='normal', weight=400, stretch='normal', size='scalable')) = 10.05\n",
      "DEBUG: 2023-05-31 15:55:23,188 - matplotlib.font_manager - findfont: score(FontEntry(fname='/System/Library/Fonts/Supplemental/Sana.ttc', name='Sana', style='normal', variant='normal', weight=400, stretch='normal', size='scalable')) = 10.05\n",
      "DEBUG: 2023-05-31 15:55:23,188 - matplotlib.font_manager - findfont: score(FontEntry(fname='/System/Library/Fonts/Supplemental/NotoSansPsalterPahlavi-Regular.ttf', name='Noto Sans Psalter Pahlavi', style='normal', variant='normal', weight=400, stretch='normal', size='scalable')) = 10.05\n",
      "DEBUG: 2023-05-31 15:55:23,189 - matplotlib.font_manager - findfont: score(FontEntry(fname='/System/Library/Fonts/Supplemental/NotoSansNabataean-Regular.ttf', name='Noto Sans Nabataean', style='normal', variant='normal', weight=400, stretch='normal', size='scalable')) = 10.05\n",
      "DEBUG: 2023-05-31 15:55:23,189 - matplotlib.font_manager - findfont: score(FontEntry(fname='/System/Library/Fonts/Supplemental/NotoSansJavanese-Regular.otf', name='Noto Sans Javanese', style='normal', variant='normal', weight=400, stretch='normal', size='scalable')) = 10.05\n",
      "DEBUG: 2023-05-31 15:55:23,190 - matplotlib.font_manager - findfont: score(FontEntry(fname='/System/Library/Fonts/Supplemental/Al Nile.ttc', name='Al Nile', style='normal', variant='normal', weight=400, stretch='normal', size='scalable')) = 10.05\n",
      "DEBUG: 2023-05-31 15:55:23,191 - matplotlib.font_manager - findfont: score(FontEntry(fname='/System/Library/Fonts/Supplemental/Kannada Sangam MN.ttc', name='Kannada Sangam MN', style='normal', variant='normal', weight=400, stretch='normal', size='scalable')) = 10.05\n",
      "DEBUG: 2023-05-31 15:55:23,191 - matplotlib.font_manager - findfont: score(FontEntry(fname='/System/Library/Fonts/Supplemental/Gurmukhi.ttf', name='Gurmukhi MT', style='normal', variant='normal', weight=500, stretch='normal', size='scalable')) = 10.145\n",
      "DEBUG: 2023-05-31 15:55:23,192 - matplotlib.font_manager - findfont: score(FontEntry(fname='/System/Library/Fonts/Supplemental/STIXSizFourSymBol.otf', name='STIXSizeFourSym', style='normal', variant='normal', weight=700, stretch='normal', size='scalable')) = 10.335\n",
      "DEBUG: 2023-05-31 15:55:23,192 - matplotlib.font_manager - findfont: score(FontEntry(fname='/System/Library/Fonts/Supplemental/Bradley Hand Bold.ttf', name='Bradley Hand', style='normal', variant='normal', weight=700, stretch='normal', size='scalable')) = 10.335\n",
      "DEBUG: 2023-05-31 15:55:23,193 - matplotlib.font_manager - findfont: score(FontEntry(fname='/System/Library/Fonts/Supplemental/PartyLET-plain.ttf', name='Party LET', style='normal', variant='normal', weight=400, stretch='normal', size='scalable')) = 10.05\n",
      "DEBUG: 2023-05-31 15:55:23,193 - matplotlib.font_manager - findfont: score(FontEntry(fname='/System/Library/Fonts/Supplemental/NotoSansBatak-Regular.ttf', name='Noto Sans Batak', style='normal', variant='normal', weight=400, stretch='normal', size='scalable')) = 10.05\n",
      "DEBUG: 2023-05-31 15:55:23,194 - matplotlib.font_manager - findfont: score(FontEntry(fname='/System/Library/Fonts/Supplemental/Nadeem.ttc', name='Nadeem', style='normal', variant='normal', weight=400, stretch='normal', size='scalable')) = 10.05\n",
      "DEBUG: 2023-05-31 15:55:23,194 - matplotlib.font_manager - findfont: score(FontEntry(fname='/System/Library/Fonts/Supplemental/InaiMathi-MN.ttc', name='InaiMathi', style='normal', variant='normal', weight=400, stretch='normal', size='scalable')) = 10.05\n",
      "DEBUG: 2023-05-31 15:55:23,194 - matplotlib.font_manager - findfont: score(FontEntry(fname='/System/Library/Fonts/Supplemental/Diwan Thuluth.ttf', name='Diwan Thuluth', style='normal', variant='normal', weight=400, stretch='normal', size='scalable')) = 10.05\n",
      "DEBUG: 2023-05-31 15:55:23,194 - matplotlib.font_manager - findfont: score(FontEntry(fname='/System/Library/Fonts/Supplemental/NotoSansCuneiform-Regular.ttf', name='Noto Sans Cuneiform', style='normal', variant='normal', weight=400, stretch='normal', size='scalable')) = 10.05\n",
      "DEBUG: 2023-05-31 15:55:23,195 - matplotlib.font_manager - findfont: score(FontEntry(fname='/System/Library/Fonts/ヒラギノ角ゴシック W9.ttc', name='Hiragino Sans', style='normal', variant='normal', weight=900, stretch='normal', size='scalable')) = 10.525\n",
      "DEBUG: 2023-05-31 15:55:23,195 - matplotlib.font_manager - findfont: score(FontEntry(fname='/System/Library/Fonts/ヒラギノ角ゴシック W6.ttc', name='Hiragino Sans', style='normal', variant='normal', weight=600, stretch='normal', size='scalable')) = 10.24\n",
      "DEBUG: 2023-05-31 15:55:23,195 - matplotlib.font_manager - findfont: score(FontEntry(fname='/System/Library/Fonts/Supplemental/Sinhala MN.ttc', name='Sinhala MN', style='normal', variant='normal', weight=400, stretch='normal', size='scalable')) = 10.05\n",
      "DEBUG: 2023-05-31 15:55:23,196 - matplotlib.font_manager - findfont: score(FontEntry(fname='/System/Library/Fonts/Supplemental/STIXGeneral.otf', name='STIXGeneral', style='normal', variant='normal', weight=400, stretch='normal', size='scalable')) = 10.05\n",
      "DEBUG: 2023-05-31 15:55:23,196 - matplotlib.font_manager - findfont: score(FontEntry(fname='/System/Library/Fonts/AppleSDGothicNeo.ttc', name='Apple SD Gothic Neo', style='normal', variant='normal', weight=400, stretch='normal', size='scalable')) = 10.05\n",
      "DEBUG: 2023-05-31 15:55:23,196 - matplotlib.font_manager - findfont: score(FontEntry(fname='/System/Library/Fonts/Supplemental/PTSans.ttc', name='PT Sans', style='normal', variant='normal', weight=400, stretch='normal', size='scalable')) = 10.05\n",
      "DEBUG: 2023-05-31 15:55:23,197 - matplotlib.font_manager - findfont: score(FontEntry(fname='/System/Library/Fonts/Supplemental/PlantagenetCherokee.ttf', name='Plantagenet Cherokee', style='normal', variant='normal', weight=400, stretch='normal', size='scalable')) = 10.05\n",
      "DEBUG: 2023-05-31 15:55:23,197 - matplotlib.font_manager - findfont: score(FontEntry(fname='/System/Library/Fonts/Supplemental/STIXVar.otf', name='STIXVariants', style='normal', variant='normal', weight=400, stretch='normal', size='scalable')) = 10.05\n",
      "DEBUG: 2023-05-31 15:55:23,199 - matplotlib.font_manager - findfont: score(FontEntry(fname='/System/Library/Fonts/Supplemental/Verdana Italic.ttf', name='Verdana', style='italic', variant='normal', weight=400, stretch='normal', size='scalable')) = 4.6863636363636365\n",
      "DEBUG: 2023-05-31 15:55:23,199 - matplotlib.font_manager - findfont: score(FontEntry(fname='/System/Library/Fonts/ArabicUIDisplay.ttc', name='.Arabic UI Display', style='normal', variant='normal', weight=900, stretch='normal', size='scalable')) = 10.525\n",
      "DEBUG: 2023-05-31 15:55:23,200 - matplotlib.font_manager - findfont: score(FontEntry(fname='/System/Library/Fonts/Supplemental/NotoSansNewa-Regular.ttf', name='Noto Sans Newa', style='normal', variant='normal', weight=400, stretch='normal', size='scalable')) = 10.05\n",
      "DEBUG: 2023-05-31 15:55:23,200 - matplotlib.font_manager - findfont: score(FontEntry(fname='/System/Library/Fonts/ArabicUIText.ttc', name='.Arabic UI Text', style='normal', variant='normal', weight=400, stretch='normal', size='scalable')) = 10.05\n"
     ]
    },
    {
     "name": "stdout",
     "output_type": "stream",
     "text": [
      "DEBUG: 2023-05-31 15:55:23,201 - matplotlib.font_manager - findfont: score(FontEntry(fname='/System/Library/Fonts/Supplemental/NotoSansOgham-Regular.ttf', name='Noto Sans Ogham', style='normal', variant='normal', weight=400, stretch='normal', size='scalable')) = 10.05\n",
      "DEBUG: 2023-05-31 15:55:23,202 - matplotlib.font_manager - findfont: score(FontEntry(fname='/System/Library/Fonts/Supplemental/Ayuthaya.ttf', name='Ayuthaya', style='normal', variant='normal', weight=400, stretch='normal', size='scalable')) = 10.05\n",
      "DEBUG: 2023-05-31 15:55:23,202 - matplotlib.font_manager - findfont: score(FontEntry(fname='/System/Library/Fonts/Supplemental/NotoSansLepcha-Regular.ttf', name='Noto Sans Lepcha', style='normal', variant='normal', weight=400, stretch='normal', size='scalable')) = 10.05\n",
      "DEBUG: 2023-05-31 15:55:23,202 - matplotlib.font_manager - findfont: score(FontEntry(fname='/System/Library/Fonts/Supplemental/STIXNonUniIta.otf', name='STIXNonUnicode', style='italic', variant='normal', weight=400, stretch='normal', size='scalable')) = 11.05\n",
      "DEBUG: 2023-05-31 15:55:23,203 - matplotlib.font_manager - findfont: score(FontEntry(fname='/System/Library/Fonts/KohinoorTelugu.ttc', name='Kohinoor Telugu', style='normal', variant='normal', weight=400, stretch='normal', size='scalable')) = 10.05\n",
      "DEBUG: 2023-05-31 15:55:23,203 - matplotlib.font_manager - findfont: score(FontEntry(fname='/System/Library/Fonts/Hiragino Sans GB.ttc', name='Hiragino Sans GB', style='normal', variant='normal', weight=300, stretch='normal', size='scalable')) = 10.145\n",
      "DEBUG: 2023-05-31 15:55:23,204 - matplotlib.font_manager - findfont: score(FontEntry(fname='/System/Library/Fonts/Supplemental/PTSerif.ttc', name='PT Serif', style='normal', variant='normal', weight=400, stretch='normal', size='scalable')) = 10.05\n",
      "DEBUG: 2023-05-31 15:55:23,204 - matplotlib.font_manager - findfont: score(FontEntry(fname='/System/Library/Fonts/Supplemental/Savoye LET.ttc', name='Savoye LET', style='normal', variant='normal', weight=400, stretch='normal', size='scalable')) = 10.05\n",
      "DEBUG: 2023-05-31 15:55:23,205 - matplotlib.font_manager - findfont: score(FontEntry(fname='/System/Library/Fonts/Supplemental/Verdana Bold.ttf', name='Verdana', style='normal', variant='normal', weight=700, stretch='normal', size='scalable')) = 3.9713636363636367\n",
      "DEBUG: 2023-05-31 15:55:23,205 - matplotlib.font_manager - findfont: score(FontEntry(fname='/System/Library/Fonts/ヒラギノ角ゴシック W5.ttc', name='Hiragino Sans', style='normal', variant='normal', weight=500, stretch='normal', size='scalable')) = 10.145\n",
      "DEBUG: 2023-05-31 15:55:23,206 - matplotlib.font_manager - findfont: score(FontEntry(fname='/System/Library/Fonts/GeezaPro.ttc', name='Geeza Pro', style='normal', variant='normal', weight=400, stretch='normal', size='scalable')) = 10.05\n",
      "DEBUG: 2023-05-31 15:55:23,206 - matplotlib.font_manager - findfont: score(FontEntry(fname='/System/Library/Fonts/Avenir Next Condensed.ttc', name='Avenir Next Condensed', style='normal', variant='normal', weight=700, stretch='condensed', size='scalable')) = 10.535\n",
      "DEBUG: 2023-05-31 15:55:23,207 - matplotlib.font_manager - findfont: score(FontEntry(fname='/System/Library/Fonts/Supplemental/Luminari.ttf', name='Luminari', style='normal', variant='normal', weight=400, stretch='normal', size='scalable')) = 10.05\n",
      "DEBUG: 2023-05-31 15:55:23,207 - matplotlib.font_manager - findfont: score(FontEntry(fname='/System/Library/Fonts/Supplemental/Malayalam Sangam MN.ttc', name='Malayalam Sangam MN', style='normal', variant='normal', weight=400, stretch='normal', size='scalable')) = 10.05\n",
      "DEBUG: 2023-05-31 15:55:23,207 - matplotlib.font_manager - findfont: score(FontEntry(fname='/System/Library/Fonts/Supplemental/Bangla Sangam MN.ttc', name='Bangla Sangam MN', style='normal', variant='normal', weight=400, stretch='normal', size='scalable')) = 10.05\n",
      "DEBUG: 2023-05-31 15:55:23,208 - matplotlib.font_manager - findfont: score(FontEntry(fname='/System/Library/Fonts/Supplemental/STIXSizOneSymReg.otf', name='STIXSizeOneSym', style='normal', variant='normal', weight=400, stretch='normal', size='scalable')) = 10.05\n",
      "DEBUG: 2023-05-31 15:55:23,208 - matplotlib.font_manager - findfont: score(FontEntry(fname='/System/Library/Fonts/Supplemental/NotoSansPhagsPa-Regular.ttf', name='Noto Sans PhagsPa', style='normal', variant='normal', weight=400, stretch='normal', size='scalable')) = 10.05\n",
      "DEBUG: 2023-05-31 15:55:23,208 - matplotlib.font_manager - findfont: score(FontEntry(fname='/System/Library/Fonts/Apple Braille Pinpoint 8 Dot.ttf', name='Apple Braille', style='normal', variant='normal', weight=400, stretch='normal', size='scalable')) = 10.05\n",
      "DEBUG: 2023-05-31 15:55:23,209 - matplotlib.font_manager - findfont: score(FontEntry(fname='/System/Library/Fonts/Supplemental/Malayalam MN.ttc', name='Malayalam MN', style='normal', variant='normal', weight=400, stretch='normal', size='scalable')) = 10.05\n",
      "DEBUG: 2023-05-31 15:55:23,209 - matplotlib.font_manager - findfont: score(FontEntry(fname='/System/Library/Fonts/Supplemental/Georgia.ttf', name='Georgia', style='normal', variant='normal', weight=400, stretch='normal', size='scalable')) = 10.05\n",
      "DEBUG: 2023-05-31 15:55:23,209 - matplotlib.font_manager - findfont: score(FontEntry(fname='/System/Library/Fonts/Supplemental/NotoSansMendeKikakui-Regular.ttf', name='Noto Sans Mende Kikakui', style='normal', variant='normal', weight=400, stretch='normal', size='scalable')) = 10.05\n",
      "DEBUG: 2023-05-31 15:55:23,210 - matplotlib.font_manager - findfont: score(FontEntry(fname='/System/Library/Fonts/Supplemental/NotoSansHanunoo-Regular.ttf', name='Noto Sans Hanunoo', style='normal', variant='normal', weight=400, stretch='normal', size='scalable')) = 10.05\n",
      "DEBUG: 2023-05-31 15:55:23,210 - matplotlib.font_manager - findfont: score(FontEntry(fname='/System/Library/Fonts/Supplemental/NotoSansLimbu-Regular.ttf', name='Noto Sans Limbu', style='normal', variant='normal', weight=400, stretch='normal', size='scalable')) = 10.05\n",
      "DEBUG: 2023-05-31 15:55:23,210 - matplotlib.font_manager - findfont: score(FontEntry(fname='/System/Library/Fonts/Supplemental/Academy Engraved LET Fonts.ttf', name='Academy Engraved LET', style='normal', variant='normal', weight=400, stretch='normal', size='scalable')) = 10.05\n",
      "DEBUG: 2023-05-31 15:55:23,210 - matplotlib.font_manager - findfont: score(FontEntry(fname='/System/Library/Fonts/HelveticaNeue.ttc', name='Helvetica Neue', style='normal', variant='normal', weight=400, stretch='normal', size='scalable')) = 10.05\n",
      "DEBUG: 2023-05-31 15:55:23,211 - matplotlib.font_manager - findfont: score(FontEntry(fname='/System/Library/Fonts/Supplemental/Verdana.ttf', name='Verdana', style='normal', variant='normal', weight=400, stretch='normal', size='scalable')) = 3.6863636363636365\n",
      "DEBUG: 2023-05-31 15:55:23,211 - matplotlib.font_manager - findfont: score(FontEntry(fname='/System/Library/Fonts/SFNSRounded.ttf', name='.SF NS Rounded', style='normal', variant='normal', weight=400, stretch='normal', size='scalable')) = 10.05\n",
      "DEBUG: 2023-05-31 15:55:23,211 - matplotlib.font_manager - findfont: score(FontEntry(fname='/System/Library/Fonts/Supplemental/STIXGeneralItalic.otf', name='STIXGeneral', style='italic', variant='normal', weight=400, stretch='normal', size='scalable')) = 11.05\n",
      "DEBUG: 2023-05-31 15:55:23,212 - matplotlib.font_manager - findfont: score(FontEntry(fname='/System/Library/Fonts/Supplemental/Marion.ttc', name='Marion', style='normal', variant='normal', weight=400, stretch='normal', size='scalable')) = 10.05\n",
      "DEBUG: 2023-05-31 15:55:23,212 - matplotlib.font_manager - findfont: score(FontEntry(fname='/System/Library/Fonts/Supplemental/Hoefler Text Ornaments.ttf', name='Hoefler Text', style='normal', variant='normal', weight=400, stretch='normal', size='scalable')) = 10.05\n",
      "DEBUG: 2023-05-31 15:55:23,213 - matplotlib.font_manager - findfont: score(FontEntry(fname='/System/Library/Fonts/Supplemental/NotoSansKaithi-Regular.ttf', name='Noto Sans Kaithi', style='normal', variant='normal', weight=400, stretch='normal', size='scalable')) = 10.05\n",
      "DEBUG: 2023-05-31 15:55:23,214 - matplotlib.font_manager - findfont: score(FontEntry(fname='/System/Library/Fonts/Noteworthy.ttc', name='Noteworthy', style='normal', variant='normal', weight=300, stretch='normal', size='scalable')) = 10.145\n"
     ]
    },
    {
     "name": "stdout",
     "output_type": "stream",
     "text": [
      "DEBUG: 2023-05-31 15:55:23,214 - matplotlib.font_manager - findfont: score(FontEntry(fname='/System/Library/Fonts/Supplemental/AppleMyungjo.ttf', name='AppleMyungjo', style='normal', variant='normal', weight=400, stretch='normal', size='scalable')) = 10.05\n",
      "DEBUG: 2023-05-31 15:55:23,215 - matplotlib.font_manager - findfont: score(FontEntry(fname='/System/Library/Fonts/Times.ttc', name='Times', style='normal', variant='normal', weight=400, stretch='normal', size='scalable')) = 10.05\n",
      "DEBUG: 2023-05-31 15:55:23,215 - matplotlib.font_manager - findfont: score(FontEntry(fname='/System/Library/Fonts/ZapfDingbats.ttf', name='Zapf Dingbats', style='normal', variant='normal', weight=400, stretch='normal', size='scalable')) = 10.05\n",
      "DEBUG: 2023-05-31 15:55:23,215 - matplotlib.font_manager - findfont: score(FontEntry(fname='/System/Library/Fonts/MuktaMahee.ttc', name='Mukta Mahee', style='normal', variant='normal', weight=400, stretch='normal', size='scalable')) = 10.05\n",
      "DEBUG: 2023-05-31 15:55:23,216 - matplotlib.font_manager - findfont: score(FontEntry(fname='/System/Library/Fonts/Supplemental/Comic Sans MS Bold.ttf', name='Comic Sans MS', style='normal', variant='normal', weight=700, stretch='normal', size='scalable')) = 10.335\n",
      "DEBUG: 2023-05-31 15:55:23,216 - matplotlib.font_manager - findfont: score(FontEntry(fname='/System/Library/Fonts/Supplemental/STIXIntUpDReg.otf', name='STIXIntegralsUpD', style='normal', variant='normal', weight=400, stretch='normal', size='scalable')) = 10.05\n",
      "DEBUG: 2023-05-31 15:55:23,216 - matplotlib.font_manager - findfont: score(FontEntry(fname='/System/Library/Fonts/NotoSansMyanmar.ttc', name='Noto Sans Myanmar', style='normal', variant='normal', weight=900, stretch='normal', size='scalable')) = 10.525\n",
      "DEBUG: 2023-05-31 15:55:23,216 - matplotlib.font_manager - findfont: score(FontEntry(fname='/System/Library/Fonts/Keyboard.ttf', name='.Keyboard', style='normal', variant='normal', weight=100, stretch='normal', size='scalable')) = 10.335\n",
      "DEBUG: 2023-05-31 15:55:23,217 - matplotlib.font_manager - findfont: score(FontEntry(fname='/System/Library/Fonts/NotoNastaliq.ttc', name='Noto Nastaliq Urdu', style='normal', variant='normal', weight=400, stretch='normal', size='scalable')) = 10.05\n",
      "DEBUG: 2023-05-31 15:55:23,217 - matplotlib.font_manager - findfont: score(FontEntry(fname='/System/Library/Fonts/Supplemental/Kefa.ttc', name='Kefa', style='normal', variant='normal', weight=400, stretch='normal', size='scalable')) = 10.05\n",
      "DEBUG: 2023-05-31 15:55:23,217 - matplotlib.font_manager - findfont: score(FontEntry(fname='/System/Library/Fonts/Supplemental/Al Tarikh.ttc', name='Al Tarikh', style='normal', variant='normal', weight=400, stretch='normal', size='scalable')) = 10.05\n",
      "DEBUG: 2023-05-31 15:55:23,217 - matplotlib.font_manager - findfont: score(FontEntry(fname='/System/Library/Fonts/Supplemental/NotoSansMultani-Regular.ttf', name='Noto Sans Multani', style='normal', variant='normal', weight=400, stretch='normal', size='scalable')) = 10.05\n",
      "DEBUG: 2023-05-31 15:55:23,218 - matplotlib.font_manager - findfont: score(FontEntry(fname='/System/Library/Fonts/Supplemental/NotoSansOldSouthArabian-Regular.ttf', name='Noto Sans Old South Arabian', style='normal', variant='normal', weight=400, stretch='normal', size='scalable')) = 10.05\n",
      "DEBUG: 2023-05-31 15:55:23,218 - matplotlib.font_manager - findfont: score(FontEntry(fname='/System/Library/Fonts/Supplemental/NotoSansSharada-Regular.ttf', name='Noto Sans Sharada', style='normal', variant='normal', weight=400, stretch='normal', size='scalable')) = 10.05\n",
      "DEBUG: 2023-05-31 15:55:23,218 - matplotlib.font_manager - findfont: score(FontEntry(fname='/System/Library/Fonts/Supplemental/NotoSansMro-Regular.ttf', name='Noto Sans Mro', style='normal', variant='normal', weight=400, stretch='normal', size='scalable')) = 10.05\n",
      "DEBUG: 2023-05-31 15:55:23,218 - matplotlib.font_manager - findfont: score(FontEntry(fname='/System/Library/Fonts/Supplemental/Mishafi.ttf', name='Mishafi', style='normal', variant='normal', weight=400, stretch='normal', size='scalable')) = 10.05\n",
      "DEBUG: 2023-05-31 15:55:23,219 - matplotlib.font_manager - findfont: score(FontEntry(fname='/System/Library/Fonts/KohinoorBangla.ttc', name='Kohinoor Bangla', style='normal', variant='normal', weight=400, stretch='normal', size='scalable')) = 10.05\n",
      "DEBUG: 2023-05-31 15:55:23,219 - matplotlib.font_manager - findfont: score(FontEntry(fname='/System/Library/Fonts/Supplemental/DIN Alternate Bold.ttf', name='DIN Alternate', style='normal', variant='normal', weight=700, stretch='normal', size='scalable')) = 10.335\n",
      "DEBUG: 2023-05-31 15:55:23,219 - matplotlib.font_manager - findfont: score(FontEntry(fname='/System/Library/Fonts/MarkerFelt.ttc', name='Marker Felt', style='normal', variant='normal', weight=400, stretch='normal', size='scalable')) = 10.05\n",
      "DEBUG: 2023-05-31 15:55:23,220 - matplotlib.font_manager - findfont: score(FontEntry(fname='/System/Library/Fonts/Supplemental/STIXVarBol.otf', name='STIXVariants', style='normal', variant='normal', weight=700, stretch='normal', size='scalable')) = 10.335\n",
      "DEBUG: 2023-05-31 15:55:23,220 - matplotlib.font_manager - findfont: score(FontEntry(fname='/System/Library/Fonts/Supplemental/NotoSansNKo-Regular.ttf', name='Noto Sans NKo', style='normal', variant='normal', weight=400, stretch='normal', size='scalable')) = 10.05\n",
      "DEBUG: 2023-05-31 15:55:23,221 - matplotlib.font_manager - findfont: score(FontEntry(fname='/System/Library/Fonts/SFCompactItalic.ttf', name='.SF Compact', style='italic', variant='normal', weight=1000, stretch='normal', size='scalable')) = 11.62\n",
      "DEBUG: 2023-05-31 15:55:23,221 - matplotlib.font_manager - findfont: score(FontEntry(fname='/System/Library/Fonts/Supplemental/NotoSansKharoshthi-Regular.ttf', name='Noto Sans Kharoshthi', style='normal', variant='normal', weight=400, stretch='normal', size='scalable')) = 10.05\n",
      "DEBUG: 2023-05-31 15:55:23,222 - matplotlib.font_manager - findfont: score(FontEntry(fname='/System/Library/Fonts/Supplemental/Khmer MN.ttc', name='Khmer MN', style='normal', variant='normal', weight=400, stretch='normal', size='scalable')) = 10.05\n",
      "DEBUG: 2023-05-31 15:55:23,222 - matplotlib.font_manager - findfont: score(FontEntry(fname='/System/Library/Fonts/STHeiti Light.ttc', name='Heiti TC', style='normal', variant='normal', weight=300, stretch='normal', size='scalable')) = 10.145\n",
      "DEBUG: 2023-05-31 15:55:23,222 - matplotlib.font_manager - findfont: score(FontEntry(fname='/System/Library/Fonts/Supplemental/NotoSansThaana-Regular.ttf', name='Noto Sans Thaana', style='normal', variant='normal', weight=400, stretch='normal', size='scalable')) = 10.05\n",
      "DEBUG: 2023-05-31 15:55:23,223 - matplotlib.font_manager - findfont: score(FontEntry(fname='/System/Library/Fonts/Supplemental/AppleGothic.ttf', name='AppleGothic', style='normal', variant='normal', weight=400, stretch='normal', size='scalable')) = 10.05\n",
      "DEBUG: 2023-05-31 15:55:23,223 - matplotlib.font_manager - findfont: score(FontEntry(fname='/System/Library/Fonts/Supplemental/GillSans.ttc', name='Gill Sans', style='normal', variant='normal', weight=400, stretch='normal', size='scalable')) = 10.05\n",
      "DEBUG: 2023-05-31 15:55:23,223 - matplotlib.font_manager - findfont: score(FontEntry(fname='/System/Library/Fonts/Supplemental/NotoSansOlChiki-Regular.ttf', name='Noto Sans Ol Chiki', style='normal', variant='normal', weight=400, stretch='normal', size='scalable')) = 10.05\n",
      "DEBUG: 2023-05-31 15:55:23,224 - matplotlib.font_manager - findfont: score(FontEntry(fname='/System/Library/Fonts/Supplemental/Herculanum.ttf', name='Herculanum', style='normal', variant='normal', weight=400, stretch='normal', size='scalable')) = 10.05\n",
      "DEBUG: 2023-05-31 15:55:23,224 - matplotlib.font_manager - findfont: score(FontEntry(fname='/System/Library/Fonts/Supplemental/NotoSansModi-Regular.ttf', name='Noto Sans Modi', style='normal', variant='normal', weight=400, stretch='normal', size='scalable')) = 10.05\n",
      "DEBUG: 2023-05-31 15:55:23,224 - matplotlib.font_manager - findfont: score(FontEntry(fname='/System/Library/Fonts/Supplemental/Charter.ttc', name='Charter', style='normal', variant='normal', weight=400, stretch='normal', size='scalable')) = 10.05\n",
      "DEBUG: 2023-05-31 15:55:23,224 - matplotlib.font_manager - findfont: score(FontEntry(fname='/System/Library/Fonts/Supplemental/STIXSizThreeSymBol.otf', name='STIXSizeThreeSym', style='normal', variant='normal', weight=700, stretch='normal', size='scalable')) = 10.335\n"
     ]
    },
    {
     "name": "stdout",
     "output_type": "stream",
     "text": [
      "DEBUG: 2023-05-31 15:55:23,225 - matplotlib.font_manager - findfont: score(FontEntry(fname='/System/Library/Fonts/Supplemental/Hoefler Text.ttc', name='Hoefler Text', style='normal', variant='normal', weight=400, stretch='normal', size='scalable')) = 10.05\n",
      "DEBUG: 2023-05-31 15:55:23,225 - matplotlib.font_manager - findfont: score(FontEntry(fname='/System/Library/Fonts/Supplemental/Arial Italic.ttf', name='Arial', style='italic', variant='normal', weight=400, stretch='normal', size='scalable')) = 7.413636363636363\n",
      "DEBUG: 2023-05-31 15:55:23,225 - matplotlib.font_manager - findfont: score(FontEntry(fname='/System/Library/Fonts/Supplemental/STIXGeneralBol.otf', name='STIXGeneral', style='normal', variant='normal', weight=700, stretch='normal', size='scalable')) = 10.335\n",
      "DEBUG: 2023-05-31 15:55:23,225 - matplotlib.font_manager - findfont: score(FontEntry(fname='/System/Library/Fonts/Supplemental/Skia.ttf', name='Skia', style='normal', variant='normal', weight=5, stretch='normal', size='scalable')) = 10.42525\n",
      "DEBUG: 2023-05-31 15:55:23,226 - matplotlib.font_manager - findfont: score(FontEntry(fname='/System/Library/Fonts/Supplemental/NotoSansSoraSompeng-Regular.ttf', name='Noto Sans Sora Sompeng', style='normal', variant='normal', weight=400, stretch='normal', size='scalable')) = 10.05\n",
      "DEBUG: 2023-05-31 15:55:23,226 - matplotlib.font_manager - findfont: score(FontEntry(fname='/System/Library/Fonts/NewYork.ttf', name='.New York', style='normal', variant='normal', weight=400, stretch='normal', size='scalable')) = 10.05\n",
      "DEBUG: 2023-05-31 15:55:23,226 - matplotlib.font_manager - findfont: score(FontEntry(fname='/System/Library/Fonts/STHeiti Medium.ttc', name='Heiti TC', style='normal', variant='normal', weight=400, stretch='normal', size='scalable')) = 10.05\n",
      "DEBUG: 2023-05-31 15:55:23,227 - matplotlib.font_manager - findfont: score(FontEntry(fname='/System/Library/Fonts/Supplemental/Sinhala Sangam MN.ttc', name='Sinhala Sangam MN', style='normal', variant='normal', weight=400, stretch='normal', size='scalable')) = 10.05\n",
      "DEBUG: 2023-05-31 15:55:23,227 - matplotlib.font_manager - findfont: score(FontEntry(fname='/System/Library/Fonts/Optima.ttc', name='Optima', style='normal', variant='normal', weight=400, stretch='normal', size='scalable')) = 10.05\n",
      "DEBUG: 2023-05-31 15:55:23,227 - matplotlib.font_manager - findfont: score(FontEntry(fname='/System/Library/Fonts/Supplemental/Arial Narrow.ttf', name='Arial Narrow', style='normal', variant='normal', weight=400, stretch='condensed', size='scalable')) = 10.25\n",
      "DEBUG: 2023-05-31 15:55:23,227 - matplotlib.font_manager - findfont: score(FontEntry(fname='/System/Library/Fonts/Supplemental/Rockwell.ttc', name='Rockwell', style='normal', variant='normal', weight=400, stretch='normal', size='scalable')) = 10.05\n",
      "DEBUG: 2023-05-31 15:55:23,227 - matplotlib.font_manager - findfont: score(FontEntry(fname='/System/Library/Fonts/Supplemental/NotoSansAdlam-Regular.ttf', name='Noto Sans Adlam', style='normal', variant='normal', weight=400, stretch='normal', size='scalable')) = 10.05\n",
      "DEBUG: 2023-05-31 15:55:23,228 - matplotlib.font_manager - findfont: score(FontEntry(fname='/System/Library/Fonts/Supplemental/NotoSansInscriptionalParthian-Regular.ttf', name='Noto Sans Inscriptional Parthian', style='normal', variant='normal', weight=400, stretch='normal', size='scalable')) = 10.05\n",
      "DEBUG: 2023-05-31 15:55:23,228 - matplotlib.font_manager - findfont: score(FontEntry(fname='/System/Library/Fonts/SFNS.ttf', name='System Font', style='normal', variant='normal', weight=400, stretch='normal', size='scalable')) = 10.05\n",
      "DEBUG: 2023-05-31 15:55:23,228 - matplotlib.font_manager - findfont: score(FontEntry(fname='/System/Library/Fonts/Supplemental/Mishafi Gold.ttf', name='Mishafi Gold', style='normal', variant='normal', weight=400, stretch='normal', size='scalable')) = 10.05\n",
      "DEBUG: 2023-05-31 15:55:23,228 - matplotlib.font_manager - findfont: score(FontEntry(fname='/System/Library/Fonts/Supplemental/NotoSansBamum-Regular.ttf', name='Noto Sans Bamum', style='normal', variant='normal', weight=400, stretch='normal', size='scalable')) = 10.05\n",
      "DEBUG: 2023-05-31 15:55:23,228 - matplotlib.font_manager - findfont: score(FontEntry(fname='/System/Library/Fonts/Supplemental/NotoSansTaiViet-Regular.ttf', name='Noto Sans Tai Viet', style='normal', variant='normal', weight=400, stretch='normal', size='scalable')) = 10.05\n",
      "DEBUG: 2023-05-31 15:55:23,229 - matplotlib.font_manager - findfont: score(FontEntry(fname='/System/Library/Fonts/Supplemental/Kokonor.ttf', name='Kokonor', style='normal', variant='normal', weight=400, stretch='normal', size='scalable')) = 10.05\n",
      "DEBUG: 2023-05-31 15:55:23,229 - matplotlib.font_manager - findfont: score(FontEntry(fname='/System/Library/Fonts/Supplemental/Arial Narrow Italic.ttf', name='Arial Narrow', style='italic', variant='normal', weight=400, stretch='condensed', size='scalable')) = 11.25\n",
      "DEBUG: 2023-05-31 15:55:23,229 - matplotlib.font_manager - findfont: score(FontEntry(fname='/System/Library/Fonts/Supplemental/Mshtakan.ttc', name='Mshtakan', style='normal', variant='normal', weight=400, stretch='normal', size='scalable')) = 10.05\n",
      "DEBUG: 2023-05-31 15:55:23,229 - matplotlib.font_manager - findfont: score(FontEntry(fname='/System/Library/Fonts/Supplemental/NotoSansCham-Regular.ttf', name='Noto Sans Cham', style='normal', variant='normal', weight=400, stretch='normal', size='scalable')) = 10.05\n",
      "DEBUG: 2023-05-31 15:55:23,230 - matplotlib.font_manager - findfont: score(FontEntry(fname='/System/Library/Fonts/Supplemental/AmericanTypewriter.ttc', name='American Typewriter', style='normal', variant='normal', weight=400, stretch='normal', size='scalable')) = 10.05\n",
      "DEBUG: 2023-05-31 15:55:23,230 - matplotlib.font_manager - findfont: score(FontEntry(fname='/System/Library/Fonts/Supplemental/NotoSansCoptic-Regular.ttf', name='Noto Sans Coptic', style='normal', variant='normal', weight=400, stretch='normal', size='scalable')) = 10.05\n",
      "DEBUG: 2023-05-31 15:55:23,230 - matplotlib.font_manager - findfont: score(FontEntry(fname='/System/Library/Fonts/Apple Braille Pinpoint 6 Dot.ttf', name='Apple Braille', style='normal', variant='normal', weight=400, stretch='normal', size='scalable')) = 10.05\n",
      "DEBUG: 2023-05-31 15:55:23,230 - matplotlib.font_manager - findfont: score(FontEntry(fname='/System/Library/Fonts/NotoSerifMyanmar.ttc', name='Noto Serif Myanmar', style='normal', variant='normal', weight=900, stretch='normal', size='scalable')) = 10.525\n",
      "DEBUG: 2023-05-31 15:55:23,231 - matplotlib.font_manager - findfont: score(FontEntry(fname='/System/Library/Fonts/Avenir Next.ttc', name='Avenir Next', style='normal', variant='normal', weight=700, stretch='normal', size='scalable')) = 10.335\n",
      "DEBUG: 2023-05-31 15:55:23,231 - matplotlib.font_manager - findfont: score(FontEntry(fname='/System/Library/Fonts/Supplemental/Seravek.ttc', name='Seravek', style='normal', variant='normal', weight=400, stretch='normal', size='scalable')) = 10.05\n",
      "DEBUG: 2023-05-31 15:55:23,231 - matplotlib.font_manager - findfont: score(FontEntry(fname='/System/Library/Fonts/ヒラギノ丸ゴ ProN W4.ttc', name='Hiragino Maru Gothic Pro', style='normal', variant='normal', weight=400, stretch='normal', size='scalable')) = 10.05\n",
      "DEBUG: 2023-05-31 15:55:23,232 - matplotlib.font_manager - findfont: score(FontEntry(fname='/System/Library/Fonts/Supplemental/PTSerifCaption.ttc', name='PT Serif Caption', style='normal', variant='normal', weight=400, stretch='normal', size='scalable')) = 10.05\n",
      "DEBUG: 2023-05-31 15:55:23,232 - matplotlib.font_manager - findfont: score(FontEntry(fname='/System/Library/Fonts/Supplemental/Trebuchet MS Italic.ttf', name='Trebuchet MS', style='italic', variant='normal', weight=400, stretch='normal', size='scalable')) = 11.05\n",
      "DEBUG: 2023-05-31 15:55:23,234 - matplotlib.font_manager - findfont: score(FontEntry(fname='/System/Library/Fonts/Supplemental/Arial Unicode.ttf', name='Arial Unicode MS', style='normal', variant='normal', weight=400, stretch='normal', size='scalable')) = 10.05\n",
      "DEBUG: 2023-05-31 15:55:23,236 - matplotlib.font_manager - findfont: score(FontEntry(fname='/System/Library/Fonts/Supplemental/NotoSansKayahLi-Regular.ttf', name='Noto Sans Kayah Li', style='normal', variant='normal', weight=400, stretch='normal', size='scalable')) = 10.05\n"
     ]
    },
    {
     "name": "stdout",
     "output_type": "stream",
     "text": [
      "DEBUG: 2023-05-31 15:55:23,237 - matplotlib.font_manager - findfont: score(FontEntry(fname='/System/Library/Fonts/Supplemental/Lao Sangam MN.ttf', name='Lao Sangam MN', style='normal', variant='normal', weight=400, stretch='normal', size='scalable')) = 10.05\n",
      "DEBUG: 2023-05-31 15:55:23,237 - matplotlib.font_manager - findfont: score(FontEntry(fname='/System/Library/Fonts/Supplemental/Khmer Sangam MN.ttf', name='Khmer Sangam MN', style='normal', variant='normal', weight=400, stretch='normal', size='scalable')) = 10.05\n",
      "DEBUG: 2023-05-31 15:55:23,237 - matplotlib.font_manager - findfont: score(FontEntry(fname='/System/Library/Fonts/Supplemental/Trattatello.ttf', name='Trattatello', style='normal', variant='normal', weight=400, stretch='normal', size='scalable')) = 10.05\n",
      "DEBUG: 2023-05-31 15:55:23,238 - matplotlib.font_manager - findfont: score(FontEntry(fname='/System/Library/Fonts/Supplemental/Baskerville.ttc', name='Baskerville', style='normal', variant='normal', weight=400, stretch='normal', size='scalable')) = 10.05\n",
      "DEBUG: 2023-05-31 15:55:23,238 - matplotlib.font_manager - findfont: score(FontEntry(fname='/System/Library/Fonts/Supplemental/Tamil Sangam MN.ttc', name='Tamil Sangam MN', style='normal', variant='normal', weight=400, stretch='normal', size='scalable')) = 10.05\n",
      "DEBUG: 2023-05-31 15:55:23,238 - matplotlib.font_manager - findfont: score(FontEntry(fname='/System/Library/Fonts/Supplemental/NotoSansNewTaiLue-Regular.ttf', name='Noto Sans New Tai Lue', style='normal', variant='normal', weight=400, stretch='normal', size='scalable')) = 10.05\n",
      "DEBUG: 2023-05-31 15:55:23,238 - matplotlib.font_manager - findfont: score(FontEntry(fname='/System/Library/Fonts/Apple Braille Outline 6 Dot.ttf', name='Apple Braille', style='normal', variant='normal', weight=400, stretch='normal', size='scalable')) = 10.05\n",
      "DEBUG: 2023-05-31 15:55:23,239 - matplotlib.font_manager - findfont: score(FontEntry(fname='/System/Library/Fonts/Supplemental/SuperClarendon.ttc', name='Superclarendon', style='normal', variant='normal', weight=400, stretch='normal', size='scalable')) = 10.05\n",
      "DEBUG: 2023-05-31 15:55:23,239 - matplotlib.font_manager - findfont: score(FontEntry(fname='/System/Library/Fonts/Supplemental/NotoSansGlagolitic-Regular.ttf', name='Noto Sans Glagolitic', style='normal', variant='normal', weight=400, stretch='normal', size='scalable')) = 10.05\n",
      "DEBUG: 2023-05-31 15:55:23,239 - matplotlib.font_manager - findfont: score(FontEntry(fname='/System/Library/Fonts/Supplemental/Arial Rounded Bold.ttf', name='Arial Rounded MT Bold', style='normal', variant='normal', weight=400, stretch='normal', size='scalable')) = 10.05\n",
      "DEBUG: 2023-05-31 15:55:23,239 - matplotlib.font_manager - findfont: score(FontEntry(fname='/System/Library/Fonts/Supplemental/NotoSansOldNorthArabian-Regular.ttf', name='Noto Sans Old North Arabian', style='normal', variant='normal', weight=400, stretch='normal', size='scalable')) = 10.05\n",
      "DEBUG: 2023-05-31 15:55:23,239 - matplotlib.font_manager - findfont: score(FontEntry(fname='/System/Library/Fonts/Supplemental/SnellRoundhand.ttc', name='Snell Roundhand', style='normal', variant='normal', weight=500, stretch='normal', size='scalable')) = 10.145\n",
      "DEBUG: 2023-05-31 15:55:23,240 - matplotlib.font_manager - findfont: score(FontEntry(fname='/System/Library/Fonts/Supplemental/SukhumvitSet.ttc', name='Sukhumvit Set', style='normal', variant='normal', weight=250, stretch='normal', size='scalable')) = 10.1925\n",
      "DEBUG: 2023-05-31 15:55:23,240 - matplotlib.font_manager - findfont: score(FontEntry(fname='/System/Library/Fonts/Supplemental/NotoSansSaurashtra-Regular.ttf', name='Noto Sans Saurashtra', style='normal', variant='normal', weight=400, stretch='normal', size='scalable')) = 10.05\n",
      "DEBUG: 2023-05-31 15:55:23,240 - matplotlib.font_manager - findfont: score(FontEntry(fname='/System/Library/Fonts/Supplemental/NotoSansOldItalic-Regular.ttf', name='Noto Sans Old Italic', style='italic', variant='normal', weight=400, stretch='normal', size='scalable')) = 11.05\n",
      "DEBUG: 2023-05-31 15:55:23,240 - matplotlib.font_manager - findfont: score(FontEntry(fname='/System/Library/Fonts/Supplemental/NotoSansKhudawadi-Regular.ttf', name='Noto Sans Khudawadi', style='normal', variant='normal', weight=400, stretch='normal', size='scalable')) = 10.05\n",
      "DEBUG: 2023-05-31 15:55:23,241 - matplotlib.font_manager - findfont: score(FontEntry(fname='/System/Library/Fonts/PingFang.ttc', name='PingFang HK', style='normal', variant='normal', weight=400, stretch='normal', size='scalable')) = 10.05\n",
      "DEBUG: 2023-05-31 15:55:23,241 - matplotlib.font_manager - findfont: score(FontEntry(fname='/System/Library/Fonts/NewYorkItalic.ttf', name='.New York', style='italic', variant='normal', weight=400, stretch='normal', size='scalable')) = 11.05\n",
      "DEBUG: 2023-05-31 15:55:23,241 - matplotlib.font_manager - findfont: score(FontEntry(fname='/System/Library/Fonts/Supplemental/Arial Narrow Bold Italic.ttf', name='Arial Narrow', style='italic', variant='normal', weight=700, stretch='condensed', size='scalable')) = 11.535\n",
      "DEBUG: 2023-05-31 15:55:23,241 - matplotlib.font_manager - findfont: score(FontEntry(fname='/System/Library/Fonts/Supplemental/STIXIntUpDBol.otf', name='STIXIntegralsUpD', style='normal', variant='normal', weight=700, stretch='normal', size='scalable')) = 10.335\n",
      "DEBUG: 2023-05-31 15:55:23,241 - matplotlib.font_manager - findfont: score(FontEntry(fname='/System/Library/Fonts/Supplemental/Trebuchet MS Bold.ttf', name='Trebuchet MS', style='normal', variant='normal', weight=700, stretch='normal', size='scalable')) = 10.335\n",
      "DEBUG: 2023-05-31 15:55:23,242 - matplotlib.font_manager - findfont: score(FontEntry(fname='/System/Library/Fonts/Supplemental/AlBayan.ttc', name='Al Bayan', style='normal', variant='normal', weight=400, stretch='normal', size='scalable')) = 10.05\n",
      "DEBUG: 2023-05-31 15:55:23,242 - matplotlib.font_manager - findfont: score(FontEntry(fname='/System/Library/Fonts/Supplemental/NotoSansElbasan-Regular.ttf', name='Noto Sans Elbasan', style='normal', variant='normal', weight=400, stretch='normal', size='scalable')) = 10.05\n",
      "DEBUG: 2023-05-31 15:55:23,242 - matplotlib.font_manager - findfont: score(FontEntry(fname='/System/Library/Fonts/Supplemental/NotoSansMeeteiMayek-Regular.ttf', name='Noto Sans Meetei Mayek', style='normal', variant='normal', weight=400, stretch='normal', size='scalable')) = 10.05\n",
      "DEBUG: 2023-05-31 15:55:23,242 - matplotlib.font_manager - findfont: score(FontEntry(fname='/System/Library/Fonts/Supplemental/NotoSansShavian-Regular.ttf', name='Noto Sans Shavian', style='normal', variant='normal', weight=400, stretch='normal', size='scalable')) = 10.05\n",
      "DEBUG: 2023-05-31 15:55:23,242 - matplotlib.font_manager - findfont: score(FontEntry(fname='/System/Library/Fonts/Supplemental/Diwan Kufi.ttc', name='Diwan Kufi', style='normal', variant='normal', weight=400, stretch='normal', size='scalable')) = 10.05\n",
      "DEBUG: 2023-05-31 15:55:23,243 - matplotlib.font_manager - findfont: score(FontEntry(fname='/System/Library/Fonts/Supplemental/Damascus.ttc', name='Damascus', style='normal', variant='normal', weight=400, stretch='normal', size='scalable')) = 10.05\n",
      "DEBUG: 2023-05-31 15:55:23,243 - matplotlib.font_manager - findfont: score(FontEntry(fname='/System/Library/Fonts/Supplemental/NotoSansInscriptionalPahlavi-Regular.ttf', name='Noto Sans Inscriptional Pahlavi', style='normal', variant='normal', weight=400, stretch='normal', size='scalable')) = 10.05\n",
      "DEBUG: 2023-05-31 15:55:23,243 - matplotlib.font_manager - findfont: score(FontEntry(fname='/System/Library/Fonts/Supplemental/Webdings.ttf', name='Webdings', style='normal', variant='normal', weight=400, stretch='normal', size='scalable')) = 10.05\n",
      "DEBUG: 2023-05-31 15:55:23,243 - matplotlib.font_manager - findfont: score(FontEntry(fname='/System/Library/Fonts/ArialHB.ttc', name='Arial Hebrew', style='normal', variant='normal', weight=400, stretch='normal', size='scalable')) = 10.05\n",
      "DEBUG: 2023-05-31 15:55:23,243 - matplotlib.font_manager - findfont: score(FontEntry(fname='/System/Library/Fonts/SFNSItalic.ttf', name='System Font', style='italic', variant='normal', weight=400, stretch='normal', size='scalable')) = 11.05\n",
      "DEBUG: 2023-05-31 15:55:23,244 - matplotlib.font_manager - findfont: score(FontEntry(fname='/System/Library/Fonts/Supplemental/Arial Bold.ttf', name='Arial', style='normal', variant='normal', weight=700, stretch='normal', size='scalable')) = 6.698636363636363\n"
     ]
    },
    {
     "name": "stdout",
     "output_type": "stream",
     "text": [
      "DEBUG: 2023-05-31 15:55:23,244 - matplotlib.font_manager - findfont: score(FontEntry(fname='/System/Library/Fonts/Supplemental/Impact.ttf', name='Impact', style='normal', variant='normal', weight=400, stretch='normal', size='scalable')) = 10.05\n",
      "DEBUG: 2023-05-31 15:55:23,244 - matplotlib.font_manager - findfont: score(FontEntry(fname='/System/Library/Fonts/Supplemental/NotoSansBuhid-Regular.ttf', name='Noto Sans Buhid', style='normal', variant='normal', weight=400, stretch='normal', size='scalable')) = 10.05\n",
      "DEBUG: 2023-05-31 15:55:23,244 - matplotlib.font_manager - findfont: score(FontEntry(fname='/System/Library/Fonts/Supplemental/KufiStandardGK.ttc', name='KufiStandardGK', style='normal', variant='normal', weight=400, stretch='normal', size='scalable')) = 10.05\n",
      "DEBUG: 2023-05-31 15:55:23,244 - matplotlib.font_manager - findfont: score(FontEntry(fname='/System/Library/Fonts/Supplemental/Arial.ttf', name='Arial', style='normal', variant='normal', weight=400, stretch='normal', size='scalable')) = 6.413636363636363\n",
      "DEBUG: 2023-05-31 15:55:23,245 - matplotlib.font_manager - findfont: score(FontEntry(fname='/System/Library/Fonts/ヒラギノ角ゴシック W1.ttc', name='Hiragino Sans', style='normal', variant='normal', weight=200, stretch='normal', size='scalable')) = 10.24\n",
      "DEBUG: 2023-05-31 15:55:23,245 - matplotlib.font_manager - findfont: score(FontEntry(fname='/System/Library/Fonts/Kohinoor.ttc', name='Kohinoor Devanagari', style='normal', variant='normal', weight=400, stretch='normal', size='scalable')) = 10.05\n",
      "DEBUG: 2023-05-31 15:55:23,245 - matplotlib.font_manager - findfont: score(FontEntry(fname='/System/Library/Fonts/Supplemental/NotoSansTaiTham-Regular.ttf', name='Noto Sans Tai Tham', style='normal', variant='normal', weight=400, stretch='normal', size='scalable')) = 10.05\n",
      "DEBUG: 2023-05-31 15:55:23,245 - matplotlib.font_manager - findfont: score(FontEntry(fname='/System/Library/Fonts/Supplemental/NotoSansSylotiNagri-Regular.ttf', name='Noto Sans Syloti Nagri', style='normal', variant='normal', weight=400, stretch='normal', size='scalable')) = 10.05\n",
      "DEBUG: 2023-05-31 15:55:23,246 - matplotlib.font_manager - findfont: score(FontEntry(fname='/System/Library/Fonts/Supplemental/STIXNonUniBol.otf', name='STIXNonUnicode', style='normal', variant='normal', weight=700, stretch='normal', size='scalable')) = 10.335\n",
      "DEBUG: 2023-05-31 15:55:23,246 - matplotlib.font_manager - findfont: score(FontEntry(fname='/System/Library/Fonts/Supplemental/PTMono.ttc', name='PT Mono', style='normal', variant='normal', weight=700, stretch='normal', size='scalable')) = 10.335\n",
      "DEBUG: 2023-05-31 15:55:23,246 - matplotlib.font_manager - findfont: score(FontEntry(fname='/System/Library/Fonts/Supplemental/Times New Roman.ttf', name='Times New Roman', style='normal', variant='normal', weight=400, stretch='normal', size='scalable')) = 10.05\n",
      "DEBUG: 2023-05-31 15:55:23,246 - matplotlib.font_manager - findfont: score(FontEntry(fname='/System/Library/Fonts/Supplemental/STIXSizFourSymReg.otf', name='STIXSizeFourSym', style='normal', variant='normal', weight=400, stretch='normal', size='scalable')) = 10.05\n",
      "DEBUG: 2023-05-31 15:55:23,247 - matplotlib.font_manager - findfont: score(FontEntry(fname='/System/Library/Fonts/ヒラギノ角ゴシック W7.ttc', name='Hiragino Sans', style='normal', variant='normal', weight=700, stretch='normal', size='scalable')) = 10.335\n",
      "DEBUG: 2023-05-31 15:55:23,247 - matplotlib.font_manager - findfont: score(FontEntry(fname='/System/Library/Fonts/Supplemental/NotoSansTakri-Regular.ttf', name='Noto Sans Takri', style='normal', variant='normal', weight=400, stretch='normal', size='scalable')) = 10.05\n",
      "DEBUG: 2023-05-31 15:55:23,247 - matplotlib.font_manager - findfont: score(FontEntry(fname='/System/Library/Fonts/Supplemental/NotoSansMiao-Regular.ttf', name='Noto Sans Miao', style='normal', variant='normal', weight=400, stretch='normal', size='scalable')) = 10.05\n",
      "DEBUG: 2023-05-31 15:55:23,247 - matplotlib.font_manager - findfont: score(FontEntry(fname='/System/Library/Fonts/Supplemental/Athelas.ttc', name='Athelas', style='normal', variant='normal', weight=400, stretch='normal', size='scalable')) = 10.05\n",
      "DEBUG: 2023-05-31 15:55:23,248 - matplotlib.font_manager - findfont: score(FontEntry(fname='/System/Library/Fonts/Supplemental/Gujarati Sangam MN.ttc', name='Gujarati Sangam MN', style='normal', variant='normal', weight=400, stretch='normal', size='scalable')) = 10.05\n",
      "DEBUG: 2023-05-31 15:55:23,248 - matplotlib.font_manager - findfont: score(FontEntry(fname='/System/Library/Fonts/Supplemental/NotoSansRunic-Regular.ttf', name='Noto Sans Runic', style='normal', variant='normal', weight=400, stretch='normal', size='scalable')) = 10.05\n",
      "DEBUG: 2023-05-31 15:55:23,248 - matplotlib.font_manager - findfont: score(FontEntry(fname='/System/Library/Fonts/Supplemental/SignPainter.ttc', name='SignPainter', style='normal', variant='normal', weight=400, stretch='normal', size='scalable')) = 10.05\n",
      "DEBUG: 2023-05-31 15:55:23,249 - matplotlib.font_manager - findfont: score(FontEntry(fname='/System/Library/Fonts/Supplemental/NotoSansMahajani-Regular.ttf', name='Noto Sans Mahajani', style='normal', variant='normal', weight=400, stretch='normal', size='scalable')) = 10.05\n",
      "DEBUG: 2023-05-31 15:55:23,249 - matplotlib.font_manager - findfont: score(FontEntry(fname='/System/Library/Fonts/Supplemental/NotoSansVai-Regular.ttf', name='Noto Sans Vai', style='normal', variant='normal', weight=400, stretch='normal', size='scalable')) = 10.05\n",
      "DEBUG: 2023-05-31 15:55:23,250 - matplotlib.font_manager - findfont: score(FontEntry(fname='/System/Library/Fonts/Supplemental/ChalkboardSE.ttc', name='Chalkboard SE', style='normal', variant='normal', weight=400, stretch='normal', size='scalable')) = 10.05\n",
      "DEBUG: 2023-05-31 15:55:23,250 - matplotlib.font_manager - findfont: score(FontEntry(fname='/System/Library/Fonts/Supplemental/Corsiva.ttc', name='Corsiva Hebrew', style='normal', variant='normal', weight=400, stretch='normal', size='scalable')) = 10.05\n",
      "DEBUG: 2023-05-31 15:55:23,250 - matplotlib.font_manager - findfont: score(FontEntry(fname='/System/Library/Fonts/Supplemental/NewPeninimMT.ttc', name='New Peninim MT', style='normal', variant='normal', weight=400, stretch='normal', size='scalable')) = 10.05\n",
      "DEBUG: 2023-05-31 15:55:23,250 - matplotlib.font_manager - findfont: score(FontEntry(fname='/System/Library/Fonts/Supplemental/Microsoft Sans Serif.ttf', name='Microsoft Sans Serif', style='normal', variant='normal', weight=400, stretch='normal', size='scalable')) = 10.05\n",
      "DEBUG: 2023-05-31 15:55:23,250 - matplotlib.font_manager - findfont: score(FontEntry(fname='/System/Library/Fonts/Supplemental/Kannada MN.ttc', name='Kannada MN', style='normal', variant='normal', weight=400, stretch='normal', size='scalable')) = 10.05\n",
      "DEBUG: 2023-05-31 15:55:23,251 - matplotlib.font_manager - findfont: score(FontEntry(fname='/System/Library/Fonts/Supplemental/Comic Sans MS.ttf', name='Comic Sans MS', style='normal', variant='normal', weight=400, stretch='normal', size='scalable')) = 10.05\n",
      "DEBUG: 2023-05-31 15:55:23,251 - matplotlib.font_manager - findfont: score(FontEntry(fname='/System/Library/Fonts/Supplemental/Telugu MN.ttc', name='Telugu MN', style='normal', variant='normal', weight=400, stretch='normal', size='scalable')) = 10.05\n",
      "DEBUG: 2023-05-31 15:55:23,251 - matplotlib.font_manager - findfont: score(FontEntry(fname='/System/Library/Fonts/KohinoorGujarati.ttc', name='Kohinoor Gujarati', style='normal', variant='normal', weight=700, stretch='normal', size='scalable')) = 10.335\n",
      "DEBUG: 2023-05-31 15:55:23,251 - matplotlib.font_manager - findfont: score(FontEntry(fname='/System/Library/Fonts/Supplemental/Wingdings 2.ttf', name='Wingdings 2', style='normal', variant='normal', weight=400, stretch='normal', size='scalable')) = 10.05\n",
      "DEBUG: 2023-05-31 15:55:23,252 - matplotlib.font_manager - findfont: score(FontEntry(fname='/System/Library/Fonts/Supplemental/NotoSansWarangCiti-Regular.ttf', name='Noto Sans Warang Citi', style='normal', variant='normal', weight=400, stretch='normal', size='scalable')) = 10.05\n",
      "DEBUG: 2023-05-31 15:55:23,252 - matplotlib.font_manager - findfont: score(FontEntry(fname='/System/Library/Fonts/ヒラギノ明朝 ProN.ttc', name='Hiragino Mincho ProN', style='normal', variant='normal', weight=300, stretch='normal', size='scalable')) = 10.145\n"
     ]
    },
    {
     "name": "stdout",
     "output_type": "stream",
     "text": [
      "DEBUG: 2023-05-31 15:55:23,252 - matplotlib.font_manager - findfont: score(FontEntry(fname='/System/Library/Fonts/Supplemental/Songti.ttc', name='Songti SC', style='normal', variant='normal', weight=900, stretch='normal', size='scalable')) = 10.525\n",
      "DEBUG: 2023-05-31 15:55:23,252 - matplotlib.font_manager - findfont: score(FontEntry(fname='/System/Library/Fonts/Supplemental/Cochin.ttc', name='Cochin', style='normal', variant='normal', weight=500, stretch='normal', size='scalable')) = 10.145\n",
      "DEBUG: 2023-05-31 15:55:23,252 - matplotlib.font_manager - findfont: score(FontEntry(fname='/System/Library/Fonts/Supplemental/NotoSansMeroitic-Regular.ttf', name='Noto Sans Meroitic', style='normal', variant='normal', weight=400, stretch='normal', size='scalable')) = 10.05\n",
      "DEBUG: 2023-05-31 15:55:23,253 - matplotlib.font_manager - findfont: score(FontEntry(fname='/System/Library/Fonts/Supplemental/Oriya Sangam MN.ttc', name='Oriya Sangam MN', style='normal', variant='normal', weight=400, stretch='normal', size='scalable')) = 10.05\n",
      "DEBUG: 2023-05-31 15:55:23,253 - matplotlib.font_manager - findfont: score(FontEntry(fname='/System/Library/Fonts/Supplemental/Devanagari Sangam MN.ttc', name='Devanagari Sangam MN', style='normal', variant='normal', weight=400, stretch='normal', size='scalable')) = 10.05\n",
      "DEBUG: 2023-05-31 15:55:23,253 - matplotlib.font_manager - findfont: score(FontEntry(fname='/System/Library/Fonts/Supplemental/Silom.ttf', name='Silom', style='normal', variant='normal', weight=400, stretch='normal', size='scalable')) = 10.05\n",
      "DEBUG: 2023-05-31 15:55:23,253 - matplotlib.font_manager - findfont: score(FontEntry(fname='/System/Library/Fonts/Supplemental/NotoSansEgyptianHieroglyphs-Regular.ttf', name='Noto Sans Egyptian Hieroglyphs', style='normal', variant='normal', weight=400, stretch='normal', size='scalable')) = 10.05\n",
      "DEBUG: 2023-05-31 15:55:23,253 - matplotlib.font_manager - findfont: score(FontEntry(fname='/System/Library/Fonts/ヒラギノ角ゴシック W0.ttc', name='Hiragino Sans', style='normal', variant='normal', weight=100, stretch='normal', size='scalable')) = 10.335\n",
      "DEBUG: 2023-05-31 15:55:23,254 - matplotlib.font_manager - findfont: score(FontEntry(fname='/System/Library/Fonts/Supplemental/NotoSansTaiLe-Regular.ttf', name='Noto Sans Tai Le', style='normal', variant='normal', weight=400, stretch='normal', size='scalable')) = 10.05\n",
      "DEBUG: 2023-05-31 15:55:23,254 - matplotlib.font_manager - findfont: score(FontEntry(fname='/System/Library/Fonts/Supplemental/Raanana.ttc', name='Raanana', style='normal', variant='normal', weight=400, stretch='normal', size='scalable')) = 10.05\n",
      "DEBUG: 2023-05-31 15:55:23,254 - matplotlib.font_manager - findfont: score(FontEntry(fname='/System/Library/Fonts/Supplemental/STIXSizThreeSymReg.otf', name='STIXSizeThreeSym', style='normal', variant='normal', weight=400, stretch='normal', size='scalable')) = 10.05\n",
      "DEBUG: 2023-05-31 15:55:23,254 - matplotlib.font_manager - findfont: score(FontEntry(fname='/System/Library/Fonts/Supplemental/Phosphate.ttc', name='Phosphate', style='normal', variant='normal', weight=400, stretch='normal', size='scalable')) = 10.05\n",
      "DEBUG: 2023-05-31 15:55:23,254 - matplotlib.font_manager - findfont: score(FontEntry(fname='/System/Library/Fonts/Supplemental/NotoSansBrahmi-Regular.ttf', name='Noto Sans Brahmi', style='normal', variant='normal', weight=400, stretch='normal', size='scalable')) = 10.05\n",
      "DEBUG: 2023-05-31 15:55:23,255 - matplotlib.font_manager - findfont: score(FontEntry(fname='/System/Library/Fonts/Supplemental/Myanmar MN.ttc', name='Myanmar MN', style='normal', variant='normal', weight=400, stretch='normal', size='scalable')) = 10.05\n",
      "DEBUG: 2023-05-31 15:55:23,255 - matplotlib.font_manager - findfont: score(FontEntry(fname='/System/Library/Fonts/ヒラギノ角ゴシック W4.ttc', name='Hiragino Sans', style='normal', variant='normal', weight=400, stretch='normal', size='scalable')) = 10.05\n",
      "DEBUG: 2023-05-31 15:55:23,256 - matplotlib.font_manager - findfont: score(FontEntry(fname='/System/Library/Fonts/Supplemental/Courier New Bold.ttf', name='Courier New', style='normal', variant='normal', weight=700, stretch='normal', size='scalable')) = 10.335\n",
      "DEBUG: 2023-05-31 15:55:23,256 - matplotlib.font_manager - findfont: score(FontEntry(fname='/System/Library/Fonts/Supplemental/NotoSansCarian-Regular.ttf', name='Noto Sans Carian', style='normal', variant='normal', weight=400, stretch='normal', size='scalable')) = 10.05\n",
      "DEBUG: 2023-05-31 15:55:23,256 - matplotlib.font_manager - findfont: score(FontEntry(fname='/System/Library/Fonts/Supplemental/Andale Mono.ttf', name='Andale Mono', style='normal', variant='normal', weight=400, stretch='normal', size='scalable')) = 10.05\n",
      "DEBUG: 2023-05-31 15:55:23,257 - matplotlib.font_manager - findfont: score(FontEntry(fname='/System/Library/Fonts/Supplemental/Tamil MN.ttc', name='Tamil MN', style='normal', variant='normal', weight=400, stretch='normal', size='scalable')) = 10.05\n",
      "DEBUG: 2023-05-31 15:55:23,257 - matplotlib.font_manager - findfont: score(FontEntry(fname='/System/Library/Fonts/Supplemental/STIXIntSmReg.otf', name='STIXIntegralsSm', style='normal', variant='normal', weight=400, stretch='normal', size='scalable')) = 10.05\n",
      "DEBUG: 2023-05-31 15:55:23,257 - matplotlib.font_manager - findfont: score(FontEntry(fname='/System/Library/Fonts/Supplemental/Farisi.ttf', name='Farisi', style='normal', variant='normal', weight=400, stretch='normal', size='scalable')) = 10.05\n",
      "DEBUG: 2023-05-31 15:55:23,258 - matplotlib.font_manager - findfont: score(FontEntry(fname='/System/Library/Fonts/Supplemental/NotoSansMongolian-Regular.ttf', name='Noto Sans Mongolian', style='normal', variant='normal', weight=400, stretch='normal', size='scalable')) = 10.05\n",
      "DEBUG: 2023-05-31 15:55:23,258 - matplotlib.font_manager - findfont: score(FontEntry(fname='/System/Library/Fonts/Supplemental/Farah.ttc', name='Farah', style='normal', variant='normal', weight=400, stretch='normal', size='scalable')) = 10.05\n",
      "DEBUG: 2023-05-31 15:55:23,258 - matplotlib.font_manager - findfont: score(FontEntry(fname='/System/Library/Fonts/Supplemental/Chalkboard.ttc', name='Chalkboard', style='normal', variant='normal', weight=400, stretch='normal', size='scalable')) = 10.05\n",
      "DEBUG: 2023-05-31 15:55:23,258 - matplotlib.font_manager - findfont: score(FontEntry(fname='/System/Library/Fonts/Supplemental/DecoTypeNaskh.ttc', name='DecoType Naskh', style='normal', variant='normal', weight=400, stretch='normal', size='scalable')) = 10.05\n",
      "DEBUG: 2023-05-31 15:55:23,258 - matplotlib.font_manager - findfont: score(FontEntry(fname='/System/Library/Fonts/Supplemental/NotoSansImperialAramaic-Regular.ttf', name='Noto Sans Imperial Aramaic', style='normal', variant='normal', weight=400, stretch='normal', size='scalable')) = 10.05\n",
      "DEBUG: 2023-05-31 15:55:23,259 - matplotlib.font_manager - findfont: score(FontEntry(fname='/System/Library/Fonts/AquaKana.ttc', name='.Aqua Kana', style='normal', variant='normal', weight=300, stretch='normal', size='scalable')) = 10.145\n",
      "DEBUG: 2023-05-31 15:55:23,259 - matplotlib.font_manager - findfont: score(FontEntry(fname='/System/Library/Fonts/Supplemental/Georgia Bold.ttf', name='Georgia', style='normal', variant='normal', weight=700, stretch='normal', size='scalable')) = 10.335\n",
      "DEBUG: 2023-05-31 15:55:23,259 - matplotlib.font_manager - findfont: score(FontEntry(fname='/System/Library/Fonts/ヒラギノ角ゴシック W8.ttc', name='Hiragino Sans', style='normal', variant='normal', weight=800, stretch='normal', size='scalable')) = 10.43\n",
      "DEBUG: 2023-05-31 15:55:23,259 - matplotlib.font_manager - findfont: score(FontEntry(fname='/System/Library/Fonts/Supplemental/Arial Narrow Bold.ttf', name='Arial Narrow', style='normal', variant='normal', weight=700, stretch='condensed', size='scalable')) = 10.535\n",
      "DEBUG: 2023-05-31 15:55:23,259 - matplotlib.font_manager - findfont: score(FontEntry(fname='/System/Library/Fonts/Symbol.ttf', name='Symbol', style='normal', variant='normal', weight=400, stretch='normal', size='scalable')) = 10.05\n",
      "DEBUG: 2023-05-31 15:55:23,259 - matplotlib.font_manager - findfont: score(FontEntry(fname='/System/Library/Fonts/Supplemental/NotoSansYi-Regular.ttf', name='Noto Sans Yi', style='normal', variant='normal', weight=400, stretch='normal', size='scalable')) = 10.05\n"
     ]
    },
    {
     "name": "stdout",
     "output_type": "stream",
     "text": [
      "DEBUG: 2023-05-31 15:55:23,260 - matplotlib.font_manager - findfont: score(FontEntry(fname='/System/Library/Fonts/Supplemental/NotoSansSamaritan-Regular.ttf', name='Noto Sans Samaritan', style='normal', variant='normal', weight=400, stretch='normal', size='scalable')) = 10.05\n",
      "DEBUG: 2023-05-31 15:55:23,260 - matplotlib.font_manager - findfont: score(FontEntry(fname='/System/Library/Fonts/Supplemental/Times New Roman Bold.ttf', name='Times New Roman', style='normal', variant='normal', weight=700, stretch='normal', size='scalable')) = 10.335\n",
      "DEBUG: 2023-05-31 15:55:23,260 - matplotlib.font_manager - findfont: score(FontEntry(fname='/System/Library/Fonts/Supplemental/BigCaslon.ttf', name='Big Caslon', style='normal', variant='normal', weight=500, stretch='normal', size='scalable')) = 10.145\n",
      "DEBUG: 2023-05-31 15:55:23,260 - matplotlib.font_manager - findfont: score(FontEntry(fname='/System/Library/Fonts/Supplemental/NotoSansPhoenician-Regular.ttf', name='Noto Sans Phoenician', style='normal', variant='normal', weight=400, stretch='normal', size='scalable')) = 10.05\n",
      "DEBUG: 2023-05-31 15:55:23,260 - matplotlib.font_manager - findfont: score(FontEntry(fname='/System/Library/Fonts/Supplemental/NotoSansTirhuta-Regular.ttf', name='Noto Sans Tirhuta', style='normal', variant='normal', weight=400, stretch='normal', size='scalable')) = 10.05\n",
      "DEBUG: 2023-05-31 15:55:23,261 - matplotlib.font_manager - findfont: score(FontEntry(fname='/System/Library/Fonts/Supplemental/Bodoni Ornaments.ttf', name='Bodoni Ornaments', style='normal', variant='normal', weight=400, stretch='normal', size='scalable')) = 10.05\n",
      "DEBUG: 2023-05-31 15:55:23,261 - matplotlib.font_manager - findfont: score(FontEntry(fname='/System/Library/Fonts/Supplemental/NotoSansUgaritic-Regular.ttf', name='Noto Sans Ugaritic', style='normal', variant='normal', weight=400, stretch='normal', size='scalable')) = 10.05\n",
      "DEBUG: 2023-05-31 15:55:23,261 - matplotlib.font_manager - findfont: score(FontEntry(fname='/System/Library/Fonts/Supplemental/NotoSansLydian-Regular.ttf', name='Noto Sans Lydian', style='normal', variant='normal', weight=400, stretch='normal', size='scalable')) = 10.05\n",
      "DEBUG: 2023-05-31 15:55:23,261 - matplotlib.font_manager - findfont: score(FontEntry(fname='/System/Library/Fonts/Supplemental/NotoSerifAhom-Regular.ttf', name='Noto Serif Ahom', style='normal', variant='normal', weight=400, stretch='normal', size='scalable')) = 10.05\n",
      "DEBUG: 2023-05-31 15:55:23,261 - matplotlib.font_manager - findfont: score(FontEntry(fname='/System/Library/Fonts/Supplemental/Brush Script.ttf', name='Brush Script MT', style='italic', variant='normal', weight=400, stretch='normal', size='scalable')) = 11.05\n",
      "DEBUG: 2023-05-31 15:55:23,262 - matplotlib.font_manager - findfont: score(FontEntry(fname='/System/Library/Fonts/Supplemental/Didot.ttc', name='Didot', style='normal', variant='normal', weight=400, stretch='normal', size='scalable')) = 10.05\n",
      "DEBUG: 2023-05-31 15:55:23,262 - matplotlib.font_manager - findfont: score(FontEntry(fname='/System/Library/Fonts/SFCompactRounded.ttf', name='.SF Compact Rounded', style='normal', variant='normal', weight=400, stretch='normal', size='scalable')) = 10.05\n",
      "DEBUG: 2023-05-31 15:55:23,262 - matplotlib.font_manager - findfont: score(FontEntry(fname='/System/Library/Fonts/Supplemental/NotoSansMarchen-Regular.ttf', name='Noto Sans Marchen', style='normal', variant='normal', weight=400, stretch='normal', size='scalable')) = 10.05\n",
      "DEBUG: 2023-05-31 15:55:23,262 - matplotlib.font_manager - findfont: score(FontEntry(fname='/System/Library/Fonts/Supplemental/NotoSansLinearA-Regular.ttf', name='Noto Sans Linear A', style='normal', variant='normal', weight=400, stretch='normal', size='scalable')) = 10.05\n",
      "DEBUG: 2023-05-31 15:55:23,262 - matplotlib.font_manager - findfont: score(FontEntry(fname='/System/Library/Fonts/Supplemental/NotoSansMandaic-Regular.ttf', name='Noto Sans Mandaic', style='normal', variant='normal', weight=400, stretch='normal', size='scalable')) = 10.05\n",
      "DEBUG: 2023-05-31 15:55:23,263 - matplotlib.font_manager - findfont: score(FontEntry(fname='/System/Library/Fonts/Supplemental/Chalkduster.ttf', name='Chalkduster', style='normal', variant='normal', weight=400, stretch='normal', size='scalable')) = 10.05\n",
      "DEBUG: 2023-05-31 15:55:23,263 - matplotlib.font_manager - findfont: score(FontEntry(fname='/System/Library/Fonts/Supplemental/GujaratiMT.ttc', name='Gujarati MT', style='normal', variant='normal', weight=400, stretch='normal', size='scalable')) = 10.05\n",
      "DEBUG: 2023-05-31 15:55:23,263 - matplotlib.font_manager - findfont: score(FontEntry(fname='/System/Library/Fonts/Supplemental/Shree714.ttc', name='Shree Devanagari 714', style='normal', variant='normal', weight=400, stretch='normal', size='scalable')) = 10.05\n",
      "DEBUG: 2023-05-31 15:55:23,263 - matplotlib.font_manager - findfont: score(FontEntry(fname='/System/Library/Fonts/Supplemental/Arial Black.ttf', name='Arial Black', style='normal', variant='normal', weight=900, stretch='normal', size='scalable')) = 10.525\n",
      "DEBUG: 2023-05-31 15:55:23,264 - matplotlib.font_manager - findfont: score(FontEntry(fname='/System/Library/Fonts/Supplemental/NotoSansBassaVah-Regular.ttf', name='Noto Sans Bassa Vah', style='normal', variant='normal', weight=400, stretch='normal', size='scalable')) = 10.05\n",
      "DEBUG: 2023-05-31 15:55:23,264 - matplotlib.font_manager - findfont: score(FontEntry(fname='/System/Library/Fonts/Supplemental/NotoSansLisu-Regular.ttf', name='Noto Sans Lisu', style='normal', variant='normal', weight=400, stretch='normal', size='scalable')) = 10.05\n",
      "DEBUG: 2023-05-31 15:55:23,264 - matplotlib.font_manager - findfont: score(FontEntry(fname='/System/Library/Fonts/Supplemental/Wingdings.ttf', name='Wingdings', style='normal', variant='normal', weight=400, stretch='normal', size='scalable')) = 10.05\n",
      "DEBUG: 2023-05-31 15:55:23,264 - matplotlib.font_manager - findfont: score(FontEntry(fname='/System/Library/Fonts/Thonburi.ttc', name='Thonburi', style='normal', variant='normal', weight=400, stretch='normal', size='scalable')) = 10.05\n",
      "DEBUG: 2023-05-31 15:55:23,264 - matplotlib.font_manager - findfont: score(FontEntry(fname='/System/Library/Fonts/Supplemental/NotoSansOldTurkic-Regular.ttf', name='Noto Sans Old Turkic', style='normal', variant='normal', weight=400, stretch='normal', size='scalable')) = 10.05\n",
      "DEBUG: 2023-05-31 15:55:23,265 - matplotlib.font_manager - findfont: score(FontEntry(fname='/System/Library/Fonts/Supplemental/STIXIntUpReg.otf', name='STIXIntegralsUp', style='normal', variant='normal', weight=400, stretch='normal', size='scalable')) = 10.05\n",
      "DEBUG: 2023-05-31 15:55:23,265 - matplotlib.font_manager - findfont: score(FontEntry(fname='/System/Library/Fonts/Supplemental/Verdana Bold Italic.ttf', name='Verdana', style='italic', variant='normal', weight=700, stretch='normal', size='scalable')) = 4.971363636363637\n",
      "DEBUG: 2023-05-31 15:55:23,266 - matplotlib.font_manager - findfont: score(FontEntry(fname='/System/Library/Fonts/Menlo.ttc', name='Menlo', style='normal', variant='normal', weight=400, stretch='normal', size='scalable')) = 10.05\n",
      "DEBUG: 2023-05-31 15:55:23,266 - matplotlib.font_manager - findfont: score(FontEntry(fname='/System/Library/Fonts/Apple Braille Outline 8 Dot.ttf', name='Apple Braille', style='normal', variant='normal', weight=400, stretch='normal', size='scalable')) = 10.05\n",
      "DEBUG: 2023-05-31 15:55:23,267 - matplotlib.font_manager - findfont: score(FontEntry(fname='/System/Library/Fonts/Supplemental/Galvji.ttc', name='Galvji', style='normal', variant='normal', weight=400, stretch='normal', size='scalable')) = 10.05\n",
      "DEBUG: 2023-05-31 15:55:23,267 - matplotlib.font_manager - findfont: score(FontEntry(fname='/System/Library/Fonts/Helvetica.ttc', name='Helvetica', style='normal', variant='normal', weight=400, stretch='normal', size='scalable')) = 7.322727272727273\n",
      "DEBUG: 2023-05-31 15:55:23,268 - matplotlib.font_manager - findfont: score(FontEntry(fname='/System/Library/Fonts/Supplemental/NotoSansHatran-Regular.ttf', name='Noto Sans Hatran', style='normal', variant='normal', weight=400, stretch='normal', size='scalable')) = 10.05\n",
      "DEBUG: 2023-05-31 15:55:23,268 - matplotlib.font_manager - findfont: score(FontEntry(fname='/System/Library/Fonts/SFNSMono.ttf', name='.SF NS Mono', style='normal', variant='normal', weight=295, stretch='normal', size='scalable')) = 10.14975\n"
     ]
    },
    {
     "name": "stdout",
     "output_type": "stream",
     "text": [
      "DEBUG: 2023-05-31 15:55:23,268 - matplotlib.font_manager - findfont: score(FontEntry(fname='/System/Library/Fonts/Supplemental/NotoSansLycian-Regular.ttf', name='Noto Sans Lycian', style='normal', variant='normal', weight=400, stretch='normal', size='scalable')) = 10.05\n",
      "DEBUG: 2023-05-31 15:55:23,269 - matplotlib.font_manager - findfont: score(FontEntry(fname='/System/Library/Fonts/Supplemental/Kailasa.ttc', name='Kailasa', style='normal', variant='normal', weight=400, stretch='normal', size='scalable')) = 10.05\n",
      "DEBUG: 2023-05-31 15:55:23,269 - matplotlib.font_manager - findfont: score(FontEntry(fname='/System/Library/Fonts/Supplemental/NotoSansHanifiRohingya-Regular.ttf', name='Noto Sans Hanifi Rohingya', style='normal', variant='normal', weight=400, stretch='normal', size='scalable')) = 10.05\n",
      "DEBUG: 2023-05-31 15:55:23,269 - matplotlib.font_manager - findfont: score(FontEntry(fname='/System/Library/Fonts/Supplemental/NotoSansPauCinHau-Regular.ttf', name='Noto Sans Pau Cin Hau', style='normal', variant='normal', weight=400, stretch='normal', size='scalable')) = 10.05\n",
      "DEBUG: 2023-05-31 15:55:23,269 - matplotlib.font_manager - findfont: score(FontEntry(fname='/System/Library/Fonts/Supplemental/STIXIntSmBol.otf', name='STIXIntegralsSm', style='normal', variant='normal', weight=700, stretch='normal', size='scalable')) = 10.335\n",
      "DEBUG: 2023-05-31 15:55:23,269 - matplotlib.font_manager - findfont: score(FontEntry(fname='/System/Library/Fonts/ヒラギノ角ゴシック W3.ttc', name='Hiragino Sans', style='normal', variant='normal', weight=300, stretch='normal', size='scalable')) = 10.145\n",
      "DEBUG: 2023-05-31 15:55:23,270 - matplotlib.font_manager - findfont: score(FontEntry(fname='/System/Library/Fonts/Supplemental/Trebuchet MS.ttf', name='Trebuchet MS', style='normal', variant='normal', weight=400, stretch='normal', size='scalable')) = 10.05\n",
      "DEBUG: 2023-05-31 15:55:23,271 - matplotlib.font_manager - findfont: score(FontEntry(fname='/System/Library/Fonts/Supplemental/Papyrus.ttc', name='Papyrus', style='normal', variant='normal', weight=400, stretch='condensed', size='scalable')) = 10.25\n",
      "DEBUG: 2023-05-31 15:55:23,271 - matplotlib.font_manager - findfont: score(FontEntry(fname='/System/Library/Fonts/Supplemental/NotoSansSiddham-Regular.ttf', name='Noto Sans Siddham', style='normal', variant='normal', weight=400, stretch='normal', size='scalable')) = 10.05\n",
      "DEBUG: 2023-05-31 15:55:23,271 - matplotlib.font_manager - findfont: score(FontEntry(fname='/System/Library/Fonts/Apple Braille.ttf', name='Apple Braille', style='normal', variant='normal', weight=400, stretch='normal', size='scalable')) = 10.05\n",
      "DEBUG: 2023-05-31 15:55:23,272 - matplotlib.font_manager - findfont: score(FontEntry(fname='/System/Library/Fonts/Supplemental/STIXSizTwoSymReg.otf', name='STIXSizeTwoSym', style='normal', variant='normal', weight=400, stretch='normal', size='scalable')) = 10.05\n",
      "DEBUG: 2023-05-31 15:55:23,272 - matplotlib.font_manager - findfont: score(FontEntry(fname='/System/Library/Fonts/Supplemental/Sathu.ttf', name='Sathu', style='normal', variant='normal', weight=400, stretch='normal', size='scalable')) = 10.05\n",
      "DEBUG: 2023-05-31 15:55:23,272 - matplotlib.font_manager - findfont: score(FontEntry(fname='/System/Library/Fonts/Supplemental/NotoSansOsmanya-Regular.ttf', name='Noto Sans Osmanya', style='normal', variant='normal', weight=400, stretch='normal', size='scalable')) = 10.05\n",
      "DEBUG: 2023-05-31 15:55:23,272 - matplotlib.font_manager - findfont: score(FontEntry(fname='/System/Library/Fonts/Supplemental/Georgia Italic.ttf', name='Georgia', style='italic', variant='normal', weight=400, stretch='normal', size='scalable')) = 11.05\n",
      "DEBUG: 2023-05-31 15:55:23,272 - matplotlib.font_manager - findfont: score(FontEntry(fname='/System/Library/Fonts/Supplemental/Tahoma Bold.ttf', name='Tahoma', style='normal', variant='normal', weight=700, stretch='normal', size='scalable')) = 10.335\n",
      "DEBUG: 2023-05-31 15:55:23,273 - matplotlib.font_manager - findfont: score(FontEntry(fname='/System/Library/Fonts/Supplemental/Waseem.ttc', name='Waseem', style='normal', variant='normal', weight=400, stretch='normal', size='scalable')) = 10.05\n",
      "DEBUG: 2023-05-31 15:55:23,273 - matplotlib.font_manager - findfont: score(FontEntry(fname='/System/Library/Fonts/Supplemental/DevanagariMT.ttc', name='Devanagari MT', style='normal', variant='normal', weight=400, stretch='normal', size='scalable')) = 10.05\n",
      "DEBUG: 2023-05-31 15:55:23,273 - matplotlib.font_manager - findfont: score(FontEntry(fname='/System/Library/Fonts/Supplemental/Courier New Bold Italic.ttf', name='Courier New', style='italic', variant='normal', weight=700, stretch='normal', size='scalable')) = 11.335\n",
      "DEBUG: 2023-05-31 15:55:23,273 - matplotlib.font_manager - findfont: score(FontEntry(fname='/System/Library/Fonts/Supplemental/Muna.ttc', name='Muna', style='normal', variant='normal', weight=400, stretch='normal', size='scalable')) = 10.05\n",
      "DEBUG: 2023-05-31 15:55:23,273 - matplotlib.font_manager - findfont: score(FontEntry(fname='/System/Library/Fonts/Supplemental/Georgia Bold Italic.ttf', name='Georgia', style='italic', variant='normal', weight=700, stretch='normal', size='scalable')) = 11.335\n",
      "DEBUG: 2023-05-31 15:55:23,274 - matplotlib.font_manager - findfont: score(FontEntry(fname='/System/Library/Fonts/Supplemental/NotoSansOsage-Regular.ttf', name='Noto Sans Osage', style='normal', variant='normal', weight=400, stretch='normal', size='scalable')) = 10.05\n",
      "DEBUG: 2023-05-31 15:55:23,274 - matplotlib.font_manager - findfont: score(FontEntry(fname='/System/Library/Fonts/Supplemental/NotoSansGothic-Regular.ttf', name='Noto Sans Gothic', style='normal', variant='normal', weight=400, stretch='normal', size='scalable')) = 10.05\n",
      "DEBUG: 2023-05-31 15:55:23,274 - matplotlib.font_manager - findfont: score(FontEntry(fname='/System/Library/Fonts/NotoSansArmenian.ttc', name='Noto Sans Armenian', style='normal', variant='normal', weight=900, stretch='normal', size='scalable')) = 10.525\n",
      "DEBUG: 2023-05-31 15:55:23,274 - matplotlib.font_manager - findfont: score(FontEntry(fname='/System/Library/Fonts/Supplemental/Krungthep.ttf', name='Krungthep', style='normal', variant='normal', weight=400, stretch='normal', size='scalable')) = 10.05\n",
      "DEBUG: 2023-05-31 15:55:23,275 - matplotlib.font_manager - findfont: score(FontEntry(fname='/System/Library/Fonts/Supplemental/Bodoni 72 OS.ttc', name='Bodoni 72 Oldstyle', style='normal', variant='normal', weight=400, stretch='normal', size='scalable')) = 10.05\n",
      "DEBUG: 2023-05-31 15:55:23,275 - matplotlib.font_manager - findfont: score(FontEntry(fname='/System/Library/Fonts/Supplemental/Arial Bold Italic.ttf', name='Arial', style='italic', variant='normal', weight=700, stretch='normal', size='scalable')) = 7.698636363636363\n",
      "DEBUG: 2023-05-31 15:55:23,275 - matplotlib.font_manager - findfont: score(FontEntry(fname='/System/Library/Fonts/Supplemental/Beirut.ttc', name='Beirut', style='normal', variant='normal', weight=700, stretch='normal', size='scalable')) = 10.335\n",
      "DEBUG: 2023-05-31 15:55:23,275 - matplotlib.font_manager - findfont: score(FontEntry(fname='/System/Library/Fonts/NotoSansKannada.ttc', name='Noto Sans Kannada', style='normal', variant='normal', weight=900, stretch='normal', size='scalable')) = 10.525\n",
      "DEBUG: 2023-05-31 15:55:23,275 - matplotlib.font_manager - findfont: score(FontEntry(fname='/System/Library/Fonts/Supplemental/Courier New.ttf', name='Courier New', style='normal', variant='normal', weight=400, stretch='normal', size='scalable')) = 10.05\n",
      "DEBUG: 2023-05-31 15:55:23,275 - matplotlib.font_manager - findfont: score(FontEntry(fname='/System/Library/Fonts/Supplemental/Tahoma.ttf', name='Tahoma', style='normal', variant='normal', weight=400, stretch='normal', size='scalable')) = 10.05\n",
      "DEBUG: 2023-05-31 15:55:23,276 - matplotlib.font_manager - findfont: score(FontEntry(fname='/System/Library/Fonts/Supplemental/NotoSansCaucasianAlbanian-Regular.ttf', name='Noto Sans Caucasian Albanian', style='normal', variant='normal', weight=400, stretch='normal', size='scalable')) = 10.05\n",
      "DEBUG: 2023-05-31 15:55:23,276 - matplotlib.font_manager - findfont: score(FontEntry(fname='/System/Library/Fonts/Supplemental/NotoSansAvestan-Regular.ttf', name='Noto Sans Avestan', style='normal', variant='normal', weight=400, stretch='normal', size='scalable')) = 10.05\n"
     ]
    },
    {
     "name": "stdout",
     "output_type": "stream",
     "text": [
      "DEBUG: 2023-05-31 15:55:23,276 - matplotlib.font_manager - findfont: score(FontEntry(fname='/System/Library/Fonts/LucidaGrande.ttc', name='Lucida Grande', style='normal', variant='normal', weight=500, stretch='normal', size='scalable')) = 2.872272727272727\n",
      "DEBUG: 2023-05-31 15:55:23,276 - matplotlib.font_manager - findfont: score(FontEntry(fname='/System/Library/Fonts/Supplemental/NotoSansSundanese-Regular.ttf', name='Noto Sans Sundanese', style='normal', variant='normal', weight=400, stretch='normal', size='scalable')) = 10.05\n",
      "DEBUG: 2023-05-31 15:55:23,277 - matplotlib.font_manager - findfont: score(FontEntry(fname='/System/Library/Fonts/Supplemental/Gurmukhi MN.ttc', name='Gurmukhi MN', style='normal', variant='normal', weight=400, stretch='normal', size='scalable')) = 10.05\n",
      "DEBUG: 2023-05-31 15:55:23,277 - matplotlib.font_manager - findfont: score(FontEntry(fname='/System/Library/Fonts/Supplemental/STIXGeneralBolIta.otf', name='STIXGeneral', style='italic', variant='normal', weight=700, stretch='normal', size='scalable')) = 11.335\n",
      "DEBUG: 2023-05-31 15:55:23,277 - matplotlib.font_manager - findfont: score(FontEntry(fname='/System/Library/Fonts/Supplemental/NotoSerifBalinese-Regular.ttf', name='Noto Serif Balinese', style='normal', variant='normal', weight=400, stretch='normal', size='scalable')) = 10.05\n",
      "DEBUG: 2023-05-31 15:55:23,277 - matplotlib.font_manager - findfont: score(FontEntry(fname='/System/Library/Fonts/NotoSansOriya.ttc', name='Noto Sans Oriya', style='normal', variant='normal', weight=400, stretch='normal', size='scalable')) = 10.05\n",
      "DEBUG: 2023-05-31 15:55:23,277 - matplotlib.font_manager - findfont: score(FontEntry(fname='/System/Library/Fonts/Supplemental/STIXSizTwoSymBol.otf', name='STIXSizeTwoSym', style='normal', variant='normal', weight=700, stretch='normal', size='scalable')) = 10.335\n",
      "DEBUG: 2023-05-31 15:55:23,278 - matplotlib.font_manager - findfont: score(FontEntry(fname='/System/Library/Fonts/Supplemental/Times New Roman Bold Italic.ttf', name='Times New Roman', style='italic', variant='normal', weight=700, stretch='normal', size='scalable')) = 11.335\n",
      "DEBUG: 2023-05-31 15:55:23,278 - matplotlib.font_manager - findfont: score(FontEntry(fname='/System/Library/Fonts/Apple Symbols.ttf', name='Apple Symbols', style='normal', variant='normal', weight=400, stretch='normal', size='scalable')) = 10.05\n",
      "DEBUG: 2023-05-31 15:55:23,278 - matplotlib.font_manager - findfont: score(FontEntry(fname='/System/Library/Fonts/Supplemental/Myanmar Sangam MN.ttc', name='Myanmar Sangam MN', style='normal', variant='normal', weight=400, stretch='normal', size='scalable')) = 10.05\n",
      "DEBUG: 2023-05-31 15:55:23,278 - matplotlib.font_manager - findfont: score(FontEntry(fname='/System/Library/Fonts/Supplemental/STIXNonUni.otf', name='STIXNonUnicode', style='normal', variant='normal', weight=400, stretch='normal', size='scalable')) = 10.05\n",
      "DEBUG: 2023-05-31 15:55:23,279 - matplotlib.font_manager - findfont: score(FontEntry(fname='/System/Library/Fonts/Supplemental/Wingdings 3.ttf', name='Wingdings 3', style='normal', variant='normal', weight=400, stretch='normal', size='scalable')) = 10.05\n",
      "DEBUG: 2023-05-31 15:55:23,280 - matplotlib.font_manager - findfont: score(FontEntry(fname='/System/Library/Fonts/Supplemental/Copperplate.ttc', name='Copperplate', style='normal', variant='normal', weight=400, stretch='normal', size='scalable')) = 10.05\n",
      "DEBUG: 2023-05-31 15:55:23,280 - matplotlib.font_manager - findfont: score(FontEntry(fname='/System/Library/Fonts/Supplemental/NotoSansChakma-Regular.ttf', name='Noto Sans Chakma', style='normal', variant='normal', weight=400, stretch='normal', size='scalable')) = 10.05\n",
      "DEBUG: 2023-05-31 15:55:23,282 - matplotlib.font_manager - findfont: score(FontEntry(fname='/System/Library/Fonts/Supplemental/Oriya MN.ttc', name='Oriya MN', style='normal', variant='normal', weight=400, stretch='normal', size='scalable')) = 10.05\n",
      "DEBUG: 2023-05-31 15:55:23,282 - matplotlib.font_manager - findfont: score(FontEntry(fname='/System/Library/Fonts/Supplemental/STIXIntUpSmReg.otf', name='STIXIntegralsUpSm', style='normal', variant='normal', weight=400, stretch='normal', size='scalable')) = 10.05\n",
      "DEBUG: 2023-05-31 15:55:23,282 - matplotlib.font_manager - findfont: score(FontEntry(fname='/System/Library/Fonts/Supplemental/Bodoni 72.ttc', name='Bodoni 72', style='normal', variant='normal', weight=400, stretch='normal', size='scalable')) = 10.05\n",
      "DEBUG: 2023-05-31 15:55:23,283 - matplotlib.font_manager - findfont: score(FontEntry(fname='/System/Library/Fonts/Supplemental/NotoSansRejang-Regular.ttf', name='Noto Sans Rejang', style='normal', variant='normal', weight=400, stretch='normal', size='scalable')) = 10.05\n",
      "DEBUG: 2023-05-31 15:55:23,283 - matplotlib.font_manager - findfont: score(FontEntry(fname='/System/Library/Fonts/Supplemental/Bodoni 72 Smallcaps Book.ttf', name='Bodoni 72 Smallcaps', style='normal', variant='normal', weight=400, stretch='normal', size='scalable')) = 10.05\n",
      "DEBUG: 2023-05-31 15:55:23,283 - matplotlib.font_manager - findfont: score(FontEntry(fname='/System/Library/Fonts/Supplemental/STIXSizFiveSymReg.otf', name='STIXSizeFiveSym', style='normal', variant='normal', weight=400, stretch='normal', size='scalable')) = 10.05\n",
      "DEBUG: 2023-05-31 15:55:23,283 - matplotlib.font_manager - findfont: score(FontEntry(fname='/System/Library/Fonts/SFCompact.ttf', name='.SF Compact', style='normal', variant='normal', weight=1000, stretch='normal', size='scalable')) = 10.62\n",
      "DEBUG: 2023-05-31 15:55:23,284 - matplotlib.font_manager - findfont: score(FontEntry(fname='/System/Library/Fonts/Avenir.ttc', name='Avenir', style='normal', variant='normal', weight=400, stretch='normal', size='scalable')) = 10.05\n",
      "DEBUG: 2023-05-31 15:55:23,284 - matplotlib.font_manager - findfont: score(FontEntry(fname='/System/Library/Fonts/Supplemental/DIN Condensed Bold.ttf', name='DIN Condensed', style='normal', variant='normal', weight=700, stretch='condensed', size='scalable')) = 10.535\n",
      "DEBUG: 2023-05-31 15:55:23,284 - matplotlib.font_manager - findfont: score(FontEntry(fname='/System/Library/Fonts/Supplemental/NotoSansKhojki-Regular.ttf', name='Noto Sans Khojki', style='normal', variant='normal', weight=400, stretch='normal', size='scalable')) = 10.05\n",
      "DEBUG: 2023-05-31 15:55:23,284 - matplotlib.font_manager - findfont: score(FontEntry(fname='/System/Library/Fonts/Supplemental/Baghdad.ttc', name='Baghdad', style='normal', variant='normal', weight=400, stretch='normal', size='scalable')) = 10.05\n",
      "DEBUG: 2023-05-31 15:55:23,284 - matplotlib.font_manager - findfont: score(FontEntry(fname='/System/Library/Fonts/Supplemental/Times New Roman Italic.ttf', name='Times New Roman', style='italic', variant='normal', weight=400, stretch='normal', size='scalable')) = 11.05\n",
      "DEBUG: 2023-05-31 15:55:23,285 - matplotlib.font_manager - findfont: score(FontEntry(fname='/System/Library/Fonts/Supplemental/NotoSansPahawhHmong-Regular.ttf', name='Noto Sans Pahawh Hmong', style='normal', variant='normal', weight=400, stretch='normal', size='scalable')) = 10.05\n",
      "DEBUG: 2023-05-31 15:55:23,285 - matplotlib.font_manager - findfont: score(FontEntry(fname='/System/Library/Fonts/Supplemental/NotoSansDuployan-Regular.ttf', name='Noto Sans Duployan', style='normal', variant='normal', weight=400, stretch='normal', size='scalable')) = 10.05\n",
      "DEBUG: 2023-05-31 15:55:23,285 - matplotlib.font_manager - findfont: score(FontEntry(fname='/System/Library/Fonts/Supplemental/Telugu Sangam MN.ttc', name='Telugu Sangam MN', style='normal', variant='normal', weight=400, stretch='normal', size='scalable')) = 10.05\n",
      "DEBUG: 2023-05-31 15:55:23,285 - matplotlib.font_manager - findfont: score(FontEntry(fname='/System/Library/Fonts/Supplemental/ITFDevanagari.ttc', name='ITF Devanagari', style='normal', variant='normal', weight=400, stretch='normal', size='scalable')) = 10.05\n",
      "DEBUG: 2023-05-31 15:55:23,286 - matplotlib.font_manager - findfont: score(FontEntry(fname='/System/Library/Fonts/Supplemental/NotoSansWancho-Regular.ttf', name='Noto Sans Wancho', style='normal', variant='normal', weight=400, stretch='normal', size='scalable')) = 10.05\n",
      "DEBUG: 2023-05-31 15:55:23,287 - matplotlib.font_manager - findfont: score(FontEntry(fname='/System/Library/Fonts/Supplemental/NotoSansOldPermic-Regular.ttf', name='Noto Sans Old Permic', style='normal', variant='normal', weight=400, stretch='normal', size='scalable')) = 10.05\n"
     ]
    },
    {
     "name": "stdout",
     "output_type": "stream",
     "text": [
      "DEBUG: 2023-05-31 15:55:23,287 - matplotlib.font_manager - findfont: score(FontEntry(fname='/System/Library/Fonts/Supplemental/NotoSansManichaean-Regular.ttf', name='Noto Sans Manichaean', style='normal', variant='normal', weight=400, stretch='normal', size='scalable')) = 10.05\n",
      "DEBUG: 2023-05-31 15:55:23,287 - matplotlib.font_manager - findfont: score(FontEntry(fname='/System/Library/Fonts/Supplemental/Gurmukhi Sangam MN.ttc', name='Gurmukhi Sangam MN', style='normal', variant='normal', weight=400, stretch='normal', size='scalable')) = 10.05\n",
      "DEBUG: 2023-05-31 15:55:23,288 - matplotlib.font_manager - findfont: score(FontEntry(fname='/System/Library/Fonts/SFNSMonoItalic.ttf', name='.SF NS Mono', style='italic', variant='normal', weight=295, stretch='normal', size='scalable')) = 11.14975\n",
      "DEBUG: 2023-05-31 15:55:23,288 - matplotlib.font_manager - findfont: score(FontEntry(fname='/System/Library/Fonts/Supplemental/STIXIntDReg.otf', name='STIXIntegralsD', style='normal', variant='normal', weight=400, stretch='normal', size='scalable')) = 10.05\n",
      "DEBUG: 2023-05-31 15:55:23,288 - matplotlib.font_manager - findfont: score(FontEntry(fname='/System/Library/Fonts/Supplemental/NotoSansPalmyrene-Regular.ttf', name='Noto Sans Palmyrene', style='normal', variant='normal', weight=400, stretch='normal', size='scalable')) = 10.05\n",
      "DEBUG: 2023-05-31 15:55:23,288 - matplotlib.font_manager - findfont: score(FontEntry(fname='/System/Library/Fonts/Supplemental/NotoSansTagalog-Regular.ttf', name='Noto Sans Tagalog', style='normal', variant='normal', weight=400, stretch='normal', size='scalable')) = 10.05\n",
      "DEBUG: 2023-05-31 15:55:23,288 - matplotlib.font_manager - findfont: score(FontEntry(fname='/System/Library/Fonts/Supplemental/EuphemiaCAS.ttc', name='Euphemia UCAS', style='normal', variant='normal', weight=400, stretch='normal', size='scalable')) = 10.05\n",
      "DEBUG: 2023-05-31 15:55:23,289 - matplotlib.font_manager - findfont: score(FontEntry(fname='/System/Library/Fonts/Supplemental/Courier New Italic.ttf', name='Courier New', style='italic', variant='normal', weight=400, stretch='normal', size='scalable')) = 11.05\n",
      "DEBUG: 2023-05-31 15:55:23,289 - matplotlib.font_manager - findfont: score(FontEntry(fname='/System/Library/Fonts/Supplemental/Zapfino.ttf', name='Zapfino', style='normal', variant='normal', weight=400, stretch='normal', size='scalable')) = 10.05\n",
      "DEBUG: 2023-05-31 15:55:23,289 - matplotlib.font_manager - findfont: score(FontEntry(fname='/System/Library/Fonts/Supplemental/STIXNonUniBolIta.otf', name='STIXNonUnicode', style='italic', variant='normal', weight=700, stretch='normal', size='scalable')) = 11.335\n",
      "DEBUG: 2023-05-31 15:55:23,289 - matplotlib.font_manager - findfont: score(FontEntry(fname='/System/Library/Fonts/Supplemental/STIXSizOneSymBol.otf', name='STIXSizeOneSym', style='normal', variant='normal', weight=700, stretch='normal', size='scalable')) = 10.335\n",
      "DEBUG: 2023-05-31 15:55:23,289 - matplotlib.font_manager - findfont: score(FontEntry(fname='/System/Library/Fonts/Supplemental/NotoSansTifinagh-Regular.ttf', name='Noto Sans Tifinagh', style='normal', variant='normal', weight=400, stretch='normal', size='scalable')) = 10.05\n",
      "DEBUG: 2023-05-31 15:55:23,290 - matplotlib.font_manager - findfont: Matching sans\\-serif:style=normal:variant=normal:weight=normal:stretch=normal:size=10.0 to DejaVu Sans ('/Users/flaminia/mambaforge/lib/python3.9/site-packages/matplotlib/mpl-data/fonts/ttf/DejaVuSans.ttf') with score of 0.050000.\n"
     ]
    },
    {
     "data": {
      "text/plain": [
       "[<matplotlib.lines.Line2D at 0x14765b7f0>]"
      ]
     },
     "execution_count": 60,
     "metadata": {},
     "output_type": "execute_result"
    },
    {
     "data": {
      "image/png": "[encoded data removed]",
      "text/plain": [
       "<Figure size 432x288 with 1 Axes>"
      ]
     },
     "metadata": {
      "needs_background": "light"
     },
     "output_type": "display_data"
    }
   ],
   "source": [
    "from matplotlib import pyplot as plt\n",
    "plt.plot(mat)"
   ]
  },
  {
   "cell_type": "code",
   "execution_count": 61,
   "id": "70bc81a3",
   "metadata": {},
   "outputs": [],
   "source": [
    "fla = ([0.23424000701222478,0.558295487610803,0.43246913946612614,0.27931847722269404,0.3324008255307545,0.178992476386785,\n",
    "        0.5040731590992106,0.4851248245855748,0.5799983921809404,0.5768655710298186,0.5249760255282884,0.49724686626336706])"
   ]
  },
  {
   "cell_type": "code",
   "execution_count": 62,
   "id": "1ebe06ca",
   "metadata": {},
   "outputs": [
    {
     "data": {
      "text/plain": [
       "[<matplotlib.lines.Line2D at 0x147744a90>]"
      ]
     },
     "execution_count": 62,
     "metadata": {},
     "output_type": "execute_result"
    },
    {
     "data": {
      "image/png": "[encoded data removed]",
      "text/plain": [
       "<Figure size 432x288 with 1 Axes>"
      ]
     },
     "metadata": {
      "needs_background": "light"
     },
     "output_type": "display_data"
    }
   ],
   "source": [
    "plt.plot(fla)"
   ]
  },
  {
   "cell_type": "code",
   "execution_count": 63,
   "id": "d2d612fc",
   "metadata": {},
   "outputs": [
    {
     "data": {
      "text/plain": [
       "[<matplotlib.lines.Line2D at 0x147766e20>]"
      ]
     },
     "execution_count": 63,
     "metadata": {},
     "output_type": "execute_result"
    },
    {
     "data": {
      "image/png": "[encoded data removed]",
      "text/plain": [
       "<Figure size 432x288 with 1 Axes>"
      ]
     },
     "metadata": {
      "needs_background": "light"
     },
     "output_type": "display_data"
    }
   ],
   "source": [
    "plt.plot(mat, color='r', label='mat')\n",
    "plt.plot(fla, color='g', label='fla')"
   ]
  },
  {
   "cell_type": "code",
   "execution_count": 64,
   "id": "cd5736e5",
   "metadata": {},
   "outputs": [
    {
     "data": {
      "text/plain": [
       "0.96"
      ]
     },
     "execution_count": 64,
     "metadata": {},
     "output_type": "execute_result"
    }
   ],
   "source": [
    "0.12*8"
   ]
  },
  {
   "cell_type": "code",
   "execution_count": null,
   "id": "6dea9e59",
   "metadata": {},
   "outputs": [],
   "source": []
  }
 ],
 "metadata": {
  "kernelspec": {
   "display_name": "Python 3 (ipykernel)",
   "language": "python",
   "name": "python3"
  },
  "language_info": {
   "codemirror_mode": {
    "name": "ipython",
    "version": 3
   },
   "file_extension": ".py",
   "mimetype": "text/x-python",
   "name": "python",
   "nbconvert_exporter": "python",
   "pygments_lexer": "ipython3",
   "version": "3.9.6"
  }
 },
 "nbformat": 4,
 "nbformat_minor": 5
}
