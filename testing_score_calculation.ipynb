{
 "cells": [
  {
   "cell_type": "code",
   "execution_count": 1,
   "id": "d4b8d5f7",
   "metadata": {},
   "outputs": [
    {
     "name": "stderr",
     "output_type": "stream",
     "text": [
      "<frozen importlib._bootstrap>:228: RuntimeWarning: scipy._lib.messagestream.MessageStream size changed, may indicate binary incompatibility. Expected 56 from C header, got 64 from PyObject\n"
     ]
    }
   ],
   "source": [
    "import pandas as pd\n",
    "import numpy as np\n",
    "\n",
    "from mcda.mcda_run import main\n",
    "from mcda.utils import *\n",
    "from mcda.configuration.config import Config\n",
    "from mcda.utility_functions.normalization import Normalization\n",
    "from mcda.utility_functions.aggregation import Aggregation"
   ]
  },
  {
   "cell_type": "markdown",
   "id": "f85edfef",
   "metadata": {},
   "source": [
    "#### test with test df - uncomment"
   ]
  },
  {
   "cell_type": "code",
   "execution_count": 2,
   "id": "240eee26",
   "metadata": {},
   "outputs": [],
   "source": [
    "#polarities = (\"+\",\"-\")"
   ]
  },
  {
   "cell_type": "code",
   "execution_count": 3,
   "id": "73eed846",
   "metadata": {},
   "outputs": [],
   "source": [
    "#d = {'col1': [1, 2, 3], 'col3': [100, 200, 300]}\n",
    "#df = pd.DataFrame(data=d)\n",
    "#df\n",
    "#input_matrix = df"
   ]
  },
  {
   "cell_type": "markdown",
   "id": "890442e5",
   "metadata": {},
   "source": [
    "#### test with test example - uncomment"
   ]
  },
  {
   "cell_type": "code",
   "execution_count": 4,
   "id": "31d9d724",
   "metadata": {},
   "outputs": [
    {
     "name": "stderr",
     "output_type": "stream",
     "text": [
      "/Users/flaminia/Documents/work/MCDTool/mcda/utils.py:15: ParserWarning: Falling back to the 'python' engine because the 'c' engine does not support regex separators (separators > 1 char and different from '\\s+' are interpreted as regex); you can avoid this warning by specifying engine='python'.\n",
      "  test = pd.read_csv(fp, sep=\"[,;:]\", decimal='.')\n"
     ]
    }
   ],
   "source": [
    "input_matrix = read_matrix(\"/Users/flaminia/Documents/work/MCDA/Examples/exp2_12_alternatives.csv\")"
   ]
  },
  {
   "cell_type": "code",
   "execution_count": 5,
   "id": "1cad3553",
   "metadata": {},
   "outputs": [],
   "source": [
    "imd = input_matrix.drop(input_matrix.columns[0],axis=1)"
   ]
  },
  {
   "cell_type": "code",
   "execution_count": 6,
   "id": "d4027cbf",
   "metadata": {},
   "outputs": [
    {
     "data": {
      "text/html": [
       "<div>\n",
       "<style scoped>\n",
       "    .dataframe tbody tr th:only-of-type {\n",
       "        vertical-align: middle;\n",
       "    }\n",
       "\n",
       "    .dataframe tbody tr th {\n",
       "        vertical-align: top;\n",
       "    }\n",
       "\n",
       "    .dataframe thead th {\n",
       "        text-align: right;\n",
       "    }\n",
       "</style>\n",
       "<table border=\"1\" class=\"dataframe\">\n",
       "  <thead>\n",
       "    <tr style=\"text-align: right;\">\n",
       "      <th></th>\n",
       "      <th>productivity</th>\n",
       "      <th>timber amount</th>\n",
       "      <th>carbon storage</th>\n",
       "      <th>species suitability</th>\n",
       "      <th>biodiversity</th>\n",
       "      <th>disturbances</th>\n",
       "      <th>management cost</th>\n",
       "      <th>groundwater</th>\n",
       "    </tr>\n",
       "  </thead>\n",
       "  <tbody>\n",
       "    <tr>\n",
       "      <th>0</th>\n",
       "      <td>6.577442</td>\n",
       "      <td>24.845319</td>\n",
       "      <td>107.507196</td>\n",
       "      <td>0.513059</td>\n",
       "      <td>1.0</td>\n",
       "      <td>2.0</td>\n",
       "      <td>3.0</td>\n",
       "      <td>160.369958</td>\n",
       "    </tr>\n",
       "    <tr>\n",
       "      <th>1</th>\n",
       "      <td>15.647698</td>\n",
       "      <td>224.026542</td>\n",
       "      <td>161.416472</td>\n",
       "      <td>0.547062</td>\n",
       "      <td>1.0</td>\n",
       "      <td>2.0</td>\n",
       "      <td>2.0</td>\n",
       "      <td>196.771264</td>\n",
       "    </tr>\n",
       "    <tr>\n",
       "      <th>2</th>\n",
       "      <td>8.996213</td>\n",
       "      <td>344.345764</td>\n",
       "      <td>176.419571</td>\n",
       "      <td>0.482547</td>\n",
       "      <td>1.0</td>\n",
       "      <td>3.0</td>\n",
       "      <td>2.0</td>\n",
       "      <td>187.386841</td>\n",
       "    </tr>\n",
       "  </tbody>\n",
       "</table>\n",
       "</div>"
      ],
      "text/plain": [
       "   productivity  timber amount  carbon storage  species suitability  \\\n",
       "0      6.577442      24.845319      107.507196             0.513059   \n",
       "1     15.647698     224.026542      161.416472             0.547062   \n",
       "2      8.996213     344.345764      176.419571             0.482547   \n",
       "\n",
       "   biodiversity  disturbances  management cost  groundwater  \n",
       "0           1.0           2.0              3.0   160.369958  \n",
       "1           1.0           2.0              2.0   196.771264  \n",
       "2           1.0           3.0              2.0   187.386841  "
      ]
     },
     "execution_count": 6,
     "metadata": {},
     "output_type": "execute_result"
    }
   ],
   "source": [
    "imd.head(3)"
   ]
  },
  {
   "cell_type": "code",
   "execution_count": 7,
   "id": "415a6f5b",
   "metadata": {},
   "outputs": [],
   "source": [
    "polarities = (\"+\",\"+\",\"+\",\"+\",\"+\",\"-\",\"-\",\"+\")"
   ]
  },
  {
   "cell_type": "code",
   "execution_count": 8,
   "id": "420cd46b",
   "metadata": {},
   "outputs": [],
   "source": [
    "weights = (0.0833,0.0833,0.0833,0.0833,0.0833,0.0833,0.0833,0.0833)"
   ]
  },
  {
   "cell_type": "markdown",
   "id": "9a31b824",
   "metadata": {},
   "source": [
    "## test normalization functions"
   ]
  },
  {
   "cell_type": "code",
   "execution_count": 9,
   "id": "059c102d",
   "metadata": {},
   "outputs": [],
   "source": [
    "norm = Normalization(imd, polarities)"
   ]
  },
  {
   "cell_type": "markdown",
   "id": "50466589",
   "metadata": {},
   "source": [
    "#### minmax_01"
   ]
  },
  {
   "cell_type": "code",
   "execution_count": 10,
   "id": "c1c07d04",
   "metadata": {},
   "outputs": [
    {
     "data": {
      "text/html": [
       "<div>\n",
       "<style scoped>\n",
       "    .dataframe tbody tr th:only-of-type {\n",
       "        vertical-align: middle;\n",
       "    }\n",
       "\n",
       "    .dataframe tbody tr th {\n",
       "        vertical-align: top;\n",
       "    }\n",
       "\n",
       "    .dataframe thead th {\n",
       "        text-align: right;\n",
       "    }\n",
       "</style>\n",
       "<table border=\"1\" class=\"dataframe\">\n",
       "  <thead>\n",
       "    <tr style=\"text-align: right;\">\n",
       "      <th></th>\n",
       "      <th>0</th>\n",
       "      <th>1</th>\n",
       "      <th>2</th>\n",
       "      <th>3</th>\n",
       "      <th>4</th>\n",
       "      <th>5</th>\n",
       "      <th>6</th>\n",
       "      <th>7</th>\n",
       "    </tr>\n",
       "  </thead>\n",
       "  <tbody>\n",
       "    <tr>\n",
       "      <th>0</th>\n",
       "      <td>0.403506</td>\n",
       "      <td>0.060007</td>\n",
       "      <td>0.294457</td>\n",
       "      <td>0.592141</td>\n",
       "      <td>0.0</td>\n",
       "      <td>0.5</td>\n",
       "      <td>0.0</td>\n",
       "      <td>0.000000</td>\n",
       "    </tr>\n",
       "    <tr>\n",
       "      <th>1</th>\n",
       "      <td>1.000000</td>\n",
       "      <td>0.646012</td>\n",
       "      <td>0.727827</td>\n",
       "      <td>0.638796</td>\n",
       "      <td>0.0</td>\n",
       "      <td>0.5</td>\n",
       "      <td>1.0</td>\n",
       "      <td>0.438020</td>\n",
       "    </tr>\n",
       "    <tr>\n",
       "      <th>2</th>\n",
       "      <td>0.562574</td>\n",
       "      <td>1.000000</td>\n",
       "      <td>0.848436</td>\n",
       "      <td>0.550275</td>\n",
       "      <td>0.0</td>\n",
       "      <td>0.0</td>\n",
       "      <td>1.0</td>\n",
       "      <td>0.325096</td>\n",
       "    </tr>\n",
       "  </tbody>\n",
       "</table>\n",
       "</div>"
      ],
      "text/plain": [
       "          0         1         2         3    4    5    6         7\n",
       "0  0.403506  0.060007  0.294457  0.592141  0.0  0.5  0.0  0.000000\n",
       "1  1.000000  0.646012  0.727827  0.638796  0.0  0.5  1.0  0.438020\n",
       "2  0.562574  1.000000  0.848436  0.550275  0.0  0.0  1.0  0.325096"
      ]
     },
     "execution_count": 10,
     "metadata": {},
     "output_type": "execute_result"
    }
   ],
   "source": [
    "scaled_minmax_01 = norm.minmax(feature_range=(0, 1))\n",
    "scaled_minmax_01.head(3)"
   ]
  },
  {
   "cell_type": "code",
   "execution_count": 11,
   "id": "bbe8ad16",
   "metadata": {},
   "outputs": [
    {
     "name": "stdout",
     "output_type": "stream",
     "text": [
      "0.0\n",
      "1.0000000000000002\n"
     ]
    }
   ],
   "source": [
    "print(scaled_minmax_01.to_numpy().min())\n",
    "print(scaled_minmax_01.to_numpy().max())"
   ]
  },
  {
   "cell_type": "markdown",
   "id": "af8f5ccb",
   "metadata": {},
   "source": [
    "#### minmax_no0"
   ]
  },
  {
   "cell_type": "code",
   "execution_count": 12,
   "id": "e8ba4785",
   "metadata": {},
   "outputs": [
    {
     "data": {
      "text/html": [
       "<div>\n",
       "<style scoped>\n",
       "    .dataframe tbody tr th:only-of-type {\n",
       "        vertical-align: middle;\n",
       "    }\n",
       "\n",
       "    .dataframe tbody tr th {\n",
       "        vertical-align: top;\n",
       "    }\n",
       "\n",
       "    .dataframe thead th {\n",
       "        text-align: right;\n",
       "    }\n",
       "</style>\n",
       "<table border=\"1\" class=\"dataframe\">\n",
       "  <thead>\n",
       "    <tr style=\"text-align: right;\">\n",
       "      <th></th>\n",
       "      <th>0</th>\n",
       "      <th>1</th>\n",
       "      <th>2</th>\n",
       "      <th>3</th>\n",
       "      <th>4</th>\n",
       "      <th>5</th>\n",
       "      <th>6</th>\n",
       "      <th>7</th>\n",
       "    </tr>\n",
       "  </thead>\n",
       "  <tbody>\n",
       "    <tr>\n",
       "      <th>0</th>\n",
       "      <td>0.463156</td>\n",
       "      <td>0.154007</td>\n",
       "      <td>0.365011</td>\n",
       "      <td>0.632927</td>\n",
       "      <td>0.1</td>\n",
       "      <td>0.55</td>\n",
       "      <td>0.1</td>\n",
       "      <td>0.100000</td>\n",
       "    </tr>\n",
       "    <tr>\n",
       "      <th>1</th>\n",
       "      <td>1.000000</td>\n",
       "      <td>0.681411</td>\n",
       "      <td>0.755045</td>\n",
       "      <td>0.674917</td>\n",
       "      <td>0.1</td>\n",
       "      <td>0.55</td>\n",
       "      <td>1.0</td>\n",
       "      <td>0.494218</td>\n",
       "    </tr>\n",
       "    <tr>\n",
       "      <th>2</th>\n",
       "      <td>0.606316</td>\n",
       "      <td>1.000000</td>\n",
       "      <td>0.863592</td>\n",
       "      <td>0.595248</td>\n",
       "      <td>0.1</td>\n",
       "      <td>0.10</td>\n",
       "      <td>1.0</td>\n",
       "      <td>0.392586</td>\n",
       "    </tr>\n",
       "  </tbody>\n",
       "</table>\n",
       "</div>"
      ],
      "text/plain": [
       "          0         1         2         3    4     5    6         7\n",
       "0  0.463156  0.154007  0.365011  0.632927  0.1  0.55  0.1  0.100000\n",
       "1  1.000000  0.681411  0.755045  0.674917  0.1  0.55  1.0  0.494218\n",
       "2  0.606316  1.000000  0.863592  0.595248  0.1  0.10  1.0  0.392586"
      ]
     },
     "execution_count": 12,
     "metadata": {},
     "output_type": "execute_result"
    }
   ],
   "source": [
    "scaled_minmax_no0 = norm.minmax(feature_range=(0.1, 1))\n",
    "scaled_minmax_no0.head(3)"
   ]
  },
  {
   "cell_type": "code",
   "execution_count": 13,
   "id": "a9319565",
   "metadata": {},
   "outputs": [
    {
     "name": "stdout",
     "output_type": "stream",
     "text": [
      "0.09999999999999998\n",
      "1.0\n"
     ]
    }
   ],
   "source": [
    "print(scaled_minmax_no0.to_numpy().min())\n",
    "print(scaled_minmax_no0.to_numpy().max())"
   ]
  },
  {
   "cell_type": "markdown",
   "id": "77f40e58",
   "metadata": {},
   "source": [
    "#### rank"
   ]
  },
  {
   "cell_type": "code",
   "execution_count": 14,
   "id": "91cfadd8",
   "metadata": {},
   "outputs": [
    {
     "data": {
      "text/html": [
       "<div>\n",
       "<style scoped>\n",
       "    .dataframe tbody tr th:only-of-type {\n",
       "        vertical-align: middle;\n",
       "    }\n",
       "\n",
       "    .dataframe tbody tr th {\n",
       "        vertical-align: top;\n",
       "    }\n",
       "\n",
       "    .dataframe thead th {\n",
       "        text-align: right;\n",
       "    }\n",
       "</style>\n",
       "<table border=\"1\" class=\"dataframe\">\n",
       "  <thead>\n",
       "    <tr style=\"text-align: right;\">\n",
       "      <th></th>\n",
       "      <th>0</th>\n",
       "      <th>1</th>\n",
       "      <th>2</th>\n",
       "      <th>3</th>\n",
       "      <th>4</th>\n",
       "      <th>5</th>\n",
       "      <th>6</th>\n",
       "      <th>7</th>\n",
       "    </tr>\n",
       "  </thead>\n",
       "  <tbody>\n",
       "    <tr>\n",
       "      <th>0</th>\n",
       "      <td>8.0</td>\n",
       "      <td>2.0</td>\n",
       "      <td>3.0</td>\n",
       "      <td>7.0</td>\n",
       "      <td>3.5</td>\n",
       "      <td>6.0</td>\n",
       "      <td>3.0</td>\n",
       "      <td>1.0</td>\n",
       "    </tr>\n",
       "    <tr>\n",
       "      <th>1</th>\n",
       "      <td>12.0</td>\n",
       "      <td>11.0</td>\n",
       "      <td>9.0</td>\n",
       "      <td>8.0</td>\n",
       "      <td>3.5</td>\n",
       "      <td>6.0</td>\n",
       "      <td>9.0</td>\n",
       "      <td>5.0</td>\n",
       "    </tr>\n",
       "    <tr>\n",
       "      <th>2</th>\n",
       "      <td>11.0</td>\n",
       "      <td>12.0</td>\n",
       "      <td>10.0</td>\n",
       "      <td>5.0</td>\n",
       "      <td>3.5</td>\n",
       "      <td>2.0</td>\n",
       "      <td>9.0</td>\n",
       "      <td>3.0</td>\n",
       "    </tr>\n",
       "  </tbody>\n",
       "</table>\n",
       "</div>"
      ],
      "text/plain": [
       "      0     1     2    3    4    5    6    7\n",
       "0   8.0   2.0   3.0  7.0  3.5  6.0  3.0  1.0\n",
       "1  12.0  11.0   9.0  8.0  3.5  6.0  9.0  5.0\n",
       "2  11.0  12.0  10.0  5.0  3.5  2.0  9.0  3.0"
      ]
     },
     "execution_count": 14,
     "metadata": {},
     "output_type": "execute_result"
    }
   ],
   "source": [
    "scaled_rank = norm.rank()\n",
    "scaled_rank.head(3)"
   ]
  },
  {
   "cell_type": "code",
   "execution_count": 15,
   "id": "66fc09d9",
   "metadata": {},
   "outputs": [
    {
     "name": "stdout",
     "output_type": "stream",
     "text": [
      "1.0\n",
      "12.0\n"
     ]
    }
   ],
   "source": [
    "print(scaled_rank.to_numpy().min())\n",
    "print(scaled_rank.to_numpy().max())"
   ]
  },
  {
   "cell_type": "markdown",
   "id": "7057b456",
   "metadata": {},
   "source": [
    "#### standardized"
   ]
  },
  {
   "cell_type": "code",
   "execution_count": 16,
   "id": "ccc44618",
   "metadata": {
    "scrolled": true
   },
   "outputs": [
    {
     "data": {
      "text/html": [
       "<div>\n",
       "<style scoped>\n",
       "    .dataframe tbody tr th:only-of-type {\n",
       "        vertical-align: middle;\n",
       "    }\n",
       "\n",
       "    .dataframe tbody tr th {\n",
       "        vertical-align: top;\n",
       "    }\n",
       "\n",
       "    .dataframe thead th {\n",
       "        text-align: right;\n",
       "    }\n",
       "</style>\n",
       "<table border=\"1\" class=\"dataframe\">\n",
       "  <thead>\n",
       "    <tr style=\"text-align: right;\">\n",
       "      <th></th>\n",
       "      <th>0</th>\n",
       "      <th>1</th>\n",
       "      <th>2</th>\n",
       "      <th>3</th>\n",
       "      <th>4</th>\n",
       "      <th>5</th>\n",
       "      <th>6</th>\n",
       "      <th>7</th>\n",
       "    </tr>\n",
       "  </thead>\n",
       "  <tbody>\n",
       "    <tr>\n",
       "      <th>0</th>\n",
       "      <td>0.091967</td>\n",
       "      <td>-0.811695</td>\n",
       "      <td>-0.830495</td>\n",
       "      <td>0.094594</td>\n",
       "      <td>-0.957427</td>\n",
       "      <td>-0.105091</td>\n",
       "      <td>-1.132843</td>\n",
       "      <td>-1.664553</td>\n",
       "    </tr>\n",
       "    <tr>\n",
       "      <th>1</th>\n",
       "      <td>2.467228</td>\n",
       "      <td>1.138266</td>\n",
       "      <td>0.598990</td>\n",
       "      <td>0.249410</td>\n",
       "      <td>-0.957427</td>\n",
       "      <td>-0.105091</td>\n",
       "      <td>0.809174</td>\n",
       "      <td>-0.135421</td>\n",
       "    </tr>\n",
       "    <tr>\n",
       "      <th>2</th>\n",
       "      <td>0.725379</td>\n",
       "      <td>2.316177</td>\n",
       "      <td>0.996819</td>\n",
       "      <td>-0.044327</td>\n",
       "      <td>-0.957427</td>\n",
       "      <td>-1.366187</td>\n",
       "      <td>0.809174</td>\n",
       "      <td>-0.529638</td>\n",
       "    </tr>\n",
       "  </tbody>\n",
       "</table>\n",
       "</div>"
      ],
      "text/plain": [
       "          0         1         2         3         4         5         6  \\\n",
       "0  0.091967 -0.811695 -0.830495  0.094594 -0.957427 -0.105091 -1.132843   \n",
       "1  2.467228  1.138266  0.598990  0.249410 -0.957427 -0.105091  0.809174   \n",
       "2  0.725379  2.316177  0.996819 -0.044327 -0.957427 -1.366187  0.809174   \n",
       "\n",
       "          7  \n",
       "0 -1.664553  \n",
       "1 -0.135421  \n",
       "2 -0.529638  "
      ]
     },
     "execution_count": 16,
     "metadata": {},
     "output_type": "execute_result"
    }
   ],
   "source": [
    "scaled_stand_any = norm.standardized(feature_range=('-inf','+inf'))\n",
    "scaled_stand_any.head(3)"
   ]
  },
  {
   "cell_type": "code",
   "execution_count": 17,
   "id": "096cda9b",
   "metadata": {},
   "outputs": [
    {
     "name": "stdout",
     "output_type": "stream",
     "text": [
      "-1.8702885822299633\n",
      "2.467227664076385\n",
      "-2.1279274638648835e-16\n",
      "0.9574271077563381\n"
     ]
    }
   ],
   "source": [
    "print(scaled_stand_any.to_numpy().min())\n",
    "print(scaled_stand_any.to_numpy().max())\n",
    "print(scaled_stand_any.to_numpy().mean())\n",
    "print(scaled_stand_any.to_numpy().std())"
   ]
  },
  {
   "cell_type": "markdown",
   "id": "832a78dc",
   "metadata": {},
   "source": [
    "#### standardized no 0 - does not have mean 0 and std 1!"
   ]
  },
  {
   "cell_type": "code",
   "execution_count": 18,
   "id": "5d45406a",
   "metadata": {},
   "outputs": [
    {
     "data": {
      "text/html": [
       "<div>\n",
       "<style scoped>\n",
       "    .dataframe tbody tr th:only-of-type {\n",
       "        vertical-align: middle;\n",
       "    }\n",
       "\n",
       "    .dataframe tbody tr th {\n",
       "        vertical-align: top;\n",
       "    }\n",
       "\n",
       "    .dataframe thead th {\n",
       "        text-align: right;\n",
       "    }\n",
       "</style>\n",
       "<table border=\"1\" class=\"dataframe\">\n",
       "  <thead>\n",
       "    <tr style=\"text-align: right;\">\n",
       "      <th></th>\n",
       "      <th>0</th>\n",
       "      <th>1</th>\n",
       "      <th>2</th>\n",
       "      <th>3</th>\n",
       "      <th>4</th>\n",
       "      <th>5</th>\n",
       "      <th>6</th>\n",
       "      <th>7</th>\n",
       "    </tr>\n",
       "  </thead>\n",
       "  <tbody>\n",
       "    <tr>\n",
       "      <th>0</th>\n",
       "      <td>1.706779</td>\n",
       "      <td>0.299678</td>\n",
       "      <td>1.071273</td>\n",
       "      <td>2.064882</td>\n",
       "      <td>0.1</td>\n",
       "      <td>1.361095</td>\n",
       "      <td>0.100000</td>\n",
       "      <td>0.100000</td>\n",
       "    </tr>\n",
       "    <tr>\n",
       "      <th>1</th>\n",
       "      <td>4.082039</td>\n",
       "      <td>2.249639</td>\n",
       "      <td>2.500757</td>\n",
       "      <td>2.219698</td>\n",
       "      <td>0.1</td>\n",
       "      <td>1.361095</td>\n",
       "      <td>2.042017</td>\n",
       "      <td>1.629131</td>\n",
       "    </tr>\n",
       "    <tr>\n",
       "      <th>2</th>\n",
       "      <td>2.340191</td>\n",
       "      <td>3.427550</td>\n",
       "      <td>2.898587</td>\n",
       "      <td>1.925961</td>\n",
       "      <td>0.1</td>\n",
       "      <td>0.100000</td>\n",
       "      <td>2.042017</td>\n",
       "      <td>1.234914</td>\n",
       "    </tr>\n",
       "  </tbody>\n",
       "</table>\n",
       "</div>"
      ],
      "text/plain": [
       "          0         1         2         3    4         5         6         7\n",
       "0  1.706779  0.299678  1.071273  2.064882  0.1  1.361095  0.100000  0.100000\n",
       "1  4.082039  2.249639  2.500757  2.219698  0.1  1.361095  2.042017  1.629131\n",
       "2  2.340191  3.427550  2.898587  1.925961  0.1  0.100000  2.042017  1.234914"
      ]
     },
     "execution_count": 18,
     "metadata": {},
     "output_type": "execute_result"
    }
   ],
   "source": [
    "scaled_stand_no0 = norm.standardized(feature_range=(0.1,'+inf'))\n",
    "scaled_stand_no0.head(3)"
   ]
  },
  {
   "cell_type": "code",
   "execution_count": 19,
   "id": "7cf272e1",
   "metadata": {},
   "outputs": [
    {
     "name": "stdout",
     "output_type": "stream",
     "text": [
      "0.1\n",
      "4.082038963125437\n",
      "1.514906186645644\n",
      "1.0134552445816336\n"
     ]
    }
   ],
   "source": [
    "print(scaled_stand_no0.to_numpy().min())\n",
    "print(scaled_stand_no0.to_numpy().max())\n",
    "print(scaled_stand_no0.to_numpy().mean())\n",
    "print(scaled_stand_no0.to_numpy().std())"
   ]
  },
  {
   "cell_type": "markdown",
   "id": "c468c001",
   "metadata": {},
   "source": [
    "#### target"
   ]
  },
  {
   "cell_type": "code",
   "execution_count": 20,
   "id": "b87ac4bd",
   "metadata": {},
   "outputs": [],
   "source": [
    "scaled_target = norm.target(feature_range=(0, 1))"
   ]
  },
  {
   "cell_type": "code",
   "execution_count": 21,
   "id": "18a24bc4",
   "metadata": {},
   "outputs": [
    {
     "name": "stdout",
     "output_type": "stream",
     "text": [
      "0.0\n",
      "1.0\n"
     ]
    }
   ],
   "source": [
    "print(scaled_target.to_numpy().min())\n",
    "print(scaled_target.to_numpy().max())"
   ]
  },
  {
   "cell_type": "markdown",
   "id": "83d8b321",
   "metadata": {},
   "source": [
    "#### target no 0"
   ]
  },
  {
   "cell_type": "code",
   "execution_count": 22,
   "id": "6e9813a8",
   "metadata": {},
   "outputs": [],
   "source": [
    "scaled_target_no0 = norm.target(feature_range=(0.1, 1))"
   ]
  },
  {
   "cell_type": "code",
   "execution_count": 23,
   "id": "ce36af99",
   "metadata": {},
   "outputs": [
    {
     "data": {
      "text/html": [
       "<div>\n",
       "<style scoped>\n",
       "    .dataframe tbody tr th:only-of-type {\n",
       "        vertical-align: middle;\n",
       "    }\n",
       "\n",
       "    .dataframe tbody tr th {\n",
       "        vertical-align: top;\n",
       "    }\n",
       "\n",
       "    .dataframe thead th {\n",
       "        text-align: right;\n",
       "    }\n",
       "</style>\n",
       "<table border=\"1\" class=\"dataframe\">\n",
       "  <thead>\n",
       "    <tr style=\"text-align: right;\">\n",
       "      <th></th>\n",
       "      <th>0</th>\n",
       "      <th>1</th>\n",
       "      <th>2</th>\n",
       "      <th>3</th>\n",
       "      <th>4</th>\n",
       "      <th>5</th>\n",
       "      <th>6</th>\n",
       "      <th>7</th>\n",
       "    </tr>\n",
       "  </thead>\n",
       "  <tbody>\n",
       "    <tr>\n",
       "      <th>0</th>\n",
       "      <td>0.478311</td>\n",
       "      <td>0.164937</td>\n",
       "      <td>0.595492</td>\n",
       "      <td>0.669846</td>\n",
       "      <td>0.55</td>\n",
       "      <td>0.4</td>\n",
       "      <td>0.1</td>\n",
       "      <td>0.692806</td>\n",
       "    </tr>\n",
       "    <tr>\n",
       "      <th>1</th>\n",
       "      <td>1.000000</td>\n",
       "      <td>0.685527</td>\n",
       "      <td>0.843956</td>\n",
       "      <td>0.707613</td>\n",
       "      <td>0.55</td>\n",
       "      <td>0.4</td>\n",
       "      <td>0.4</td>\n",
       "      <td>0.827363</td>\n",
       "    </tr>\n",
       "    <tr>\n",
       "      <th>2</th>\n",
       "      <td>0.617430</td>\n",
       "      <td>1.000000</td>\n",
       "      <td>0.913104</td>\n",
       "      <td>0.635957</td>\n",
       "      <td>0.55</td>\n",
       "      <td>0.1</td>\n",
       "      <td>0.4</td>\n",
       "      <td>0.792673</td>\n",
       "    </tr>\n",
       "  </tbody>\n",
       "</table>\n",
       "</div>"
      ],
      "text/plain": [
       "          0         1         2         3     4    5    6         7\n",
       "0  0.478311  0.164937  0.595492  0.669846  0.55  0.4  0.1  0.692806\n",
       "1  1.000000  0.685527  0.843956  0.707613  0.55  0.4  0.4  0.827363\n",
       "2  0.617430  1.000000  0.913104  0.635957  0.55  0.1  0.4  0.792673"
      ]
     },
     "execution_count": 23,
     "metadata": {},
     "output_type": "execute_result"
    }
   ],
   "source": [
    "scaled_target_no0.head(3)"
   ]
  },
  {
   "cell_type": "code",
   "execution_count": 24,
   "id": "83f42c01",
   "metadata": {},
   "outputs": [
    {
     "name": "stdout",
     "output_type": "stream",
     "text": [
      "0.1\n",
      "1.0\n"
     ]
    }
   ],
   "source": [
    "print(scaled_target_no0.to_numpy().min())\n",
    "print(scaled_target_no0.to_numpy().max())"
   ]
  },
  {
   "cell_type": "markdown",
   "id": "3042b044",
   "metadata": {},
   "source": [
    "## test aggregation functions"
   ]
  },
  {
   "cell_type": "code",
   "execution_count": 25,
   "id": "0d4847ac",
   "metadata": {},
   "outputs": [],
   "source": [
    "agg = Aggregation(weights)"
   ]
  },
  {
   "cell_type": "markdown",
   "id": "02ffd9c5",
   "metadata": {},
   "source": [
    "#### ws - standardized"
   ]
  },
  {
   "cell_type": "code",
   "execution_count": 26,
   "id": "4f6e79d7",
   "metadata": {},
   "outputs": [
    {
     "data": {
      "text/plain": [
       "0    0.850463\n",
       "1    2.023047\n",
       "2    1.758652\n",
       "dtype: float64"
      ]
     },
     "execution_count": 26,
     "metadata": {},
     "output_type": "execute_result"
    }
   ],
   "source": [
    "scores_weighted_sum_standardized = agg.weighted_sum(scaled_stand_no0)\n",
    "scores_weighted_sum_standardized.head(3)"
   ]
  },
  {
   "cell_type": "code",
   "execution_count": 27,
   "id": "36d4e019",
   "metadata": {},
   "outputs": [
    {
     "name": "stdout",
     "output_type": "stream",
     "text": [
      "0.6402967161868066\n",
      "2.090025141676184\n"
     ]
    }
   ],
   "source": [
    "print(scores_weighted_sum_standardized.to_numpy().min())\n",
    "print(scores_weighted_sum_standardized.to_numpy().max())"
   ]
  },
  {
   "cell_type": "markdown",
   "id": "73ed5dfa",
   "metadata": {},
   "source": [
    "#### ws - target"
   ]
  },
  {
   "cell_type": "code",
   "execution_count": 28,
   "id": "88bc605a",
   "metadata": {},
   "outputs": [
    {
     "data": {
      "text/plain": [
       "0    0.396027\n",
       "1    0.640897\n",
       "2    0.584606\n",
       "dtype: float64"
      ]
     },
     "execution_count": 28,
     "metadata": {},
     "output_type": "execute_result"
    }
   ],
   "source": [
    "scores_weighted_sum_target = agg.weighted_sum(scaled_target)\n",
    "scores_weighted_sum_target.head(3)"
   ]
  },
  {
   "cell_type": "code",
   "execution_count": 29,
   "id": "f526ae9d",
   "metadata": {},
   "outputs": [
    {
     "name": "stdout",
     "output_type": "stream",
     "text": [
      "0.28425340308299735\n",
      "0.681790264936132\n"
     ]
    }
   ],
   "source": [
    "print(scores_weighted_sum_target.to_numpy().min())\n",
    "print(scores_weighted_sum_target.to_numpy().max())"
   ]
  },
  {
   "cell_type": "markdown",
   "id": "7693c9b1",
   "metadata": {},
   "source": [
    "#### ws - rank"
   ]
  },
  {
   "cell_type": "code",
   "execution_count": 30,
   "id": "aa9742cc",
   "metadata": {},
   "outputs": [
    {
     "data": {
      "text/plain": [
       "0    4.1875\n",
       "1    7.9375\n",
       "2    6.9375\n",
       "dtype: float64"
      ]
     },
     "execution_count": 30,
     "metadata": {},
     "output_type": "execute_result"
    }
   ],
   "source": [
    "scores_weighted_sum_rank = agg.weighted_sum(scaled_rank)\n",
    "scores_weighted_sum_rank.head(3)"
   ]
  },
  {
   "cell_type": "code",
   "execution_count": 31,
   "id": "33f08b2b",
   "metadata": {},
   "outputs": [
    {
     "name": "stdout",
     "output_type": "stream",
     "text": [
      "3.8125\n",
      "8.5\n"
     ]
    }
   ],
   "source": [
    "print(scores_weighted_sum_rank.to_numpy().min())\n",
    "print(scores_weighted_sum_rank.to_numpy().max())"
   ]
  },
  {
   "cell_type": "markdown",
   "id": "3ecfcf54",
   "metadata": {},
   "source": [
    "#### ws -minmax"
   ]
  },
  {
   "cell_type": "code",
   "execution_count": 32,
   "id": "aa8660d6",
   "metadata": {},
   "outputs": [
    {
     "data": {
      "text/plain": [
       "0    0.231264\n",
       "1    0.618832\n",
       "2    0.535798\n",
       "dtype: float64"
      ]
     },
     "execution_count": 32,
     "metadata": {},
     "output_type": "execute_result"
    }
   ],
   "source": [
    "scores_weighted_sum_minmax = agg.weighted_sum(scaled_minmax_01)\n",
    "scores_weighted_sum_minmax.head(3)"
   ]
  },
  {
   "cell_type": "code",
   "execution_count": 33,
   "id": "35ac988d",
   "metadata": {},
   "outputs": [
    {
     "name": "stdout",
     "output_type": "stream",
     "text": [
      "0.2106260187790405\n",
      "0.6707145049121476\n"
     ]
    }
   ],
   "source": [
    "print(scores_weighted_sum_minmax.to_numpy().min())\n",
    "print(scores_weighted_sum_minmax.to_numpy().max())"
   ]
  },
  {
   "cell_type": "markdown",
   "id": "b5ecaff5",
   "metadata": {},
   "source": [
    "#### geom - stand"
   ]
  },
  {
   "cell_type": "code",
   "execution_count": 34,
   "id": "19a2737a",
   "metadata": {},
   "outputs": [
    {
     "data": {
      "text/plain": [
       "0    0.445081\n",
       "1    1.480497\n",
       "2    1.015303\n",
       "dtype: float64"
      ]
     },
     "execution_count": 34,
     "metadata": {},
     "output_type": "execute_result"
    }
   ],
   "source": [
    "scores_geom_standardized = agg.geometric(scaled_stand_no0)\n",
    "scores_geom_standardized.head(3)"
   ]
  },
  {
   "cell_type": "code",
   "execution_count": 35,
   "id": "3986ce41",
   "metadata": {},
   "outputs": [
    {
     "name": "stdout",
     "output_type": "stream",
     "text": [
      "0.24933476179485967\n",
      "1.564715379935943\n"
     ]
    }
   ],
   "source": [
    "print(scores_geom_standardized.to_numpy().min())\n",
    "print(scores_geom_standardized.to_numpy().max())"
   ]
  },
  {
   "cell_type": "markdown",
   "id": "ee40ba11",
   "metadata": {},
   "source": [
    "#### harm - rank"
   ]
  },
  {
   "cell_type": "code",
   "execution_count": 36,
   "id": "c613324e",
   "metadata": {},
   "outputs": [
    {
     "data": {
      "text/html": [
       "<div>\n",
       "<style scoped>\n",
       "    .dataframe tbody tr th:only-of-type {\n",
       "        vertical-align: middle;\n",
       "    }\n",
       "\n",
       "    .dataframe tbody tr th {\n",
       "        vertical-align: top;\n",
       "    }\n",
       "\n",
       "    .dataframe thead th {\n",
       "        text-align: right;\n",
       "    }\n",
       "</style>\n",
       "<table border=\"1\" class=\"dataframe\">\n",
       "  <thead>\n",
       "    <tr style=\"text-align: right;\">\n",
       "      <th></th>\n",
       "      <th>0</th>\n",
       "      <th>1</th>\n",
       "      <th>2</th>\n",
       "      <th>3</th>\n",
       "      <th>4</th>\n",
       "      <th>5</th>\n",
       "      <th>6</th>\n",
       "      <th>7</th>\n",
       "    </tr>\n",
       "  </thead>\n",
       "  <tbody>\n",
       "    <tr>\n",
       "      <th>0</th>\n",
       "      <td>8.0</td>\n",
       "      <td>2.0</td>\n",
       "      <td>3.0</td>\n",
       "      <td>7.0</td>\n",
       "      <td>3.5</td>\n",
       "      <td>6.0</td>\n",
       "      <td>3.0</td>\n",
       "      <td>1.0</td>\n",
       "    </tr>\n",
       "    <tr>\n",
       "      <th>1</th>\n",
       "      <td>12.0</td>\n",
       "      <td>11.0</td>\n",
       "      <td>9.0</td>\n",
       "      <td>8.0</td>\n",
       "      <td>3.5</td>\n",
       "      <td>6.0</td>\n",
       "      <td>9.0</td>\n",
       "      <td>5.0</td>\n",
       "    </tr>\n",
       "    <tr>\n",
       "      <th>2</th>\n",
       "      <td>11.0</td>\n",
       "      <td>12.0</td>\n",
       "      <td>10.0</td>\n",
       "      <td>5.0</td>\n",
       "      <td>3.5</td>\n",
       "      <td>2.0</td>\n",
       "      <td>9.0</td>\n",
       "      <td>3.0</td>\n",
       "    </tr>\n",
       "    <tr>\n",
       "      <th>3</th>\n",
       "      <td>2.0</td>\n",
       "      <td>1.0</td>\n",
       "      <td>2.0</td>\n",
       "      <td>3.0</td>\n",
       "      <td>3.5</td>\n",
       "      <td>6.0</td>\n",
       "      <td>9.0</td>\n",
       "      <td>6.0</td>\n",
       "    </tr>\n",
       "    <tr>\n",
       "      <th>4</th>\n",
       "      <td>6.0</td>\n",
       "      <td>7.0</td>\n",
       "      <td>4.0</td>\n",
       "      <td>2.0</td>\n",
       "      <td>3.5</td>\n",
       "      <td>2.0</td>\n",
       "      <td>9.0</td>\n",
       "      <td>11.0</td>\n",
       "    </tr>\n",
       "    <tr>\n",
       "      <th>5</th>\n",
       "      <td>1.0</td>\n",
       "      <td>3.0</td>\n",
       "      <td>1.0</td>\n",
       "      <td>1.0</td>\n",
       "      <td>3.5</td>\n",
       "      <td>2.0</td>\n",
       "      <td>9.0</td>\n",
       "      <td>10.0</td>\n",
       "    </tr>\n",
       "    <tr>\n",
       "      <th>6</th>\n",
       "      <td>10.0</td>\n",
       "      <td>5.0</td>\n",
       "      <td>6.0</td>\n",
       "      <td>10.0</td>\n",
       "      <td>9.5</td>\n",
       "      <td>6.0</td>\n",
       "      <td>9.0</td>\n",
       "      <td>2.0</td>\n",
       "    </tr>\n",
       "    <tr>\n",
       "      <th>7</th>\n",
       "      <td>9.0</td>\n",
       "      <td>8.0</td>\n",
       "      <td>8.0</td>\n",
       "      <td>11.0</td>\n",
       "      <td>9.5</td>\n",
       "      <td>6.0</td>\n",
       "      <td>3.0</td>\n",
       "      <td>8.0</td>\n",
       "    </tr>\n",
       "    <tr>\n",
       "      <th>8</th>\n",
       "      <td>7.0</td>\n",
       "      <td>10.0</td>\n",
       "      <td>12.0</td>\n",
       "      <td>12.0</td>\n",
       "      <td>9.5</td>\n",
       "      <td>10.5</td>\n",
       "      <td>3.0</td>\n",
       "      <td>4.0</td>\n",
       "    </tr>\n",
       "    <tr>\n",
       "      <th>9</th>\n",
       "      <td>5.0</td>\n",
       "      <td>4.0</td>\n",
       "      <td>5.0</td>\n",
       "      <td>6.0</td>\n",
       "      <td>9.5</td>\n",
       "      <td>10.5</td>\n",
       "      <td>9.0</td>\n",
       "      <td>7.0</td>\n",
       "    </tr>\n",
       "    <tr>\n",
       "      <th>10</th>\n",
       "      <td>4.0</td>\n",
       "      <td>6.0</td>\n",
       "      <td>7.0</td>\n",
       "      <td>9.0</td>\n",
       "      <td>9.5</td>\n",
       "      <td>10.5</td>\n",
       "      <td>3.0</td>\n",
       "      <td>12.0</td>\n",
       "    </tr>\n",
       "    <tr>\n",
       "      <th>11</th>\n",
       "      <td>3.0</td>\n",
       "      <td>9.0</td>\n",
       "      <td>11.0</td>\n",
       "      <td>4.0</td>\n",
       "      <td>9.5</td>\n",
       "      <td>10.5</td>\n",
       "      <td>3.0</td>\n",
       "      <td>9.0</td>\n",
       "    </tr>\n",
       "  </tbody>\n",
       "</table>\n",
       "</div>"
      ],
      "text/plain": [
       "       0     1     2     3    4     5    6     7\n",
       "0    8.0   2.0   3.0   7.0  3.5   6.0  3.0   1.0\n",
       "1   12.0  11.0   9.0   8.0  3.5   6.0  9.0   5.0\n",
       "2   11.0  12.0  10.0   5.0  3.5   2.0  9.0   3.0\n",
       "3    2.0   1.0   2.0   3.0  3.5   6.0  9.0   6.0\n",
       "4    6.0   7.0   4.0   2.0  3.5   2.0  9.0  11.0\n",
       "5    1.0   3.0   1.0   1.0  3.5   2.0  9.0  10.0\n",
       "6   10.0   5.0   6.0  10.0  9.5   6.0  9.0   2.0\n",
       "7    9.0   8.0   8.0  11.0  9.5   6.0  3.0   8.0\n",
       "8    7.0  10.0  12.0  12.0  9.5  10.5  3.0   4.0\n",
       "9    5.0   4.0   5.0   6.0  9.5  10.5  9.0   7.0\n",
       "10   4.0   6.0   7.0   9.0  9.5  10.5  3.0  12.0\n",
       "11   3.0   9.0  11.0   4.0  9.5  10.5  3.0   9.0"
      ]
     },
     "execution_count": 36,
     "metadata": {},
     "output_type": "execute_result"
    }
   ],
   "source": [
    "scaled_rank"
   ]
  },
  {
   "cell_type": "code",
   "execution_count": 37,
   "id": "78891958",
   "metadata": {},
   "outputs": [
    {
     "name": "stdout",
     "output_type": "stream",
     "text": [
      "no_indicators 8\n"
     ]
    },
    {
     "data": {
      "text/plain": [
       "0     22.169072\n",
       "1     54.521651\n",
       "2     37.549845\n",
       "3     20.891192\n",
       "4     31.261322\n",
       "5     14.780059\n",
       "6     44.146833\n",
       "7     54.132539\n",
       "8     53.630159\n",
       "9     50.348658\n",
       "10    49.697048\n",
       "11    44.745882\n",
       "dtype: float64"
      ]
     },
     "execution_count": 37,
     "metadata": {},
     "output_type": "execute_result"
    }
   ],
   "source": [
    "scores_harm_rank = agg.harmonic(scaled_rank)\n",
    "scores_harm_rank"
   ]
  },
  {
   "cell_type": "code",
   "execution_count": 38,
   "id": "5e1cb4ad",
   "metadata": {
    "scrolled": true
   },
   "outputs": [
    {
     "name": "stdout",
     "output_type": "stream",
     "text": [
      "14.780058651026398\n",
      "54.521650941946596\n"
     ]
    }
   ],
   "source": [
    "print(scores_harm_rank.to_numpy().min())\n",
    "print(scores_harm_rank.to_numpy().max())"
   ]
  },
  {
   "cell_type": "markdown",
   "id": "f9e724ac",
   "metadata": {},
   "source": [
    "#### harm -minmax"
   ]
  },
  {
   "cell_type": "code",
   "execution_count": 39,
   "id": "c6b5ad58",
   "metadata": {},
   "outputs": [
    {
     "name": "stdout",
     "output_type": "stream",
     "text": [
      "no_indicators 8\n"
     ]
    },
    {
     "data": {
      "text/plain": [
       "0    1.428887\n",
       "1    3.181671\n",
       "2    2.204279\n",
       "dtype: float64"
      ]
     },
     "execution_count": 39,
     "metadata": {},
     "output_type": "execute_result"
    }
   ],
   "source": [
    "scores_harm_minmax = agg.harmonic(scaled_minmax_no0)\n",
    "scores_harm_minmax.head(3)"
   ]
  },
  {
   "cell_type": "code",
   "execution_count": 40,
   "id": "bb088baa",
   "metadata": {},
   "outputs": [
    {
     "name": "stdout",
     "output_type": "stream",
     "text": [
      "1.0893682617961429\n",
      "3.9033729927284324\n"
     ]
    }
   ],
   "source": [
    "print(scores_harm_minmax.to_numpy().min())\n",
    "print(scores_harm_minmax.to_numpy().max())"
   ]
  },
  {
   "cell_type": "markdown",
   "id": "faf4b322",
   "metadata": {},
   "source": [
    "#### test"
   ]
  },
  {
   "cell_type": "code",
   "execution_count": 41,
   "id": "73d742aa",
   "metadata": {},
   "outputs": [
    {
     "data": {
      "text/html": [
       "<div>\n",
       "<style scoped>\n",
       "    .dataframe tbody tr th:only-of-type {\n",
       "        vertical-align: middle;\n",
       "    }\n",
       "\n",
       "    .dataframe tbody tr th {\n",
       "        vertical-align: top;\n",
       "    }\n",
       "\n",
       "    .dataframe thead th {\n",
       "        text-align: right;\n",
       "    }\n",
       "</style>\n",
       "<table border=\"1\" class=\"dataframe\">\n",
       "  <thead>\n",
       "    <tr style=\"text-align: right;\">\n",
       "      <th></th>\n",
       "      <th>col1</th>\n",
       "      <th>col2</th>\n",
       "      <th>col3</th>\n",
       "    </tr>\n",
       "  </thead>\n",
       "  <tbody>\n",
       "    <tr>\n",
       "      <th>0</th>\n",
       "      <td>2</td>\n",
       "      <td>4</td>\n",
       "      <td>8</td>\n",
       "    </tr>\n",
       "    <tr>\n",
       "      <th>1</th>\n",
       "      <td>4</td>\n",
       "      <td>2</td>\n",
       "      <td>8</td>\n",
       "    </tr>\n",
       "    <tr>\n",
       "      <th>2</th>\n",
       "      <td>8</td>\n",
       "      <td>4</td>\n",
       "      <td>2</td>\n",
       "    </tr>\n",
       "  </tbody>\n",
       "</table>\n",
       "</div>"
      ],
      "text/plain": [
       "   col1  col2  col3\n",
       "0     2     4     8\n",
       "1     4     2     8\n",
       "2     8     4     2"
      ]
     },
     "execution_count": 41,
     "metadata": {},
     "output_type": "execute_result"
    }
   ],
   "source": [
    "d = {'col1': [2, 4, 8], 'col2': [4, 2, 4], 'col3': [8, 8, 2]}\n",
    "df = pd.DataFrame(data=d)\n",
    "df"
   ]
  },
  {
   "cell_type": "code",
   "execution_count": 48,
   "id": "9cdf968e",
   "metadata": {},
   "outputs": [
    {
     "name": "stdout",
     "output_type": "stream",
     "text": [
      "[0.33333333333333337, 0.33333333333333337, 0.33333333333333337]\n"
     ]
    }
   ],
   "source": [
    "w = (0.83,0.83,0.83)\n",
    "w = [val/sum(w) for val in w]\n",
    "print(w)\n",
    "agg = Aggregation(w)"
   ]
  },
  {
   "cell_type": "code",
   "execution_count": 49,
   "id": "5aeded8a",
   "metadata": {},
   "outputs": [
    {
     "name": "stdout",
     "output_type": "stream",
     "text": [
      "no_indicators 3\n"
     ]
    }
   ],
   "source": [
    "test_harmonic = agg.harmonic(df)"
   ]
  },
  {
   "cell_type": "code",
   "execution_count": 50,
   "id": "a32c7082",
   "metadata": {},
   "outputs": [
    {
     "data": {
      "text/plain": [
       "0    10.285714\n",
       "1    10.285714\n",
       "2    10.285714\n",
       "dtype: float64"
      ]
     },
     "execution_count": 50,
     "metadata": {},
     "output_type": "execute_result"
    }
   ],
   "source": [
    "test_harmonic"
   ]
  },
  {
   "cell_type": "code",
   "execution_count": 51,
   "id": "e058a013",
   "metadata": {},
   "outputs": [],
   "source": [
    "scores = 3/((w/df).sum(axis=1))"
   ]
  },
  {
   "cell_type": "code",
   "execution_count": 52,
   "id": "cb49353d",
   "metadata": {},
   "outputs": [
    {
     "data": {
      "text/plain": [
       "0    10.285714\n",
       "1    10.285714\n",
       "2    10.285714\n",
       "dtype: float64"
      ]
     },
     "execution_count": 52,
     "metadata": {},
     "output_type": "execute_result"
    }
   ],
   "source": [
    "scores"
   ]
  },
  {
   "cell_type": "code",
   "execution_count": 55,
   "id": "da89aab0",
   "metadata": {},
   "outputs": [
    {
     "data": {
      "text/html": [
       "<div>\n",
       "<style scoped>\n",
       "    .dataframe tbody tr th:only-of-type {\n",
       "        vertical-align: middle;\n",
       "    }\n",
       "\n",
       "    .dataframe tbody tr th {\n",
       "        vertical-align: top;\n",
       "    }\n",
       "\n",
       "    .dataframe thead th {\n",
       "        text-align: right;\n",
       "    }\n",
       "</style>\n",
       "<table border=\"1\" class=\"dataframe\">\n",
       "  <thead>\n",
       "    <tr style=\"text-align: right;\">\n",
       "      <th></th>\n",
       "      <th>col1</th>\n",
       "      <th>col2</th>\n",
       "      <th>col3</th>\n",
       "    </tr>\n",
       "  </thead>\n",
       "  <tbody>\n",
       "    <tr>\n",
       "      <th>0</th>\n",
       "      <td>0.166667</td>\n",
       "      <td>0.083333</td>\n",
       "      <td>0.041667</td>\n",
       "    </tr>\n",
       "    <tr>\n",
       "      <th>1</th>\n",
       "      <td>0.083333</td>\n",
       "      <td>0.166667</td>\n",
       "      <td>0.041667</td>\n",
       "    </tr>\n",
       "    <tr>\n",
       "      <th>2</th>\n",
       "      <td>0.041667</td>\n",
       "      <td>0.083333</td>\n",
       "      <td>0.166667</td>\n",
       "    </tr>\n",
       "  </tbody>\n",
       "</table>\n",
       "</div>"
      ],
      "text/plain": [
       "       col1      col2      col3\n",
       "0  0.166667  0.083333  0.041667\n",
       "1  0.083333  0.166667  0.041667\n",
       "2  0.041667  0.083333  0.166667"
      ]
     },
     "execution_count": 55,
     "metadata": {},
     "output_type": "execute_result"
    }
   ],
   "source": [
    "w/df"
   ]
  },
  {
   "cell_type": "code",
   "execution_count": 56,
   "id": "7cceaf14",
   "metadata": {},
   "outputs": [
    {
     "data": {
      "text/plain": [
       "0    0.291667\n",
       "1    0.291667\n",
       "2    0.291667\n",
       "dtype: float64"
      ]
     },
     "execution_count": 56,
     "metadata": {},
     "output_type": "execute_result"
    }
   ],
   "source": [
    "((w/df).sum(axis=1))"
   ]
  },
  {
   "cell_type": "code",
   "execution_count": 57,
   "id": "574f480d",
   "metadata": {},
   "outputs": [
    {
     "data": {
      "text/plain": [
       "0.291667"
      ]
     },
     "execution_count": 57,
     "metadata": {},
     "output_type": "execute_result"
    }
   ],
   "source": [
    "0.166667+0.083333+0.041667"
   ]
  },
  {
   "cell_type": "code",
   "execution_count": 58,
   "id": "fb2ac547",
   "metadata": {},
   "outputs": [
    {
     "data": {
      "text/plain": [
       "10.285702530625679"
      ]
     },
     "execution_count": 58,
     "metadata": {},
     "output_type": "execute_result"
    }
   ],
   "source": [
    "3/0.291667"
   ]
  },
  {
   "cell_type": "code",
   "execution_count": null,
   "id": "5a480587",
   "metadata": {},
   "outputs": [],
   "source": []
  }
 ],
 "metadata": {
  "kernelspec": {
   "display_name": "Python 3 (ipykernel)",
   "language": "python",
   "name": "python3"
  },
  "language_info": {
   "codemirror_mode": {
    "name": "ipython",
    "version": 3
   },
   "file_extension": ".py",
   "mimetype": "text/x-python",
   "name": "python",
   "nbconvert_exporter": "python",
   "pygments_lexer": "ipython3",
   "version": "3.9.6"
  }
 },
 "nbformat": 4,
 "nbformat_minor": 5
}
